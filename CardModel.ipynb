{
 "cells": [
  {
   "cell_type": "code",
   "execution_count": 1,
   "id": "c8477f91",
   "metadata": {},
   "outputs": [
    {
     "data": {
      "text/html": [
       "<pre style=\"white-space:pre;overflow-x:auto;line-height:normal;font-family:Menlo,'DejaVu Sans Mono',consolas,'Courier New',monospace\"><span style=\"color: #7fbfbf; text-decoration-color: #7fbfbf\">[02/01/23 12:19:08] </span><span style=\"color: #000080; text-decoration-color: #000080\">INFO    </span> No custom team name replacements found. You can configure these in       <a href=\"file://C:\\Users\\John\\anaconda3\\lib\\site-packages\\soccerdata\\_config.py\" target=\"_blank\"><span style=\"color: #7f7f7f; text-decoration-color: #7f7f7f\">_config.py</span></a><span style=\"color: #7f7f7f; text-decoration-color: #7f7f7f\">:</span><a href=\"file://C:\\Users\\John\\anaconda3\\lib\\site-packages\\soccerdata\\_config.py#85\" target=\"_blank\"><span style=\"color: #7f7f7f; text-decoration-color: #7f7f7f\">85</span></a>\n",
       "<span style=\"color: #7fbfbf; text-decoration-color: #7fbfbf\">                    </span>         C:\\Users\\John\\soccerdata\\config\\teamname_replacements.json.              <span style=\"color: #7f7f7f; text-decoration-color: #7f7f7f\">             </span>\n",
       "</pre>\n"
      ],
      "text/plain": [
       "\u001b[2;36m[02/01/23 12:19:08]\u001b[0m\u001b[2;36m \u001b[0m\u001b[34mINFO    \u001b[0m No custom team name replacements found. You can configure these in       \u001b]8;id=810766;file://C:\\Users\\John\\anaconda3\\lib\\site-packages\\soccerdata\\_config.py\u001b\\\u001b[2m_config.py\u001b[0m\u001b]8;;\u001b\\\u001b[2m:\u001b[0m\u001b]8;id=196399;file://C:\\Users\\John\\anaconda3\\lib\\site-packages\\soccerdata\\_config.py#85\u001b\\\u001b[2m85\u001b[0m\u001b]8;;\u001b\\\n",
       "\u001b[2;36m                    \u001b[0m         C:\\Users\\John\\soccerdata\\config\\teamname_replacements.json.              \u001b[2m             \u001b[0m\n"
      ]
     },
     "metadata": {},
     "output_type": "display_data"
    },
    {
     "data": {
      "text/html": [
       "<pre style=\"white-space:pre;overflow-x:auto;line-height:normal;font-family:Menlo,'DejaVu Sans Mono',consolas,'Courier New',monospace\"><span style=\"color: #7fbfbf; text-decoration-color: #7fbfbf\">                    </span><span style=\"color: #000080; text-decoration-color: #000080\">INFO    </span> No custom league dict found. You can configure additional leagues in    <a href=\"file://C:\\Users\\John\\anaconda3\\lib\\site-packages\\soccerdata\\_config.py\" target=\"_blank\"><span style=\"color: #7f7f7f; text-decoration-color: #7f7f7f\">_config.py</span></a><span style=\"color: #7f7f7f; text-decoration-color: #7f7f7f\">:</span><a href=\"file://C:\\Users\\John\\anaconda3\\lib\\site-packages\\soccerdata\\_config.py#159\" target=\"_blank\"><span style=\"color: #7f7f7f; text-decoration-color: #7f7f7f\">159</span></a>\n",
       "<span style=\"color: #7fbfbf; text-decoration-color: #7fbfbf\">                    </span>         C:\\Users\\John\\soccerdata\\config\\league_dict.json.                       <span style=\"color: #7f7f7f; text-decoration-color: #7f7f7f\">              </span>\n",
       "</pre>\n"
      ],
      "text/plain": [
       "\u001b[2;36m                   \u001b[0m\u001b[2;36m \u001b[0m\u001b[34mINFO    \u001b[0m No custom league dict found. You can configure additional leagues in    \u001b]8;id=737155;file://C:\\Users\\John\\anaconda3\\lib\\site-packages\\soccerdata\\_config.py\u001b\\\u001b[2m_config.py\u001b[0m\u001b]8;;\u001b\\\u001b[2m:\u001b[0m\u001b]8;id=330800;file://C:\\Users\\John\\anaconda3\\lib\\site-packages\\soccerdata\\_config.py#159\u001b\\\u001b[2m159\u001b[0m\u001b]8;;\u001b\\\n",
       "\u001b[2;36m                    \u001b[0m         C:\\Users\\John\\soccerdata\\config\\league_dict.json.                       \u001b[2m              \u001b[0m\n"
      ]
     },
     "metadata": {},
     "output_type": "display_data"
    }
   ],
   "source": [
    "import soccerdata as sd\n",
    "import pandas as pd\n",
    "import numpy as np"
   ]
  },
  {
   "cell_type": "code",
   "execution_count": 2,
   "id": "eca6272f",
   "metadata": {},
   "outputs": [
    {
     "data": {
      "text/html": [
       "<pre style=\"white-space:pre;overflow-x:auto;line-height:normal;font-family:Menlo,'DejaVu Sans Mono',consolas,'Courier New',monospace\"><span style=\"color: #7fbfbf; text-decoration-color: #7fbfbf\">[01/22/23 12:35:19] </span><span style=\"color: #000080; text-decoration-color: #000080\">INFO    </span> Saving cached data to C:\\Users\\John\\soccerdata\\data\\FBref                <a href=\"file://C:\\Users\\John\\anaconda3\\lib\\site-packages\\soccerdata\\_common.py\" target=\"_blank\"><span style=\"color: #7f7f7f; text-decoration-color: #7f7f7f\">_common.py</span></a><span style=\"color: #7f7f7f; text-decoration-color: #7f7f7f\">:</span><a href=\"file://C:\\Users\\John\\anaconda3\\lib\\site-packages\\soccerdata\\_common.py#89\" target=\"_blank\"><span style=\"color: #7f7f7f; text-decoration-color: #7f7f7f\">89</span></a>\n",
       "</pre>\n"
      ],
      "text/plain": [
       "\u001b[2;36m[01/22/23 12:35:19]\u001b[0m\u001b[2;36m \u001b[0m\u001b[34mINFO    \u001b[0m Saving cached data to C:\\Users\\John\\soccerdata\\data\\FBref                \u001b]8;id=414690;file://C:\\Users\\John\\anaconda3\\lib\\site-packages\\soccerdata\\_common.py\u001b\\\u001b[2m_common.py\u001b[0m\u001b]8;;\u001b\\\u001b[2m:\u001b[0m\u001b]8;id=342008;file://C:\\Users\\John\\anaconda3\\lib\\site-packages\\soccerdata\\_common.py#89\u001b\\\u001b[2m89\u001b[0m\u001b]8;;\u001b\\\n"
      ]
     },
     "metadata": {},
     "output_type": "display_data"
    },
    {
     "name": "stdout",
     "output_type": "stream",
     "text": [
      "Provides pd.DataFrames from data at http://fbref.com.\n",
      "\n",
      "    Data will be downloaded as necessary and cached locally in\n",
      "    ``~/soccerdata/data/FBref``.\n",
      "\n",
      "    Parameters\n",
      "    ----------\n",
      "    leagues : string or iterable, optional\n",
      "        IDs of leagues to include. For efficiently reading data from the Top-5\n",
      "        European leagues, use \"Big 5 European Leagues Combined\".\n",
      "    seasons : string, int or list, optional\n",
      "        Seasons to include. Supports multiple formats.\n",
      "        Examples: '16-17'; 2016; '2016-17'; [14, 15, 16]\n",
      "    proxy : 'tor' or dict or list(dict) or callable, optional\n",
      "        Use a proxy to hide your IP address. Valid options are:\n",
      "            - \"tor\": Uses the Tor network. Tor should be running in\n",
      "              the background on port 9050.\n",
      "            - dict: A dictionary with the proxy to use. The dict should be\n",
      "              a mapping of supported protocols to proxy addresses. For example::\n",
      "\n",
      "                  {\n",
      "                      'http': 'http://10.10.1.10:3128',\n",
      "                      'https': 'http://10.10.1.10:1080',\n",
      "                  }\n",
      "\n",
      "            - list(dict): A list of proxies to choose from. A different proxy will\n",
      "              be selected from this list after failed requests, allowing rotating\n",
      "              proxies.\n",
      "            - callable: A function that returns a valid proxy. This function will\n",
      "              be called after failed requests, allowing rotating proxies.\n",
      "    no_cache : bool\n",
      "        If True, will not use cached data.\n",
      "    no_store : bool\n",
      "        If True, will not store downloaded data.\n",
      "    data_dir : Path\n",
      "        Path to directory where data will be cached.\n",
      "    \n"
     ]
    }
   ],
   "source": [
    "fbref = sd.FBref(leagues=\"ENG-Premier League\", seasons=2022)\n",
    "print(fbref.__doc__)"
   ]
  },
  {
   "cell_type": "code",
   "execution_count": 3,
   "id": "0fdedbdc",
   "metadata": {},
   "outputs": [
    {
     "data": {
      "text/html": [
       "<div>\n",
       "<style scoped>\n",
       "    .dataframe tbody tr th:only-of-type {\n",
       "        vertical-align: middle;\n",
       "    }\n",
       "\n",
       "    .dataframe tbody tr th {\n",
       "        vertical-align: top;\n",
       "    }\n",
       "\n",
       "    .dataframe thead th {\n",
       "        text-align: right;\n",
       "    }\n",
       "</style>\n",
       "<table border=\"1\" class=\"dataframe\">\n",
       "  <thead>\n",
       "    <tr style=\"text-align: right;\">\n",
       "      <th></th>\n",
       "      <th></th>\n",
       "      <th></th>\n",
       "      <th>week</th>\n",
       "      <th>day</th>\n",
       "      <th>date</th>\n",
       "      <th>time</th>\n",
       "      <th>home_team</th>\n",
       "      <th>home_xg</th>\n",
       "      <th>score</th>\n",
       "      <th>away_xg</th>\n",
       "      <th>away_team</th>\n",
       "      <th>attendance</th>\n",
       "      <th>venue</th>\n",
       "      <th>referee</th>\n",
       "      <th>match_report</th>\n",
       "      <th>notes</th>\n",
       "      <th>game_id</th>\n",
       "    </tr>\n",
       "    <tr>\n",
       "      <th>league</th>\n",
       "      <th>season</th>\n",
       "      <th>game</th>\n",
       "      <th></th>\n",
       "      <th></th>\n",
       "      <th></th>\n",
       "      <th></th>\n",
       "      <th></th>\n",
       "      <th></th>\n",
       "      <th></th>\n",
       "      <th></th>\n",
       "      <th></th>\n",
       "      <th></th>\n",
       "      <th></th>\n",
       "      <th></th>\n",
       "      <th></th>\n",
       "      <th></th>\n",
       "      <th></th>\n",
       "    </tr>\n",
       "  </thead>\n",
       "  <tbody>\n",
       "    <tr>\n",
       "      <th rowspan=\"5\" valign=\"top\">ENG-Premier League</th>\n",
       "      <th rowspan=\"5\" valign=\"top\">2223</th>\n",
       "      <th>2022-08-05 Crystal Palace-Arsenal</th>\n",
       "      <td>1.0</td>\n",
       "      <td>Fri</td>\n",
       "      <td>2022-08-05</td>\n",
       "      <td>20:00</td>\n",
       "      <td>Crystal Palace</td>\n",
       "      <td>1.2</td>\n",
       "      <td>0–2</td>\n",
       "      <td>1.0</td>\n",
       "      <td>Arsenal</td>\n",
       "      <td>25286.0</td>\n",
       "      <td>Selhurst Park</td>\n",
       "      <td>Anthony Taylor</td>\n",
       "      <td>/en/matches/e62f6e78/Crystal-Palace-Arsenal-Au...</td>\n",
       "      <td>NaN</td>\n",
       "      <td>e62f6e78</td>\n",
       "    </tr>\n",
       "    <tr>\n",
       "      <th>2022-08-06 Bournemouth-Aston Villa</th>\n",
       "      <td>1.0</td>\n",
       "      <td>Sat</td>\n",
       "      <td>2022-08-06</td>\n",
       "      <td>15:00</td>\n",
       "      <td>Bournemouth</td>\n",
       "      <td>0.6</td>\n",
       "      <td>2–0</td>\n",
       "      <td>0.7</td>\n",
       "      <td>Aston Villa</td>\n",
       "      <td>11013.0</td>\n",
       "      <td>Vitality Stadium</td>\n",
       "      <td>Peter Bankes</td>\n",
       "      <td>/en/matches/877e3193/Bournemouth-Aston-Villa-A...</td>\n",
       "      <td>NaN</td>\n",
       "      <td>877e3193</td>\n",
       "    </tr>\n",
       "    <tr>\n",
       "      <th>2022-08-06 Everton-Chelsea</th>\n",
       "      <td>1.0</td>\n",
       "      <td>Sat</td>\n",
       "      <td>2022-08-06</td>\n",
       "      <td>17:30</td>\n",
       "      <td>Everton</td>\n",
       "      <td>0.7</td>\n",
       "      <td>0–1</td>\n",
       "      <td>1.5</td>\n",
       "      <td>Chelsea</td>\n",
       "      <td>39254.0</td>\n",
       "      <td>Goodison Park</td>\n",
       "      <td>Craig Pawson</td>\n",
       "      <td>/en/matches/3a917cee/Everton-Chelsea-August-6-...</td>\n",
       "      <td>NaN</td>\n",
       "      <td>3a917cee</td>\n",
       "    </tr>\n",
       "    <tr>\n",
       "      <th>2022-08-06 Fulham-Liverpool</th>\n",
       "      <td>1.0</td>\n",
       "      <td>Sat</td>\n",
       "      <td>2022-08-06</td>\n",
       "      <td>12:30</td>\n",
       "      <td>Fulham</td>\n",
       "      <td>1.2</td>\n",
       "      <td>2–2</td>\n",
       "      <td>1.2</td>\n",
       "      <td>Liverpool</td>\n",
       "      <td>22207.0</td>\n",
       "      <td>Craven Cottage</td>\n",
       "      <td>Andy Madley</td>\n",
       "      <td>/en/matches/6713c1dc/Fulham-Liverpool-August-6...</td>\n",
       "      <td>NaN</td>\n",
       "      <td>6713c1dc</td>\n",
       "    </tr>\n",
       "    <tr>\n",
       "      <th>2022-08-06 Leeds United-Wolves</th>\n",
       "      <td>1.0</td>\n",
       "      <td>Sat</td>\n",
       "      <td>2022-08-06</td>\n",
       "      <td>15:00</td>\n",
       "      <td>Leeds United</td>\n",
       "      <td>0.8</td>\n",
       "      <td>2–1</td>\n",
       "      <td>1.3</td>\n",
       "      <td>Wolves</td>\n",
       "      <td>36347.0</td>\n",
       "      <td>Elland Road</td>\n",
       "      <td>Robert Jones</td>\n",
       "      <td>/en/matches/82702941/Leeds-United-Wolverhampto...</td>\n",
       "      <td>NaN</td>\n",
       "      <td>82702941</td>\n",
       "    </tr>\n",
       "  </tbody>\n",
       "</table>\n",
       "</div>"
      ],
      "text/plain": [
       "                                                              week  day  \\\n",
       "league             season game                                            \n",
       "ENG-Premier League 2223   2022-08-05 Crystal Palace-Arsenal    1.0  Fri   \n",
       "                          2022-08-06 Bournemouth-Aston Villa   1.0  Sat   \n",
       "                          2022-08-06 Everton-Chelsea           1.0  Sat   \n",
       "                          2022-08-06 Fulham-Liverpool          1.0  Sat   \n",
       "                          2022-08-06 Leeds United-Wolves       1.0  Sat   \n",
       "\n",
       "                                                                   date  \\\n",
       "league             season game                                            \n",
       "ENG-Premier League 2223   2022-08-05 Crystal Palace-Arsenal  2022-08-05   \n",
       "                          2022-08-06 Bournemouth-Aston Villa 2022-08-06   \n",
       "                          2022-08-06 Everton-Chelsea         2022-08-06   \n",
       "                          2022-08-06 Fulham-Liverpool        2022-08-06   \n",
       "                          2022-08-06 Leeds United-Wolves     2022-08-06   \n",
       "\n",
       "                                                               time  \\\n",
       "league             season game                                        \n",
       "ENG-Premier League 2223   2022-08-05 Crystal Palace-Arsenal   20:00   \n",
       "                          2022-08-06 Bournemouth-Aston Villa  15:00   \n",
       "                          2022-08-06 Everton-Chelsea          17:30   \n",
       "                          2022-08-06 Fulham-Liverpool         12:30   \n",
       "                          2022-08-06 Leeds United-Wolves      15:00   \n",
       "\n",
       "                                                                   home_team  \\\n",
       "league             season game                                                 \n",
       "ENG-Premier League 2223   2022-08-05 Crystal Palace-Arsenal   Crystal Palace   \n",
       "                          2022-08-06 Bournemouth-Aston Villa     Bournemouth   \n",
       "                          2022-08-06 Everton-Chelsea                 Everton   \n",
       "                          2022-08-06 Fulham-Liverpool                 Fulham   \n",
       "                          2022-08-06 Leeds United-Wolves        Leeds United   \n",
       "\n",
       "                                                              home_xg score  \\\n",
       "league             season game                                                \n",
       "ENG-Premier League 2223   2022-08-05 Crystal Palace-Arsenal       1.2   0–2   \n",
       "                          2022-08-06 Bournemouth-Aston Villa      0.6   2–0   \n",
       "                          2022-08-06 Everton-Chelsea              0.7   0–1   \n",
       "                          2022-08-06 Fulham-Liverpool             1.2   2–2   \n",
       "                          2022-08-06 Leeds United-Wolves          0.8   2–1   \n",
       "\n",
       "                                                              away_xg  \\\n",
       "league             season game                                          \n",
       "ENG-Premier League 2223   2022-08-05 Crystal Palace-Arsenal       1.0   \n",
       "                          2022-08-06 Bournemouth-Aston Villa      0.7   \n",
       "                          2022-08-06 Everton-Chelsea              1.5   \n",
       "                          2022-08-06 Fulham-Liverpool             1.2   \n",
       "                          2022-08-06 Leeds United-Wolves          1.3   \n",
       "\n",
       "                                                                away_team  \\\n",
       "league             season game                                              \n",
       "ENG-Premier League 2223   2022-08-05 Crystal Palace-Arsenal       Arsenal   \n",
       "                          2022-08-06 Bournemouth-Aston Villa  Aston Villa   \n",
       "                          2022-08-06 Everton-Chelsea              Chelsea   \n",
       "                          2022-08-06 Fulham-Liverpool           Liverpool   \n",
       "                          2022-08-06 Leeds United-Wolves           Wolves   \n",
       "\n",
       "                                                              attendance  \\\n",
       "league             season game                                             \n",
       "ENG-Premier League 2223   2022-08-05 Crystal Palace-Arsenal      25286.0   \n",
       "                          2022-08-06 Bournemouth-Aston Villa     11013.0   \n",
       "                          2022-08-06 Everton-Chelsea             39254.0   \n",
       "                          2022-08-06 Fulham-Liverpool            22207.0   \n",
       "                          2022-08-06 Leeds United-Wolves         36347.0   \n",
       "\n",
       "                                                                         venue  \\\n",
       "league             season game                                                   \n",
       "ENG-Premier League 2223   2022-08-05 Crystal Palace-Arsenal      Selhurst Park   \n",
       "                          2022-08-06 Bournemouth-Aston Villa  Vitality Stadium   \n",
       "                          2022-08-06 Everton-Chelsea             Goodison Park   \n",
       "                          2022-08-06 Fulham-Liverpool           Craven Cottage   \n",
       "                          2022-08-06 Leeds United-Wolves           Elland Road   \n",
       "\n",
       "                                                                     referee  \\\n",
       "league             season game                                                 \n",
       "ENG-Premier League 2223   2022-08-05 Crystal Palace-Arsenal   Anthony Taylor   \n",
       "                          2022-08-06 Bournemouth-Aston Villa    Peter Bankes   \n",
       "                          2022-08-06 Everton-Chelsea            Craig Pawson   \n",
       "                          2022-08-06 Fulham-Liverpool            Andy Madley   \n",
       "                          2022-08-06 Leeds United-Wolves        Robert Jones   \n",
       "\n",
       "                                                                                                   match_report  \\\n",
       "league             season game                                                                                    \n",
       "ENG-Premier League 2223   2022-08-05 Crystal Palace-Arsenal   /en/matches/e62f6e78/Crystal-Palace-Arsenal-Au...   \n",
       "                          2022-08-06 Bournemouth-Aston Villa  /en/matches/877e3193/Bournemouth-Aston-Villa-A...   \n",
       "                          2022-08-06 Everton-Chelsea          /en/matches/3a917cee/Everton-Chelsea-August-6-...   \n",
       "                          2022-08-06 Fulham-Liverpool         /en/matches/6713c1dc/Fulham-Liverpool-August-6...   \n",
       "                          2022-08-06 Leeds United-Wolves      /en/matches/82702941/Leeds-United-Wolverhampto...   \n",
       "\n",
       "                                                             notes   game_id  \n",
       "league             season game                                                \n",
       "ENG-Premier League 2223   2022-08-05 Crystal Palace-Arsenal    NaN  e62f6e78  \n",
       "                          2022-08-06 Bournemouth-Aston Villa   NaN  877e3193  \n",
       "                          2022-08-06 Everton-Chelsea           NaN  3a917cee  \n",
       "                          2022-08-06 Fulham-Liverpool          NaN  6713c1dc  \n",
       "                          2022-08-06 Leeds United-Wolves       NaN  82702941  "
      ]
     },
     "execution_count": 3,
     "metadata": {},
     "output_type": "execute_result"
    }
   ],
   "source": [
    "epl_schedule = fbref.read_schedule()\n",
    "epl_schedule.head()"
   ]
  },
  {
   "cell_type": "code",
   "execution_count": 5,
   "id": "adfb0c49",
   "metadata": {},
   "outputs": [
    {
     "data": {
      "text/html": [
       "<pre style=\"white-space:pre;overflow-x:auto;line-height:normal;font-family:Menlo,'DejaVu Sans Mono',consolas,'Courier New',monospace\"><span style=\"color: #7fbfbf; text-decoration-color: #7fbfbf\">[01/22/23 01:01:37] </span><span style=\"color: #000080; text-decoration-color: #000080\">INFO    </span> <span style=\"font-weight: bold\">[</span><span style=\"color: #008080; text-decoration-color: #008080; font-weight: bold\">2</span>/<span style=\"color: #008080; text-decoration-color: #008080; font-weight: bold\">1</span><span style=\"font-weight: bold\">]</span> Retrieving game with <span style=\"color: #808000; text-decoration-color: #808000\">id</span>=<span style=\"color: #008080; text-decoration-color: #008080; font-weight: bold\">877e3193</span>                                    <a href=\"file://C:\\Users\\John\\anaconda3\\lib\\site-packages\\soccerdata\\fbref.py\" target=\"_blank\"><span style=\"color: #7f7f7f; text-decoration-color: #7f7f7f\">fbref.py</span></a><span style=\"color: #7f7f7f; text-decoration-color: #7f7f7f\">:</span><a href=\"file://C:\\Users\\John\\anaconda3\\lib\\site-packages\\soccerdata\\fbref.py#679\" target=\"_blank\"><span style=\"color: #7f7f7f; text-decoration-color: #7f7f7f\">679</span></a>\n",
       "</pre>\n"
      ],
      "text/plain": [
       "\u001b[2;36m[01/22/23 01:01:37]\u001b[0m\u001b[2;36m \u001b[0m\u001b[34mINFO    \u001b[0m \u001b[1m[\u001b[0m\u001b[1;36m2\u001b[0m/\u001b[1;36m1\u001b[0m\u001b[1m]\u001b[0m Retrieving game with \u001b[33mid\u001b[0m=\u001b[1;36m877e3193\u001b[0m                                    \u001b]8;id=798615;file://C:\\Users\\John\\anaconda3\\lib\\site-packages\\soccerdata\\fbref.py\u001b\\\u001b[2mfbref.py\u001b[0m\u001b]8;;\u001b\\\u001b[2m:\u001b[0m\u001b]8;id=707713;file://C:\\Users\\John\\anaconda3\\lib\\site-packages\\soccerdata\\fbref.py#679\u001b\\\u001b[2m679\u001b[0m\u001b]8;;\u001b\\\n"
      ]
     },
     "metadata": {},
     "output_type": "display_data"
    },
    {
     "data": {
      "text/html": [
       "<div>\n",
       "<style scoped>\n",
       "    .dataframe tbody tr th:only-of-type {\n",
       "        vertical-align: middle;\n",
       "    }\n",
       "\n",
       "    .dataframe tbody tr th {\n",
       "        vertical-align: top;\n",
       "    }\n",
       "\n",
       "    .dataframe thead tr th {\n",
       "        text-align: left;\n",
       "    }\n",
       "\n",
       "    .dataframe thead tr:last-of-type th {\n",
       "        text-align: right;\n",
       "    }\n",
       "</style>\n",
       "<table border=\"1\" class=\"dataframe\">\n",
       "  <thead>\n",
       "    <tr>\n",
       "      <th></th>\n",
       "      <th></th>\n",
       "      <th></th>\n",
       "      <th></th>\n",
       "      <th></th>\n",
       "      <th>#</th>\n",
       "      <th>Nation</th>\n",
       "      <th>Pos</th>\n",
       "      <th>Age</th>\n",
       "      <th>Min</th>\n",
       "      <th colspan=\"12\" halign=\"left\">Performance</th>\n",
       "      <th colspan=\"3\" halign=\"left\">Aerial Duels</th>\n",
       "      <th>game_id</th>\n",
       "    </tr>\n",
       "    <tr>\n",
       "      <th></th>\n",
       "      <th></th>\n",
       "      <th></th>\n",
       "      <th></th>\n",
       "      <th></th>\n",
       "      <th></th>\n",
       "      <th></th>\n",
       "      <th></th>\n",
       "      <th></th>\n",
       "      <th></th>\n",
       "      <th>CrdY</th>\n",
       "      <th>CrdR</th>\n",
       "      <th>2CrdY</th>\n",
       "      <th>Fls</th>\n",
       "      <th>Fld</th>\n",
       "      <th>...</th>\n",
       "      <th>Int</th>\n",
       "      <th>TklW</th>\n",
       "      <th>PKwon</th>\n",
       "      <th>PKcon</th>\n",
       "      <th>OG</th>\n",
       "      <th>Recov</th>\n",
       "      <th>Won</th>\n",
       "      <th>Lost</th>\n",
       "      <th>Won%</th>\n",
       "      <th></th>\n",
       "    </tr>\n",
       "    <tr>\n",
       "      <th>league</th>\n",
       "      <th>season</th>\n",
       "      <th>game</th>\n",
       "      <th>team</th>\n",
       "      <th>player</th>\n",
       "      <th></th>\n",
       "      <th></th>\n",
       "      <th></th>\n",
       "      <th></th>\n",
       "      <th></th>\n",
       "      <th></th>\n",
       "      <th></th>\n",
       "      <th></th>\n",
       "      <th></th>\n",
       "      <th></th>\n",
       "      <th></th>\n",
       "      <th></th>\n",
       "      <th></th>\n",
       "      <th></th>\n",
       "      <th></th>\n",
       "      <th></th>\n",
       "      <th></th>\n",
       "      <th></th>\n",
       "      <th></th>\n",
       "      <th></th>\n",
       "      <th></th>\n",
       "    </tr>\n",
       "  </thead>\n",
       "  <tbody>\n",
       "    <tr>\n",
       "      <th rowspan=\"5\" valign=\"top\">ENG-Premier League</th>\n",
       "      <th rowspan=\"5\" valign=\"top\">2223</th>\n",
       "      <th rowspan=\"5\" valign=\"top\">2022-08-06 Bournemouth-Aston Villa</th>\n",
       "      <th rowspan=\"5\" valign=\"top\">Aston Villa</th>\n",
       "      <th>Boubacar Kamara</th>\n",
       "      <td>44.0</td>\n",
       "      <td>fr FRA</td>\n",
       "      <td>CM,DM</td>\n",
       "      <td>22-256</td>\n",
       "      <td>81</td>\n",
       "      <td>0</td>\n",
       "      <td>0</td>\n",
       "      <td>0</td>\n",
       "      <td>5</td>\n",
       "      <td>2</td>\n",
       "      <td>...</td>\n",
       "      <td>0</td>\n",
       "      <td>1</td>\n",
       "      <td>0</td>\n",
       "      <td>0</td>\n",
       "      <td>0</td>\n",
       "      <td>10</td>\n",
       "      <td>3</td>\n",
       "      <td>1</td>\n",
       "      <td>75.0</td>\n",
       "      <td>877e3193</td>\n",
       "    </tr>\n",
       "    <tr>\n",
       "      <th>Cameron Archer</th>\n",
       "      <td>35.0</td>\n",
       "      <td>eng ENG</td>\n",
       "      <td>AM</td>\n",
       "      <td>21-016</td>\n",
       "      <td>10</td>\n",
       "      <td>0</td>\n",
       "      <td>0</td>\n",
       "      <td>0</td>\n",
       "      <td>0</td>\n",
       "      <td>0</td>\n",
       "      <td>...</td>\n",
       "      <td>0</td>\n",
       "      <td>0</td>\n",
       "      <td>0</td>\n",
       "      <td>0</td>\n",
       "      <td>0</td>\n",
       "      <td>0</td>\n",
       "      <td>0</td>\n",
       "      <td>0</td>\n",
       "      <td>NaN</td>\n",
       "      <td>877e3193</td>\n",
       "    </tr>\n",
       "    <tr>\n",
       "      <th>Danny Ings</th>\n",
       "      <td>9.0</td>\n",
       "      <td>eng ENG</td>\n",
       "      <td>FW</td>\n",
       "      <td>30-014</td>\n",
       "      <td>65</td>\n",
       "      <td>1</td>\n",
       "      <td>0</td>\n",
       "      <td>0</td>\n",
       "      <td>1</td>\n",
       "      <td>0</td>\n",
       "      <td>...</td>\n",
       "      <td>0</td>\n",
       "      <td>0</td>\n",
       "      <td>0</td>\n",
       "      <td>0</td>\n",
       "      <td>0</td>\n",
       "      <td>1</td>\n",
       "      <td>1</td>\n",
       "      <td>2</td>\n",
       "      <td>33.3</td>\n",
       "      <td>877e3193</td>\n",
       "    </tr>\n",
       "    <tr>\n",
       "      <th>Diego Carlos</th>\n",
       "      <td>3.0</td>\n",
       "      <td>br BRA</td>\n",
       "      <td>CB</td>\n",
       "      <td>29-144</td>\n",
       "      <td>90</td>\n",
       "      <td>0</td>\n",
       "      <td>0</td>\n",
       "      <td>0</td>\n",
       "      <td>1</td>\n",
       "      <td>0</td>\n",
       "      <td>...</td>\n",
       "      <td>0</td>\n",
       "      <td>0</td>\n",
       "      <td>0</td>\n",
       "      <td>0</td>\n",
       "      <td>0</td>\n",
       "      <td>8</td>\n",
       "      <td>0</td>\n",
       "      <td>3</td>\n",
       "      <td>0.0</td>\n",
       "      <td>877e3193</td>\n",
       "    </tr>\n",
       "    <tr>\n",
       "      <th>Douglas Luiz</th>\n",
       "      <td>6.0</td>\n",
       "      <td>br BRA</td>\n",
       "      <td>DM</td>\n",
       "      <td>24-089</td>\n",
       "      <td>9</td>\n",
       "      <td>1</td>\n",
       "      <td>0</td>\n",
       "      <td>0</td>\n",
       "      <td>1</td>\n",
       "      <td>0</td>\n",
       "      <td>...</td>\n",
       "      <td>0</td>\n",
       "      <td>0</td>\n",
       "      <td>0</td>\n",
       "      <td>0</td>\n",
       "      <td>0</td>\n",
       "      <td>0</td>\n",
       "      <td>0</td>\n",
       "      <td>0</td>\n",
       "      <td>NaN</td>\n",
       "      <td>877e3193</td>\n",
       "    </tr>\n",
       "  </tbody>\n",
       "</table>\n",
       "<p>5 rows × 22 columns</p>\n",
       "</div>"
      ],
      "text/plain": [
       "                                                                                             #  \\\n",
       "                                                                                                 \n",
       "league             season game                               team        player                  \n",
       "ENG-Premier League 2223   2022-08-06 Bournemouth-Aston Villa Aston Villa Boubacar Kamara  44.0   \n",
       "                                                                         Cameron Archer   35.0   \n",
       "                                                                         Danny Ings        9.0   \n",
       "                                                                         Diego Carlos      3.0   \n",
       "                                                                         Douglas Luiz      6.0   \n",
       "\n",
       "                                                                                           Nation  \\\n",
       "                                                                                                    \n",
       "league             season game                               team        player                     \n",
       "ENG-Premier League 2223   2022-08-06 Bournemouth-Aston Villa Aston Villa Boubacar Kamara   fr FRA   \n",
       "                                                                         Cameron Archer   eng ENG   \n",
       "                                                                         Danny Ings       eng ENG   \n",
       "                                                                         Diego Carlos      br BRA   \n",
       "                                                                         Douglas Luiz      br BRA   \n",
       "\n",
       "                                                                                            Pos  \\\n",
       "                                                                                                  \n",
       "league             season game                               team        player                   \n",
       "ENG-Premier League 2223   2022-08-06 Bournemouth-Aston Villa Aston Villa Boubacar Kamara  CM,DM   \n",
       "                                                                         Cameron Archer      AM   \n",
       "                                                                         Danny Ings          FW   \n",
       "                                                                         Diego Carlos        CB   \n",
       "                                                                         Douglas Luiz        DM   \n",
       "\n",
       "                                                                                             Age  \\\n",
       "                                                                                                   \n",
       "league             season game                               team        player                    \n",
       "ENG-Premier League 2223   2022-08-06 Bournemouth-Aston Villa Aston Villa Boubacar Kamara  22-256   \n",
       "                                                                         Cameron Archer   21-016   \n",
       "                                                                         Danny Ings       30-014   \n",
       "                                                                         Diego Carlos     29-144   \n",
       "                                                                         Douglas Luiz     24-089   \n",
       "\n",
       "                                                                                         Min  \\\n",
       "                                                                                               \n",
       "league             season game                               team        player                \n",
       "ENG-Premier League 2223   2022-08-06 Bournemouth-Aston Villa Aston Villa Boubacar Kamara  81   \n",
       "                                                                         Cameron Archer   10   \n",
       "                                                                         Danny Ings       65   \n",
       "                                                                         Diego Carlos     90   \n",
       "                                                                         Douglas Luiz      9   \n",
       "\n",
       "                                                                                         Performance  \\\n",
       "                                                                                                CrdY   \n",
       "league             season game                               team        player                        \n",
       "ENG-Premier League 2223   2022-08-06 Bournemouth-Aston Villa Aston Villa Boubacar Kamara           0   \n",
       "                                                                         Cameron Archer            0   \n",
       "                                                                         Danny Ings                1   \n",
       "                                                                         Diego Carlos              0   \n",
       "                                                                         Douglas Luiz              1   \n",
       "\n",
       "                                                                                               \\\n",
       "                                                                                         CrdR   \n",
       "league             season game                               team        player                 \n",
       "ENG-Premier League 2223   2022-08-06 Bournemouth-Aston Villa Aston Villa Boubacar Kamara    0   \n",
       "                                                                         Cameron Archer     0   \n",
       "                                                                         Danny Ings         0   \n",
       "                                                                         Diego Carlos       0   \n",
       "                                                                         Douglas Luiz       0   \n",
       "\n",
       "                                                                                                \\\n",
       "                                                                                         2CrdY   \n",
       "league             season game                               team        player                  \n",
       "ENG-Premier League 2223   2022-08-06 Bournemouth-Aston Villa Aston Villa Boubacar Kamara     0   \n",
       "                                                                         Cameron Archer      0   \n",
       "                                                                         Danny Ings          0   \n",
       "                                                                         Diego Carlos        0   \n",
       "                                                                         Douglas Luiz        0   \n",
       "\n",
       "                                                                                              \\\n",
       "                                                                                         Fls   \n",
       "league             season game                               team        player                \n",
       "ENG-Premier League 2223   2022-08-06 Bournemouth-Aston Villa Aston Villa Boubacar Kamara   5   \n",
       "                                                                         Cameron Archer    0   \n",
       "                                                                         Danny Ings        1   \n",
       "                                                                         Diego Carlos      1   \n",
       "                                                                         Douglas Luiz      1   \n",
       "\n",
       "                                                                                              \\\n",
       "                                                                                         Fld   \n",
       "league             season game                               team        player                \n",
       "ENG-Premier League 2223   2022-08-06 Bournemouth-Aston Villa Aston Villa Boubacar Kamara   2   \n",
       "                                                                         Cameron Archer    0   \n",
       "                                                                         Danny Ings        0   \n",
       "                                                                         Diego Carlos      0   \n",
       "                                                                         Douglas Luiz      0   \n",
       "\n",
       "                                                                                          ...  \\\n",
       "                                                                                          ...   \n",
       "league             season game                               team        player           ...   \n",
       "ENG-Premier League 2223   2022-08-06 Bournemouth-Aston Villa Aston Villa Boubacar Kamara  ...   \n",
       "                                                                         Cameron Archer   ...   \n",
       "                                                                         Danny Ings       ...   \n",
       "                                                                         Diego Carlos     ...   \n",
       "                                                                         Douglas Luiz     ...   \n",
       "\n",
       "                                                                                              \\\n",
       "                                                                                         Int   \n",
       "league             season game                               team        player                \n",
       "ENG-Premier League 2223   2022-08-06 Bournemouth-Aston Villa Aston Villa Boubacar Kamara   0   \n",
       "                                                                         Cameron Archer    0   \n",
       "                                                                         Danny Ings        0   \n",
       "                                                                         Diego Carlos      0   \n",
       "                                                                         Douglas Luiz      0   \n",
       "\n",
       "                                                                                               \\\n",
       "                                                                                         TklW   \n",
       "league             season game                               team        player                 \n",
       "ENG-Premier League 2223   2022-08-06 Bournemouth-Aston Villa Aston Villa Boubacar Kamara    1   \n",
       "                                                                         Cameron Archer     0   \n",
       "                                                                         Danny Ings         0   \n",
       "                                                                         Diego Carlos       0   \n",
       "                                                                         Douglas Luiz       0   \n",
       "\n",
       "                                                                                                \\\n",
       "                                                                                         PKwon   \n",
       "league             season game                               team        player                  \n",
       "ENG-Premier League 2223   2022-08-06 Bournemouth-Aston Villa Aston Villa Boubacar Kamara     0   \n",
       "                                                                         Cameron Archer      0   \n",
       "                                                                         Danny Ings          0   \n",
       "                                                                         Diego Carlos        0   \n",
       "                                                                         Douglas Luiz        0   \n",
       "\n",
       "                                                                                                \\\n",
       "                                                                                         PKcon   \n",
       "league             season game                               team        player                  \n",
       "ENG-Premier League 2223   2022-08-06 Bournemouth-Aston Villa Aston Villa Boubacar Kamara     0   \n",
       "                                                                         Cameron Archer      0   \n",
       "                                                                         Danny Ings          0   \n",
       "                                                                         Diego Carlos        0   \n",
       "                                                                         Douglas Luiz        0   \n",
       "\n",
       "                                                                                             \\\n",
       "                                                                                         OG   \n",
       "league             season game                               team        player               \n",
       "ENG-Premier League 2223   2022-08-06 Bournemouth-Aston Villa Aston Villa Boubacar Kamara  0   \n",
       "                                                                         Cameron Archer   0   \n",
       "                                                                         Danny Ings       0   \n",
       "                                                                         Diego Carlos     0   \n",
       "                                                                         Douglas Luiz     0   \n",
       "\n",
       "                                                                                                \\\n",
       "                                                                                         Recov   \n",
       "league             season game                               team        player                  \n",
       "ENG-Premier League 2223   2022-08-06 Bournemouth-Aston Villa Aston Villa Boubacar Kamara    10   \n",
       "                                                                         Cameron Archer      0   \n",
       "                                                                         Danny Ings          1   \n",
       "                                                                         Diego Carlos        8   \n",
       "                                                                         Douglas Luiz        0   \n",
       "\n",
       "                                                                                         Aerial Duels  \\\n",
       "                                                                                                  Won   \n",
       "league             season game                               team        player                         \n",
       "ENG-Premier League 2223   2022-08-06 Bournemouth-Aston Villa Aston Villa Boubacar Kamara            3   \n",
       "                                                                         Cameron Archer             0   \n",
       "                                                                         Danny Ings                 1   \n",
       "                                                                         Diego Carlos               0   \n",
       "                                                                         Douglas Luiz               0   \n",
       "\n",
       "                                                                                               \\\n",
       "                                                                                         Lost   \n",
       "league             season game                               team        player                 \n",
       "ENG-Premier League 2223   2022-08-06 Bournemouth-Aston Villa Aston Villa Boubacar Kamara    1   \n",
       "                                                                         Cameron Archer     0   \n",
       "                                                                         Danny Ings         2   \n",
       "                                                                         Diego Carlos       3   \n",
       "                                                                         Douglas Luiz       0   \n",
       "\n",
       "                                                                                                \\\n",
       "                                                                                          Won%   \n",
       "league             season game                               team        player                  \n",
       "ENG-Premier League 2223   2022-08-06 Bournemouth-Aston Villa Aston Villa Boubacar Kamara  75.0   \n",
       "                                                                         Cameron Archer    NaN   \n",
       "                                                                         Danny Ings       33.3   \n",
       "                                                                         Diego Carlos      0.0   \n",
       "                                                                         Douglas Luiz      NaN   \n",
       "\n",
       "                                                                                           game_id  \n",
       "                                                                                                    \n",
       "league             season game                               team        player                     \n",
       "ENG-Premier League 2223   2022-08-06 Bournemouth-Aston Villa Aston Villa Boubacar Kamara  877e3193  \n",
       "                                                                         Cameron Archer   877e3193  \n",
       "                                                                         Danny Ings       877e3193  \n",
       "                                                                         Diego Carlos     877e3193  \n",
       "                                                                         Douglas Luiz     877e3193  \n",
       "\n",
       "[5 rows x 22 columns]"
      ]
     },
     "execution_count": 5,
     "metadata": {},
     "output_type": "execute_result"
    }
   ],
   "source": [
    "player_match_stats = fbref.read_player_match_stats(stat_type=\"misc\", match_id='877e3193')\n",
    "player_match_stats.head()"
   ]
  },
  {
   "cell_type": "code",
   "execution_count": 8,
   "id": "690a7737",
   "metadata": {},
   "outputs": [
    {
     "data": {
      "text/html": [
       "<pre style=\"white-space:pre;overflow-x:auto;line-height:normal;font-family:Menlo,'DejaVu Sans Mono',consolas,'Courier New',monospace\"><span style=\"color: #7fbfbf; text-decoration-color: #7fbfbf\">[01/22/23 01:10:17] </span><span style=\"color: #000080; text-decoration-color: #000080\">INFO    </span> <span style=\"font-weight: bold\">[</span><span style=\"color: #008080; text-decoration-color: #008080; font-weight: bold\">1</span>/<span style=\"color: #008080; text-decoration-color: #008080; font-weight: bold\">189</span><span style=\"font-weight: bold\">]</span> Retrieving game with <span style=\"color: #808000; text-decoration-color: #808000\">id</span>=<span style=\"color: #800080; text-decoration-color: #800080\">e62f6e78</span>                                  <a href=\"file://C:\\Users\\John\\anaconda3\\lib\\site-packages\\soccerdata\\fbref.py\" target=\"_blank\"><span style=\"color: #7f7f7f; text-decoration-color: #7f7f7f\">fbref.py</span></a><span style=\"color: #7f7f7f; text-decoration-color: #7f7f7f\">:</span><a href=\"file://C:\\Users\\John\\anaconda3\\lib\\site-packages\\soccerdata\\fbref.py#679\" target=\"_blank\"><span style=\"color: #7f7f7f; text-decoration-color: #7f7f7f\">679</span></a>\n",
       "</pre>\n"
      ],
      "text/plain": [
       "\u001b[2;36m[01/22/23 01:10:17]\u001b[0m\u001b[2;36m \u001b[0m\u001b[34mINFO    \u001b[0m \u001b[1m[\u001b[0m\u001b[1;36m1\u001b[0m/\u001b[1;36m189\u001b[0m\u001b[1m]\u001b[0m Retrieving game with \u001b[33mid\u001b[0m=\u001b[35me62f6e78\u001b[0m                                  \u001b]8;id=802624;file://C:\\Users\\John\\anaconda3\\lib\\site-packages\\soccerdata\\fbref.py\u001b\\\u001b[2mfbref.py\u001b[0m\u001b]8;;\u001b\\\u001b[2m:\u001b[0m\u001b]8;id=850748;file://C:\\Users\\John\\anaconda3\\lib\\site-packages\\soccerdata\\fbref.py#679\u001b\\\u001b[2m679\u001b[0m\u001b]8;;\u001b\\\n"
      ]
     },
     "metadata": {},
     "output_type": "display_data"
    },
    {
     "data": {
      "text/html": [
       "<pre style=\"white-space:pre;overflow-x:auto;line-height:normal;font-family:Menlo,'DejaVu Sans Mono',consolas,'Courier New',monospace\"><span style=\"color: #7fbfbf; text-decoration-color: #7fbfbf\">                    </span><span style=\"color: #000080; text-decoration-color: #000080\">INFO    </span> <span style=\"font-weight: bold\">[</span><span style=\"color: #008080; text-decoration-color: #008080; font-weight: bold\">2</span>/<span style=\"color: #008080; text-decoration-color: #008080; font-weight: bold\">189</span><span style=\"font-weight: bold\">]</span> Retrieving game with <span style=\"color: #808000; text-decoration-color: #808000\">id</span>=<span style=\"color: #008080; text-decoration-color: #008080; font-weight: bold\">877e3193</span>                                  <a href=\"file://C:\\Users\\John\\anaconda3\\lib\\site-packages\\soccerdata\\fbref.py\" target=\"_blank\"><span style=\"color: #7f7f7f; text-decoration-color: #7f7f7f\">fbref.py</span></a><span style=\"color: #7f7f7f; text-decoration-color: #7f7f7f\">:</span><a href=\"file://C:\\Users\\John\\anaconda3\\lib\\site-packages\\soccerdata\\fbref.py#679\" target=\"_blank\"><span style=\"color: #7f7f7f; text-decoration-color: #7f7f7f\">679</span></a>\n",
       "</pre>\n"
      ],
      "text/plain": [
       "\u001b[2;36m                   \u001b[0m\u001b[2;36m \u001b[0m\u001b[34mINFO    \u001b[0m \u001b[1m[\u001b[0m\u001b[1;36m2\u001b[0m/\u001b[1;36m189\u001b[0m\u001b[1m]\u001b[0m Retrieving game with \u001b[33mid\u001b[0m=\u001b[1;36m877e3193\u001b[0m                                  \u001b]8;id=917634;file://C:\\Users\\John\\anaconda3\\lib\\site-packages\\soccerdata\\fbref.py\u001b\\\u001b[2mfbref.py\u001b[0m\u001b]8;;\u001b\\\u001b[2m:\u001b[0m\u001b]8;id=773340;file://C:\\Users\\John\\anaconda3\\lib\\site-packages\\soccerdata\\fbref.py#679\u001b\\\u001b[2m679\u001b[0m\u001b]8;;\u001b\\\n"
      ]
     },
     "metadata": {},
     "output_type": "display_data"
    },
    {
     "data": {
      "text/html": [
       "<pre style=\"white-space:pre;overflow-x:auto;line-height:normal;font-family:Menlo,'DejaVu Sans Mono',consolas,'Courier New',monospace\"><span style=\"color: #7fbfbf; text-decoration-color: #7fbfbf\">                    </span><span style=\"color: #000080; text-decoration-color: #000080\">INFO    </span> <span style=\"font-weight: bold\">[</span><span style=\"color: #008080; text-decoration-color: #008080; font-weight: bold\">3</span>/<span style=\"color: #008080; text-decoration-color: #008080; font-weight: bold\">189</span><span style=\"font-weight: bold\">]</span> Retrieving game with <span style=\"color: #808000; text-decoration-color: #808000\">id</span>=<span style=\"color: #800080; text-decoration-color: #800080\">3a917cee</span>                                  <a href=\"file://C:\\Users\\John\\anaconda3\\lib\\site-packages\\soccerdata\\fbref.py\" target=\"_blank\"><span style=\"color: #7f7f7f; text-decoration-color: #7f7f7f\">fbref.py</span></a><span style=\"color: #7f7f7f; text-decoration-color: #7f7f7f\">:</span><a href=\"file://C:\\Users\\John\\anaconda3\\lib\\site-packages\\soccerdata\\fbref.py#679\" target=\"_blank\"><span style=\"color: #7f7f7f; text-decoration-color: #7f7f7f\">679</span></a>\n",
       "</pre>\n"
      ],
      "text/plain": [
       "\u001b[2;36m                   \u001b[0m\u001b[2;36m \u001b[0m\u001b[34mINFO    \u001b[0m \u001b[1m[\u001b[0m\u001b[1;36m3\u001b[0m/\u001b[1;36m189\u001b[0m\u001b[1m]\u001b[0m Retrieving game with \u001b[33mid\u001b[0m=\u001b[35m3a917cee\u001b[0m                                  \u001b]8;id=223618;file://C:\\Users\\John\\anaconda3\\lib\\site-packages\\soccerdata\\fbref.py\u001b\\\u001b[2mfbref.py\u001b[0m\u001b]8;;\u001b\\\u001b[2m:\u001b[0m\u001b]8;id=380093;file://C:\\Users\\John\\anaconda3\\lib\\site-packages\\soccerdata\\fbref.py#679\u001b\\\u001b[2m679\u001b[0m\u001b]8;;\u001b\\\n"
      ]
     },
     "metadata": {},
     "output_type": "display_data"
    },
    {
     "data": {
      "text/html": [
       "<pre style=\"white-space:pre;overflow-x:auto;line-height:normal;font-family:Menlo,'DejaVu Sans Mono',consolas,'Courier New',monospace\"><span style=\"color: #7fbfbf; text-decoration-color: #7fbfbf\">                    </span><span style=\"color: #000080; text-decoration-color: #000080\">INFO    </span> <span style=\"font-weight: bold\">[</span><span style=\"color: #008080; text-decoration-color: #008080; font-weight: bold\">4</span>/<span style=\"color: #008080; text-decoration-color: #008080; font-weight: bold\">189</span><span style=\"font-weight: bold\">]</span> Retrieving game with <span style=\"color: #808000; text-decoration-color: #808000\">id</span>=<span style=\"color: #800080; text-decoration-color: #800080\">6713c1dc</span>                                  <a href=\"file://C:\\Users\\John\\anaconda3\\lib\\site-packages\\soccerdata\\fbref.py\" target=\"_blank\"><span style=\"color: #7f7f7f; text-decoration-color: #7f7f7f\">fbref.py</span></a><span style=\"color: #7f7f7f; text-decoration-color: #7f7f7f\">:</span><a href=\"file://C:\\Users\\John\\anaconda3\\lib\\site-packages\\soccerdata\\fbref.py#679\" target=\"_blank\"><span style=\"color: #7f7f7f; text-decoration-color: #7f7f7f\">679</span></a>\n",
       "</pre>\n"
      ],
      "text/plain": [
       "\u001b[2;36m                   \u001b[0m\u001b[2;36m \u001b[0m\u001b[34mINFO    \u001b[0m \u001b[1m[\u001b[0m\u001b[1;36m4\u001b[0m/\u001b[1;36m189\u001b[0m\u001b[1m]\u001b[0m Retrieving game with \u001b[33mid\u001b[0m=\u001b[35m6713c1dc\u001b[0m                                  \u001b]8;id=949806;file://C:\\Users\\John\\anaconda3\\lib\\site-packages\\soccerdata\\fbref.py\u001b\\\u001b[2mfbref.py\u001b[0m\u001b]8;;\u001b\\\u001b[2m:\u001b[0m\u001b]8;id=805354;file://C:\\Users\\John\\anaconda3\\lib\\site-packages\\soccerdata\\fbref.py#679\u001b\\\u001b[2m679\u001b[0m\u001b]8;;\u001b\\\n"
      ]
     },
     "metadata": {},
     "output_type": "display_data"
    },
    {
     "data": {
      "text/html": [
       "<pre style=\"white-space:pre;overflow-x:auto;line-height:normal;font-family:Menlo,'DejaVu Sans Mono',consolas,'Courier New',monospace\"><span style=\"color: #7fbfbf; text-decoration-color: #7fbfbf\">[01/22/23 01:10:18] </span><span style=\"color: #000080; text-decoration-color: #000080\">INFO    </span> <span style=\"font-weight: bold\">[</span><span style=\"color: #008080; text-decoration-color: #008080; font-weight: bold\">5</span>/<span style=\"color: #008080; text-decoration-color: #008080; font-weight: bold\">189</span><span style=\"font-weight: bold\">]</span> Retrieving game with <span style=\"color: #808000; text-decoration-color: #808000\">id</span>=<span style=\"color: #008080; text-decoration-color: #008080; font-weight: bold\">82702941</span>                                  <a href=\"file://C:\\Users\\John\\anaconda3\\lib\\site-packages\\soccerdata\\fbref.py\" target=\"_blank\"><span style=\"color: #7f7f7f; text-decoration-color: #7f7f7f\">fbref.py</span></a><span style=\"color: #7f7f7f; text-decoration-color: #7f7f7f\">:</span><a href=\"file://C:\\Users\\John\\anaconda3\\lib\\site-packages\\soccerdata\\fbref.py#679\" target=\"_blank\"><span style=\"color: #7f7f7f; text-decoration-color: #7f7f7f\">679</span></a>\n",
       "</pre>\n"
      ],
      "text/plain": [
       "\u001b[2;36m[01/22/23 01:10:18]\u001b[0m\u001b[2;36m \u001b[0m\u001b[34mINFO    \u001b[0m \u001b[1m[\u001b[0m\u001b[1;36m5\u001b[0m/\u001b[1;36m189\u001b[0m\u001b[1m]\u001b[0m Retrieving game with \u001b[33mid\u001b[0m=\u001b[1;36m82702941\u001b[0m                                  \u001b]8;id=796126;file://C:\\Users\\John\\anaconda3\\lib\\site-packages\\soccerdata\\fbref.py\u001b\\\u001b[2mfbref.py\u001b[0m\u001b]8;;\u001b\\\u001b[2m:\u001b[0m\u001b]8;id=955610;file://C:\\Users\\John\\anaconda3\\lib\\site-packages\\soccerdata\\fbref.py#679\u001b\\\u001b[2m679\u001b[0m\u001b]8;;\u001b\\\n"
      ]
     },
     "metadata": {},
     "output_type": "display_data"
    },
    {
     "data": {
      "text/html": [
       "<pre style=\"white-space:pre;overflow-x:auto;line-height:normal;font-family:Menlo,'DejaVu Sans Mono',consolas,'Courier New',monospace\"><span style=\"color: #7fbfbf; text-decoration-color: #7fbfbf\">[01/22/23 01:10:22] </span><span style=\"color: #000080; text-decoration-color: #000080\">INFO    </span> <span style=\"font-weight: bold\">[</span><span style=\"color: #008080; text-decoration-color: #008080; font-weight: bold\">6</span>/<span style=\"color: #008080; text-decoration-color: #008080; font-weight: bold\">189</span><span style=\"font-weight: bold\">]</span> Retrieving game with <span style=\"color: #808000; text-decoration-color: #808000\">id</span>=<span style=\"color: #800080; text-decoration-color: #800080\">1ac96eb4</span>                                  <a href=\"file://C:\\Users\\John\\anaconda3\\lib\\site-packages\\soccerdata\\fbref.py\" target=\"_blank\"><span style=\"color: #7f7f7f; text-decoration-color: #7f7f7f\">fbref.py</span></a><span style=\"color: #7f7f7f; text-decoration-color: #7f7f7f\">:</span><a href=\"file://C:\\Users\\John\\anaconda3\\lib\\site-packages\\soccerdata\\fbref.py#679\" target=\"_blank\"><span style=\"color: #7f7f7f; text-decoration-color: #7f7f7f\">679</span></a>\n",
       "</pre>\n"
      ],
      "text/plain": [
       "\u001b[2;36m[01/22/23 01:10:22]\u001b[0m\u001b[2;36m \u001b[0m\u001b[34mINFO    \u001b[0m \u001b[1m[\u001b[0m\u001b[1;36m6\u001b[0m/\u001b[1;36m189\u001b[0m\u001b[1m]\u001b[0m Retrieving game with \u001b[33mid\u001b[0m=\u001b[35m1ac96eb4\u001b[0m                                  \u001b]8;id=873915;file://C:\\Users\\John\\anaconda3\\lib\\site-packages\\soccerdata\\fbref.py\u001b\\\u001b[2mfbref.py\u001b[0m\u001b]8;;\u001b\\\u001b[2m:\u001b[0m\u001b]8;id=874203;file://C:\\Users\\John\\anaconda3\\lib\\site-packages\\soccerdata\\fbref.py#679\u001b\\\u001b[2m679\u001b[0m\u001b]8;;\u001b\\\n"
      ]
     },
     "metadata": {},
     "output_type": "display_data"
    },
    {
     "data": {
      "text/html": [
       "<pre style=\"white-space:pre;overflow-x:auto;line-height:normal;font-family:Menlo,'DejaVu Sans Mono',consolas,'Courier New',monospace\"><span style=\"color: #7fbfbf; text-decoration-color: #7fbfbf\">[01/22/23 01:10:26] </span><span style=\"color: #000080; text-decoration-color: #000080\">INFO    </span> <span style=\"font-weight: bold\">[</span><span style=\"color: #008080; text-decoration-color: #008080; font-weight: bold\">7</span>/<span style=\"color: #008080; text-decoration-color: #008080; font-weight: bold\">189</span><span style=\"font-weight: bold\">]</span> Retrieving game with <span style=\"color: #808000; text-decoration-color: #808000\">id</span>=<span style=\"color: #800080; text-decoration-color: #800080\">09d8a999</span>                                  <a href=\"file://C:\\Users\\John\\anaconda3\\lib\\site-packages\\soccerdata\\fbref.py\" target=\"_blank\"><span style=\"color: #7f7f7f; text-decoration-color: #7f7f7f\">fbref.py</span></a><span style=\"color: #7f7f7f; text-decoration-color: #7f7f7f\">:</span><a href=\"file://C:\\Users\\John\\anaconda3\\lib\\site-packages\\soccerdata\\fbref.py#679\" target=\"_blank\"><span style=\"color: #7f7f7f; text-decoration-color: #7f7f7f\">679</span></a>\n",
       "</pre>\n"
      ],
      "text/plain": [
       "\u001b[2;36m[01/22/23 01:10:26]\u001b[0m\u001b[2;36m \u001b[0m\u001b[34mINFO    \u001b[0m \u001b[1m[\u001b[0m\u001b[1;36m7\u001b[0m/\u001b[1;36m189\u001b[0m\u001b[1m]\u001b[0m Retrieving game with \u001b[33mid\u001b[0m=\u001b[35m09d8a999\u001b[0m                                  \u001b]8;id=79659;file://C:\\Users\\John\\anaconda3\\lib\\site-packages\\soccerdata\\fbref.py\u001b\\\u001b[2mfbref.py\u001b[0m\u001b]8;;\u001b\\\u001b[2m:\u001b[0m\u001b]8;id=128598;file://C:\\Users\\John\\anaconda3\\lib\\site-packages\\soccerdata\\fbref.py#679\u001b\\\u001b[2m679\u001b[0m\u001b]8;;\u001b\\\n"
      ]
     },
     "metadata": {},
     "output_type": "display_data"
    },
    {
     "data": {
      "text/html": [
       "<pre style=\"white-space:pre;overflow-x:auto;line-height:normal;font-family:Menlo,'DejaVu Sans Mono',consolas,'Courier New',monospace\"><span style=\"color: #7fbfbf; text-decoration-color: #7fbfbf\">[01/22/23 01:10:31] </span><span style=\"color: #000080; text-decoration-color: #000080\">INFO    </span> <span style=\"font-weight: bold\">[</span><span style=\"color: #008080; text-decoration-color: #008080; font-weight: bold\">8</span>/<span style=\"color: #008080; text-decoration-color: #008080; font-weight: bold\">189</span><span style=\"font-weight: bold\">]</span> Retrieving game with <span style=\"color: #808000; text-decoration-color: #808000\">id</span>=<span style=\"color: #800080; text-decoration-color: #800080\">3249ba27</span>                                  <a href=\"file://C:\\Users\\John\\anaconda3\\lib\\site-packages\\soccerdata\\fbref.py\" target=\"_blank\"><span style=\"color: #7f7f7f; text-decoration-color: #7f7f7f\">fbref.py</span></a><span style=\"color: #7f7f7f; text-decoration-color: #7f7f7f\">:</span><a href=\"file://C:\\Users\\John\\anaconda3\\lib\\site-packages\\soccerdata\\fbref.py#679\" target=\"_blank\"><span style=\"color: #7f7f7f; text-decoration-color: #7f7f7f\">679</span></a>\n",
       "</pre>\n"
      ],
      "text/plain": [
       "\u001b[2;36m[01/22/23 01:10:31]\u001b[0m\u001b[2;36m \u001b[0m\u001b[34mINFO    \u001b[0m \u001b[1m[\u001b[0m\u001b[1;36m8\u001b[0m/\u001b[1;36m189\u001b[0m\u001b[1m]\u001b[0m Retrieving game with \u001b[33mid\u001b[0m=\u001b[35m3249ba27\u001b[0m                                  \u001b]8;id=472874;file://C:\\Users\\John\\anaconda3\\lib\\site-packages\\soccerdata\\fbref.py\u001b\\\u001b[2mfbref.py\u001b[0m\u001b]8;;\u001b\\\u001b[2m:\u001b[0m\u001b]8;id=138996;file://C:\\Users\\John\\anaconda3\\lib\\site-packages\\soccerdata\\fbref.py#679\u001b\\\u001b[2m679\u001b[0m\u001b]8;;\u001b\\\n"
      ]
     },
     "metadata": {},
     "output_type": "display_data"
    },
    {
     "data": {
      "text/html": [
       "<pre style=\"white-space:pre;overflow-x:auto;line-height:normal;font-family:Menlo,'DejaVu Sans Mono',consolas,'Courier New',monospace\"><span style=\"color: #7fbfbf; text-decoration-color: #7fbfbf\">[01/22/23 01:10:35] </span><span style=\"color: #000080; text-decoration-color: #000080\">INFO    </span> <span style=\"font-weight: bold\">[</span><span style=\"color: #008080; text-decoration-color: #008080; font-weight: bold\">9</span>/<span style=\"color: #008080; text-decoration-color: #008080; font-weight: bold\">189</span><span style=\"font-weight: bold\">]</span> Retrieving game with <span style=\"color: #808000; text-decoration-color: #808000\">id</span>=<span style=\"color: #800080; text-decoration-color: #800080\">8251694e</span>                                  <a href=\"file://C:\\Users\\John\\anaconda3\\lib\\site-packages\\soccerdata\\fbref.py\" target=\"_blank\"><span style=\"color: #7f7f7f; text-decoration-color: #7f7f7f\">fbref.py</span></a><span style=\"color: #7f7f7f; text-decoration-color: #7f7f7f\">:</span><a href=\"file://C:\\Users\\John\\anaconda3\\lib\\site-packages\\soccerdata\\fbref.py#679\" target=\"_blank\"><span style=\"color: #7f7f7f; text-decoration-color: #7f7f7f\">679</span></a>\n",
       "</pre>\n"
      ],
      "text/plain": [
       "\u001b[2;36m[01/22/23 01:10:35]\u001b[0m\u001b[2;36m \u001b[0m\u001b[34mINFO    \u001b[0m \u001b[1m[\u001b[0m\u001b[1;36m9\u001b[0m/\u001b[1;36m189\u001b[0m\u001b[1m]\u001b[0m Retrieving game with \u001b[33mid\u001b[0m=\u001b[35m8251694e\u001b[0m                                  \u001b]8;id=828407;file://C:\\Users\\John\\anaconda3\\lib\\site-packages\\soccerdata\\fbref.py\u001b\\\u001b[2mfbref.py\u001b[0m\u001b]8;;\u001b\\\u001b[2m:\u001b[0m\u001b]8;id=548460;file://C:\\Users\\John\\anaconda3\\lib\\site-packages\\soccerdata\\fbref.py#679\u001b\\\u001b[2m679\u001b[0m\u001b]8;;\u001b\\\n"
      ]
     },
     "metadata": {},
     "output_type": "display_data"
    },
    {
     "data": {
      "text/html": [
       "<pre style=\"white-space:pre;overflow-x:auto;line-height:normal;font-family:Menlo,'DejaVu Sans Mono',consolas,'Courier New',monospace\"><span style=\"color: #7fbfbf; text-decoration-color: #7fbfbf\">[01/22/23 01:10:40] </span><span style=\"color: #000080; text-decoration-color: #000080\">INFO    </span> <span style=\"font-weight: bold\">[</span><span style=\"color: #008080; text-decoration-color: #008080; font-weight: bold\">10</span>/<span style=\"color: #008080; text-decoration-color: #008080; font-weight: bold\">189</span><span style=\"font-weight: bold\">]</span> Retrieving game with <span style=\"color: #808000; text-decoration-color: #808000\">id</span>=<span style=\"color: #800080; text-decoration-color: #800080\">ece62baf</span>                                 <a href=\"file://C:\\Users\\John\\anaconda3\\lib\\site-packages\\soccerdata\\fbref.py\" target=\"_blank\"><span style=\"color: #7f7f7f; text-decoration-color: #7f7f7f\">fbref.py</span></a><span style=\"color: #7f7f7f; text-decoration-color: #7f7f7f\">:</span><a href=\"file://C:\\Users\\John\\anaconda3\\lib\\site-packages\\soccerdata\\fbref.py#679\" target=\"_blank\"><span style=\"color: #7f7f7f; text-decoration-color: #7f7f7f\">679</span></a>\n",
       "</pre>\n"
      ],
      "text/plain": [
       "\u001b[2;36m[01/22/23 01:10:40]\u001b[0m\u001b[2;36m \u001b[0m\u001b[34mINFO    \u001b[0m \u001b[1m[\u001b[0m\u001b[1;36m10\u001b[0m/\u001b[1;36m189\u001b[0m\u001b[1m]\u001b[0m Retrieving game with \u001b[33mid\u001b[0m=\u001b[35mece62baf\u001b[0m                                 \u001b]8;id=701817;file://C:\\Users\\John\\anaconda3\\lib\\site-packages\\soccerdata\\fbref.py\u001b\\\u001b[2mfbref.py\u001b[0m\u001b]8;;\u001b\\\u001b[2m:\u001b[0m\u001b]8;id=99750;file://C:\\Users\\John\\anaconda3\\lib\\site-packages\\soccerdata\\fbref.py#679\u001b\\\u001b[2m679\u001b[0m\u001b]8;;\u001b\\\n"
      ]
     },
     "metadata": {},
     "output_type": "display_data"
    },
    {
     "data": {
      "text/html": [
       "<pre style=\"white-space:pre;overflow-x:auto;line-height:normal;font-family:Menlo,'DejaVu Sans Mono',consolas,'Courier New',monospace\"><span style=\"color: #7fbfbf; text-decoration-color: #7fbfbf\">[01/22/23 01:10:45] </span><span style=\"color: #000080; text-decoration-color: #000080\">INFO    </span> <span style=\"font-weight: bold\">[</span><span style=\"color: #008080; text-decoration-color: #008080; font-weight: bold\">12</span>/<span style=\"color: #008080; text-decoration-color: #008080; font-weight: bold\">189</span><span style=\"font-weight: bold\">]</span> Retrieving game with <span style=\"color: #808000; text-decoration-color: #808000\">id</span>=<span style=\"color: #800080; text-decoration-color: #800080\">7483b97f</span>                                 <a href=\"file://C:\\Users\\John\\anaconda3\\lib\\site-packages\\soccerdata\\fbref.py\" target=\"_blank\"><span style=\"color: #7f7f7f; text-decoration-color: #7f7f7f\">fbref.py</span></a><span style=\"color: #7f7f7f; text-decoration-color: #7f7f7f\">:</span><a href=\"file://C:\\Users\\John\\anaconda3\\lib\\site-packages\\soccerdata\\fbref.py#679\" target=\"_blank\"><span style=\"color: #7f7f7f; text-decoration-color: #7f7f7f\">679</span></a>\n",
       "</pre>\n"
      ],
      "text/plain": [
       "\u001b[2;36m[01/22/23 01:10:45]\u001b[0m\u001b[2;36m \u001b[0m\u001b[34mINFO    \u001b[0m \u001b[1m[\u001b[0m\u001b[1;36m12\u001b[0m/\u001b[1;36m189\u001b[0m\u001b[1m]\u001b[0m Retrieving game with \u001b[33mid\u001b[0m=\u001b[35m7483b97f\u001b[0m                                 \u001b]8;id=197363;file://C:\\Users\\John\\anaconda3\\lib\\site-packages\\soccerdata\\fbref.py\u001b\\\u001b[2mfbref.py\u001b[0m\u001b]8;;\u001b\\\u001b[2m:\u001b[0m\u001b]8;id=799335;file://C:\\Users\\John\\anaconda3\\lib\\site-packages\\soccerdata\\fbref.py#679\u001b\\\u001b[2m679\u001b[0m\u001b]8;;\u001b\\\n"
      ]
     },
     "metadata": {},
     "output_type": "display_data"
    },
    {
     "data": {
      "text/html": [
       "<pre style=\"white-space:pre;overflow-x:auto;line-height:normal;font-family:Menlo,'DejaVu Sans Mono',consolas,'Courier New',monospace\"><span style=\"color: #7fbfbf; text-decoration-color: #7fbfbf\">[01/22/23 01:10:49] </span><span style=\"color: #000080; text-decoration-color: #000080\">INFO    </span> <span style=\"font-weight: bold\">[</span><span style=\"color: #008080; text-decoration-color: #008080; font-weight: bold\">13</span>/<span style=\"color: #008080; text-decoration-color: #008080; font-weight: bold\">189</span><span style=\"font-weight: bold\">]</span> Retrieving game with <span style=\"color: #808000; text-decoration-color: #808000\">id</span>=<span style=\"color: #800080; text-decoration-color: #800080\">8cd71c65</span>                                 <a href=\"file://C:\\Users\\John\\anaconda3\\lib\\site-packages\\soccerdata\\fbref.py\" target=\"_blank\"><span style=\"color: #7f7f7f; text-decoration-color: #7f7f7f\">fbref.py</span></a><span style=\"color: #7f7f7f; text-decoration-color: #7f7f7f\">:</span><a href=\"file://C:\\Users\\John\\anaconda3\\lib\\site-packages\\soccerdata\\fbref.py#679\" target=\"_blank\"><span style=\"color: #7f7f7f; text-decoration-color: #7f7f7f\">679</span></a>\n",
       "</pre>\n"
      ],
      "text/plain": [
       "\u001b[2;36m[01/22/23 01:10:49]\u001b[0m\u001b[2;36m \u001b[0m\u001b[34mINFO    \u001b[0m \u001b[1m[\u001b[0m\u001b[1;36m13\u001b[0m/\u001b[1;36m189\u001b[0m\u001b[1m]\u001b[0m Retrieving game with \u001b[33mid\u001b[0m=\u001b[35m8cd71c65\u001b[0m                                 \u001b]8;id=742573;file://C:\\Users\\John\\anaconda3\\lib\\site-packages\\soccerdata\\fbref.py\u001b\\\u001b[2mfbref.py\u001b[0m\u001b]8;;\u001b\\\u001b[2m:\u001b[0m\u001b]8;id=668514;file://C:\\Users\\John\\anaconda3\\lib\\site-packages\\soccerdata\\fbref.py#679\u001b\\\u001b[2m679\u001b[0m\u001b]8;;\u001b\\\n"
      ]
     },
     "metadata": {},
     "output_type": "display_data"
    },
    {
     "data": {
      "text/html": [
       "<pre style=\"white-space:pre;overflow-x:auto;line-height:normal;font-family:Menlo,'DejaVu Sans Mono',consolas,'Courier New',monospace\"><span style=\"color: #7fbfbf; text-decoration-color: #7fbfbf\">[01/22/23 01:10:54] </span><span style=\"color: #000080; text-decoration-color: #000080\">INFO    </span> <span style=\"font-weight: bold\">[</span><span style=\"color: #008080; text-decoration-color: #008080; font-weight: bold\">14</span>/<span style=\"color: #008080; text-decoration-color: #008080; font-weight: bold\">189</span><span style=\"font-weight: bold\">]</span> Retrieving game with <span style=\"color: #808000; text-decoration-color: #808000\">id</span>=<span style=\"color: #800080; text-decoration-color: #800080\">04712d4e</span>                                 <a href=\"file://C:\\Users\\John\\anaconda3\\lib\\site-packages\\soccerdata\\fbref.py\" target=\"_blank\"><span style=\"color: #7f7f7f; text-decoration-color: #7f7f7f\">fbref.py</span></a><span style=\"color: #7f7f7f; text-decoration-color: #7f7f7f\">:</span><a href=\"file://C:\\Users\\John\\anaconda3\\lib\\site-packages\\soccerdata\\fbref.py#679\" target=\"_blank\"><span style=\"color: #7f7f7f; text-decoration-color: #7f7f7f\">679</span></a>\n",
       "</pre>\n"
      ],
      "text/plain": [
       "\u001b[2;36m[01/22/23 01:10:54]\u001b[0m\u001b[2;36m \u001b[0m\u001b[34mINFO    \u001b[0m \u001b[1m[\u001b[0m\u001b[1;36m14\u001b[0m/\u001b[1;36m189\u001b[0m\u001b[1m]\u001b[0m Retrieving game with \u001b[33mid\u001b[0m=\u001b[35m04712d4e\u001b[0m                                 \u001b]8;id=953371;file://C:\\Users\\John\\anaconda3\\lib\\site-packages\\soccerdata\\fbref.py\u001b\\\u001b[2mfbref.py\u001b[0m\u001b]8;;\u001b\\\u001b[2m:\u001b[0m\u001b]8;id=207126;file://C:\\Users\\John\\anaconda3\\lib\\site-packages\\soccerdata\\fbref.py#679\u001b\\\u001b[2m679\u001b[0m\u001b]8;;\u001b\\\n"
      ]
     },
     "metadata": {},
     "output_type": "display_data"
    },
    {
     "data": {
      "text/html": [
       "<pre style=\"white-space:pre;overflow-x:auto;line-height:normal;font-family:Menlo,'DejaVu Sans Mono',consolas,'Courier New',monospace\"><span style=\"color: #7fbfbf; text-decoration-color: #7fbfbf\">[01/22/23 01:10:58] </span><span style=\"color: #000080; text-decoration-color: #000080\">INFO    </span> <span style=\"font-weight: bold\">[</span><span style=\"color: #008080; text-decoration-color: #008080; font-weight: bold\">15</span>/<span style=\"color: #008080; text-decoration-color: #008080; font-weight: bold\">189</span><span style=\"font-weight: bold\">]</span> Retrieving game with <span style=\"color: #808000; text-decoration-color: #808000\">id</span>=<span style=\"color: #800080; text-decoration-color: #800080\">c916a5f6</span>                                 <a href=\"file://C:\\Users\\John\\anaconda3\\lib\\site-packages\\soccerdata\\fbref.py\" target=\"_blank\"><span style=\"color: #7f7f7f; text-decoration-color: #7f7f7f\">fbref.py</span></a><span style=\"color: #7f7f7f; text-decoration-color: #7f7f7f\">:</span><a href=\"file://C:\\Users\\John\\anaconda3\\lib\\site-packages\\soccerdata\\fbref.py#679\" target=\"_blank\"><span style=\"color: #7f7f7f; text-decoration-color: #7f7f7f\">679</span></a>\n",
       "</pre>\n"
      ],
      "text/plain": [
       "\u001b[2;36m[01/22/23 01:10:58]\u001b[0m\u001b[2;36m \u001b[0m\u001b[34mINFO    \u001b[0m \u001b[1m[\u001b[0m\u001b[1;36m15\u001b[0m/\u001b[1;36m189\u001b[0m\u001b[1m]\u001b[0m Retrieving game with \u001b[33mid\u001b[0m=\u001b[35mc916a5f6\u001b[0m                                 \u001b]8;id=397881;file://C:\\Users\\John\\anaconda3\\lib\\site-packages\\soccerdata\\fbref.py\u001b\\\u001b[2mfbref.py\u001b[0m\u001b]8;;\u001b\\\u001b[2m:\u001b[0m\u001b]8;id=409936;file://C:\\Users\\John\\anaconda3\\lib\\site-packages\\soccerdata\\fbref.py#679\u001b\\\u001b[2m679\u001b[0m\u001b]8;;\u001b\\\n"
      ]
     },
     "metadata": {},
     "output_type": "display_data"
    },
    {
     "data": {
      "text/html": [
       "<pre style=\"white-space:pre;overflow-x:auto;line-height:normal;font-family:Menlo,'DejaVu Sans Mono',consolas,'Courier New',monospace\"><span style=\"color: #7fbfbf; text-decoration-color: #7fbfbf\">[01/22/23 01:11:02] </span><span style=\"color: #000080; text-decoration-color: #000080\">INFO    </span> <span style=\"font-weight: bold\">[</span><span style=\"color: #008080; text-decoration-color: #008080; font-weight: bold\">16</span>/<span style=\"color: #008080; text-decoration-color: #008080; font-weight: bold\">189</span><span style=\"font-weight: bold\">]</span> Retrieving game with <span style=\"color: #808000; text-decoration-color: #808000\">id</span>=<span style=\"color: #800080; text-decoration-color: #800080\">311d705c</span>                                 <a href=\"file://C:\\Users\\John\\anaconda3\\lib\\site-packages\\soccerdata\\fbref.py\" target=\"_blank\"><span style=\"color: #7f7f7f; text-decoration-color: #7f7f7f\">fbref.py</span></a><span style=\"color: #7f7f7f; text-decoration-color: #7f7f7f\">:</span><a href=\"file://C:\\Users\\John\\anaconda3\\lib\\site-packages\\soccerdata\\fbref.py#679\" target=\"_blank\"><span style=\"color: #7f7f7f; text-decoration-color: #7f7f7f\">679</span></a>\n",
       "</pre>\n"
      ],
      "text/plain": [
       "\u001b[2;36m[01/22/23 01:11:02]\u001b[0m\u001b[2;36m \u001b[0m\u001b[34mINFO    \u001b[0m \u001b[1m[\u001b[0m\u001b[1;36m16\u001b[0m/\u001b[1;36m189\u001b[0m\u001b[1m]\u001b[0m Retrieving game with \u001b[33mid\u001b[0m=\u001b[35m311d705c\u001b[0m                                 \u001b]8;id=781875;file://C:\\Users\\John\\anaconda3\\lib\\site-packages\\soccerdata\\fbref.py\u001b\\\u001b[2mfbref.py\u001b[0m\u001b]8;;\u001b\\\u001b[2m:\u001b[0m\u001b]8;id=311540;file://C:\\Users\\John\\anaconda3\\lib\\site-packages\\soccerdata\\fbref.py#679\u001b\\\u001b[2m679\u001b[0m\u001b]8;;\u001b\\\n"
      ]
     },
     "metadata": {},
     "output_type": "display_data"
    },
    {
     "data": {
      "text/html": [
       "<pre style=\"white-space:pre;overflow-x:auto;line-height:normal;font-family:Menlo,'DejaVu Sans Mono',consolas,'Courier New',monospace\"><span style=\"color: #7fbfbf; text-decoration-color: #7fbfbf\">[01/22/23 01:11:06] </span><span style=\"color: #000080; text-decoration-color: #000080\">INFO    </span> <span style=\"font-weight: bold\">[</span><span style=\"color: #008080; text-decoration-color: #008080; font-weight: bold\">17</span>/<span style=\"color: #008080; text-decoration-color: #008080; font-weight: bold\">189</span><span style=\"font-weight: bold\">]</span> Retrieving game with <span style=\"color: #808000; text-decoration-color: #808000\">id</span>=<span style=\"color: #800080; text-decoration-color: #800080\">54b33a13</span>                                 <a href=\"file://C:\\Users\\John\\anaconda3\\lib\\site-packages\\soccerdata\\fbref.py\" target=\"_blank\"><span style=\"color: #7f7f7f; text-decoration-color: #7f7f7f\">fbref.py</span></a><span style=\"color: #7f7f7f; text-decoration-color: #7f7f7f\">:</span><a href=\"file://C:\\Users\\John\\anaconda3\\lib\\site-packages\\soccerdata\\fbref.py#679\" target=\"_blank\"><span style=\"color: #7f7f7f; text-decoration-color: #7f7f7f\">679</span></a>\n",
       "</pre>\n"
      ],
      "text/plain": [
       "\u001b[2;36m[01/22/23 01:11:06]\u001b[0m\u001b[2;36m \u001b[0m\u001b[34mINFO    \u001b[0m \u001b[1m[\u001b[0m\u001b[1;36m17\u001b[0m/\u001b[1;36m189\u001b[0m\u001b[1m]\u001b[0m Retrieving game with \u001b[33mid\u001b[0m=\u001b[35m54b33a13\u001b[0m                                 \u001b]8;id=535245;file://C:\\Users\\John\\anaconda3\\lib\\site-packages\\soccerdata\\fbref.py\u001b\\\u001b[2mfbref.py\u001b[0m\u001b]8;;\u001b\\\u001b[2m:\u001b[0m\u001b]8;id=669518;file://C:\\Users\\John\\anaconda3\\lib\\site-packages\\soccerdata\\fbref.py#679\u001b\\\u001b[2m679\u001b[0m\u001b]8;;\u001b\\\n"
      ]
     },
     "metadata": {},
     "output_type": "display_data"
    },
    {
     "data": {
      "text/html": [
       "<pre style=\"white-space:pre;overflow-x:auto;line-height:normal;font-family:Menlo,'DejaVu Sans Mono',consolas,'Courier New',monospace\"><span style=\"color: #7fbfbf; text-decoration-color: #7fbfbf\">[01/22/23 01:11:12] </span><span style=\"color: #000080; text-decoration-color: #000080\">INFO    </span> <span style=\"font-weight: bold\">[</span><span style=\"color: #008080; text-decoration-color: #008080; font-weight: bold\">18</span>/<span style=\"color: #008080; text-decoration-color: #008080; font-weight: bold\">189</span><span style=\"font-weight: bold\">]</span> Retrieving game with <span style=\"color: #808000; text-decoration-color: #808000\">id</span>=<span style=\"color: #800080; text-decoration-color: #800080\">669b1665</span>                                 <a href=\"file://C:\\Users\\John\\anaconda3\\lib\\site-packages\\soccerdata\\fbref.py\" target=\"_blank\"><span style=\"color: #7f7f7f; text-decoration-color: #7f7f7f\">fbref.py</span></a><span style=\"color: #7f7f7f; text-decoration-color: #7f7f7f\">:</span><a href=\"file://C:\\Users\\John\\anaconda3\\lib\\site-packages\\soccerdata\\fbref.py#679\" target=\"_blank\"><span style=\"color: #7f7f7f; text-decoration-color: #7f7f7f\">679</span></a>\n",
       "</pre>\n"
      ],
      "text/plain": [
       "\u001b[2;36m[01/22/23 01:11:12]\u001b[0m\u001b[2;36m \u001b[0m\u001b[34mINFO    \u001b[0m \u001b[1m[\u001b[0m\u001b[1;36m18\u001b[0m/\u001b[1;36m189\u001b[0m\u001b[1m]\u001b[0m Retrieving game with \u001b[33mid\u001b[0m=\u001b[35m669b1665\u001b[0m                                 \u001b]8;id=383860;file://C:\\Users\\John\\anaconda3\\lib\\site-packages\\soccerdata\\fbref.py\u001b\\\u001b[2mfbref.py\u001b[0m\u001b]8;;\u001b\\\u001b[2m:\u001b[0m\u001b]8;id=259809;file://C:\\Users\\John\\anaconda3\\lib\\site-packages\\soccerdata\\fbref.py#679\u001b\\\u001b[2m679\u001b[0m\u001b]8;;\u001b\\\n"
      ]
     },
     "metadata": {},
     "output_type": "display_data"
    },
    {
     "data": {
      "text/html": [
       "<pre style=\"white-space:pre;overflow-x:auto;line-height:normal;font-family:Menlo,'DejaVu Sans Mono',consolas,'Courier New',monospace\"><span style=\"color: #7fbfbf; text-decoration-color: #7fbfbf\">[01/22/23 01:11:16] </span><span style=\"color: #000080; text-decoration-color: #000080\">INFO    </span> <span style=\"font-weight: bold\">[</span><span style=\"color: #008080; text-decoration-color: #008080; font-weight: bold\">19</span>/<span style=\"color: #008080; text-decoration-color: #008080; font-weight: bold\">189</span><span style=\"font-weight: bold\">]</span> Retrieving game with <span style=\"color: #808000; text-decoration-color: #808000\">id</span>=<span style=\"color: #800080; text-decoration-color: #800080\">01e57bf5</span>                                 <a href=\"file://C:\\Users\\John\\anaconda3\\lib\\site-packages\\soccerdata\\fbref.py\" target=\"_blank\"><span style=\"color: #7f7f7f; text-decoration-color: #7f7f7f\">fbref.py</span></a><span style=\"color: #7f7f7f; text-decoration-color: #7f7f7f\">:</span><a href=\"file://C:\\Users\\John\\anaconda3\\lib\\site-packages\\soccerdata\\fbref.py#679\" target=\"_blank\"><span style=\"color: #7f7f7f; text-decoration-color: #7f7f7f\">679</span></a>\n",
       "</pre>\n"
      ],
      "text/plain": [
       "\u001b[2;36m[01/22/23 01:11:16]\u001b[0m\u001b[2;36m \u001b[0m\u001b[34mINFO    \u001b[0m \u001b[1m[\u001b[0m\u001b[1;36m19\u001b[0m/\u001b[1;36m189\u001b[0m\u001b[1m]\u001b[0m Retrieving game with \u001b[33mid\u001b[0m=\u001b[35m01e57bf5\u001b[0m                                 \u001b]8;id=84627;file://C:\\Users\\John\\anaconda3\\lib\\site-packages\\soccerdata\\fbref.py\u001b\\\u001b[2mfbref.py\u001b[0m\u001b]8;;\u001b\\\u001b[2m:\u001b[0m\u001b]8;id=991536;file://C:\\Users\\John\\anaconda3\\lib\\site-packages\\soccerdata\\fbref.py#679\u001b\\\u001b[2m679\u001b[0m\u001b]8;;\u001b\\\n"
      ]
     },
     "metadata": {},
     "output_type": "display_data"
    },
    {
     "data": {
      "text/html": [
       "<pre style=\"white-space:pre;overflow-x:auto;line-height:normal;font-family:Menlo,'DejaVu Sans Mono',consolas,'Courier New',monospace\"><span style=\"color: #7fbfbf; text-decoration-color: #7fbfbf\">[01/22/23 01:11:20] </span><span style=\"color: #000080; text-decoration-color: #000080\">INFO    </span> <span style=\"font-weight: bold\">[</span><span style=\"color: #008080; text-decoration-color: #008080; font-weight: bold\">20</span>/<span style=\"color: #008080; text-decoration-color: #008080; font-weight: bold\">189</span><span style=\"font-weight: bold\">]</span> Retrieving game with <span style=\"color: #808000; text-decoration-color: #808000\">id</span>=<span style=\"color: #800080; text-decoration-color: #800080\">b1ebeda5</span>                                 <a href=\"file://C:\\Users\\John\\anaconda3\\lib\\site-packages\\soccerdata\\fbref.py\" target=\"_blank\"><span style=\"color: #7f7f7f; text-decoration-color: #7f7f7f\">fbref.py</span></a><span style=\"color: #7f7f7f; text-decoration-color: #7f7f7f\">:</span><a href=\"file://C:\\Users\\John\\anaconda3\\lib\\site-packages\\soccerdata\\fbref.py#679\" target=\"_blank\"><span style=\"color: #7f7f7f; text-decoration-color: #7f7f7f\">679</span></a>\n",
       "</pre>\n"
      ],
      "text/plain": [
       "\u001b[2;36m[01/22/23 01:11:20]\u001b[0m\u001b[2;36m \u001b[0m\u001b[34mINFO    \u001b[0m \u001b[1m[\u001b[0m\u001b[1;36m20\u001b[0m/\u001b[1;36m189\u001b[0m\u001b[1m]\u001b[0m Retrieving game with \u001b[33mid\u001b[0m=\u001b[35mb1ebeda5\u001b[0m                                 \u001b]8;id=382902;file://C:\\Users\\John\\anaconda3\\lib\\site-packages\\soccerdata\\fbref.py\u001b\\\u001b[2mfbref.py\u001b[0m\u001b]8;;\u001b\\\u001b[2m:\u001b[0m\u001b]8;id=615297;file://C:\\Users\\John\\anaconda3\\lib\\site-packages\\soccerdata\\fbref.py#679\u001b\\\u001b[2m679\u001b[0m\u001b]8;;\u001b\\\n"
      ]
     },
     "metadata": {},
     "output_type": "display_data"
    },
    {
     "data": {
      "text/html": [
       "<pre style=\"white-space:pre;overflow-x:auto;line-height:normal;font-family:Menlo,'DejaVu Sans Mono',consolas,'Courier New',monospace\"><span style=\"color: #7fbfbf; text-decoration-color: #7fbfbf\">[01/22/23 01:11:24] </span><span style=\"color: #000080; text-decoration-color: #000080\">INFO    </span> <span style=\"font-weight: bold\">[</span><span style=\"color: #008080; text-decoration-color: #008080; font-weight: bold\">21</span>/<span style=\"color: #008080; text-decoration-color: #008080; font-weight: bold\">189</span><span style=\"font-weight: bold\">]</span> Retrieving game with <span style=\"color: #808000; text-decoration-color: #808000\">id</span>=<span style=\"color: #800080; text-decoration-color: #800080\">b3c6f709</span>                                 <a href=\"file://C:\\Users\\John\\anaconda3\\lib\\site-packages\\soccerdata\\fbref.py\" target=\"_blank\"><span style=\"color: #7f7f7f; text-decoration-color: #7f7f7f\">fbref.py</span></a><span style=\"color: #7f7f7f; text-decoration-color: #7f7f7f\">:</span><a href=\"file://C:\\Users\\John\\anaconda3\\lib\\site-packages\\soccerdata\\fbref.py#679\" target=\"_blank\"><span style=\"color: #7f7f7f; text-decoration-color: #7f7f7f\">679</span></a>\n",
       "</pre>\n"
      ],
      "text/plain": [
       "\u001b[2;36m[01/22/23 01:11:24]\u001b[0m\u001b[2;36m \u001b[0m\u001b[34mINFO    \u001b[0m \u001b[1m[\u001b[0m\u001b[1;36m21\u001b[0m/\u001b[1;36m189\u001b[0m\u001b[1m]\u001b[0m Retrieving game with \u001b[33mid\u001b[0m=\u001b[35mb3c6f709\u001b[0m                                 \u001b]8;id=673805;file://C:\\Users\\John\\anaconda3\\lib\\site-packages\\soccerdata\\fbref.py\u001b\\\u001b[2mfbref.py\u001b[0m\u001b]8;;\u001b\\\u001b[2m:\u001b[0m\u001b]8;id=281405;file://C:\\Users\\John\\anaconda3\\lib\\site-packages\\soccerdata\\fbref.py#679\u001b\\\u001b[2m679\u001b[0m\u001b]8;;\u001b\\\n"
      ]
     },
     "metadata": {},
     "output_type": "display_data"
    },
    {
     "data": {
      "text/html": [
       "<pre style=\"white-space:pre;overflow-x:auto;line-height:normal;font-family:Menlo,'DejaVu Sans Mono',consolas,'Courier New',monospace\"><span style=\"color: #7fbfbf; text-decoration-color: #7fbfbf\">[01/22/23 01:11:29] </span><span style=\"color: #000080; text-decoration-color: #000080\">INFO    </span> <span style=\"font-weight: bold\">[</span><span style=\"color: #008080; text-decoration-color: #008080; font-weight: bold\">23</span>/<span style=\"color: #008080; text-decoration-color: #008080; font-weight: bold\">189</span><span style=\"font-weight: bold\">]</span> Retrieving game with <span style=\"color: #808000; text-decoration-color: #808000\">id</span>=<span style=\"color: #800080; text-decoration-color: #800080\">7f11dd9e</span>                                 <a href=\"file://C:\\Users\\John\\anaconda3\\lib\\site-packages\\soccerdata\\fbref.py\" target=\"_blank\"><span style=\"color: #7f7f7f; text-decoration-color: #7f7f7f\">fbref.py</span></a><span style=\"color: #7f7f7f; text-decoration-color: #7f7f7f\">:</span><a href=\"file://C:\\Users\\John\\anaconda3\\lib\\site-packages\\soccerdata\\fbref.py#679\" target=\"_blank\"><span style=\"color: #7f7f7f; text-decoration-color: #7f7f7f\">679</span></a>\n",
       "</pre>\n"
      ],
      "text/plain": [
       "\u001b[2;36m[01/22/23 01:11:29]\u001b[0m\u001b[2;36m \u001b[0m\u001b[34mINFO    \u001b[0m \u001b[1m[\u001b[0m\u001b[1;36m23\u001b[0m/\u001b[1;36m189\u001b[0m\u001b[1m]\u001b[0m Retrieving game with \u001b[33mid\u001b[0m=\u001b[35m7f11dd9e\u001b[0m                                 \u001b]8;id=209289;file://C:\\Users\\John\\anaconda3\\lib\\site-packages\\soccerdata\\fbref.py\u001b\\\u001b[2mfbref.py\u001b[0m\u001b]8;;\u001b\\\u001b[2m:\u001b[0m\u001b]8;id=922238;file://C:\\Users\\John\\anaconda3\\lib\\site-packages\\soccerdata\\fbref.py#679\u001b\\\u001b[2m679\u001b[0m\u001b]8;;\u001b\\\n"
      ]
     },
     "metadata": {},
     "output_type": "display_data"
    },
    {
     "data": {
      "text/html": [
       "<pre style=\"white-space:pre;overflow-x:auto;line-height:normal;font-family:Menlo,'DejaVu Sans Mono',consolas,'Courier New',monospace\"><span style=\"color: #7fbfbf; text-decoration-color: #7fbfbf\">[01/22/23 01:11:33] </span><span style=\"color: #000080; text-decoration-color: #000080\">INFO    </span> <span style=\"font-weight: bold\">[</span><span style=\"color: #008080; text-decoration-color: #008080; font-weight: bold\">24</span>/<span style=\"color: #008080; text-decoration-color: #008080; font-weight: bold\">189</span><span style=\"font-weight: bold\">]</span> Retrieving game with <span style=\"color: #808000; text-decoration-color: #808000\">id</span>=<span style=\"color: #800080; text-decoration-color: #800080\">3f89bccf</span>                                 <a href=\"file://C:\\Users\\John\\anaconda3\\lib\\site-packages\\soccerdata\\fbref.py\" target=\"_blank\"><span style=\"color: #7f7f7f; text-decoration-color: #7f7f7f\">fbref.py</span></a><span style=\"color: #7f7f7f; text-decoration-color: #7f7f7f\">:</span><a href=\"file://C:\\Users\\John\\anaconda3\\lib\\site-packages\\soccerdata\\fbref.py#679\" target=\"_blank\"><span style=\"color: #7f7f7f; text-decoration-color: #7f7f7f\">679</span></a>\n",
       "</pre>\n"
      ],
      "text/plain": [
       "\u001b[2;36m[01/22/23 01:11:33]\u001b[0m\u001b[2;36m \u001b[0m\u001b[34mINFO    \u001b[0m \u001b[1m[\u001b[0m\u001b[1;36m24\u001b[0m/\u001b[1;36m189\u001b[0m\u001b[1m]\u001b[0m Retrieving game with \u001b[33mid\u001b[0m=\u001b[35m3f89bccf\u001b[0m                                 \u001b]8;id=612504;file://C:\\Users\\John\\anaconda3\\lib\\site-packages\\soccerdata\\fbref.py\u001b\\\u001b[2mfbref.py\u001b[0m\u001b]8;;\u001b\\\u001b[2m:\u001b[0m\u001b]8;id=282272;file://C:\\Users\\John\\anaconda3\\lib\\site-packages\\soccerdata\\fbref.py#679\u001b\\\u001b[2m679\u001b[0m\u001b]8;;\u001b\\\n"
      ]
     },
     "metadata": {},
     "output_type": "display_data"
    },
    {
     "data": {
      "text/html": [
       "<pre style=\"white-space:pre;overflow-x:auto;line-height:normal;font-family:Menlo,'DejaVu Sans Mono',consolas,'Courier New',monospace\"><span style=\"color: #7fbfbf; text-decoration-color: #7fbfbf\">[01/22/23 01:11:38] </span><span style=\"color: #000080; text-decoration-color: #000080\">INFO    </span> <span style=\"font-weight: bold\">[</span><span style=\"color: #008080; text-decoration-color: #008080; font-weight: bold\">25</span>/<span style=\"color: #008080; text-decoration-color: #008080; font-weight: bold\">189</span><span style=\"font-weight: bold\">]</span> Retrieving game with <span style=\"color: #808000; text-decoration-color: #808000\">id</span>=<span style=\"color: #800080; text-decoration-color: #800080\">3c3cc86f</span>                                 <a href=\"file://C:\\Users\\John\\anaconda3\\lib\\site-packages\\soccerdata\\fbref.py\" target=\"_blank\"><span style=\"color: #7f7f7f; text-decoration-color: #7f7f7f\">fbref.py</span></a><span style=\"color: #7f7f7f; text-decoration-color: #7f7f7f\">:</span><a href=\"file://C:\\Users\\John\\anaconda3\\lib\\site-packages\\soccerdata\\fbref.py#679\" target=\"_blank\"><span style=\"color: #7f7f7f; text-decoration-color: #7f7f7f\">679</span></a>\n",
       "</pre>\n"
      ],
      "text/plain": [
       "\u001b[2;36m[01/22/23 01:11:38]\u001b[0m\u001b[2;36m \u001b[0m\u001b[34mINFO    \u001b[0m \u001b[1m[\u001b[0m\u001b[1;36m25\u001b[0m/\u001b[1;36m189\u001b[0m\u001b[1m]\u001b[0m Retrieving game with \u001b[33mid\u001b[0m=\u001b[35m3c3cc86f\u001b[0m                                 \u001b]8;id=281445;file://C:\\Users\\John\\anaconda3\\lib\\site-packages\\soccerdata\\fbref.py\u001b\\\u001b[2mfbref.py\u001b[0m\u001b]8;;\u001b\\\u001b[2m:\u001b[0m\u001b]8;id=778416;file://C:\\Users\\John\\anaconda3\\lib\\site-packages\\soccerdata\\fbref.py#679\u001b\\\u001b[2m679\u001b[0m\u001b]8;;\u001b\\\n"
      ]
     },
     "metadata": {},
     "output_type": "display_data"
    },
    {
     "data": {
      "text/html": [
       "<pre style=\"white-space:pre;overflow-x:auto;line-height:normal;font-family:Menlo,'DejaVu Sans Mono',consolas,'Courier New',monospace\"><span style=\"color: #7fbfbf; text-decoration-color: #7fbfbf\">[01/22/23 01:11:42] </span><span style=\"color: #000080; text-decoration-color: #000080\">INFO    </span> <span style=\"font-weight: bold\">[</span><span style=\"color: #008080; text-decoration-color: #008080; font-weight: bold\">26</span>/<span style=\"color: #008080; text-decoration-color: #008080; font-weight: bold\">189</span><span style=\"font-weight: bold\">]</span> Retrieving game with <span style=\"color: #808000; text-decoration-color: #808000\">id</span>=<span style=\"color: #800080; text-decoration-color: #800080\">a107c037</span>                                 <a href=\"file://C:\\Users\\John\\anaconda3\\lib\\site-packages\\soccerdata\\fbref.py\" target=\"_blank\"><span style=\"color: #7f7f7f; text-decoration-color: #7f7f7f\">fbref.py</span></a><span style=\"color: #7f7f7f; text-decoration-color: #7f7f7f\">:</span><a href=\"file://C:\\Users\\John\\anaconda3\\lib\\site-packages\\soccerdata\\fbref.py#679\" target=\"_blank\"><span style=\"color: #7f7f7f; text-decoration-color: #7f7f7f\">679</span></a>\n",
       "</pre>\n"
      ],
      "text/plain": [
       "\u001b[2;36m[01/22/23 01:11:42]\u001b[0m\u001b[2;36m \u001b[0m\u001b[34mINFO    \u001b[0m \u001b[1m[\u001b[0m\u001b[1;36m26\u001b[0m/\u001b[1;36m189\u001b[0m\u001b[1m]\u001b[0m Retrieving game with \u001b[33mid\u001b[0m=\u001b[35ma107c037\u001b[0m                                 \u001b]8;id=434385;file://C:\\Users\\John\\anaconda3\\lib\\site-packages\\soccerdata\\fbref.py\u001b\\\u001b[2mfbref.py\u001b[0m\u001b]8;;\u001b\\\u001b[2m:\u001b[0m\u001b]8;id=401698;file://C:\\Users\\John\\anaconda3\\lib\\site-packages\\soccerdata\\fbref.py#679\u001b\\\u001b[2m679\u001b[0m\u001b]8;;\u001b\\\n"
      ]
     },
     "metadata": {},
     "output_type": "display_data"
    },
    {
     "data": {
      "text/html": [
       "<pre style=\"white-space:pre;overflow-x:auto;line-height:normal;font-family:Menlo,'DejaVu Sans Mono',consolas,'Courier New',monospace\"><span style=\"color: #7fbfbf; text-decoration-color: #7fbfbf\">[01/22/23 01:11:47] </span><span style=\"color: #000080; text-decoration-color: #000080\">INFO    </span> <span style=\"font-weight: bold\">[</span><span style=\"color: #008080; text-decoration-color: #008080; font-weight: bold\">27</span>/<span style=\"color: #008080; text-decoration-color: #008080; font-weight: bold\">189</span><span style=\"font-weight: bold\">]</span> Retrieving game with <span style=\"color: #808000; text-decoration-color: #808000\">id</span>=<span style=\"color: #800080; text-decoration-color: #800080\">02efd4d1</span>                                 <a href=\"file://C:\\Users\\John\\anaconda3\\lib\\site-packages\\soccerdata\\fbref.py\" target=\"_blank\"><span style=\"color: #7f7f7f; text-decoration-color: #7f7f7f\">fbref.py</span></a><span style=\"color: #7f7f7f; text-decoration-color: #7f7f7f\">:</span><a href=\"file://C:\\Users\\John\\anaconda3\\lib\\site-packages\\soccerdata\\fbref.py#679\" target=\"_blank\"><span style=\"color: #7f7f7f; text-decoration-color: #7f7f7f\">679</span></a>\n",
       "</pre>\n"
      ],
      "text/plain": [
       "\u001b[2;36m[01/22/23 01:11:47]\u001b[0m\u001b[2;36m \u001b[0m\u001b[34mINFO    \u001b[0m \u001b[1m[\u001b[0m\u001b[1;36m27\u001b[0m/\u001b[1;36m189\u001b[0m\u001b[1m]\u001b[0m Retrieving game with \u001b[33mid\u001b[0m=\u001b[35m02efd4d1\u001b[0m                                 \u001b]8;id=996205;file://C:\\Users\\John\\anaconda3\\lib\\site-packages\\soccerdata\\fbref.py\u001b\\\u001b[2mfbref.py\u001b[0m\u001b]8;;\u001b\\\u001b[2m:\u001b[0m\u001b]8;id=863771;file://C:\\Users\\John\\anaconda3\\lib\\site-packages\\soccerdata\\fbref.py#679\u001b\\\u001b[2m679\u001b[0m\u001b]8;;\u001b\\\n"
      ]
     },
     "metadata": {},
     "output_type": "display_data"
    },
    {
     "data": {
      "text/html": [
       "<pre style=\"white-space:pre;overflow-x:auto;line-height:normal;font-family:Menlo,'DejaVu Sans Mono',consolas,'Courier New',monospace\"><span style=\"color: #7fbfbf; text-decoration-color: #7fbfbf\">[01/22/23 01:11:51] </span><span style=\"color: #000080; text-decoration-color: #000080\">INFO    </span> <span style=\"font-weight: bold\">[</span><span style=\"color: #008080; text-decoration-color: #008080; font-weight: bold\">28</span>/<span style=\"color: #008080; text-decoration-color: #008080; font-weight: bold\">189</span><span style=\"font-weight: bold\">]</span> Retrieving game with <span style=\"color: #808000; text-decoration-color: #808000\">id</span>=<span style=\"color: #800080; text-decoration-color: #800080\">5cc3bd0e</span>                                 <a href=\"file://C:\\Users\\John\\anaconda3\\lib\\site-packages\\soccerdata\\fbref.py\" target=\"_blank\"><span style=\"color: #7f7f7f; text-decoration-color: #7f7f7f\">fbref.py</span></a><span style=\"color: #7f7f7f; text-decoration-color: #7f7f7f\">:</span><a href=\"file://C:\\Users\\John\\anaconda3\\lib\\site-packages\\soccerdata\\fbref.py#679\" target=\"_blank\"><span style=\"color: #7f7f7f; text-decoration-color: #7f7f7f\">679</span></a>\n",
       "</pre>\n"
      ],
      "text/plain": [
       "\u001b[2;36m[01/22/23 01:11:51]\u001b[0m\u001b[2;36m \u001b[0m\u001b[34mINFO    \u001b[0m \u001b[1m[\u001b[0m\u001b[1;36m28\u001b[0m/\u001b[1;36m189\u001b[0m\u001b[1m]\u001b[0m Retrieving game with \u001b[33mid\u001b[0m=\u001b[35m5cc3bd0e\u001b[0m                                 \u001b]8;id=920162;file://C:\\Users\\John\\anaconda3\\lib\\site-packages\\soccerdata\\fbref.py\u001b\\\u001b[2mfbref.py\u001b[0m\u001b]8;;\u001b\\\u001b[2m:\u001b[0m\u001b]8;id=86259;file://C:\\Users\\John\\anaconda3\\lib\\site-packages\\soccerdata\\fbref.py#679\u001b\\\u001b[2m679\u001b[0m\u001b]8;;\u001b\\\n"
      ]
     },
     "metadata": {},
     "output_type": "display_data"
    },
    {
     "data": {
      "text/html": [
       "<pre style=\"white-space:pre;overflow-x:auto;line-height:normal;font-family:Menlo,'DejaVu Sans Mono',consolas,'Courier New',monospace\"><span style=\"color: #7fbfbf; text-decoration-color: #7fbfbf\">[01/22/23 01:11:56] </span><span style=\"color: #000080; text-decoration-color: #000080\">INFO    </span> <span style=\"font-weight: bold\">[</span><span style=\"color: #008080; text-decoration-color: #008080; font-weight: bold\">29</span>/<span style=\"color: #008080; text-decoration-color: #008080; font-weight: bold\">189</span><span style=\"font-weight: bold\">]</span> Retrieving game with <span style=\"color: #808000; text-decoration-color: #808000\">id</span>=<span style=\"color: #800080; text-decoration-color: #800080\">a5632124</span>                                 <a href=\"file://C:\\Users\\John\\anaconda3\\lib\\site-packages\\soccerdata\\fbref.py\" target=\"_blank\"><span style=\"color: #7f7f7f; text-decoration-color: #7f7f7f\">fbref.py</span></a><span style=\"color: #7f7f7f; text-decoration-color: #7f7f7f\">:</span><a href=\"file://C:\\Users\\John\\anaconda3\\lib\\site-packages\\soccerdata\\fbref.py#679\" target=\"_blank\"><span style=\"color: #7f7f7f; text-decoration-color: #7f7f7f\">679</span></a>\n",
       "</pre>\n"
      ],
      "text/plain": [
       "\u001b[2;36m[01/22/23 01:11:56]\u001b[0m\u001b[2;36m \u001b[0m\u001b[34mINFO    \u001b[0m \u001b[1m[\u001b[0m\u001b[1;36m29\u001b[0m/\u001b[1;36m189\u001b[0m\u001b[1m]\u001b[0m Retrieving game with \u001b[33mid\u001b[0m=\u001b[35ma5632124\u001b[0m                                 \u001b]8;id=318877;file://C:\\Users\\John\\anaconda3\\lib\\site-packages\\soccerdata\\fbref.py\u001b\\\u001b[2mfbref.py\u001b[0m\u001b]8;;\u001b\\\u001b[2m:\u001b[0m\u001b]8;id=607077;file://C:\\Users\\John\\anaconda3\\lib\\site-packages\\soccerdata\\fbref.py#679\u001b\\\u001b[2m679\u001b[0m\u001b]8;;\u001b\\\n"
      ]
     },
     "metadata": {},
     "output_type": "display_data"
    },
    {
     "data": {
      "text/html": [
       "<pre style=\"white-space:pre;overflow-x:auto;line-height:normal;font-family:Menlo,'DejaVu Sans Mono',consolas,'Courier New',monospace\"><span style=\"color: #7fbfbf; text-decoration-color: #7fbfbf\">[01/22/23 01:12:00] </span><span style=\"color: #000080; text-decoration-color: #000080\">INFO    </span> <span style=\"font-weight: bold\">[</span><span style=\"color: #008080; text-decoration-color: #008080; font-weight: bold\">30</span>/<span style=\"color: #008080; text-decoration-color: #008080; font-weight: bold\">189</span><span style=\"font-weight: bold\">]</span> Retrieving game with <span style=\"color: #808000; text-decoration-color: #808000\">id</span>=<span style=\"color: #800080; text-decoration-color: #800080\">b513d9fe</span>                                 <a href=\"file://C:\\Users\\John\\anaconda3\\lib\\site-packages\\soccerdata\\fbref.py\" target=\"_blank\"><span style=\"color: #7f7f7f; text-decoration-color: #7f7f7f\">fbref.py</span></a><span style=\"color: #7f7f7f; text-decoration-color: #7f7f7f\">:</span><a href=\"file://C:\\Users\\John\\anaconda3\\lib\\site-packages\\soccerdata\\fbref.py#679\" target=\"_blank\"><span style=\"color: #7f7f7f; text-decoration-color: #7f7f7f\">679</span></a>\n",
       "</pre>\n"
      ],
      "text/plain": [
       "\u001b[2;36m[01/22/23 01:12:00]\u001b[0m\u001b[2;36m \u001b[0m\u001b[34mINFO    \u001b[0m \u001b[1m[\u001b[0m\u001b[1;36m30\u001b[0m/\u001b[1;36m189\u001b[0m\u001b[1m]\u001b[0m Retrieving game with \u001b[33mid\u001b[0m=\u001b[35mb513d9fe\u001b[0m                                 \u001b]8;id=126231;file://C:\\Users\\John\\anaconda3\\lib\\site-packages\\soccerdata\\fbref.py\u001b\\\u001b[2mfbref.py\u001b[0m\u001b]8;;\u001b\\\u001b[2m:\u001b[0m\u001b]8;id=401378;file://C:\\Users\\John\\anaconda3\\lib\\site-packages\\soccerdata\\fbref.py#679\u001b\\\u001b[2m679\u001b[0m\u001b]8;;\u001b\\\n"
      ]
     },
     "metadata": {},
     "output_type": "display_data"
    },
    {
     "data": {
      "text/html": [
       "<pre style=\"white-space:pre;overflow-x:auto;line-height:normal;font-family:Menlo,'DejaVu Sans Mono',consolas,'Courier New',monospace\"><span style=\"color: #7fbfbf; text-decoration-color: #7fbfbf\">[01/22/23 01:12:04] </span><span style=\"color: #000080; text-decoration-color: #000080\">INFO    </span> <span style=\"font-weight: bold\">[</span><span style=\"color: #008080; text-decoration-color: #008080; font-weight: bold\">31</span>/<span style=\"color: #008080; text-decoration-color: #008080; font-weight: bold\">189</span><span style=\"font-weight: bold\">]</span> Retrieving game with <span style=\"color: #808000; text-decoration-color: #808000\">id</span>=<span style=\"color: #800080; text-decoration-color: #800080\">aa2a3517</span>                                 <a href=\"file://C:\\Users\\John\\anaconda3\\lib\\site-packages\\soccerdata\\fbref.py\" target=\"_blank\"><span style=\"color: #7f7f7f; text-decoration-color: #7f7f7f\">fbref.py</span></a><span style=\"color: #7f7f7f; text-decoration-color: #7f7f7f\">:</span><a href=\"file://C:\\Users\\John\\anaconda3\\lib\\site-packages\\soccerdata\\fbref.py#679\" target=\"_blank\"><span style=\"color: #7f7f7f; text-decoration-color: #7f7f7f\">679</span></a>\n",
       "</pre>\n"
      ],
      "text/plain": [
       "\u001b[2;36m[01/22/23 01:12:04]\u001b[0m\u001b[2;36m \u001b[0m\u001b[34mINFO    \u001b[0m \u001b[1m[\u001b[0m\u001b[1;36m31\u001b[0m/\u001b[1;36m189\u001b[0m\u001b[1m]\u001b[0m Retrieving game with \u001b[33mid\u001b[0m=\u001b[35maa2a3517\u001b[0m                                 \u001b]8;id=960162;file://C:\\Users\\John\\anaconda3\\lib\\site-packages\\soccerdata\\fbref.py\u001b\\\u001b[2mfbref.py\u001b[0m\u001b]8;;\u001b\\\u001b[2m:\u001b[0m\u001b]8;id=485094;file://C:\\Users\\John\\anaconda3\\lib\\site-packages\\soccerdata\\fbref.py#679\u001b\\\u001b[2m679\u001b[0m\u001b]8;;\u001b\\\n"
      ]
     },
     "metadata": {},
     "output_type": "display_data"
    },
    {
     "data": {
      "text/html": [
       "<pre style=\"white-space:pre;overflow-x:auto;line-height:normal;font-family:Menlo,'DejaVu Sans Mono',consolas,'Courier New',monospace\"><span style=\"color: #7fbfbf; text-decoration-color: #7fbfbf\">[01/22/23 01:12:09] </span><span style=\"color: #000080; text-decoration-color: #000080\">INFO    </span> <span style=\"font-weight: bold\">[</span><span style=\"color: #008080; text-decoration-color: #008080; font-weight: bold\">32</span>/<span style=\"color: #008080; text-decoration-color: #008080; font-weight: bold\">189</span><span style=\"font-weight: bold\">]</span> Retrieving game with <span style=\"color: #808000; text-decoration-color: #808000\">id</span>=<span style=\"color: #800080; text-decoration-color: #800080\">3c9a8f71</span>                                 <a href=\"file://C:\\Users\\John\\anaconda3\\lib\\site-packages\\soccerdata\\fbref.py\" target=\"_blank\"><span style=\"color: #7f7f7f; text-decoration-color: #7f7f7f\">fbref.py</span></a><span style=\"color: #7f7f7f; text-decoration-color: #7f7f7f\">:</span><a href=\"file://C:\\Users\\John\\anaconda3\\lib\\site-packages\\soccerdata\\fbref.py#679\" target=\"_blank\"><span style=\"color: #7f7f7f; text-decoration-color: #7f7f7f\">679</span></a>\n",
       "</pre>\n"
      ],
      "text/plain": [
       "\u001b[2;36m[01/22/23 01:12:09]\u001b[0m\u001b[2;36m \u001b[0m\u001b[34mINFO    \u001b[0m \u001b[1m[\u001b[0m\u001b[1;36m32\u001b[0m/\u001b[1;36m189\u001b[0m\u001b[1m]\u001b[0m Retrieving game with \u001b[33mid\u001b[0m=\u001b[35m3c9a8f71\u001b[0m                                 \u001b]8;id=251739;file://C:\\Users\\John\\anaconda3\\lib\\site-packages\\soccerdata\\fbref.py\u001b\\\u001b[2mfbref.py\u001b[0m\u001b]8;;\u001b\\\u001b[2m:\u001b[0m\u001b]8;id=510256;file://C:\\Users\\John\\anaconda3\\lib\\site-packages\\soccerdata\\fbref.py#679\u001b\\\u001b[2m679\u001b[0m\u001b]8;;\u001b\\\n"
      ]
     },
     "metadata": {},
     "output_type": "display_data"
    },
    {
     "data": {
      "text/html": [
       "<pre style=\"white-space:pre;overflow-x:auto;line-height:normal;font-family:Menlo,'DejaVu Sans Mono',consolas,'Courier New',monospace\"><span style=\"color: #7fbfbf; text-decoration-color: #7fbfbf\">[01/22/23 01:12:13] </span><span style=\"color: #000080; text-decoration-color: #000080\">INFO    </span> <span style=\"font-weight: bold\">[</span><span style=\"color: #008080; text-decoration-color: #008080; font-weight: bold\">34</span>/<span style=\"color: #008080; text-decoration-color: #008080; font-weight: bold\">189</span><span style=\"font-weight: bold\">]</span> Retrieving game with <span style=\"color: #808000; text-decoration-color: #808000\">id</span>=<span style=\"color: #800080; text-decoration-color: #800080\">8b69fd2d</span>                                 <a href=\"file://C:\\Users\\John\\anaconda3\\lib\\site-packages\\soccerdata\\fbref.py\" target=\"_blank\"><span style=\"color: #7f7f7f; text-decoration-color: #7f7f7f\">fbref.py</span></a><span style=\"color: #7f7f7f; text-decoration-color: #7f7f7f\">:</span><a href=\"file://C:\\Users\\John\\anaconda3\\lib\\site-packages\\soccerdata\\fbref.py#679\" target=\"_blank\"><span style=\"color: #7f7f7f; text-decoration-color: #7f7f7f\">679</span></a>\n",
       "</pre>\n"
      ],
      "text/plain": [
       "\u001b[2;36m[01/22/23 01:12:13]\u001b[0m\u001b[2;36m \u001b[0m\u001b[34mINFO    \u001b[0m \u001b[1m[\u001b[0m\u001b[1;36m34\u001b[0m/\u001b[1;36m189\u001b[0m\u001b[1m]\u001b[0m Retrieving game with \u001b[33mid\u001b[0m=\u001b[35m8b69fd2d\u001b[0m                                 \u001b]8;id=66527;file://C:\\Users\\John\\anaconda3\\lib\\site-packages\\soccerdata\\fbref.py\u001b\\\u001b[2mfbref.py\u001b[0m\u001b]8;;\u001b\\\u001b[2m:\u001b[0m\u001b]8;id=922815;file://C:\\Users\\John\\anaconda3\\lib\\site-packages\\soccerdata\\fbref.py#679\u001b\\\u001b[2m679\u001b[0m\u001b]8;;\u001b\\\n"
      ]
     },
     "metadata": {},
     "output_type": "display_data"
    },
    {
     "data": {
      "text/html": [
       "<pre style=\"white-space:pre;overflow-x:auto;line-height:normal;font-family:Menlo,'DejaVu Sans Mono',consolas,'Courier New',monospace\"><span style=\"color: #7fbfbf; text-decoration-color: #7fbfbf\">[01/22/23 01:12:17] </span><span style=\"color: #000080; text-decoration-color: #000080\">INFO    </span> <span style=\"font-weight: bold\">[</span><span style=\"color: #008080; text-decoration-color: #008080; font-weight: bold\">35</span>/<span style=\"color: #008080; text-decoration-color: #008080; font-weight: bold\">189</span><span style=\"font-weight: bold\">]</span> Retrieving game with <span style=\"color: #808000; text-decoration-color: #808000\">id</span>=<span style=\"color: #800080; text-decoration-color: #800080\">db59fc65</span>                                 <a href=\"file://C:\\Users\\John\\anaconda3\\lib\\site-packages\\soccerdata\\fbref.py\" target=\"_blank\"><span style=\"color: #7f7f7f; text-decoration-color: #7f7f7f\">fbref.py</span></a><span style=\"color: #7f7f7f; text-decoration-color: #7f7f7f\">:</span><a href=\"file://C:\\Users\\John\\anaconda3\\lib\\site-packages\\soccerdata\\fbref.py#679\" target=\"_blank\"><span style=\"color: #7f7f7f; text-decoration-color: #7f7f7f\">679</span></a>\n",
       "</pre>\n"
      ],
      "text/plain": [
       "\u001b[2;36m[01/22/23 01:12:17]\u001b[0m\u001b[2;36m \u001b[0m\u001b[34mINFO    \u001b[0m \u001b[1m[\u001b[0m\u001b[1;36m35\u001b[0m/\u001b[1;36m189\u001b[0m\u001b[1m]\u001b[0m Retrieving game with \u001b[33mid\u001b[0m=\u001b[35mdb59fc65\u001b[0m                                 \u001b]8;id=118426;file://C:\\Users\\John\\anaconda3\\lib\\site-packages\\soccerdata\\fbref.py\u001b\\\u001b[2mfbref.py\u001b[0m\u001b]8;;\u001b\\\u001b[2m:\u001b[0m\u001b]8;id=498476;file://C:\\Users\\John\\anaconda3\\lib\\site-packages\\soccerdata\\fbref.py#679\u001b\\\u001b[2m679\u001b[0m\u001b]8;;\u001b\\\n"
      ]
     },
     "metadata": {},
     "output_type": "display_data"
    },
    {
     "data": {
      "text/html": [
       "<pre style=\"white-space:pre;overflow-x:auto;line-height:normal;font-family:Menlo,'DejaVu Sans Mono',consolas,'Courier New',monospace\"><span style=\"color: #7fbfbf; text-decoration-color: #7fbfbf\">[01/22/23 01:12:22] </span><span style=\"color: #000080; text-decoration-color: #000080\">INFO    </span> <span style=\"font-weight: bold\">[</span><span style=\"color: #008080; text-decoration-color: #008080; font-weight: bold\">36</span>/<span style=\"color: #008080; text-decoration-color: #008080; font-weight: bold\">189</span><span style=\"font-weight: bold\">]</span> Retrieving game with <span style=\"color: #808000; text-decoration-color: #808000\">id</span>=<span style=\"color: #800080; text-decoration-color: #800080\">77c70160</span>                                 <a href=\"file://C:\\Users\\John\\anaconda3\\lib\\site-packages\\soccerdata\\fbref.py\" target=\"_blank\"><span style=\"color: #7f7f7f; text-decoration-color: #7f7f7f\">fbref.py</span></a><span style=\"color: #7f7f7f; text-decoration-color: #7f7f7f\">:</span><a href=\"file://C:\\Users\\John\\anaconda3\\lib\\site-packages\\soccerdata\\fbref.py#679\" target=\"_blank\"><span style=\"color: #7f7f7f; text-decoration-color: #7f7f7f\">679</span></a>\n",
       "</pre>\n"
      ],
      "text/plain": [
       "\u001b[2;36m[01/22/23 01:12:22]\u001b[0m\u001b[2;36m \u001b[0m\u001b[34mINFO    \u001b[0m \u001b[1m[\u001b[0m\u001b[1;36m36\u001b[0m/\u001b[1;36m189\u001b[0m\u001b[1m]\u001b[0m Retrieving game with \u001b[33mid\u001b[0m=\u001b[35m77c70160\u001b[0m                                 \u001b]8;id=581569;file://C:\\Users\\John\\anaconda3\\lib\\site-packages\\soccerdata\\fbref.py\u001b\\\u001b[2mfbref.py\u001b[0m\u001b]8;;\u001b\\\u001b[2m:\u001b[0m\u001b]8;id=31958;file://C:\\Users\\John\\anaconda3\\lib\\site-packages\\soccerdata\\fbref.py#679\u001b\\\u001b[2m679\u001b[0m\u001b]8;;\u001b\\\n"
      ]
     },
     "metadata": {},
     "output_type": "display_data"
    },
    {
     "data": {
      "text/html": [
       "<pre style=\"white-space:pre;overflow-x:auto;line-height:normal;font-family:Menlo,'DejaVu Sans Mono',consolas,'Courier New',monospace\"><span style=\"color: #7fbfbf; text-decoration-color: #7fbfbf\">[01/22/23 01:12:26] </span><span style=\"color: #000080; text-decoration-color: #000080\">INFO    </span> <span style=\"font-weight: bold\">[</span><span style=\"color: #008080; text-decoration-color: #008080; font-weight: bold\">37</span>/<span style=\"color: #008080; text-decoration-color: #008080; font-weight: bold\">189</span><span style=\"font-weight: bold\">]</span> Retrieving game with <span style=\"color: #808000; text-decoration-color: #808000\">id</span>=<span style=\"color: #800080; text-decoration-color: #800080\">b737a3a7</span>                                 <a href=\"file://C:\\Users\\John\\anaconda3\\lib\\site-packages\\soccerdata\\fbref.py\" target=\"_blank\"><span style=\"color: #7f7f7f; text-decoration-color: #7f7f7f\">fbref.py</span></a><span style=\"color: #7f7f7f; text-decoration-color: #7f7f7f\">:</span><a href=\"file://C:\\Users\\John\\anaconda3\\lib\\site-packages\\soccerdata\\fbref.py#679\" target=\"_blank\"><span style=\"color: #7f7f7f; text-decoration-color: #7f7f7f\">679</span></a>\n",
       "</pre>\n"
      ],
      "text/plain": [
       "\u001b[2;36m[01/22/23 01:12:26]\u001b[0m\u001b[2;36m \u001b[0m\u001b[34mINFO    \u001b[0m \u001b[1m[\u001b[0m\u001b[1;36m37\u001b[0m/\u001b[1;36m189\u001b[0m\u001b[1m]\u001b[0m Retrieving game with \u001b[33mid\u001b[0m=\u001b[35mb737a3a7\u001b[0m                                 \u001b]8;id=520859;file://C:\\Users\\John\\anaconda3\\lib\\site-packages\\soccerdata\\fbref.py\u001b\\\u001b[2mfbref.py\u001b[0m\u001b]8;;\u001b\\\u001b[2m:\u001b[0m\u001b]8;id=790526;file://C:\\Users\\John\\anaconda3\\lib\\site-packages\\soccerdata\\fbref.py#679\u001b\\\u001b[2m679\u001b[0m\u001b]8;;\u001b\\\n"
      ]
     },
     "metadata": {},
     "output_type": "display_data"
    },
    {
     "data": {
      "text/html": [
       "<pre style=\"white-space:pre;overflow-x:auto;line-height:normal;font-family:Menlo,'DejaVu Sans Mono',consolas,'Courier New',monospace\"><span style=\"color: #7fbfbf; text-decoration-color: #7fbfbf\">[01/22/23 01:12:31] </span><span style=\"color: #000080; text-decoration-color: #000080\">INFO    </span> <span style=\"font-weight: bold\">[</span><span style=\"color: #008080; text-decoration-color: #008080; font-weight: bold\">38</span>/<span style=\"color: #008080; text-decoration-color: #008080; font-weight: bold\">189</span><span style=\"font-weight: bold\">]</span> Retrieving game with <span style=\"color: #808000; text-decoration-color: #808000\">id</span>=<span style=\"color: #800080; text-decoration-color: #800080\">de515487</span>                                 <a href=\"file://C:\\Users\\John\\anaconda3\\lib\\site-packages\\soccerdata\\fbref.py\" target=\"_blank\"><span style=\"color: #7f7f7f; text-decoration-color: #7f7f7f\">fbref.py</span></a><span style=\"color: #7f7f7f; text-decoration-color: #7f7f7f\">:</span><a href=\"file://C:\\Users\\John\\anaconda3\\lib\\site-packages\\soccerdata\\fbref.py#679\" target=\"_blank\"><span style=\"color: #7f7f7f; text-decoration-color: #7f7f7f\">679</span></a>\n",
       "</pre>\n"
      ],
      "text/plain": [
       "\u001b[2;36m[01/22/23 01:12:31]\u001b[0m\u001b[2;36m \u001b[0m\u001b[34mINFO    \u001b[0m \u001b[1m[\u001b[0m\u001b[1;36m38\u001b[0m/\u001b[1;36m189\u001b[0m\u001b[1m]\u001b[0m Retrieving game with \u001b[33mid\u001b[0m=\u001b[35mde515487\u001b[0m                                 \u001b]8;id=848446;file://C:\\Users\\John\\anaconda3\\lib\\site-packages\\soccerdata\\fbref.py\u001b\\\u001b[2mfbref.py\u001b[0m\u001b]8;;\u001b\\\u001b[2m:\u001b[0m\u001b]8;id=3772;file://C:\\Users\\John\\anaconda3\\lib\\site-packages\\soccerdata\\fbref.py#679\u001b\\\u001b[2m679\u001b[0m\u001b]8;;\u001b\\\n"
      ]
     },
     "metadata": {},
     "output_type": "display_data"
    },
    {
     "data": {
      "text/html": [
       "<pre style=\"white-space:pre;overflow-x:auto;line-height:normal;font-family:Menlo,'DejaVu Sans Mono',consolas,'Courier New',monospace\"><span style=\"color: #7fbfbf; text-decoration-color: #7fbfbf\">[01/22/23 01:12:35] </span><span style=\"color: #000080; text-decoration-color: #000080\">INFO    </span> <span style=\"font-weight: bold\">[</span><span style=\"color: #008080; text-decoration-color: #008080; font-weight: bold\">39</span>/<span style=\"color: #008080; text-decoration-color: #008080; font-weight: bold\">189</span><span style=\"font-weight: bold\">]</span> Retrieving game with <span style=\"color: #808000; text-decoration-color: #808000\">id</span>=<span style=\"color: #800080; text-decoration-color: #800080\">3b9bbac7</span>                                 <a href=\"file://C:\\Users\\John\\anaconda3\\lib\\site-packages\\soccerdata\\fbref.py\" target=\"_blank\"><span style=\"color: #7f7f7f; text-decoration-color: #7f7f7f\">fbref.py</span></a><span style=\"color: #7f7f7f; text-decoration-color: #7f7f7f\">:</span><a href=\"file://C:\\Users\\John\\anaconda3\\lib\\site-packages\\soccerdata\\fbref.py#679\" target=\"_blank\"><span style=\"color: #7f7f7f; text-decoration-color: #7f7f7f\">679</span></a>\n",
       "</pre>\n"
      ],
      "text/plain": [
       "\u001b[2;36m[01/22/23 01:12:35]\u001b[0m\u001b[2;36m \u001b[0m\u001b[34mINFO    \u001b[0m \u001b[1m[\u001b[0m\u001b[1;36m39\u001b[0m/\u001b[1;36m189\u001b[0m\u001b[1m]\u001b[0m Retrieving game with \u001b[33mid\u001b[0m=\u001b[35m3b9bbac7\u001b[0m                                 \u001b]8;id=485439;file://C:\\Users\\John\\anaconda3\\lib\\site-packages\\soccerdata\\fbref.py\u001b\\\u001b[2mfbref.py\u001b[0m\u001b]8;;\u001b\\\u001b[2m:\u001b[0m\u001b]8;id=917587;file://C:\\Users\\John\\anaconda3\\lib\\site-packages\\soccerdata\\fbref.py#679\u001b\\\u001b[2m679\u001b[0m\u001b]8;;\u001b\\\n"
      ]
     },
     "metadata": {},
     "output_type": "display_data"
    },
    {
     "data": {
      "text/html": [
       "<pre style=\"white-space:pre;overflow-x:auto;line-height:normal;font-family:Menlo,'DejaVu Sans Mono',consolas,'Courier New',monospace\"><span style=\"color: #7fbfbf; text-decoration-color: #7fbfbf\">[01/22/23 01:12:39] </span><span style=\"color: #000080; text-decoration-color: #000080\">INFO    </span> <span style=\"font-weight: bold\">[</span><span style=\"color: #008080; text-decoration-color: #008080; font-weight: bold\">40</span>/<span style=\"color: #008080; text-decoration-color: #008080; font-weight: bold\">189</span><span style=\"font-weight: bold\">]</span> Retrieving game with <span style=\"color: #808000; text-decoration-color: #808000\">id</span>=<span style=\"color: #800080; text-decoration-color: #800080\">dff99b20</span>                                 <a href=\"file://C:\\Users\\John\\anaconda3\\lib\\site-packages\\soccerdata\\fbref.py\" target=\"_blank\"><span style=\"color: #7f7f7f; text-decoration-color: #7f7f7f\">fbref.py</span></a><span style=\"color: #7f7f7f; text-decoration-color: #7f7f7f\">:</span><a href=\"file://C:\\Users\\John\\anaconda3\\lib\\site-packages\\soccerdata\\fbref.py#679\" target=\"_blank\"><span style=\"color: #7f7f7f; text-decoration-color: #7f7f7f\">679</span></a>\n",
       "</pre>\n"
      ],
      "text/plain": [
       "\u001b[2;36m[01/22/23 01:12:39]\u001b[0m\u001b[2;36m \u001b[0m\u001b[34mINFO    \u001b[0m \u001b[1m[\u001b[0m\u001b[1;36m40\u001b[0m/\u001b[1;36m189\u001b[0m\u001b[1m]\u001b[0m Retrieving game with \u001b[33mid\u001b[0m=\u001b[35mdff99b20\u001b[0m                                 \u001b]8;id=209299;file://C:\\Users\\John\\anaconda3\\lib\\site-packages\\soccerdata\\fbref.py\u001b\\\u001b[2mfbref.py\u001b[0m\u001b]8;;\u001b\\\u001b[2m:\u001b[0m\u001b]8;id=49634;file://C:\\Users\\John\\anaconda3\\lib\\site-packages\\soccerdata\\fbref.py#679\u001b\\\u001b[2m679\u001b[0m\u001b]8;;\u001b\\\n"
      ]
     },
     "metadata": {},
     "output_type": "display_data"
    },
    {
     "data": {
      "text/html": [
       "<pre style=\"white-space:pre;overflow-x:auto;line-height:normal;font-family:Menlo,'DejaVu Sans Mono',consolas,'Courier New',monospace\"><span style=\"color: #7fbfbf; text-decoration-color: #7fbfbf\">[01/22/23 01:12:44] </span><span style=\"color: #000080; text-decoration-color: #000080\">INFO    </span> <span style=\"font-weight: bold\">[</span><span style=\"color: #008080; text-decoration-color: #008080; font-weight: bold\">41</span>/<span style=\"color: #008080; text-decoration-color: #008080; font-weight: bold\">189</span><span style=\"font-weight: bold\">]</span> Retrieving game with <span style=\"color: #808000; text-decoration-color: #808000\">id</span>=<span style=\"color: #800080; text-decoration-color: #800080\">659b9113</span>                                 <a href=\"file://C:\\Users\\John\\anaconda3\\lib\\site-packages\\soccerdata\\fbref.py\" target=\"_blank\"><span style=\"color: #7f7f7f; text-decoration-color: #7f7f7f\">fbref.py</span></a><span style=\"color: #7f7f7f; text-decoration-color: #7f7f7f\">:</span><a href=\"file://C:\\Users\\John\\anaconda3\\lib\\site-packages\\soccerdata\\fbref.py#679\" target=\"_blank\"><span style=\"color: #7f7f7f; text-decoration-color: #7f7f7f\">679</span></a>\n",
       "</pre>\n"
      ],
      "text/plain": [
       "\u001b[2;36m[01/22/23 01:12:44]\u001b[0m\u001b[2;36m \u001b[0m\u001b[34mINFO    \u001b[0m \u001b[1m[\u001b[0m\u001b[1;36m41\u001b[0m/\u001b[1;36m189\u001b[0m\u001b[1m]\u001b[0m Retrieving game with \u001b[33mid\u001b[0m=\u001b[35m659b9113\u001b[0m                                 \u001b]8;id=535447;file://C:\\Users\\John\\anaconda3\\lib\\site-packages\\soccerdata\\fbref.py\u001b\\\u001b[2mfbref.py\u001b[0m\u001b]8;;\u001b\\\u001b[2m:\u001b[0m\u001b]8;id=830431;file://C:\\Users\\John\\anaconda3\\lib\\site-packages\\soccerdata\\fbref.py#679\u001b\\\u001b[2m679\u001b[0m\u001b]8;;\u001b\\\n"
      ]
     },
     "metadata": {},
     "output_type": "display_data"
    },
    {
     "data": {
      "text/html": [
       "<pre style=\"white-space:pre;overflow-x:auto;line-height:normal;font-family:Menlo,'DejaVu Sans Mono',consolas,'Courier New',monospace\"><span style=\"color: #7fbfbf; text-decoration-color: #7fbfbf\">[01/22/23 01:12:48] </span><span style=\"color: #000080; text-decoration-color: #000080\">INFO    </span> <span style=\"font-weight: bold\">[</span><span style=\"color: #008080; text-decoration-color: #008080; font-weight: bold\">42</span>/<span style=\"color: #008080; text-decoration-color: #008080; font-weight: bold\">189</span><span style=\"font-weight: bold\">]</span> Retrieving game with <span style=\"color: #808000; text-decoration-color: #808000\">id</span>=<span style=\"color: #800080; text-decoration-color: #800080\">3c364307</span>                                 <a href=\"file://C:\\Users\\John\\anaconda3\\lib\\site-packages\\soccerdata\\fbref.py\" target=\"_blank\"><span style=\"color: #7f7f7f; text-decoration-color: #7f7f7f\">fbref.py</span></a><span style=\"color: #7f7f7f; text-decoration-color: #7f7f7f\">:</span><a href=\"file://C:\\Users\\John\\anaconda3\\lib\\site-packages\\soccerdata\\fbref.py#679\" target=\"_blank\"><span style=\"color: #7f7f7f; text-decoration-color: #7f7f7f\">679</span></a>\n",
       "</pre>\n"
      ],
      "text/plain": [
       "\u001b[2;36m[01/22/23 01:12:48]\u001b[0m\u001b[2;36m \u001b[0m\u001b[34mINFO    \u001b[0m \u001b[1m[\u001b[0m\u001b[1;36m42\u001b[0m/\u001b[1;36m189\u001b[0m\u001b[1m]\u001b[0m Retrieving game with \u001b[33mid\u001b[0m=\u001b[35m3c364307\u001b[0m                                 \u001b]8;id=997328;file://C:\\Users\\John\\anaconda3\\lib\\site-packages\\soccerdata\\fbref.py\u001b\\\u001b[2mfbref.py\u001b[0m\u001b]8;;\u001b\\\u001b[2m:\u001b[0m\u001b]8;id=838908;file://C:\\Users\\John\\anaconda3\\lib\\site-packages\\soccerdata\\fbref.py#679\u001b\\\u001b[2m679\u001b[0m\u001b]8;;\u001b\\\n"
      ]
     },
     "metadata": {},
     "output_type": "display_data"
    },
    {
     "data": {
      "text/html": [
       "<pre style=\"white-space:pre;overflow-x:auto;line-height:normal;font-family:Menlo,'DejaVu Sans Mono',consolas,'Courier New',monospace\"><span style=\"color: #7fbfbf; text-decoration-color: #7fbfbf\">[01/22/23 01:12:53] </span><span style=\"color: #000080; text-decoration-color: #000080\">INFO    </span> <span style=\"font-weight: bold\">[</span><span style=\"color: #008080; text-decoration-color: #008080; font-weight: bold\">43</span>/<span style=\"color: #008080; text-decoration-color: #008080; font-weight: bold\">189</span><span style=\"font-weight: bold\">]</span> Retrieving game with <span style=\"color: #808000; text-decoration-color: #808000\">id</span>=<span style=\"color: #800080; text-decoration-color: #800080\">15d62d04</span>                                 <a href=\"file://C:\\Users\\John\\anaconda3\\lib\\site-packages\\soccerdata\\fbref.py\" target=\"_blank\"><span style=\"color: #7f7f7f; text-decoration-color: #7f7f7f\">fbref.py</span></a><span style=\"color: #7f7f7f; text-decoration-color: #7f7f7f\">:</span><a href=\"file://C:\\Users\\John\\anaconda3\\lib\\site-packages\\soccerdata\\fbref.py#679\" target=\"_blank\"><span style=\"color: #7f7f7f; text-decoration-color: #7f7f7f\">679</span></a>\n",
       "</pre>\n"
      ],
      "text/plain": [
       "\u001b[2;36m[01/22/23 01:12:53]\u001b[0m\u001b[2;36m \u001b[0m\u001b[34mINFO    \u001b[0m \u001b[1m[\u001b[0m\u001b[1;36m43\u001b[0m/\u001b[1;36m189\u001b[0m\u001b[1m]\u001b[0m Retrieving game with \u001b[33mid\u001b[0m=\u001b[35m15d62d04\u001b[0m                                 \u001b]8;id=725010;file://C:\\Users\\John\\anaconda3\\lib\\site-packages\\soccerdata\\fbref.py\u001b\\\u001b[2mfbref.py\u001b[0m\u001b]8;;\u001b\\\u001b[2m:\u001b[0m\u001b]8;id=854716;file://C:\\Users\\John\\anaconda3\\lib\\site-packages\\soccerdata\\fbref.py#679\u001b\\\u001b[2m679\u001b[0m\u001b]8;;\u001b\\\n"
      ]
     },
     "metadata": {},
     "output_type": "display_data"
    },
    {
     "data": {
      "text/html": [
       "<pre style=\"white-space:pre;overflow-x:auto;line-height:normal;font-family:Menlo,'DejaVu Sans Mono',consolas,'Courier New',monospace\"><span style=\"color: #7fbfbf; text-decoration-color: #7fbfbf\">[01/22/23 01:12:57] </span><span style=\"color: #000080; text-decoration-color: #000080\">INFO    </span> <span style=\"font-weight: bold\">[</span><span style=\"color: #008080; text-decoration-color: #008080; font-weight: bold\">45</span>/<span style=\"color: #008080; text-decoration-color: #008080; font-weight: bold\">189</span><span style=\"font-weight: bold\">]</span> Retrieving game with <span style=\"color: #808000; text-decoration-color: #808000\">id</span>=<span style=\"color: #800080; text-decoration-color: #800080\">e1d6440f</span>                                 <a href=\"file://C:\\Users\\John\\anaconda3\\lib\\site-packages\\soccerdata\\fbref.py\" target=\"_blank\"><span style=\"color: #7f7f7f; text-decoration-color: #7f7f7f\">fbref.py</span></a><span style=\"color: #7f7f7f; text-decoration-color: #7f7f7f\">:</span><a href=\"file://C:\\Users\\John\\anaconda3\\lib\\site-packages\\soccerdata\\fbref.py#679\" target=\"_blank\"><span style=\"color: #7f7f7f; text-decoration-color: #7f7f7f\">679</span></a>\n",
       "</pre>\n"
      ],
      "text/plain": [
       "\u001b[2;36m[01/22/23 01:12:57]\u001b[0m\u001b[2;36m \u001b[0m\u001b[34mINFO    \u001b[0m \u001b[1m[\u001b[0m\u001b[1;36m45\u001b[0m/\u001b[1;36m189\u001b[0m\u001b[1m]\u001b[0m Retrieving game with \u001b[33mid\u001b[0m=\u001b[35me1d6440f\u001b[0m                                 \u001b]8;id=237901;file://C:\\Users\\John\\anaconda3\\lib\\site-packages\\soccerdata\\fbref.py\u001b\\\u001b[2mfbref.py\u001b[0m\u001b]8;;\u001b\\\u001b[2m:\u001b[0m\u001b]8;id=934570;file://C:\\Users\\John\\anaconda3\\lib\\site-packages\\soccerdata\\fbref.py#679\u001b\\\u001b[2m679\u001b[0m\u001b]8;;\u001b\\\n"
      ]
     },
     "metadata": {},
     "output_type": "display_data"
    },
    {
     "data": {
      "text/html": [
       "<pre style=\"white-space:pre;overflow-x:auto;line-height:normal;font-family:Menlo,'DejaVu Sans Mono',consolas,'Courier New',monospace\"><span style=\"color: #7fbfbf; text-decoration-color: #7fbfbf\">[01/22/23 01:13:01] </span><span style=\"color: #000080; text-decoration-color: #000080\">INFO    </span> <span style=\"font-weight: bold\">[</span><span style=\"color: #008080; text-decoration-color: #008080; font-weight: bold\">46</span>/<span style=\"color: #008080; text-decoration-color: #008080; font-weight: bold\">189</span><span style=\"font-weight: bold\">]</span> Retrieving game with <span style=\"color: #808000; text-decoration-color: #808000\">id</span>=<span style=\"color: #800080; text-decoration-color: #800080\">361f4461</span>                                 <a href=\"file://C:\\Users\\John\\anaconda3\\lib\\site-packages\\soccerdata\\fbref.py\" target=\"_blank\"><span style=\"color: #7f7f7f; text-decoration-color: #7f7f7f\">fbref.py</span></a><span style=\"color: #7f7f7f; text-decoration-color: #7f7f7f\">:</span><a href=\"file://C:\\Users\\John\\anaconda3\\lib\\site-packages\\soccerdata\\fbref.py#679\" target=\"_blank\"><span style=\"color: #7f7f7f; text-decoration-color: #7f7f7f\">679</span></a>\n",
       "</pre>\n"
      ],
      "text/plain": [
       "\u001b[2;36m[01/22/23 01:13:01]\u001b[0m\u001b[2;36m \u001b[0m\u001b[34mINFO    \u001b[0m \u001b[1m[\u001b[0m\u001b[1;36m46\u001b[0m/\u001b[1;36m189\u001b[0m\u001b[1m]\u001b[0m Retrieving game with \u001b[33mid\u001b[0m=\u001b[35m361f4461\u001b[0m                                 \u001b]8;id=668763;file://C:\\Users\\John\\anaconda3\\lib\\site-packages\\soccerdata\\fbref.py\u001b\\\u001b[2mfbref.py\u001b[0m\u001b]8;;\u001b\\\u001b[2m:\u001b[0m\u001b]8;id=625506;file://C:\\Users\\John\\anaconda3\\lib\\site-packages\\soccerdata\\fbref.py#679\u001b\\\u001b[2m679\u001b[0m\u001b]8;;\u001b\\\n"
      ]
     },
     "metadata": {},
     "output_type": "display_data"
    },
    {
     "data": {
      "text/html": [
       "<pre style=\"white-space:pre;overflow-x:auto;line-height:normal;font-family:Menlo,'DejaVu Sans Mono',consolas,'Courier New',monospace\"><span style=\"color: #7fbfbf; text-decoration-color: #7fbfbf\">[01/22/23 01:13:05] </span><span style=\"color: #000080; text-decoration-color: #000080\">INFO    </span> <span style=\"font-weight: bold\">[</span><span style=\"color: #008080; text-decoration-color: #008080; font-weight: bold\">47</span>/<span style=\"color: #008080; text-decoration-color: #008080; font-weight: bold\">189</span><span style=\"font-weight: bold\">]</span> Retrieving game with <span style=\"color: #808000; text-decoration-color: #808000\">id</span>=<span style=\"color: #800080; text-decoration-color: #800080\">42d294e5</span>                                 <a href=\"file://C:\\Users\\John\\anaconda3\\lib\\site-packages\\soccerdata\\fbref.py\" target=\"_blank\"><span style=\"color: #7f7f7f; text-decoration-color: #7f7f7f\">fbref.py</span></a><span style=\"color: #7f7f7f; text-decoration-color: #7f7f7f\">:</span><a href=\"file://C:\\Users\\John\\anaconda3\\lib\\site-packages\\soccerdata\\fbref.py#679\" target=\"_blank\"><span style=\"color: #7f7f7f; text-decoration-color: #7f7f7f\">679</span></a>\n",
       "</pre>\n"
      ],
      "text/plain": [
       "\u001b[2;36m[01/22/23 01:13:05]\u001b[0m\u001b[2;36m \u001b[0m\u001b[34mINFO    \u001b[0m \u001b[1m[\u001b[0m\u001b[1;36m47\u001b[0m/\u001b[1;36m189\u001b[0m\u001b[1m]\u001b[0m Retrieving game with \u001b[33mid\u001b[0m=\u001b[35m42d294e5\u001b[0m                                 \u001b]8;id=47505;file://C:\\Users\\John\\anaconda3\\lib\\site-packages\\soccerdata\\fbref.py\u001b\\\u001b[2mfbref.py\u001b[0m\u001b]8;;\u001b\\\u001b[2m:\u001b[0m\u001b]8;id=349729;file://C:\\Users\\John\\anaconda3\\lib\\site-packages\\soccerdata\\fbref.py#679\u001b\\\u001b[2m679\u001b[0m\u001b]8;;\u001b\\\n"
      ]
     },
     "metadata": {},
     "output_type": "display_data"
    },
    {
     "data": {
      "text/html": [
       "<pre style=\"white-space:pre;overflow-x:auto;line-height:normal;font-family:Menlo,'DejaVu Sans Mono',consolas,'Courier New',monospace\"><span style=\"color: #7fbfbf; text-decoration-color: #7fbfbf\">[01/22/23 01:13:09] </span><span style=\"color: #000080; text-decoration-color: #000080\">INFO    </span> <span style=\"font-weight: bold\">[</span><span style=\"color: #008080; text-decoration-color: #008080; font-weight: bold\">48</span>/<span style=\"color: #008080; text-decoration-color: #008080; font-weight: bold\">189</span><span style=\"font-weight: bold\">]</span> Retrieving game with <span style=\"color: #808000; text-decoration-color: #808000\">id</span>=<span style=\"color: #800080; text-decoration-color: #800080\">afd303a8</span>                                 <a href=\"file://C:\\Users\\John\\anaconda3\\lib\\site-packages\\soccerdata\\fbref.py\" target=\"_blank\"><span style=\"color: #7f7f7f; text-decoration-color: #7f7f7f\">fbref.py</span></a><span style=\"color: #7f7f7f; text-decoration-color: #7f7f7f\">:</span><a href=\"file://C:\\Users\\John\\anaconda3\\lib\\site-packages\\soccerdata\\fbref.py#679\" target=\"_blank\"><span style=\"color: #7f7f7f; text-decoration-color: #7f7f7f\">679</span></a>\n",
       "</pre>\n"
      ],
      "text/plain": [
       "\u001b[2;36m[01/22/23 01:13:09]\u001b[0m\u001b[2;36m \u001b[0m\u001b[34mINFO    \u001b[0m \u001b[1m[\u001b[0m\u001b[1;36m48\u001b[0m/\u001b[1;36m189\u001b[0m\u001b[1m]\u001b[0m Retrieving game with \u001b[33mid\u001b[0m=\u001b[35mafd303a8\u001b[0m                                 \u001b]8;id=714107;file://C:\\Users\\John\\anaconda3\\lib\\site-packages\\soccerdata\\fbref.py\u001b\\\u001b[2mfbref.py\u001b[0m\u001b]8;;\u001b\\\u001b[2m:\u001b[0m\u001b]8;id=282947;file://C:\\Users\\John\\anaconda3\\lib\\site-packages\\soccerdata\\fbref.py#679\u001b\\\u001b[2m679\u001b[0m\u001b]8;;\u001b\\\n"
      ]
     },
     "metadata": {},
     "output_type": "display_data"
    },
    {
     "data": {
      "text/html": [
       "<pre style=\"white-space:pre;overflow-x:auto;line-height:normal;font-family:Menlo,'DejaVu Sans Mono',consolas,'Courier New',monospace\"><span style=\"color: #7fbfbf; text-decoration-color: #7fbfbf\">[01/22/23 01:13:14] </span><span style=\"color: #000080; text-decoration-color: #000080\">INFO    </span> <span style=\"font-weight: bold\">[</span><span style=\"color: #008080; text-decoration-color: #008080; font-weight: bold\">49</span>/<span style=\"color: #008080; text-decoration-color: #008080; font-weight: bold\">189</span><span style=\"font-weight: bold\">]</span> Retrieving game with <span style=\"color: #808000; text-decoration-color: #808000\">id</span>=<span style=\"color: #800080; text-decoration-color: #800080\">cc235aad</span>                                 <a href=\"file://C:\\Users\\John\\anaconda3\\lib\\site-packages\\soccerdata\\fbref.py\" target=\"_blank\"><span style=\"color: #7f7f7f; text-decoration-color: #7f7f7f\">fbref.py</span></a><span style=\"color: #7f7f7f; text-decoration-color: #7f7f7f\">:</span><a href=\"file://C:\\Users\\John\\anaconda3\\lib\\site-packages\\soccerdata\\fbref.py#679\" target=\"_blank\"><span style=\"color: #7f7f7f; text-decoration-color: #7f7f7f\">679</span></a>\n",
       "</pre>\n"
      ],
      "text/plain": [
       "\u001b[2;36m[01/22/23 01:13:14]\u001b[0m\u001b[2;36m \u001b[0m\u001b[34mINFO    \u001b[0m \u001b[1m[\u001b[0m\u001b[1;36m49\u001b[0m/\u001b[1;36m189\u001b[0m\u001b[1m]\u001b[0m Retrieving game with \u001b[33mid\u001b[0m=\u001b[35mcc235aad\u001b[0m                                 \u001b]8;id=400605;file://C:\\Users\\John\\anaconda3\\lib\\site-packages\\soccerdata\\fbref.py\u001b\\\u001b[2mfbref.py\u001b[0m\u001b]8;;\u001b\\\u001b[2m:\u001b[0m\u001b]8;id=536194;file://C:\\Users\\John\\anaconda3\\lib\\site-packages\\soccerdata\\fbref.py#679\u001b\\\u001b[2m679\u001b[0m\u001b]8;;\u001b\\\n"
      ]
     },
     "metadata": {},
     "output_type": "display_data"
    },
    {
     "data": {
      "text/html": [
       "<pre style=\"white-space:pre;overflow-x:auto;line-height:normal;font-family:Menlo,'DejaVu Sans Mono',consolas,'Courier New',monospace\"><span style=\"color: #7fbfbf; text-decoration-color: #7fbfbf\">[01/22/23 01:13:18] </span><span style=\"color: #000080; text-decoration-color: #000080\">INFO    </span> <span style=\"font-weight: bold\">[</span><span style=\"color: #008080; text-decoration-color: #008080; font-weight: bold\">50</span>/<span style=\"color: #008080; text-decoration-color: #008080; font-weight: bold\">189</span><span style=\"font-weight: bold\">]</span> Retrieving game with <span style=\"color: #808000; text-decoration-color: #808000\">id</span>=<span style=\"color: #800080; text-decoration-color: #800080\">91b239d8</span>                                 <a href=\"file://C:\\Users\\John\\anaconda3\\lib\\site-packages\\soccerdata\\fbref.py\" target=\"_blank\"><span style=\"color: #7f7f7f; text-decoration-color: #7f7f7f\">fbref.py</span></a><span style=\"color: #7f7f7f; text-decoration-color: #7f7f7f\">:</span><a href=\"file://C:\\Users\\John\\anaconda3\\lib\\site-packages\\soccerdata\\fbref.py#679\" target=\"_blank\"><span style=\"color: #7f7f7f; text-decoration-color: #7f7f7f\">679</span></a>\n",
       "</pre>\n"
      ],
      "text/plain": [
       "\u001b[2;36m[01/22/23 01:13:18]\u001b[0m\u001b[2;36m \u001b[0m\u001b[34mINFO    \u001b[0m \u001b[1m[\u001b[0m\u001b[1;36m50\u001b[0m/\u001b[1;36m189\u001b[0m\u001b[1m]\u001b[0m Retrieving game with \u001b[33mid\u001b[0m=\u001b[35m91b239d8\u001b[0m                                 \u001b]8;id=712967;file://C:\\Users\\John\\anaconda3\\lib\\site-packages\\soccerdata\\fbref.py\u001b\\\u001b[2mfbref.py\u001b[0m\u001b]8;;\u001b\\\u001b[2m:\u001b[0m\u001b]8;id=980888;file://C:\\Users\\John\\anaconda3\\lib\\site-packages\\soccerdata\\fbref.py#679\u001b\\\u001b[2m679\u001b[0m\u001b]8;;\u001b\\\n"
      ]
     },
     "metadata": {},
     "output_type": "display_data"
    },
    {
     "data": {
      "text/html": [
       "<pre style=\"white-space:pre;overflow-x:auto;line-height:normal;font-family:Menlo,'DejaVu Sans Mono',consolas,'Courier New',monospace\"><span style=\"color: #7fbfbf; text-decoration-color: #7fbfbf\">[01/22/23 01:13:22] </span><span style=\"color: #000080; text-decoration-color: #000080\">INFO    </span> <span style=\"font-weight: bold\">[</span><span style=\"color: #008080; text-decoration-color: #008080; font-weight: bold\">51</span>/<span style=\"color: #008080; text-decoration-color: #008080; font-weight: bold\">189</span><span style=\"font-weight: bold\">]</span> Retrieving game with <span style=\"color: #808000; text-decoration-color: #808000\">id</span>=<span style=\"color: #800080; text-decoration-color: #800080\">ac6047cf</span>                                 <a href=\"file://C:\\Users\\John\\anaconda3\\lib\\site-packages\\soccerdata\\fbref.py\" target=\"_blank\"><span style=\"color: #7f7f7f; text-decoration-color: #7f7f7f\">fbref.py</span></a><span style=\"color: #7f7f7f; text-decoration-color: #7f7f7f\">:</span><a href=\"file://C:\\Users\\John\\anaconda3\\lib\\site-packages\\soccerdata\\fbref.py#679\" target=\"_blank\"><span style=\"color: #7f7f7f; text-decoration-color: #7f7f7f\">679</span></a>\n",
       "</pre>\n"
      ],
      "text/plain": [
       "\u001b[2;36m[01/22/23 01:13:22]\u001b[0m\u001b[2;36m \u001b[0m\u001b[34mINFO    \u001b[0m \u001b[1m[\u001b[0m\u001b[1;36m51\u001b[0m/\u001b[1;36m189\u001b[0m\u001b[1m]\u001b[0m Retrieving game with \u001b[33mid\u001b[0m=\u001b[35mac6047cf\u001b[0m                                 \u001b]8;id=808309;file://C:\\Users\\John\\anaconda3\\lib\\site-packages\\soccerdata\\fbref.py\u001b\\\u001b[2mfbref.py\u001b[0m\u001b]8;;\u001b\\\u001b[2m:\u001b[0m\u001b]8;id=693520;file://C:\\Users\\John\\anaconda3\\lib\\site-packages\\soccerdata\\fbref.py#679\u001b\\\u001b[2m679\u001b[0m\u001b]8;;\u001b\\\n"
      ]
     },
     "metadata": {},
     "output_type": "display_data"
    },
    {
     "data": {
      "text/html": [
       "<pre style=\"white-space:pre;overflow-x:auto;line-height:normal;font-family:Menlo,'DejaVu Sans Mono',consolas,'Courier New',monospace\"><span style=\"color: #7fbfbf; text-decoration-color: #7fbfbf\">[01/22/23 01:13:26] </span><span style=\"color: #000080; text-decoration-color: #000080\">INFO    </span> <span style=\"font-weight: bold\">[</span><span style=\"color: #008080; text-decoration-color: #008080; font-weight: bold\">52</span>/<span style=\"color: #008080; text-decoration-color: #008080; font-weight: bold\">189</span><span style=\"font-weight: bold\">]</span> Retrieving game with <span style=\"color: #808000; text-decoration-color: #808000\">id</span>=<span style=\"color: #800080; text-decoration-color: #800080\">9760b466</span>                                 <a href=\"file://C:\\Users\\John\\anaconda3\\lib\\site-packages\\soccerdata\\fbref.py\" target=\"_blank\"><span style=\"color: #7f7f7f; text-decoration-color: #7f7f7f\">fbref.py</span></a><span style=\"color: #7f7f7f; text-decoration-color: #7f7f7f\">:</span><a href=\"file://C:\\Users\\John\\anaconda3\\lib\\site-packages\\soccerdata\\fbref.py#679\" target=\"_blank\"><span style=\"color: #7f7f7f; text-decoration-color: #7f7f7f\">679</span></a>\n",
       "</pre>\n"
      ],
      "text/plain": [
       "\u001b[2;36m[01/22/23 01:13:26]\u001b[0m\u001b[2;36m \u001b[0m\u001b[34mINFO    \u001b[0m \u001b[1m[\u001b[0m\u001b[1;36m52\u001b[0m/\u001b[1;36m189\u001b[0m\u001b[1m]\u001b[0m Retrieving game with \u001b[33mid\u001b[0m=\u001b[35m9760b466\u001b[0m                                 \u001b]8;id=763176;file://C:\\Users\\John\\anaconda3\\lib\\site-packages\\soccerdata\\fbref.py\u001b\\\u001b[2mfbref.py\u001b[0m\u001b]8;;\u001b\\\u001b[2m:\u001b[0m\u001b]8;id=907999;file://C:\\Users\\John\\anaconda3\\lib\\site-packages\\soccerdata\\fbref.py#679\u001b\\\u001b[2m679\u001b[0m\u001b]8;;\u001b\\\n"
      ]
     },
     "metadata": {},
     "output_type": "display_data"
    },
    {
     "data": {
      "text/html": [
       "<pre style=\"white-space:pre;overflow-x:auto;line-height:normal;font-family:Menlo,'DejaVu Sans Mono',consolas,'Courier New',monospace\"><span style=\"color: #7fbfbf; text-decoration-color: #7fbfbf\">[01/22/23 01:13:31] </span><span style=\"color: #000080; text-decoration-color: #000080\">INFO    </span> <span style=\"font-weight: bold\">[</span><span style=\"color: #008080; text-decoration-color: #008080; font-weight: bold\">53</span>/<span style=\"color: #008080; text-decoration-color: #008080; font-weight: bold\">189</span><span style=\"font-weight: bold\">]</span> Retrieving game with <span style=\"color: #808000; text-decoration-color: #808000\">id</span>=<span style=\"color: #800080; text-decoration-color: #800080\">9f221621</span>                                 <a href=\"file://C:\\Users\\John\\anaconda3\\lib\\site-packages\\soccerdata\\fbref.py\" target=\"_blank\"><span style=\"color: #7f7f7f; text-decoration-color: #7f7f7f\">fbref.py</span></a><span style=\"color: #7f7f7f; text-decoration-color: #7f7f7f\">:</span><a href=\"file://C:\\Users\\John\\anaconda3\\lib\\site-packages\\soccerdata\\fbref.py#679\" target=\"_blank\"><span style=\"color: #7f7f7f; text-decoration-color: #7f7f7f\">679</span></a>\n",
       "</pre>\n"
      ],
      "text/plain": [
       "\u001b[2;36m[01/22/23 01:13:31]\u001b[0m\u001b[2;36m \u001b[0m\u001b[34mINFO    \u001b[0m \u001b[1m[\u001b[0m\u001b[1;36m53\u001b[0m/\u001b[1;36m189\u001b[0m\u001b[1m]\u001b[0m Retrieving game with \u001b[33mid\u001b[0m=\u001b[35m9f221621\u001b[0m                                 \u001b]8;id=188482;file://C:\\Users\\John\\anaconda3\\lib\\site-packages\\soccerdata\\fbref.py\u001b\\\u001b[2mfbref.py\u001b[0m\u001b]8;;\u001b\\\u001b[2m:\u001b[0m\u001b]8;id=158509;file://C:\\Users\\John\\anaconda3\\lib\\site-packages\\soccerdata\\fbref.py#679\u001b\\\u001b[2m679\u001b[0m\u001b]8;;\u001b\\\n"
      ]
     },
     "metadata": {},
     "output_type": "display_data"
    },
    {
     "data": {
      "text/html": [
       "<pre style=\"white-space:pre;overflow-x:auto;line-height:normal;font-family:Menlo,'DejaVu Sans Mono',consolas,'Courier New',monospace\"><span style=\"color: #7fbfbf; text-decoration-color: #7fbfbf\">[01/22/23 01:13:35] </span><span style=\"color: #000080; text-decoration-color: #000080\">INFO    </span> <span style=\"font-weight: bold\">[</span><span style=\"color: #008080; text-decoration-color: #008080; font-weight: bold\">54</span>/<span style=\"color: #008080; text-decoration-color: #008080; font-weight: bold\">189</span><span style=\"font-weight: bold\">]</span> Retrieving game with <span style=\"color: #808000; text-decoration-color: #808000\">id</span>=<span style=\"color: #800080; text-decoration-color: #800080\">c1f25d02</span>                                 <a href=\"file://C:\\Users\\John\\anaconda3\\lib\\site-packages\\soccerdata\\fbref.py\" target=\"_blank\"><span style=\"color: #7f7f7f; text-decoration-color: #7f7f7f\">fbref.py</span></a><span style=\"color: #7f7f7f; text-decoration-color: #7f7f7f\">:</span><a href=\"file://C:\\Users\\John\\anaconda3\\lib\\site-packages\\soccerdata\\fbref.py#679\" target=\"_blank\"><span style=\"color: #7f7f7f; text-decoration-color: #7f7f7f\">679</span></a>\n",
       "</pre>\n"
      ],
      "text/plain": [
       "\u001b[2;36m[01/22/23 01:13:35]\u001b[0m\u001b[2;36m \u001b[0m\u001b[34mINFO    \u001b[0m \u001b[1m[\u001b[0m\u001b[1;36m54\u001b[0m/\u001b[1;36m189\u001b[0m\u001b[1m]\u001b[0m Retrieving game with \u001b[33mid\u001b[0m=\u001b[35mc1f25d02\u001b[0m                                 \u001b]8;id=90403;file://C:\\Users\\John\\anaconda3\\lib\\site-packages\\soccerdata\\fbref.py\u001b\\\u001b[2mfbref.py\u001b[0m\u001b]8;;\u001b\\\u001b[2m:\u001b[0m\u001b]8;id=84396;file://C:\\Users\\John\\anaconda3\\lib\\site-packages\\soccerdata\\fbref.py#679\u001b\\\u001b[2m679\u001b[0m\u001b]8;;\u001b\\\n"
      ]
     },
     "metadata": {},
     "output_type": "display_data"
    },
    {
     "data": {
      "text/html": [
       "<pre style=\"white-space:pre;overflow-x:auto;line-height:normal;font-family:Menlo,'DejaVu Sans Mono',consolas,'Courier New',monospace\"><span style=\"color: #7fbfbf; text-decoration-color: #7fbfbf\">[01/22/23 01:13:39] </span><span style=\"color: #000080; text-decoration-color: #000080\">INFO    </span> <span style=\"font-weight: bold\">[</span><span style=\"color: #008080; text-decoration-color: #008080; font-weight: bold\">56</span>/<span style=\"color: #008080; text-decoration-color: #008080; font-weight: bold\">189</span><span style=\"font-weight: bold\">]</span> Retrieving game with <span style=\"color: #808000; text-decoration-color: #808000\">id</span>=<span style=\"color: #800080; text-decoration-color: #800080\">3091f0b8</span>                                 <a href=\"file://C:\\Users\\John\\anaconda3\\lib\\site-packages\\soccerdata\\fbref.py\" target=\"_blank\"><span style=\"color: #7f7f7f; text-decoration-color: #7f7f7f\">fbref.py</span></a><span style=\"color: #7f7f7f; text-decoration-color: #7f7f7f\">:</span><a href=\"file://C:\\Users\\John\\anaconda3\\lib\\site-packages\\soccerdata\\fbref.py#679\" target=\"_blank\"><span style=\"color: #7f7f7f; text-decoration-color: #7f7f7f\">679</span></a>\n",
       "</pre>\n"
      ],
      "text/plain": [
       "\u001b[2;36m[01/22/23 01:13:39]\u001b[0m\u001b[2;36m \u001b[0m\u001b[34mINFO    \u001b[0m \u001b[1m[\u001b[0m\u001b[1;36m56\u001b[0m/\u001b[1;36m189\u001b[0m\u001b[1m]\u001b[0m Retrieving game with \u001b[33mid\u001b[0m=\u001b[35m3091f0b8\u001b[0m                                 \u001b]8;id=449796;file://C:\\Users\\John\\anaconda3\\lib\\site-packages\\soccerdata\\fbref.py\u001b\\\u001b[2mfbref.py\u001b[0m\u001b]8;;\u001b\\\u001b[2m:\u001b[0m\u001b]8;id=619842;file://C:\\Users\\John\\anaconda3\\lib\\site-packages\\soccerdata\\fbref.py#679\u001b\\\u001b[2m679\u001b[0m\u001b]8;;\u001b\\\n"
      ]
     },
     "metadata": {},
     "output_type": "display_data"
    },
    {
     "data": {
      "text/html": [
       "<pre style=\"white-space:pre;overflow-x:auto;line-height:normal;font-family:Menlo,'DejaVu Sans Mono',consolas,'Courier New',monospace\"><span style=\"color: #7fbfbf; text-decoration-color: #7fbfbf\">[01/22/23 01:13:43] </span><span style=\"color: #000080; text-decoration-color: #000080\">INFO    </span> <span style=\"font-weight: bold\">[</span><span style=\"color: #008080; text-decoration-color: #008080; font-weight: bold\">57</span>/<span style=\"color: #008080; text-decoration-color: #008080; font-weight: bold\">189</span><span style=\"font-weight: bold\">]</span> Retrieving game with <span style=\"color: #808000; text-decoration-color: #808000\">id</span>=<span style=\"color: #800080; text-decoration-color: #800080\">88f9aad9</span>                                 <a href=\"file://C:\\Users\\John\\anaconda3\\lib\\site-packages\\soccerdata\\fbref.py\" target=\"_blank\"><span style=\"color: #7f7f7f; text-decoration-color: #7f7f7f\">fbref.py</span></a><span style=\"color: #7f7f7f; text-decoration-color: #7f7f7f\">:</span><a href=\"file://C:\\Users\\John\\anaconda3\\lib\\site-packages\\soccerdata\\fbref.py#679\" target=\"_blank\"><span style=\"color: #7f7f7f; text-decoration-color: #7f7f7f\">679</span></a>\n",
       "</pre>\n"
      ],
      "text/plain": [
       "\u001b[2;36m[01/22/23 01:13:43]\u001b[0m\u001b[2;36m \u001b[0m\u001b[34mINFO    \u001b[0m \u001b[1m[\u001b[0m\u001b[1;36m57\u001b[0m/\u001b[1;36m189\u001b[0m\u001b[1m]\u001b[0m Retrieving game with \u001b[33mid\u001b[0m=\u001b[35m88f9aad9\u001b[0m                                 \u001b]8;id=257708;file://C:\\Users\\John\\anaconda3\\lib\\site-packages\\soccerdata\\fbref.py\u001b\\\u001b[2mfbref.py\u001b[0m\u001b]8;;\u001b\\\u001b[2m:\u001b[0m\u001b]8;id=503651;file://C:\\Users\\John\\anaconda3\\lib\\site-packages\\soccerdata\\fbref.py#679\u001b\\\u001b[2m679\u001b[0m\u001b]8;;\u001b\\\n"
      ]
     },
     "metadata": {},
     "output_type": "display_data"
    },
    {
     "data": {
      "text/html": [
       "<pre style=\"white-space:pre;overflow-x:auto;line-height:normal;font-family:Menlo,'DejaVu Sans Mono',consolas,'Courier New',monospace\"><span style=\"color: #7fbfbf; text-decoration-color: #7fbfbf\">[01/22/23 01:13:48] </span><span style=\"color: #000080; text-decoration-color: #000080\">INFO    </span> <span style=\"font-weight: bold\">[</span><span style=\"color: #008080; text-decoration-color: #008080; font-weight: bold\">58</span>/<span style=\"color: #008080; text-decoration-color: #008080; font-weight: bold\">189</span><span style=\"font-weight: bold\">]</span> Retrieving game with <span style=\"color: #808000; text-decoration-color: #808000\">id</span>=<span style=\"color: #800080; text-decoration-color: #800080\">d7642197</span>                                 <a href=\"file://C:\\Users\\John\\anaconda3\\lib\\site-packages\\soccerdata\\fbref.py\" target=\"_blank\"><span style=\"color: #7f7f7f; text-decoration-color: #7f7f7f\">fbref.py</span></a><span style=\"color: #7f7f7f; text-decoration-color: #7f7f7f\">:</span><a href=\"file://C:\\Users\\John\\anaconda3\\lib\\site-packages\\soccerdata\\fbref.py#679\" target=\"_blank\"><span style=\"color: #7f7f7f; text-decoration-color: #7f7f7f\">679</span></a>\n",
       "</pre>\n"
      ],
      "text/plain": [
       "\u001b[2;36m[01/22/23 01:13:48]\u001b[0m\u001b[2;36m \u001b[0m\u001b[34mINFO    \u001b[0m \u001b[1m[\u001b[0m\u001b[1;36m58\u001b[0m/\u001b[1;36m189\u001b[0m\u001b[1m]\u001b[0m Retrieving game with \u001b[33mid\u001b[0m=\u001b[35md7642197\u001b[0m                                 \u001b]8;id=226627;file://C:\\Users\\John\\anaconda3\\lib\\site-packages\\soccerdata\\fbref.py\u001b\\\u001b[2mfbref.py\u001b[0m\u001b]8;;\u001b\\\u001b[2m:\u001b[0m\u001b]8;id=798652;file://C:\\Users\\John\\anaconda3\\lib\\site-packages\\soccerdata\\fbref.py#679\u001b\\\u001b[2m679\u001b[0m\u001b]8;;\u001b\\\n"
      ]
     },
     "metadata": {},
     "output_type": "display_data"
    },
    {
     "data": {
      "text/html": [
       "<pre style=\"white-space:pre;overflow-x:auto;line-height:normal;font-family:Menlo,'DejaVu Sans Mono',consolas,'Courier New',monospace\"><span style=\"color: #7fbfbf; text-decoration-color: #7fbfbf\">[01/22/23 01:13:52] </span><span style=\"color: #000080; text-decoration-color: #000080\">INFO    </span> <span style=\"font-weight: bold\">[</span><span style=\"color: #008080; text-decoration-color: #008080; font-weight: bold\">59</span>/<span style=\"color: #008080; text-decoration-color: #008080; font-weight: bold\">189</span><span style=\"font-weight: bold\">]</span> Retrieving game with <span style=\"color: #808000; text-decoration-color: #808000\">id</span>=<span style=\"color: #800080; text-decoration-color: #800080\">073227b6</span>                                 <a href=\"file://C:\\Users\\John\\anaconda3\\lib\\site-packages\\soccerdata\\fbref.py\" target=\"_blank\"><span style=\"color: #7f7f7f; text-decoration-color: #7f7f7f\">fbref.py</span></a><span style=\"color: #7f7f7f; text-decoration-color: #7f7f7f\">:</span><a href=\"file://C:\\Users\\John\\anaconda3\\lib\\site-packages\\soccerdata\\fbref.py#679\" target=\"_blank\"><span style=\"color: #7f7f7f; text-decoration-color: #7f7f7f\">679</span></a>\n",
       "</pre>\n"
      ],
      "text/plain": [
       "\u001b[2;36m[01/22/23 01:13:52]\u001b[0m\u001b[2;36m \u001b[0m\u001b[34mINFO    \u001b[0m \u001b[1m[\u001b[0m\u001b[1;36m59\u001b[0m/\u001b[1;36m189\u001b[0m\u001b[1m]\u001b[0m Retrieving game with \u001b[33mid\u001b[0m=\u001b[35m073227b6\u001b[0m                                 \u001b]8;id=728071;file://C:\\Users\\John\\anaconda3\\lib\\site-packages\\soccerdata\\fbref.py\u001b\\\u001b[2mfbref.py\u001b[0m\u001b]8;;\u001b\\\u001b[2m:\u001b[0m\u001b]8;id=209761;file://C:\\Users\\John\\anaconda3\\lib\\site-packages\\soccerdata\\fbref.py#679\u001b\\\u001b[2m679\u001b[0m\u001b]8;;\u001b\\\n"
      ]
     },
     "metadata": {},
     "output_type": "display_data"
    },
    {
     "data": {
      "text/html": [
       "<pre style=\"white-space:pre;overflow-x:auto;line-height:normal;font-family:Menlo,'DejaVu Sans Mono',consolas,'Courier New',monospace\"><span style=\"color: #7fbfbf; text-decoration-color: #7fbfbf\">[01/22/23 01:13:57] </span><span style=\"color: #000080; text-decoration-color: #000080\">INFO    </span> <span style=\"font-weight: bold\">[</span><span style=\"color: #008080; text-decoration-color: #008080; font-weight: bold\">60</span>/<span style=\"color: #008080; text-decoration-color: #008080; font-weight: bold\">189</span><span style=\"font-weight: bold\">]</span> Retrieving game with <span style=\"color: #808000; text-decoration-color: #808000\">id</span>=<span style=\"color: #800080; text-decoration-color: #800080\">4ca4efa3</span>                                 <a href=\"file://C:\\Users\\John\\anaconda3\\lib\\site-packages\\soccerdata\\fbref.py\" target=\"_blank\"><span style=\"color: #7f7f7f; text-decoration-color: #7f7f7f\">fbref.py</span></a><span style=\"color: #7f7f7f; text-decoration-color: #7f7f7f\">:</span><a href=\"file://C:\\Users\\John\\anaconda3\\lib\\site-packages\\soccerdata\\fbref.py#679\" target=\"_blank\"><span style=\"color: #7f7f7f; text-decoration-color: #7f7f7f\">679</span></a>\n",
       "</pre>\n"
      ],
      "text/plain": [
       "\u001b[2;36m[01/22/23 01:13:57]\u001b[0m\u001b[2;36m \u001b[0m\u001b[34mINFO    \u001b[0m \u001b[1m[\u001b[0m\u001b[1;36m60\u001b[0m/\u001b[1;36m189\u001b[0m\u001b[1m]\u001b[0m Retrieving game with \u001b[33mid\u001b[0m=\u001b[35m4ca4efa3\u001b[0m                                 \u001b]8;id=124786;file://C:\\Users\\John\\anaconda3\\lib\\site-packages\\soccerdata\\fbref.py\u001b\\\u001b[2mfbref.py\u001b[0m\u001b]8;;\u001b\\\u001b[2m:\u001b[0m\u001b]8;id=241922;file://C:\\Users\\John\\anaconda3\\lib\\site-packages\\soccerdata\\fbref.py#679\u001b\\\u001b[2m679\u001b[0m\u001b]8;;\u001b\\\n"
      ]
     },
     "metadata": {},
     "output_type": "display_data"
    },
    {
     "data": {
      "text/html": [
       "<pre style=\"white-space:pre;overflow-x:auto;line-height:normal;font-family:Menlo,'DejaVu Sans Mono',consolas,'Courier New',monospace\"><span style=\"color: #7fbfbf; text-decoration-color: #7fbfbf\">[01/22/23 01:14:01] </span><span style=\"color: #000080; text-decoration-color: #000080\">INFO    </span> <span style=\"font-weight: bold\">[</span><span style=\"color: #008080; text-decoration-color: #008080; font-weight: bold\">61</span>/<span style=\"color: #008080; text-decoration-color: #008080; font-weight: bold\">189</span><span style=\"font-weight: bold\">]</span> Retrieving game with <span style=\"color: #808000; text-decoration-color: #808000\">id</span>=<span style=\"color: #800080; text-decoration-color: #800080\">05f32555</span>                                 <a href=\"file://C:\\Users\\John\\anaconda3\\lib\\site-packages\\soccerdata\\fbref.py\" target=\"_blank\"><span style=\"color: #7f7f7f; text-decoration-color: #7f7f7f\">fbref.py</span></a><span style=\"color: #7f7f7f; text-decoration-color: #7f7f7f\">:</span><a href=\"file://C:\\Users\\John\\anaconda3\\lib\\site-packages\\soccerdata\\fbref.py#679\" target=\"_blank\"><span style=\"color: #7f7f7f; text-decoration-color: #7f7f7f\">679</span></a>\n",
       "</pre>\n"
      ],
      "text/plain": [
       "\u001b[2;36m[01/22/23 01:14:01]\u001b[0m\u001b[2;36m \u001b[0m\u001b[34mINFO    \u001b[0m \u001b[1m[\u001b[0m\u001b[1;36m61\u001b[0m/\u001b[1;36m189\u001b[0m\u001b[1m]\u001b[0m Retrieving game with \u001b[33mid\u001b[0m=\u001b[35m05f32555\u001b[0m                                 \u001b]8;id=824344;file://C:\\Users\\John\\anaconda3\\lib\\site-packages\\soccerdata\\fbref.py\u001b\\\u001b[2mfbref.py\u001b[0m\u001b]8;;\u001b\\\u001b[2m:\u001b[0m\u001b]8;id=83723;file://C:\\Users\\John\\anaconda3\\lib\\site-packages\\soccerdata\\fbref.py#679\u001b\\\u001b[2m679\u001b[0m\u001b]8;;\u001b\\\n"
      ]
     },
     "metadata": {},
     "output_type": "display_data"
    },
    {
     "data": {
      "text/html": [
       "<pre style=\"white-space:pre;overflow-x:auto;line-height:normal;font-family:Menlo,'DejaVu Sans Mono',consolas,'Courier New',monospace\"><span style=\"color: #7fbfbf; text-decoration-color: #7fbfbf\">[01/22/23 01:14:05] </span><span style=\"color: #000080; text-decoration-color: #000080\">INFO    </span> <span style=\"font-weight: bold\">[</span><span style=\"color: #008080; text-decoration-color: #008080; font-weight: bold\">62</span>/<span style=\"color: #008080; text-decoration-color: #008080; font-weight: bold\">189</span><span style=\"font-weight: bold\">]</span> Retrieving game with <span style=\"color: #808000; text-decoration-color: #808000\">id</span>=<span style=\"color: #800080; text-decoration-color: #800080\">a497b725</span>                                 <a href=\"file://C:\\Users\\John\\anaconda3\\lib\\site-packages\\soccerdata\\fbref.py\" target=\"_blank\"><span style=\"color: #7f7f7f; text-decoration-color: #7f7f7f\">fbref.py</span></a><span style=\"color: #7f7f7f; text-decoration-color: #7f7f7f\">:</span><a href=\"file://C:\\Users\\John\\anaconda3\\lib\\site-packages\\soccerdata\\fbref.py#679\" target=\"_blank\"><span style=\"color: #7f7f7f; text-decoration-color: #7f7f7f\">679</span></a>\n",
       "</pre>\n"
      ],
      "text/plain": [
       "\u001b[2;36m[01/22/23 01:14:05]\u001b[0m\u001b[2;36m \u001b[0m\u001b[34mINFO    \u001b[0m \u001b[1m[\u001b[0m\u001b[1;36m62\u001b[0m/\u001b[1;36m189\u001b[0m\u001b[1m]\u001b[0m Retrieving game with \u001b[33mid\u001b[0m=\u001b[35ma497b725\u001b[0m                                 \u001b]8;id=89823;file://C:\\Users\\John\\anaconda3\\lib\\site-packages\\soccerdata\\fbref.py\u001b\\\u001b[2mfbref.py\u001b[0m\u001b]8;;\u001b\\\u001b[2m:\u001b[0m\u001b]8;id=726015;file://C:\\Users\\John\\anaconda3\\lib\\site-packages\\soccerdata\\fbref.py#679\u001b\\\u001b[2m679\u001b[0m\u001b]8;;\u001b\\\n"
      ]
     },
     "metadata": {},
     "output_type": "display_data"
    },
    {
     "data": {
      "text/html": [
       "<pre style=\"white-space:pre;overflow-x:auto;line-height:normal;font-family:Menlo,'DejaVu Sans Mono',consolas,'Courier New',monospace\"><span style=\"color: #7fbfbf; text-decoration-color: #7fbfbf\">[01/22/23 01:14:09] </span><span style=\"color: #000080; text-decoration-color: #000080\">INFO    </span> <span style=\"font-weight: bold\">[</span><span style=\"color: #008080; text-decoration-color: #008080; font-weight: bold\">63</span>/<span style=\"color: #008080; text-decoration-color: #008080; font-weight: bold\">189</span><span style=\"font-weight: bold\">]</span> Retrieving game with <span style=\"color: #808000; text-decoration-color: #808000\">id</span>=<span style=\"color: #800080; text-decoration-color: #800080\">13f50518</span>                                 <a href=\"file://C:\\Users\\John\\anaconda3\\lib\\site-packages\\soccerdata\\fbref.py\" target=\"_blank\"><span style=\"color: #7f7f7f; text-decoration-color: #7f7f7f\">fbref.py</span></a><span style=\"color: #7f7f7f; text-decoration-color: #7f7f7f\">:</span><a href=\"file://C:\\Users\\John\\anaconda3\\lib\\site-packages\\soccerdata\\fbref.py#679\" target=\"_blank\"><span style=\"color: #7f7f7f; text-decoration-color: #7f7f7f\">679</span></a>\n",
       "</pre>\n"
      ],
      "text/plain": [
       "\u001b[2;36m[01/22/23 01:14:09]\u001b[0m\u001b[2;36m \u001b[0m\u001b[34mINFO    \u001b[0m \u001b[1m[\u001b[0m\u001b[1;36m63\u001b[0m/\u001b[1;36m189\u001b[0m\u001b[1m]\u001b[0m Retrieving game with \u001b[33mid\u001b[0m=\u001b[35m13f50518\u001b[0m                                 \u001b]8;id=611901;file://C:\\Users\\John\\anaconda3\\lib\\site-packages\\soccerdata\\fbref.py\u001b\\\u001b[2mfbref.py\u001b[0m\u001b]8;;\u001b\\\u001b[2m:\u001b[0m\u001b]8;id=820539;file://C:\\Users\\John\\anaconda3\\lib\\site-packages\\soccerdata\\fbref.py#679\u001b\\\u001b[2m679\u001b[0m\u001b]8;;\u001b\\\n"
      ]
     },
     "metadata": {},
     "output_type": "display_data"
    },
    {
     "data": {
      "text/html": [
       "<pre style=\"white-space:pre;overflow-x:auto;line-height:normal;font-family:Menlo,'DejaVu Sans Mono',consolas,'Courier New',monospace\"><span style=\"color: #7fbfbf; text-decoration-color: #7fbfbf\">[01/22/23 01:14:14] </span><span style=\"color: #000080; text-decoration-color: #000080\">INFO    </span> <span style=\"font-weight: bold\">[</span><span style=\"color: #008080; text-decoration-color: #008080; font-weight: bold\">64</span>/<span style=\"color: #008080; text-decoration-color: #008080; font-weight: bold\">189</span><span style=\"font-weight: bold\">]</span> Retrieving game with <span style=\"color: #808000; text-decoration-color: #808000\">id</span>=<span style=\"color: #800080; text-decoration-color: #800080\">42d5b3b1</span>                                 <a href=\"file://C:\\Users\\John\\anaconda3\\lib\\site-packages\\soccerdata\\fbref.py\" target=\"_blank\"><span style=\"color: #7f7f7f; text-decoration-color: #7f7f7f\">fbref.py</span></a><span style=\"color: #7f7f7f; text-decoration-color: #7f7f7f\">:</span><a href=\"file://C:\\Users\\John\\anaconda3\\lib\\site-packages\\soccerdata\\fbref.py#679\" target=\"_blank\"><span style=\"color: #7f7f7f; text-decoration-color: #7f7f7f\">679</span></a>\n",
       "</pre>\n"
      ],
      "text/plain": [
       "\u001b[2;36m[01/22/23 01:14:14]\u001b[0m\u001b[2;36m \u001b[0m\u001b[34mINFO    \u001b[0m \u001b[1m[\u001b[0m\u001b[1;36m64\u001b[0m/\u001b[1;36m189\u001b[0m\u001b[1m]\u001b[0m Retrieving game with \u001b[33mid\u001b[0m=\u001b[35m42d5b3b1\u001b[0m                                 \u001b]8;id=15619;file://C:\\Users\\John\\anaconda3\\lib\\site-packages\\soccerdata\\fbref.py\u001b\\\u001b[2mfbref.py\u001b[0m\u001b]8;;\u001b\\\u001b[2m:\u001b[0m\u001b]8;id=503925;file://C:\\Users\\John\\anaconda3\\lib\\site-packages\\soccerdata\\fbref.py#679\u001b\\\u001b[2m679\u001b[0m\u001b]8;;\u001b\\\n"
      ]
     },
     "metadata": {},
     "output_type": "display_data"
    },
    {
     "data": {
      "text/html": [
       "<pre style=\"white-space:pre;overflow-x:auto;line-height:normal;font-family:Menlo,'DejaVu Sans Mono',consolas,'Courier New',monospace\"><span style=\"color: #7fbfbf; text-decoration-color: #7fbfbf\">[01/22/23 01:14:18] </span><span style=\"color: #000080; text-decoration-color: #000080\">INFO    </span> <span style=\"font-weight: bold\">[</span><span style=\"color: #008080; text-decoration-color: #008080; font-weight: bold\">65</span>/<span style=\"color: #008080; text-decoration-color: #008080; font-weight: bold\">189</span><span style=\"font-weight: bold\">]</span> Retrieving game with <span style=\"color: #808000; text-decoration-color: #808000\">id</span>=<span style=\"color: #800080; text-decoration-color: #800080\">61ddafa5</span>                                 <a href=\"file://C:\\Users\\John\\anaconda3\\lib\\site-packages\\soccerdata\\fbref.py\" target=\"_blank\"><span style=\"color: #7f7f7f; text-decoration-color: #7f7f7f\">fbref.py</span></a><span style=\"color: #7f7f7f; text-decoration-color: #7f7f7f\">:</span><a href=\"file://C:\\Users\\John\\anaconda3\\lib\\site-packages\\soccerdata\\fbref.py#679\" target=\"_blank\"><span style=\"color: #7f7f7f; text-decoration-color: #7f7f7f\">679</span></a>\n",
       "</pre>\n"
      ],
      "text/plain": [
       "\u001b[2;36m[01/22/23 01:14:18]\u001b[0m\u001b[2;36m \u001b[0m\u001b[34mINFO    \u001b[0m \u001b[1m[\u001b[0m\u001b[1;36m65\u001b[0m/\u001b[1;36m189\u001b[0m\u001b[1m]\u001b[0m Retrieving game with \u001b[33mid\u001b[0m=\u001b[35m61ddafa5\u001b[0m                                 \u001b]8;id=393960;file://C:\\Users\\John\\anaconda3\\lib\\site-packages\\soccerdata\\fbref.py\u001b\\\u001b[2mfbref.py\u001b[0m\u001b]8;;\u001b\\\u001b[2m:\u001b[0m\u001b]8;id=931328;file://C:\\Users\\John\\anaconda3\\lib\\site-packages\\soccerdata\\fbref.py#679\u001b\\\u001b[2m679\u001b[0m\u001b]8;;\u001b\\\n"
      ]
     },
     "metadata": {},
     "output_type": "display_data"
    },
    {
     "data": {
      "text/html": [
       "<pre style=\"white-space:pre;overflow-x:auto;line-height:normal;font-family:Menlo,'DejaVu Sans Mono',consolas,'Courier New',monospace\"><span style=\"color: #7fbfbf; text-decoration-color: #7fbfbf\">[01/22/23 01:14:22] </span><span style=\"color: #000080; text-decoration-color: #000080\">INFO    </span> <span style=\"font-weight: bold\">[</span><span style=\"color: #008080; text-decoration-color: #008080; font-weight: bold\">75</span>/<span style=\"color: #008080; text-decoration-color: #008080; font-weight: bold\">189</span><span style=\"font-weight: bold\">]</span> Retrieving game with <span style=\"color: #808000; text-decoration-color: #808000\">id</span>=<span style=\"color: #800080; text-decoration-color: #800080\">1219daa1</span>                                 <a href=\"file://C:\\Users\\John\\anaconda3\\lib\\site-packages\\soccerdata\\fbref.py\" target=\"_blank\"><span style=\"color: #7f7f7f; text-decoration-color: #7f7f7f\">fbref.py</span></a><span style=\"color: #7f7f7f; text-decoration-color: #7f7f7f\">:</span><a href=\"file://C:\\Users\\John\\anaconda3\\lib\\site-packages\\soccerdata\\fbref.py#679\" target=\"_blank\"><span style=\"color: #7f7f7f; text-decoration-color: #7f7f7f\">679</span></a>\n",
       "</pre>\n"
      ],
      "text/plain": [
       "\u001b[2;36m[01/22/23 01:14:22]\u001b[0m\u001b[2;36m \u001b[0m\u001b[34mINFO    \u001b[0m \u001b[1m[\u001b[0m\u001b[1;36m75\u001b[0m/\u001b[1;36m189\u001b[0m\u001b[1m]\u001b[0m Retrieving game with \u001b[33mid\u001b[0m=\u001b[35m1219daa1\u001b[0m                                 \u001b]8;id=696076;file://C:\\Users\\John\\anaconda3\\lib\\site-packages\\soccerdata\\fbref.py\u001b\\\u001b[2mfbref.py\u001b[0m\u001b]8;;\u001b\\\u001b[2m:\u001b[0m\u001b]8;id=13748;file://C:\\Users\\John\\anaconda3\\lib\\site-packages\\soccerdata\\fbref.py#679\u001b\\\u001b[2m679\u001b[0m\u001b]8;;\u001b\\\n"
      ]
     },
     "metadata": {},
     "output_type": "display_data"
    },
    {
     "data": {
      "text/html": [
       "<pre style=\"white-space:pre;overflow-x:auto;line-height:normal;font-family:Menlo,'DejaVu Sans Mono',consolas,'Courier New',monospace\"><span style=\"color: #7fbfbf; text-decoration-color: #7fbfbf\">[01/22/23 01:14:27] </span><span style=\"color: #000080; text-decoration-color: #000080\">INFO    </span> <span style=\"font-weight: bold\">[</span><span style=\"color: #008080; text-decoration-color: #008080; font-weight: bold\">76</span>/<span style=\"color: #008080; text-decoration-color: #008080; font-weight: bold\">189</span><span style=\"font-weight: bold\">]</span> Retrieving game with <span style=\"color: #808000; text-decoration-color: #808000\">id</span>=<span style=\"color: #800080; text-decoration-color: #800080\">d0d07e66</span>                                 <a href=\"file://C:\\Users\\John\\anaconda3\\lib\\site-packages\\soccerdata\\fbref.py\" target=\"_blank\"><span style=\"color: #7f7f7f; text-decoration-color: #7f7f7f\">fbref.py</span></a><span style=\"color: #7f7f7f; text-decoration-color: #7f7f7f\">:</span><a href=\"file://C:\\Users\\John\\anaconda3\\lib\\site-packages\\soccerdata\\fbref.py#679\" target=\"_blank\"><span style=\"color: #7f7f7f; text-decoration-color: #7f7f7f\">679</span></a>\n",
       "</pre>\n"
      ],
      "text/plain": [
       "\u001b[2;36m[01/22/23 01:14:27]\u001b[0m\u001b[2;36m \u001b[0m\u001b[34mINFO    \u001b[0m \u001b[1m[\u001b[0m\u001b[1;36m76\u001b[0m/\u001b[1;36m189\u001b[0m\u001b[1m]\u001b[0m Retrieving game with \u001b[33mid\u001b[0m=\u001b[35md0d07e66\u001b[0m                                 \u001b]8;id=831509;file://C:\\Users\\John\\anaconda3\\lib\\site-packages\\soccerdata\\fbref.py\u001b\\\u001b[2mfbref.py\u001b[0m\u001b]8;;\u001b\\\u001b[2m:\u001b[0m\u001b]8;id=347250;file://C:\\Users\\John\\anaconda3\\lib\\site-packages\\soccerdata\\fbref.py#679\u001b\\\u001b[2m679\u001b[0m\u001b]8;;\u001b\\\n"
      ]
     },
     "metadata": {},
     "output_type": "display_data"
    },
    {
     "data": {
      "text/html": [
       "<pre style=\"white-space:pre;overflow-x:auto;line-height:normal;font-family:Menlo,'DejaVu Sans Mono',consolas,'Courier New',monospace\"><span style=\"color: #7fbfbf; text-decoration-color: #7fbfbf\">[01/22/23 01:14:31] </span><span style=\"color: #000080; text-decoration-color: #000080\">INFO    </span> <span style=\"font-weight: bold\">[</span><span style=\"color: #008080; text-decoration-color: #008080; font-weight: bold\">78</span>/<span style=\"color: #008080; text-decoration-color: #008080; font-weight: bold\">189</span><span style=\"font-weight: bold\">]</span> Retrieving game with <span style=\"color: #808000; text-decoration-color: #808000\">id</span>=<span style=\"color: #800080; text-decoration-color: #800080\">177da679</span>                                 <a href=\"file://C:\\Users\\John\\anaconda3\\lib\\site-packages\\soccerdata\\fbref.py\" target=\"_blank\"><span style=\"color: #7f7f7f; text-decoration-color: #7f7f7f\">fbref.py</span></a><span style=\"color: #7f7f7f; text-decoration-color: #7f7f7f\">:</span><a href=\"file://C:\\Users\\John\\anaconda3\\lib\\site-packages\\soccerdata\\fbref.py#679\" target=\"_blank\"><span style=\"color: #7f7f7f; text-decoration-color: #7f7f7f\">679</span></a>\n",
       "</pre>\n"
      ],
      "text/plain": [
       "\u001b[2;36m[01/22/23 01:14:31]\u001b[0m\u001b[2;36m \u001b[0m\u001b[34mINFO    \u001b[0m \u001b[1m[\u001b[0m\u001b[1;36m78\u001b[0m/\u001b[1;36m189\u001b[0m\u001b[1m]\u001b[0m Retrieving game with \u001b[33mid\u001b[0m=\u001b[35m177da679\u001b[0m                                 \u001b]8;id=781078;file://C:\\Users\\John\\anaconda3\\lib\\site-packages\\soccerdata\\fbref.py\u001b\\\u001b[2mfbref.py\u001b[0m\u001b]8;;\u001b\\\u001b[2m:\u001b[0m\u001b]8;id=971590;file://C:\\Users\\John\\anaconda3\\lib\\site-packages\\soccerdata\\fbref.py#679\u001b\\\u001b[2m679\u001b[0m\u001b]8;;\u001b\\\n"
      ]
     },
     "metadata": {},
     "output_type": "display_data"
    },
    {
     "data": {
      "text/html": [
       "<pre style=\"white-space:pre;overflow-x:auto;line-height:normal;font-family:Menlo,'DejaVu Sans Mono',consolas,'Courier New',monospace\"><span style=\"color: #7fbfbf; text-decoration-color: #7fbfbf\">[01/22/23 01:14:35] </span><span style=\"color: #000080; text-decoration-color: #000080\">INFO    </span> <span style=\"font-weight: bold\">[</span><span style=\"color: #008080; text-decoration-color: #008080; font-weight: bold\">79</span>/<span style=\"color: #008080; text-decoration-color: #008080; font-weight: bold\">189</span><span style=\"font-weight: bold\">]</span> Retrieving game with <span style=\"color: #808000; text-decoration-color: #808000\">id</span>=<span style=\"color: #800080; text-decoration-color: #800080\">99e44c16</span>                                 <a href=\"file://C:\\Users\\John\\anaconda3\\lib\\site-packages\\soccerdata\\fbref.py\" target=\"_blank\"><span style=\"color: #7f7f7f; text-decoration-color: #7f7f7f\">fbref.py</span></a><span style=\"color: #7f7f7f; text-decoration-color: #7f7f7f\">:</span><a href=\"file://C:\\Users\\John\\anaconda3\\lib\\site-packages\\soccerdata\\fbref.py#679\" target=\"_blank\"><span style=\"color: #7f7f7f; text-decoration-color: #7f7f7f\">679</span></a>\n",
       "</pre>\n"
      ],
      "text/plain": [
       "\u001b[2;36m[01/22/23 01:14:35]\u001b[0m\u001b[2;36m \u001b[0m\u001b[34mINFO    \u001b[0m \u001b[1m[\u001b[0m\u001b[1;36m79\u001b[0m/\u001b[1;36m189\u001b[0m\u001b[1m]\u001b[0m Retrieving game with \u001b[33mid\u001b[0m=\u001b[35m99e44c16\u001b[0m                                 \u001b]8;id=820574;file://C:\\Users\\John\\anaconda3\\lib\\site-packages\\soccerdata\\fbref.py\u001b\\\u001b[2mfbref.py\u001b[0m\u001b]8;;\u001b\\\u001b[2m:\u001b[0m\u001b]8;id=410751;file://C:\\Users\\John\\anaconda3\\lib\\site-packages\\soccerdata\\fbref.py#679\u001b\\\u001b[2m679\u001b[0m\u001b]8;;\u001b\\\n"
      ]
     },
     "metadata": {},
     "output_type": "display_data"
    },
    {
     "data": {
      "text/html": [
       "<pre style=\"white-space:pre;overflow-x:auto;line-height:normal;font-family:Menlo,'DejaVu Sans Mono',consolas,'Courier New',monospace\"><span style=\"color: #7fbfbf; text-decoration-color: #7fbfbf\">[01/22/23 01:14:40] </span><span style=\"color: #000080; text-decoration-color: #000080\">INFO    </span> <span style=\"font-weight: bold\">[</span><span style=\"color: #008080; text-decoration-color: #008080; font-weight: bold\">80</span>/<span style=\"color: #008080; text-decoration-color: #008080; font-weight: bold\">189</span><span style=\"font-weight: bold\">]</span> Retrieving game with <span style=\"color: #808000; text-decoration-color: #808000\">id</span>=<span style=\"color: #800080; text-decoration-color: #800080\">96b5cc15</span>                                 <a href=\"file://C:\\Users\\John\\anaconda3\\lib\\site-packages\\soccerdata\\fbref.py\" target=\"_blank\"><span style=\"color: #7f7f7f; text-decoration-color: #7f7f7f\">fbref.py</span></a><span style=\"color: #7f7f7f; text-decoration-color: #7f7f7f\">:</span><a href=\"file://C:\\Users\\John\\anaconda3\\lib\\site-packages\\soccerdata\\fbref.py#679\" target=\"_blank\"><span style=\"color: #7f7f7f; text-decoration-color: #7f7f7f\">679</span></a>\n",
       "</pre>\n"
      ],
      "text/plain": [
       "\u001b[2;36m[01/22/23 01:14:40]\u001b[0m\u001b[2;36m \u001b[0m\u001b[34mINFO    \u001b[0m \u001b[1m[\u001b[0m\u001b[1;36m80\u001b[0m/\u001b[1;36m189\u001b[0m\u001b[1m]\u001b[0m Retrieving game with \u001b[33mid\u001b[0m=\u001b[35m96b5cc15\u001b[0m                                 \u001b]8;id=46803;file://C:\\Users\\John\\anaconda3\\lib\\site-packages\\soccerdata\\fbref.py\u001b\\\u001b[2mfbref.py\u001b[0m\u001b]8;;\u001b\\\u001b[2m:\u001b[0m\u001b]8;id=851767;file://C:\\Users\\John\\anaconda3\\lib\\site-packages\\soccerdata\\fbref.py#679\u001b\\\u001b[2m679\u001b[0m\u001b]8;;\u001b\\\n"
      ]
     },
     "metadata": {},
     "output_type": "display_data"
    },
    {
     "data": {
      "text/html": [
       "<pre style=\"white-space:pre;overflow-x:auto;line-height:normal;font-family:Menlo,'DejaVu Sans Mono',consolas,'Courier New',monospace\"><span style=\"color: #7fbfbf; text-decoration-color: #7fbfbf\">[01/22/23 01:14:44] </span><span style=\"color: #000080; text-decoration-color: #000080\">INFO    </span> <span style=\"font-weight: bold\">[</span><span style=\"color: #008080; text-decoration-color: #008080; font-weight: bold\">81</span>/<span style=\"color: #008080; text-decoration-color: #008080; font-weight: bold\">189</span><span style=\"font-weight: bold\">]</span> Retrieving game with <span style=\"color: #808000; text-decoration-color: #808000\">id</span>=<span style=\"color: #800080; text-decoration-color: #800080\">fd5626e6</span>                                 <a href=\"file://C:\\Users\\John\\anaconda3\\lib\\site-packages\\soccerdata\\fbref.py\" target=\"_blank\"><span style=\"color: #7f7f7f; text-decoration-color: #7f7f7f\">fbref.py</span></a><span style=\"color: #7f7f7f; text-decoration-color: #7f7f7f\">:</span><a href=\"file://C:\\Users\\John\\anaconda3\\lib\\site-packages\\soccerdata\\fbref.py#679\" target=\"_blank\"><span style=\"color: #7f7f7f; text-decoration-color: #7f7f7f\">679</span></a>\n",
       "</pre>\n"
      ],
      "text/plain": [
       "\u001b[2;36m[01/22/23 01:14:44]\u001b[0m\u001b[2;36m \u001b[0m\u001b[34mINFO    \u001b[0m \u001b[1m[\u001b[0m\u001b[1;36m81\u001b[0m/\u001b[1;36m189\u001b[0m\u001b[1m]\u001b[0m Retrieving game with \u001b[33mid\u001b[0m=\u001b[35mfd5626e6\u001b[0m                                 \u001b]8;id=878050;file://C:\\Users\\John\\anaconda3\\lib\\site-packages\\soccerdata\\fbref.py\u001b\\\u001b[2mfbref.py\u001b[0m\u001b]8;;\u001b\\\u001b[2m:\u001b[0m\u001b]8;id=360779;file://C:\\Users\\John\\anaconda3\\lib\\site-packages\\soccerdata\\fbref.py#679\u001b\\\u001b[2m679\u001b[0m\u001b]8;;\u001b\\\n"
      ]
     },
     "metadata": {},
     "output_type": "display_data"
    },
    {
     "data": {
      "text/html": [
       "<pre style=\"white-space:pre;overflow-x:auto;line-height:normal;font-family:Menlo,'DejaVu Sans Mono',consolas,'Courier New',monospace\"><span style=\"color: #7fbfbf; text-decoration-color: #7fbfbf\">[01/22/23 01:14:48] </span><span style=\"color: #000080; text-decoration-color: #000080\">INFO    </span> <span style=\"font-weight: bold\">[</span><span style=\"color: #008080; text-decoration-color: #008080; font-weight: bold\">83</span>/<span style=\"color: #008080; text-decoration-color: #008080; font-weight: bold\">189</span><span style=\"font-weight: bold\">]</span> Retrieving game with <span style=\"color: #808000; text-decoration-color: #808000\">id</span>=<span style=\"color: #800080; text-decoration-color: #800080\">96e9dc0f</span>                                 <a href=\"file://C:\\Users\\John\\anaconda3\\lib\\site-packages\\soccerdata\\fbref.py\" target=\"_blank\"><span style=\"color: #7f7f7f; text-decoration-color: #7f7f7f\">fbref.py</span></a><span style=\"color: #7f7f7f; text-decoration-color: #7f7f7f\">:</span><a href=\"file://C:\\Users\\John\\anaconda3\\lib\\site-packages\\soccerdata\\fbref.py#679\" target=\"_blank\"><span style=\"color: #7f7f7f; text-decoration-color: #7f7f7f\">679</span></a>\n",
       "</pre>\n"
      ],
      "text/plain": [
       "\u001b[2;36m[01/22/23 01:14:48]\u001b[0m\u001b[2;36m \u001b[0m\u001b[34mINFO    \u001b[0m \u001b[1m[\u001b[0m\u001b[1;36m83\u001b[0m/\u001b[1;36m189\u001b[0m\u001b[1m]\u001b[0m Retrieving game with \u001b[33mid\u001b[0m=\u001b[35m96e9dc0f\u001b[0m                                 \u001b]8;id=478156;file://C:\\Users\\John\\anaconda3\\lib\\site-packages\\soccerdata\\fbref.py\u001b\\\u001b[2mfbref.py\u001b[0m\u001b]8;;\u001b\\\u001b[2m:\u001b[0m\u001b]8;id=498391;file://C:\\Users\\John\\anaconda3\\lib\\site-packages\\soccerdata\\fbref.py#679\u001b\\\u001b[2m679\u001b[0m\u001b]8;;\u001b\\\n"
      ]
     },
     "metadata": {},
     "output_type": "display_data"
    },
    {
     "data": {
      "text/html": [
       "<pre style=\"white-space:pre;overflow-x:auto;line-height:normal;font-family:Menlo,'DejaVu Sans Mono',consolas,'Courier New',monospace\"><span style=\"color: #7fbfbf; text-decoration-color: #7fbfbf\">[01/22/23 01:14:52] </span><span style=\"color: #000080; text-decoration-color: #000080\">INFO    </span> <span style=\"font-weight: bold\">[</span><span style=\"color: #008080; text-decoration-color: #008080; font-weight: bold\">86</span>/<span style=\"color: #008080; text-decoration-color: #008080; font-weight: bold\">189</span><span style=\"font-weight: bold\">]</span> Retrieving game with <span style=\"color: #808000; text-decoration-color: #808000\">id</span>=<span style=\"color: #800080; text-decoration-color: #800080\">aefe3b90</span>                                 <a href=\"file://C:\\Users\\John\\anaconda3\\lib\\site-packages\\soccerdata\\fbref.py\" target=\"_blank\"><span style=\"color: #7f7f7f; text-decoration-color: #7f7f7f\">fbref.py</span></a><span style=\"color: #7f7f7f; text-decoration-color: #7f7f7f\">:</span><a href=\"file://C:\\Users\\John\\anaconda3\\lib\\site-packages\\soccerdata\\fbref.py#679\" target=\"_blank\"><span style=\"color: #7f7f7f; text-decoration-color: #7f7f7f\">679</span></a>\n",
       "</pre>\n"
      ],
      "text/plain": [
       "\u001b[2;36m[01/22/23 01:14:52]\u001b[0m\u001b[2;36m \u001b[0m\u001b[34mINFO    \u001b[0m \u001b[1m[\u001b[0m\u001b[1;36m86\u001b[0m/\u001b[1;36m189\u001b[0m\u001b[1m]\u001b[0m Retrieving game with \u001b[33mid\u001b[0m=\u001b[35maefe3b90\u001b[0m                                 \u001b]8;id=66194;file://C:\\Users\\John\\anaconda3\\lib\\site-packages\\soccerdata\\fbref.py\u001b\\\u001b[2mfbref.py\u001b[0m\u001b]8;;\u001b\\\u001b[2m:\u001b[0m\u001b]8;id=26720;file://C:\\Users\\John\\anaconda3\\lib\\site-packages\\soccerdata\\fbref.py#679\u001b\\\u001b[2m679\u001b[0m\u001b]8;;\u001b\\\n"
      ]
     },
     "metadata": {},
     "output_type": "display_data"
    },
    {
     "data": {
      "text/html": [
       "<pre style=\"white-space:pre;overflow-x:auto;line-height:normal;font-family:Menlo,'DejaVu Sans Mono',consolas,'Courier New',monospace\"><span style=\"color: #7fbfbf; text-decoration-color: #7fbfbf\">[01/22/23 01:14:57] </span><span style=\"color: #000080; text-decoration-color: #000080\">INFO    </span> <span style=\"font-weight: bold\">[</span><span style=\"color: #008080; text-decoration-color: #008080; font-weight: bold\">87</span>/<span style=\"color: #008080; text-decoration-color: #008080; font-weight: bold\">189</span><span style=\"font-weight: bold\">]</span> Retrieving game with <span style=\"color: #808000; text-decoration-color: #808000\">id</span>=<span style=\"color: #800080; text-decoration-color: #800080\">f2e86b27</span>                                 <a href=\"file://C:\\Users\\John\\anaconda3\\lib\\site-packages\\soccerdata\\fbref.py\" target=\"_blank\"><span style=\"color: #7f7f7f; text-decoration-color: #7f7f7f\">fbref.py</span></a><span style=\"color: #7f7f7f; text-decoration-color: #7f7f7f\">:</span><a href=\"file://C:\\Users\\John\\anaconda3\\lib\\site-packages\\soccerdata\\fbref.py#679\" target=\"_blank\"><span style=\"color: #7f7f7f; text-decoration-color: #7f7f7f\">679</span></a>\n",
       "</pre>\n"
      ],
      "text/plain": [
       "\u001b[2;36m[01/22/23 01:14:57]\u001b[0m\u001b[2;36m \u001b[0m\u001b[34mINFO    \u001b[0m \u001b[1m[\u001b[0m\u001b[1;36m87\u001b[0m/\u001b[1;36m189\u001b[0m\u001b[1m]\u001b[0m Retrieving game with \u001b[33mid\u001b[0m=\u001b[35mf2e86b27\u001b[0m                                 \u001b]8;id=491446;file://C:\\Users\\John\\anaconda3\\lib\\site-packages\\soccerdata\\fbref.py\u001b\\\u001b[2mfbref.py\u001b[0m\u001b]8;;\u001b\\\u001b[2m:\u001b[0m\u001b]8;id=574449;file://C:\\Users\\John\\anaconda3\\lib\\site-packages\\soccerdata\\fbref.py#679\u001b\\\u001b[2m679\u001b[0m\u001b]8;;\u001b\\\n"
      ]
     },
     "metadata": {},
     "output_type": "display_data"
    },
    {
     "data": {
      "text/html": [
       "<pre style=\"white-space:pre;overflow-x:auto;line-height:normal;font-family:Menlo,'DejaVu Sans Mono',consolas,'Courier New',monospace\"><span style=\"color: #7fbfbf; text-decoration-color: #7fbfbf\">[01/22/23 01:15:01] </span><span style=\"color: #000080; text-decoration-color: #000080\">INFO    </span> <span style=\"font-weight: bold\">[</span><span style=\"color: #008080; text-decoration-color: #008080; font-weight: bold\">88</span>/<span style=\"color: #008080; text-decoration-color: #008080; font-weight: bold\">189</span><span style=\"font-weight: bold\">]</span> Retrieving game with <span style=\"color: #808000; text-decoration-color: #808000\">id</span>=<span style=\"color: #800080; text-decoration-color: #800080\">372249f3</span>                                 <a href=\"file://C:\\Users\\John\\anaconda3\\lib\\site-packages\\soccerdata\\fbref.py\" target=\"_blank\"><span style=\"color: #7f7f7f; text-decoration-color: #7f7f7f\">fbref.py</span></a><span style=\"color: #7f7f7f; text-decoration-color: #7f7f7f\">:</span><a href=\"file://C:\\Users\\John\\anaconda3\\lib\\site-packages\\soccerdata\\fbref.py#679\" target=\"_blank\"><span style=\"color: #7f7f7f; text-decoration-color: #7f7f7f\">679</span></a>\n",
       "</pre>\n"
      ],
      "text/plain": [
       "\u001b[2;36m[01/22/23 01:15:01]\u001b[0m\u001b[2;36m \u001b[0m\u001b[34mINFO    \u001b[0m \u001b[1m[\u001b[0m\u001b[1;36m88\u001b[0m/\u001b[1;36m189\u001b[0m\u001b[1m]\u001b[0m Retrieving game with \u001b[33mid\u001b[0m=\u001b[35m372249f3\u001b[0m                                 \u001b]8;id=531528;file://C:\\Users\\John\\anaconda3\\lib\\site-packages\\soccerdata\\fbref.py\u001b\\\u001b[2mfbref.py\u001b[0m\u001b]8;;\u001b\\\u001b[2m:\u001b[0m\u001b]8;id=317264;file://C:\\Users\\John\\anaconda3\\lib\\site-packages\\soccerdata\\fbref.py#679\u001b\\\u001b[2m679\u001b[0m\u001b]8;;\u001b\\\n"
      ]
     },
     "metadata": {},
     "output_type": "display_data"
    },
    {
     "data": {
      "text/html": [
       "<pre style=\"white-space:pre;overflow-x:auto;line-height:normal;font-family:Menlo,'DejaVu Sans Mono',consolas,'Courier New',monospace\"><span style=\"color: #7fbfbf; text-decoration-color: #7fbfbf\">[01/22/23 01:15:05] </span><span style=\"color: #000080; text-decoration-color: #000080\">INFO    </span> <span style=\"font-weight: bold\">[</span><span style=\"color: #008080; text-decoration-color: #008080; font-weight: bold\">89</span>/<span style=\"color: #008080; text-decoration-color: #008080; font-weight: bold\">189</span><span style=\"font-weight: bold\">]</span> Retrieving game with <span style=\"color: #808000; text-decoration-color: #808000\">id</span>=<span style=\"color: #800080; text-decoration-color: #800080\">dcde1172</span>                                 <a href=\"file://C:\\Users\\John\\anaconda3\\lib\\site-packages\\soccerdata\\fbref.py\" target=\"_blank\"><span style=\"color: #7f7f7f; text-decoration-color: #7f7f7f\">fbref.py</span></a><span style=\"color: #7f7f7f; text-decoration-color: #7f7f7f\">:</span><a href=\"file://C:\\Users\\John\\anaconda3\\lib\\site-packages\\soccerdata\\fbref.py#679\" target=\"_blank\"><span style=\"color: #7f7f7f; text-decoration-color: #7f7f7f\">679</span></a>\n",
       "</pre>\n"
      ],
      "text/plain": [
       "\u001b[2;36m[01/22/23 01:15:05]\u001b[0m\u001b[2;36m \u001b[0m\u001b[34mINFO    \u001b[0m \u001b[1m[\u001b[0m\u001b[1;36m89\u001b[0m/\u001b[1;36m189\u001b[0m\u001b[1m]\u001b[0m Retrieving game with \u001b[33mid\u001b[0m=\u001b[35mdcde1172\u001b[0m                                 \u001b]8;id=478609;file://C:\\Users\\John\\anaconda3\\lib\\site-packages\\soccerdata\\fbref.py\u001b\\\u001b[2mfbref.py\u001b[0m\u001b]8;;\u001b\\\u001b[2m:\u001b[0m\u001b]8;id=85304;file://C:\\Users\\John\\anaconda3\\lib\\site-packages\\soccerdata\\fbref.py#679\u001b\\\u001b[2m679\u001b[0m\u001b]8;;\u001b\\\n"
      ]
     },
     "metadata": {},
     "output_type": "display_data"
    },
    {
     "data": {
      "text/html": [
       "<pre style=\"white-space:pre;overflow-x:auto;line-height:normal;font-family:Menlo,'DejaVu Sans Mono',consolas,'Courier New',monospace\"><span style=\"color: #7fbfbf; text-decoration-color: #7fbfbf\">[01/22/23 01:15:10] </span><span style=\"color: #000080; text-decoration-color: #000080\">INFO    </span> <span style=\"font-weight: bold\">[</span><span style=\"color: #008080; text-decoration-color: #008080; font-weight: bold\">90</span>/<span style=\"color: #008080; text-decoration-color: #008080; font-weight: bold\">189</span><span style=\"font-weight: bold\">]</span> Retrieving game with <span style=\"color: #808000; text-decoration-color: #808000\">id</span>=<span style=\"color: #800080; text-decoration-color: #800080\">aadd2e80</span>                                 <a href=\"file://C:\\Users\\John\\anaconda3\\lib\\site-packages\\soccerdata\\fbref.py\" target=\"_blank\"><span style=\"color: #7f7f7f; text-decoration-color: #7f7f7f\">fbref.py</span></a><span style=\"color: #7f7f7f; text-decoration-color: #7f7f7f\">:</span><a href=\"file://C:\\Users\\John\\anaconda3\\lib\\site-packages\\soccerdata\\fbref.py#679\" target=\"_blank\"><span style=\"color: #7f7f7f; text-decoration-color: #7f7f7f\">679</span></a>\n",
       "</pre>\n"
      ],
      "text/plain": [
       "\u001b[2;36m[01/22/23 01:15:10]\u001b[0m\u001b[2;36m \u001b[0m\u001b[34mINFO    \u001b[0m \u001b[1m[\u001b[0m\u001b[1;36m90\u001b[0m/\u001b[1;36m189\u001b[0m\u001b[1m]\u001b[0m Retrieving game with \u001b[33mid\u001b[0m=\u001b[35maadd2e80\u001b[0m                                 \u001b]8;id=32146;file://C:\\Users\\John\\anaconda3\\lib\\site-packages\\soccerdata\\fbref.py\u001b\\\u001b[2mfbref.py\u001b[0m\u001b]8;;\u001b\\\u001b[2m:\u001b[0m\u001b]8;id=401976;file://C:\\Users\\John\\anaconda3\\lib\\site-packages\\soccerdata\\fbref.py#679\u001b\\\u001b[2m679\u001b[0m\u001b]8;;\u001b\\\n"
      ]
     },
     "metadata": {},
     "output_type": "display_data"
    },
    {
     "data": {
      "text/html": [
       "<pre style=\"white-space:pre;overflow-x:auto;line-height:normal;font-family:Menlo,'DejaVu Sans Mono',consolas,'Courier New',monospace\"><span style=\"color: #7fbfbf; text-decoration-color: #7fbfbf\">[01/22/23 01:15:14] </span><span style=\"color: #000080; text-decoration-color: #000080\">INFO    </span> <span style=\"font-weight: bold\">[</span><span style=\"color: #008080; text-decoration-color: #008080; font-weight: bold\">91</span>/<span style=\"color: #008080; text-decoration-color: #008080; font-weight: bold\">189</span><span style=\"font-weight: bold\">]</span> Retrieving game with <span style=\"color: #808000; text-decoration-color: #808000\">id</span>=<span style=\"color: #800080; text-decoration-color: #800080\">06d00bcb</span>                                 <a href=\"file://C:\\Users\\John\\anaconda3\\lib\\site-packages\\soccerdata\\fbref.py\" target=\"_blank\"><span style=\"color: #7f7f7f; text-decoration-color: #7f7f7f\">fbref.py</span></a><span style=\"color: #7f7f7f; text-decoration-color: #7f7f7f\">:</span><a href=\"file://C:\\Users\\John\\anaconda3\\lib\\site-packages\\soccerdata\\fbref.py#679\" target=\"_blank\"><span style=\"color: #7f7f7f; text-decoration-color: #7f7f7f\">679</span></a>\n",
       "</pre>\n"
      ],
      "text/plain": [
       "\u001b[2;36m[01/22/23 01:15:14]\u001b[0m\u001b[2;36m \u001b[0m\u001b[34mINFO    \u001b[0m \u001b[1m[\u001b[0m\u001b[1;36m91\u001b[0m/\u001b[1;36m189\u001b[0m\u001b[1m]\u001b[0m Retrieving game with \u001b[33mid\u001b[0m=\u001b[35m06d00bcb\u001b[0m                                 \u001b]8;id=698260;file://C:\\Users\\John\\anaconda3\\lib\\site-packages\\soccerdata\\fbref.py\u001b\\\u001b[2mfbref.py\u001b[0m\u001b]8;;\u001b\\\u001b[2m:\u001b[0m\u001b]8;id=65489;file://C:\\Users\\John\\anaconda3\\lib\\site-packages\\soccerdata\\fbref.py#679\u001b\\\u001b[2m679\u001b[0m\u001b]8;;\u001b\\\n"
      ]
     },
     "metadata": {},
     "output_type": "display_data"
    },
    {
     "data": {
      "text/html": [
       "<pre style=\"white-space:pre;overflow-x:auto;line-height:normal;font-family:Menlo,'DejaVu Sans Mono',consolas,'Courier New',monospace\"><span style=\"color: #7fbfbf; text-decoration-color: #7fbfbf\">[01/22/23 01:15:18] </span><span style=\"color: #000080; text-decoration-color: #000080\">INFO    </span> <span style=\"font-weight: bold\">[</span><span style=\"color: #008080; text-decoration-color: #008080; font-weight: bold\">92</span>/<span style=\"color: #008080; text-decoration-color: #008080; font-weight: bold\">189</span><span style=\"font-weight: bold\">]</span> Retrieving game with <span style=\"color: #808000; text-decoration-color: #808000\">id</span>=<span style=\"color: #800080; text-decoration-color: #800080\">89ff6cd8</span>                                 <a href=\"file://C:\\Users\\John\\anaconda3\\lib\\site-packages\\soccerdata\\fbref.py\" target=\"_blank\"><span style=\"color: #7f7f7f; text-decoration-color: #7f7f7f\">fbref.py</span></a><span style=\"color: #7f7f7f; text-decoration-color: #7f7f7f\">:</span><a href=\"file://C:\\Users\\John\\anaconda3\\lib\\site-packages\\soccerdata\\fbref.py#679\" target=\"_blank\"><span style=\"color: #7f7f7f; text-decoration-color: #7f7f7f\">679</span></a>\n",
       "</pre>\n"
      ],
      "text/plain": [
       "\u001b[2;36m[01/22/23 01:15:18]\u001b[0m\u001b[2;36m \u001b[0m\u001b[34mINFO    \u001b[0m \u001b[1m[\u001b[0m\u001b[1;36m92\u001b[0m/\u001b[1;36m189\u001b[0m\u001b[1m]\u001b[0m Retrieving game with \u001b[33mid\u001b[0m=\u001b[35m89ff6cd8\u001b[0m                                 \u001b]8;id=154343;file://C:\\Users\\John\\anaconda3\\lib\\site-packages\\soccerdata\\fbref.py\u001b\\\u001b[2mfbref.py\u001b[0m\u001b]8;;\u001b\\\u001b[2m:\u001b[0m\u001b]8;id=898178;file://C:\\Users\\John\\anaconda3\\lib\\site-packages\\soccerdata\\fbref.py#679\u001b\\\u001b[2m679\u001b[0m\u001b]8;;\u001b\\\n"
      ]
     },
     "metadata": {},
     "output_type": "display_data"
    },
    {
     "data": {
      "text/html": [
       "<pre style=\"white-space:pre;overflow-x:auto;line-height:normal;font-family:Menlo,'DejaVu Sans Mono',consolas,'Courier New',monospace\"><span style=\"color: #7fbfbf; text-decoration-color: #7fbfbf\">[01/22/23 01:15:23] </span><span style=\"color: #000080; text-decoration-color: #000080\">INFO    </span> <span style=\"font-weight: bold\">[</span><span style=\"color: #008080; text-decoration-color: #008080; font-weight: bold\">93</span>/<span style=\"color: #008080; text-decoration-color: #008080; font-weight: bold\">189</span><span style=\"font-weight: bold\">]</span> Retrieving game with <span style=\"color: #808000; text-decoration-color: #808000\">id</span>=<span style=\"color: #800080; text-decoration-color: #800080\">627d2279</span>                                 <a href=\"file://C:\\Users\\John\\anaconda3\\lib\\site-packages\\soccerdata\\fbref.py\" target=\"_blank\"><span style=\"color: #7f7f7f; text-decoration-color: #7f7f7f\">fbref.py</span></a><span style=\"color: #7f7f7f; text-decoration-color: #7f7f7f\">:</span><a href=\"file://C:\\Users\\John\\anaconda3\\lib\\site-packages\\soccerdata\\fbref.py#679\" target=\"_blank\"><span style=\"color: #7f7f7f; text-decoration-color: #7f7f7f\">679</span></a>\n",
       "</pre>\n"
      ],
      "text/plain": [
       "\u001b[2;36m[01/22/23 01:15:23]\u001b[0m\u001b[2;36m \u001b[0m\u001b[34mINFO    \u001b[0m \u001b[1m[\u001b[0m\u001b[1;36m93\u001b[0m/\u001b[1;36m189\u001b[0m\u001b[1m]\u001b[0m Retrieving game with \u001b[33mid\u001b[0m=\u001b[35m627d2279\u001b[0m                                 \u001b]8;id=49251;file://C:\\Users\\John\\anaconda3\\lib\\site-packages\\soccerdata\\fbref.py\u001b\\\u001b[2mfbref.py\u001b[0m\u001b]8;;\u001b\\\u001b[2m:\u001b[0m\u001b]8;id=984906;file://C:\\Users\\John\\anaconda3\\lib\\site-packages\\soccerdata\\fbref.py#679\u001b\\\u001b[2m679\u001b[0m\u001b]8;;\u001b\\\n"
      ]
     },
     "metadata": {},
     "output_type": "display_data"
    },
    {
     "data": {
      "text/html": [
       "<pre style=\"white-space:pre;overflow-x:auto;line-height:normal;font-family:Menlo,'DejaVu Sans Mono',consolas,'Courier New',monospace\"><span style=\"color: #7fbfbf; text-decoration-color: #7fbfbf\">[01/22/23 01:15:27] </span><span style=\"color: #000080; text-decoration-color: #000080\">INFO    </span> <span style=\"font-weight: bold\">[</span><span style=\"color: #008080; text-decoration-color: #008080; font-weight: bold\">94</span>/<span style=\"color: #008080; text-decoration-color: #008080; font-weight: bold\">189</span><span style=\"font-weight: bold\">]</span> Retrieving game with <span style=\"color: #808000; text-decoration-color: #808000\">id</span>=<span style=\"color: #008080; text-decoration-color: #008080; font-weight: bold\">886e6108</span>                                 <a href=\"file://C:\\Users\\John\\anaconda3\\lib\\site-packages\\soccerdata\\fbref.py\" target=\"_blank\"><span style=\"color: #7f7f7f; text-decoration-color: #7f7f7f\">fbref.py</span></a><span style=\"color: #7f7f7f; text-decoration-color: #7f7f7f\">:</span><a href=\"file://C:\\Users\\John\\anaconda3\\lib\\site-packages\\soccerdata\\fbref.py#679\" target=\"_blank\"><span style=\"color: #7f7f7f; text-decoration-color: #7f7f7f\">679</span></a>\n",
       "</pre>\n"
      ],
      "text/plain": [
       "\u001b[2;36m[01/22/23 01:15:27]\u001b[0m\u001b[2;36m \u001b[0m\u001b[34mINFO    \u001b[0m \u001b[1m[\u001b[0m\u001b[1;36m94\u001b[0m/\u001b[1;36m189\u001b[0m\u001b[1m]\u001b[0m Retrieving game with \u001b[33mid\u001b[0m=\u001b[1;36m886e6108\u001b[0m                                 \u001b]8;id=905795;file://C:\\Users\\John\\anaconda3\\lib\\site-packages\\soccerdata\\fbref.py\u001b\\\u001b[2mfbref.py\u001b[0m\u001b]8;;\u001b\\\u001b[2m:\u001b[0m\u001b]8;id=608231;file://C:\\Users\\John\\anaconda3\\lib\\site-packages\\soccerdata\\fbref.py#679\u001b\\\u001b[2m679\u001b[0m\u001b]8;;\u001b\\\n"
      ]
     },
     "metadata": {},
     "output_type": "display_data"
    },
    {
     "data": {
      "text/html": [
       "<pre style=\"white-space:pre;overflow-x:auto;line-height:normal;font-family:Menlo,'DejaVu Sans Mono',consolas,'Courier New',monospace\"><span style=\"color: #7fbfbf; text-decoration-color: #7fbfbf\">[01/22/23 01:15:32] </span><span style=\"color: #000080; text-decoration-color: #000080\">INFO    </span> <span style=\"font-weight: bold\">[</span><span style=\"color: #008080; text-decoration-color: #008080; font-weight: bold\">95</span>/<span style=\"color: #008080; text-decoration-color: #008080; font-weight: bold\">189</span><span style=\"font-weight: bold\">]</span> Retrieving game with <span style=\"color: #808000; text-decoration-color: #808000\">id</span>=<span style=\"color: #800080; text-decoration-color: #800080\">a7976021</span>                                 <a href=\"file://C:\\Users\\John\\anaconda3\\lib\\site-packages\\soccerdata\\fbref.py\" target=\"_blank\"><span style=\"color: #7f7f7f; text-decoration-color: #7f7f7f\">fbref.py</span></a><span style=\"color: #7f7f7f; text-decoration-color: #7f7f7f\">:</span><a href=\"file://C:\\Users\\John\\anaconda3\\lib\\site-packages\\soccerdata\\fbref.py#679\" target=\"_blank\"><span style=\"color: #7f7f7f; text-decoration-color: #7f7f7f\">679</span></a>\n",
       "</pre>\n"
      ],
      "text/plain": [
       "\u001b[2;36m[01/22/23 01:15:32]\u001b[0m\u001b[2;36m \u001b[0m\u001b[34mINFO    \u001b[0m \u001b[1m[\u001b[0m\u001b[1;36m95\u001b[0m/\u001b[1;36m189\u001b[0m\u001b[1m]\u001b[0m Retrieving game with \u001b[33mid\u001b[0m=\u001b[35ma7976021\u001b[0m                                 \u001b]8;id=770438;file://C:\\Users\\John\\anaconda3\\lib\\site-packages\\soccerdata\\fbref.py\u001b\\\u001b[2mfbref.py\u001b[0m\u001b]8;;\u001b\\\u001b[2m:\u001b[0m\u001b]8;id=282592;file://C:\\Users\\John\\anaconda3\\lib\\site-packages\\soccerdata\\fbref.py#679\u001b\\\u001b[2m679\u001b[0m\u001b]8;;\u001b\\\n"
      ]
     },
     "metadata": {},
     "output_type": "display_data"
    },
    {
     "data": {
      "text/html": [
       "<pre style=\"white-space:pre;overflow-x:auto;line-height:normal;font-family:Menlo,'DejaVu Sans Mono',consolas,'Courier New',monospace\"><span style=\"color: #7fbfbf; text-decoration-color: #7fbfbf\">[01/22/23 01:15:36] </span><span style=\"color: #000080; text-decoration-color: #000080\">INFO    </span> <span style=\"font-weight: bold\">[</span><span style=\"color: #008080; text-decoration-color: #008080; font-weight: bold\">97</span>/<span style=\"color: #008080; text-decoration-color: #008080; font-weight: bold\">189</span><span style=\"font-weight: bold\">]</span> Retrieving game with <span style=\"color: #808000; text-decoration-color: #808000\">id</span>=<span style=\"color: #800080; text-decoration-color: #800080\">7db2a40a</span>                                 <a href=\"file://C:\\Users\\John\\anaconda3\\lib\\site-packages\\soccerdata\\fbref.py\" target=\"_blank\"><span style=\"color: #7f7f7f; text-decoration-color: #7f7f7f\">fbref.py</span></a><span style=\"color: #7f7f7f; text-decoration-color: #7f7f7f\">:</span><a href=\"file://C:\\Users\\John\\anaconda3\\lib\\site-packages\\soccerdata\\fbref.py#679\" target=\"_blank\"><span style=\"color: #7f7f7f; text-decoration-color: #7f7f7f\">679</span></a>\n",
       "</pre>\n"
      ],
      "text/plain": [
       "\u001b[2;36m[01/22/23 01:15:36]\u001b[0m\u001b[2;36m \u001b[0m\u001b[34mINFO    \u001b[0m \u001b[1m[\u001b[0m\u001b[1;36m97\u001b[0m/\u001b[1;36m189\u001b[0m\u001b[1m]\u001b[0m Retrieving game with \u001b[33mid\u001b[0m=\u001b[35m7db2a40a\u001b[0m                                 \u001b]8;id=778279;file://C:\\Users\\John\\anaconda3\\lib\\site-packages\\soccerdata\\fbref.py\u001b\\\u001b[2mfbref.py\u001b[0m\u001b]8;;\u001b\\\u001b[2m:\u001b[0m\u001b]8;id=719334;file://C:\\Users\\John\\anaconda3\\lib\\site-packages\\soccerdata\\fbref.py#679\u001b\\\u001b[2m679\u001b[0m\u001b]8;;\u001b\\\n"
      ]
     },
     "metadata": {},
     "output_type": "display_data"
    },
    {
     "data": {
      "text/html": [
       "<pre style=\"white-space:pre;overflow-x:auto;line-height:normal;font-family:Menlo,'DejaVu Sans Mono',consolas,'Courier New',monospace\"><span style=\"color: #7fbfbf; text-decoration-color: #7fbfbf\">[01/22/23 01:15:40] </span><span style=\"color: #000080; text-decoration-color: #000080\">INFO    </span> <span style=\"font-weight: bold\">[</span><span style=\"color: #008080; text-decoration-color: #008080; font-weight: bold\">98</span>/<span style=\"color: #008080; text-decoration-color: #008080; font-weight: bold\">189</span><span style=\"font-weight: bold\">]</span> Retrieving game with <span style=\"color: #808000; text-decoration-color: #808000\">id</span>=<span style=\"color: #800080; text-decoration-color: #800080\">3eeefbc5</span>                                 <a href=\"file://C:\\Users\\John\\anaconda3\\lib\\site-packages\\soccerdata\\fbref.py\" target=\"_blank\"><span style=\"color: #7f7f7f; text-decoration-color: #7f7f7f\">fbref.py</span></a><span style=\"color: #7f7f7f; text-decoration-color: #7f7f7f\">:</span><a href=\"file://C:\\Users\\John\\anaconda3\\lib\\site-packages\\soccerdata\\fbref.py#679\" target=\"_blank\"><span style=\"color: #7f7f7f; text-decoration-color: #7f7f7f\">679</span></a>\n",
       "</pre>\n"
      ],
      "text/plain": [
       "\u001b[2;36m[01/22/23 01:15:40]\u001b[0m\u001b[2;36m \u001b[0m\u001b[34mINFO    \u001b[0m \u001b[1m[\u001b[0m\u001b[1;36m98\u001b[0m/\u001b[1;36m189\u001b[0m\u001b[1m]\u001b[0m Retrieving game with \u001b[33mid\u001b[0m=\u001b[35m3eeefbc5\u001b[0m                                 \u001b]8;id=149745;file://C:\\Users\\John\\anaconda3\\lib\\site-packages\\soccerdata\\fbref.py\u001b\\\u001b[2mfbref.py\u001b[0m\u001b]8;;\u001b\\\u001b[2m:\u001b[0m\u001b]8;id=642938;file://C:\\Users\\John\\anaconda3\\lib\\site-packages\\soccerdata\\fbref.py#679\u001b\\\u001b[2m679\u001b[0m\u001b]8;;\u001b\\\n"
      ]
     },
     "metadata": {},
     "output_type": "display_data"
    },
    {
     "data": {
      "text/html": [
       "<pre style=\"white-space:pre;overflow-x:auto;line-height:normal;font-family:Menlo,'DejaVu Sans Mono',consolas,'Courier New',monospace\"><span style=\"color: #7fbfbf; text-decoration-color: #7fbfbf\">[01/22/23 01:15:44] </span><span style=\"color: #000080; text-decoration-color: #000080\">INFO    </span> <span style=\"font-weight: bold\">[</span><span style=\"color: #008080; text-decoration-color: #008080; font-weight: bold\">99</span>/<span style=\"color: #008080; text-decoration-color: #008080; font-weight: bold\">189</span><span style=\"font-weight: bold\">]</span> Retrieving game with <span style=\"color: #808000; text-decoration-color: #808000\">id</span>=<span style=\"color: #800080; text-decoration-color: #800080\">c83cb314</span>                                 <a href=\"file://C:\\Users\\John\\anaconda3\\lib\\site-packages\\soccerdata\\fbref.py\" target=\"_blank\"><span style=\"color: #7f7f7f; text-decoration-color: #7f7f7f\">fbref.py</span></a><span style=\"color: #7f7f7f; text-decoration-color: #7f7f7f\">:</span><a href=\"file://C:\\Users\\John\\anaconda3\\lib\\site-packages\\soccerdata\\fbref.py#679\" target=\"_blank\"><span style=\"color: #7f7f7f; text-decoration-color: #7f7f7f\">679</span></a>\n",
       "</pre>\n"
      ],
      "text/plain": [
       "\u001b[2;36m[01/22/23 01:15:44]\u001b[0m\u001b[2;36m \u001b[0m\u001b[34mINFO    \u001b[0m \u001b[1m[\u001b[0m\u001b[1;36m99\u001b[0m/\u001b[1;36m189\u001b[0m\u001b[1m]\u001b[0m Retrieving game with \u001b[33mid\u001b[0m=\u001b[35mc83cb314\u001b[0m                                 \u001b]8;id=794661;file://C:\\Users\\John\\anaconda3\\lib\\site-packages\\soccerdata\\fbref.py\u001b\\\u001b[2mfbref.py\u001b[0m\u001b]8;;\u001b\\\u001b[2m:\u001b[0m\u001b]8;id=641683;file://C:\\Users\\John\\anaconda3\\lib\\site-packages\\soccerdata\\fbref.py#679\u001b\\\u001b[2m679\u001b[0m\u001b]8;;\u001b\\\n"
      ]
     },
     "metadata": {},
     "output_type": "display_data"
    },
    {
     "data": {
      "text/html": [
       "<pre style=\"white-space:pre;overflow-x:auto;line-height:normal;font-family:Menlo,'DejaVu Sans Mono',consolas,'Courier New',monospace\"><span style=\"color: #7fbfbf; text-decoration-color: #7fbfbf\">[01/22/23 01:15:49] </span><span style=\"color: #000080; text-decoration-color: #000080\">INFO    </span> <span style=\"font-weight: bold\">[</span><span style=\"color: #008080; text-decoration-color: #008080; font-weight: bold\">100</span>/<span style=\"color: #008080; text-decoration-color: #008080; font-weight: bold\">189</span><span style=\"font-weight: bold\">]</span> Retrieving game with <span style=\"color: #808000; text-decoration-color: #808000\">id</span>=<span style=\"color: #800080; text-decoration-color: #800080\">864294c0</span>                                <a href=\"file://C:\\Users\\John\\anaconda3\\lib\\site-packages\\soccerdata\\fbref.py\" target=\"_blank\"><span style=\"color: #7f7f7f; text-decoration-color: #7f7f7f\">fbref.py</span></a><span style=\"color: #7f7f7f; text-decoration-color: #7f7f7f\">:</span><a href=\"file://C:\\Users\\John\\anaconda3\\lib\\site-packages\\soccerdata\\fbref.py#679\" target=\"_blank\"><span style=\"color: #7f7f7f; text-decoration-color: #7f7f7f\">679</span></a>\n",
       "</pre>\n"
      ],
      "text/plain": [
       "\u001b[2;36m[01/22/23 01:15:49]\u001b[0m\u001b[2;36m \u001b[0m\u001b[34mINFO    \u001b[0m \u001b[1m[\u001b[0m\u001b[1;36m100\u001b[0m/\u001b[1;36m189\u001b[0m\u001b[1m]\u001b[0m Retrieving game with \u001b[33mid\u001b[0m=\u001b[35m864294c0\u001b[0m                                \u001b]8;id=350799;file://C:\\Users\\John\\anaconda3\\lib\\site-packages\\soccerdata\\fbref.py\u001b\\\u001b[2mfbref.py\u001b[0m\u001b]8;;\u001b\\\u001b[2m:\u001b[0m\u001b]8;id=815543;file://C:\\Users\\John\\anaconda3\\lib\\site-packages\\soccerdata\\fbref.py#679\u001b\\\u001b[2m679\u001b[0m\u001b]8;;\u001b\\\n"
      ]
     },
     "metadata": {},
     "output_type": "display_data"
    },
    {
     "data": {
      "text/html": [
       "<pre style=\"white-space:pre;overflow-x:auto;line-height:normal;font-family:Menlo,'DejaVu Sans Mono',consolas,'Courier New',monospace\"><span style=\"color: #7fbfbf; text-decoration-color: #7fbfbf\">[01/22/23 01:15:53] </span><span style=\"color: #000080; text-decoration-color: #000080\">INFO    </span> <span style=\"font-weight: bold\">[</span><span style=\"color: #008080; text-decoration-color: #008080; font-weight: bold\">101</span>/<span style=\"color: #008080; text-decoration-color: #008080; font-weight: bold\">189</span><span style=\"font-weight: bold\">]</span> Retrieving game with <span style=\"color: #808000; text-decoration-color: #808000\">id</span>=<span style=\"color: #800080; text-decoration-color: #800080\">7dd42d3f</span>                                <a href=\"file://C:\\Users\\John\\anaconda3\\lib\\site-packages\\soccerdata\\fbref.py\" target=\"_blank\"><span style=\"color: #7f7f7f; text-decoration-color: #7f7f7f\">fbref.py</span></a><span style=\"color: #7f7f7f; text-decoration-color: #7f7f7f\">:</span><a href=\"file://C:\\Users\\John\\anaconda3\\lib\\site-packages\\soccerdata\\fbref.py#679\" target=\"_blank\"><span style=\"color: #7f7f7f; text-decoration-color: #7f7f7f\">679</span></a>\n",
       "</pre>\n"
      ],
      "text/plain": [
       "\u001b[2;36m[01/22/23 01:15:53]\u001b[0m\u001b[2;36m \u001b[0m\u001b[34mINFO    \u001b[0m \u001b[1m[\u001b[0m\u001b[1;36m101\u001b[0m/\u001b[1;36m189\u001b[0m\u001b[1m]\u001b[0m Retrieving game with \u001b[33mid\u001b[0m=\u001b[35m7dd42d3f\u001b[0m                                \u001b]8;id=573342;file://C:\\Users\\John\\anaconda3\\lib\\site-packages\\soccerdata\\fbref.py\u001b\\\u001b[2mfbref.py\u001b[0m\u001b]8;;\u001b\\\u001b[2m:\u001b[0m\u001b]8;id=486135;file://C:\\Users\\John\\anaconda3\\lib\\site-packages\\soccerdata\\fbref.py#679\u001b\\\u001b[2m679\u001b[0m\u001b]8;;\u001b\\\n"
      ]
     },
     "metadata": {},
     "output_type": "display_data"
    },
    {
     "data": {
      "text/html": [
       "<pre style=\"white-space:pre;overflow-x:auto;line-height:normal;font-family:Menlo,'DejaVu Sans Mono',consolas,'Courier New',monospace\"><span style=\"color: #7fbfbf; text-decoration-color: #7fbfbf\">[01/22/23 01:15:57] </span><span style=\"color: #000080; text-decoration-color: #000080\">INFO    </span> <span style=\"font-weight: bold\">[</span><span style=\"color: #008080; text-decoration-color: #008080; font-weight: bold\">102</span>/<span style=\"color: #008080; text-decoration-color: #008080; font-weight: bold\">189</span><span style=\"font-weight: bold\">]</span> Retrieving game with <span style=\"color: #808000; text-decoration-color: #808000\">id</span>=<span style=\"color: #800080; text-decoration-color: #800080\">84a48413</span>                                <a href=\"file://C:\\Users\\John\\anaconda3\\lib\\site-packages\\soccerdata\\fbref.py\" target=\"_blank\"><span style=\"color: #7f7f7f; text-decoration-color: #7f7f7f\">fbref.py</span></a><span style=\"color: #7f7f7f; text-decoration-color: #7f7f7f\">:</span><a href=\"file://C:\\Users\\John\\anaconda3\\lib\\site-packages\\soccerdata\\fbref.py#679\" target=\"_blank\"><span style=\"color: #7f7f7f; text-decoration-color: #7f7f7f\">679</span></a>\n",
       "</pre>\n"
      ],
      "text/plain": [
       "\u001b[2;36m[01/22/23 01:15:57]\u001b[0m\u001b[2;36m \u001b[0m\u001b[34mINFO    \u001b[0m \u001b[1m[\u001b[0m\u001b[1;36m102\u001b[0m/\u001b[1;36m189\u001b[0m\u001b[1m]\u001b[0m Retrieving game with \u001b[33mid\u001b[0m=\u001b[35m84a48413\u001b[0m                                \u001b]8;id=821300;file://C:\\Users\\John\\anaconda3\\lib\\site-packages\\soccerdata\\fbref.py\u001b\\\u001b[2mfbref.py\u001b[0m\u001b]8;;\u001b\\\u001b[2m:\u001b[0m\u001b]8;id=132568;file://C:\\Users\\John\\anaconda3\\lib\\site-packages\\soccerdata\\fbref.py#679\u001b\\\u001b[2m679\u001b[0m\u001b]8;;\u001b\\\n"
      ]
     },
     "metadata": {},
     "output_type": "display_data"
    },
    {
     "data": {
      "text/html": [
       "<pre style=\"white-space:pre;overflow-x:auto;line-height:normal;font-family:Menlo,'DejaVu Sans Mono',consolas,'Courier New',monospace\"><span style=\"color: #7fbfbf; text-decoration-color: #7fbfbf\">[01/22/23 01:16:02] </span><span style=\"color: #000080; text-decoration-color: #000080\">INFO    </span> <span style=\"font-weight: bold\">[</span><span style=\"color: #008080; text-decoration-color: #008080; font-weight: bold\">103</span>/<span style=\"color: #008080; text-decoration-color: #008080; font-weight: bold\">189</span><span style=\"font-weight: bold\">]</span> Retrieving game with <span style=\"color: #808000; text-decoration-color: #808000\">id</span>=<span style=\"color: #800080; text-decoration-color: #800080\">f9563020</span>                                <a href=\"file://C:\\Users\\John\\anaconda3\\lib\\site-packages\\soccerdata\\fbref.py\" target=\"_blank\"><span style=\"color: #7f7f7f; text-decoration-color: #7f7f7f\">fbref.py</span></a><span style=\"color: #7f7f7f; text-decoration-color: #7f7f7f\">:</span><a href=\"file://C:\\Users\\John\\anaconda3\\lib\\site-packages\\soccerdata\\fbref.py#679\" target=\"_blank\"><span style=\"color: #7f7f7f; text-decoration-color: #7f7f7f\">679</span></a>\n",
       "</pre>\n"
      ],
      "text/plain": [
       "\u001b[2;36m[01/22/23 01:16:02]\u001b[0m\u001b[2;36m \u001b[0m\u001b[34mINFO    \u001b[0m \u001b[1m[\u001b[0m\u001b[1;36m103\u001b[0m/\u001b[1;36m189\u001b[0m\u001b[1m]\u001b[0m Retrieving game with \u001b[33mid\u001b[0m=\u001b[35mf9563020\u001b[0m                                \u001b]8;id=786138;file://C:\\Users\\John\\anaconda3\\lib\\site-packages\\soccerdata\\fbref.py\u001b\\\u001b[2mfbref.py\u001b[0m\u001b]8;;\u001b\\\u001b[2m:\u001b[0m\u001b]8;id=36322;file://C:\\Users\\John\\anaconda3\\lib\\site-packages\\soccerdata\\fbref.py#679\u001b\\\u001b[2m679\u001b[0m\u001b]8;;\u001b\\\n"
      ]
     },
     "metadata": {},
     "output_type": "display_data"
    },
    {
     "data": {
      "text/html": [
       "<pre style=\"white-space:pre;overflow-x:auto;line-height:normal;font-family:Menlo,'DejaVu Sans Mono',consolas,'Courier New',monospace\"><span style=\"color: #7fbfbf; text-decoration-color: #7fbfbf\">[01/22/23 01:16:06] </span><span style=\"color: #000080; text-decoration-color: #000080\">INFO    </span> <span style=\"font-weight: bold\">[</span><span style=\"color: #008080; text-decoration-color: #008080; font-weight: bold\">104</span>/<span style=\"color: #008080; text-decoration-color: #008080; font-weight: bold\">189</span><span style=\"font-weight: bold\">]</span> Retrieving game with <span style=\"color: #808000; text-decoration-color: #808000\">id</span>=<span style=\"color: #800080; text-decoration-color: #800080\">5d426690</span>                                <a href=\"file://C:\\Users\\John\\anaconda3\\lib\\site-packages\\soccerdata\\fbref.py\" target=\"_blank\"><span style=\"color: #7f7f7f; text-decoration-color: #7f7f7f\">fbref.py</span></a><span style=\"color: #7f7f7f; text-decoration-color: #7f7f7f\">:</span><a href=\"file://C:\\Users\\John\\anaconda3\\lib\\site-packages\\soccerdata\\fbref.py#679\" target=\"_blank\"><span style=\"color: #7f7f7f; text-decoration-color: #7f7f7f\">679</span></a>\n",
       "</pre>\n"
      ],
      "text/plain": [
       "\u001b[2;36m[01/22/23 01:16:06]\u001b[0m\u001b[2;36m \u001b[0m\u001b[34mINFO    \u001b[0m \u001b[1m[\u001b[0m\u001b[1;36m104\u001b[0m/\u001b[1;36m189\u001b[0m\u001b[1m]\u001b[0m Retrieving game with \u001b[33mid\u001b[0m=\u001b[35m5d426690\u001b[0m                                \u001b]8;id=908721;file://C:\\Users\\John\\anaconda3\\lib\\site-packages\\soccerdata\\fbref.py\u001b\\\u001b[2mfbref.py\u001b[0m\u001b]8;;\u001b\\\u001b[2m:\u001b[0m\u001b]8;id=393093;file://C:\\Users\\John\\anaconda3\\lib\\site-packages\\soccerdata\\fbref.py#679\u001b\\\u001b[2m679\u001b[0m\u001b]8;;\u001b\\\n"
      ]
     },
     "metadata": {},
     "output_type": "display_data"
    },
    {
     "data": {
      "text/html": [
       "<pre style=\"white-space:pre;overflow-x:auto;line-height:normal;font-family:Menlo,'DejaVu Sans Mono',consolas,'Courier New',monospace\"><span style=\"color: #7fbfbf; text-decoration-color: #7fbfbf\">[01/22/23 01:16:10] </span><span style=\"color: #000080; text-decoration-color: #000080\">INFO    </span> <span style=\"font-weight: bold\">[</span><span style=\"color: #008080; text-decoration-color: #008080; font-weight: bold\">105</span>/<span style=\"color: #008080; text-decoration-color: #008080; font-weight: bold\">189</span><span style=\"font-weight: bold\">]</span> Retrieving game with <span style=\"color: #808000; text-decoration-color: #808000\">id</span>=<span style=\"color: #800080; text-decoration-color: #800080\">42e38f9d</span>                                <a href=\"file://C:\\Users\\John\\anaconda3\\lib\\site-packages\\soccerdata\\fbref.py\" target=\"_blank\"><span style=\"color: #7f7f7f; text-decoration-color: #7f7f7f\">fbref.py</span></a><span style=\"color: #7f7f7f; text-decoration-color: #7f7f7f\">:</span><a href=\"file://C:\\Users\\John\\anaconda3\\lib\\site-packages\\soccerdata\\fbref.py#679\" target=\"_blank\"><span style=\"color: #7f7f7f; text-decoration-color: #7f7f7f\">679</span></a>\n",
       "</pre>\n"
      ],
      "text/plain": [
       "\u001b[2;36m[01/22/23 01:16:10]\u001b[0m\u001b[2;36m \u001b[0m\u001b[34mINFO    \u001b[0m \u001b[1m[\u001b[0m\u001b[1;36m105\u001b[0m/\u001b[1;36m189\u001b[0m\u001b[1m]\u001b[0m Retrieving game with \u001b[33mid\u001b[0m=\u001b[35m42e38f9d\u001b[0m                                \u001b]8;id=794506;file://C:\\Users\\John\\anaconda3\\lib\\site-packages\\soccerdata\\fbref.py\u001b\\\u001b[2mfbref.py\u001b[0m\u001b]8;;\u001b\\\u001b[2m:\u001b[0m\u001b]8;id=532352;file://C:\\Users\\John\\anaconda3\\lib\\site-packages\\soccerdata\\fbref.py#679\u001b\\\u001b[2m679\u001b[0m\u001b]8;;\u001b\\\n"
      ]
     },
     "metadata": {},
     "output_type": "display_data"
    },
    {
     "data": {
      "text/html": [
       "<pre style=\"white-space:pre;overflow-x:auto;line-height:normal;font-family:Menlo,'DejaVu Sans Mono',consolas,'Courier New',monospace\"><span style=\"color: #7fbfbf; text-decoration-color: #7fbfbf\">[01/22/23 01:16:15] </span><span style=\"color: #000080; text-decoration-color: #000080\">INFO    </span> <span style=\"font-weight: bold\">[</span><span style=\"color: #008080; text-decoration-color: #008080; font-weight: bold\">106</span>/<span style=\"color: #008080; text-decoration-color: #008080; font-weight: bold\">189</span><span style=\"font-weight: bold\">]</span> Retrieving game with <span style=\"color: #808000; text-decoration-color: #808000\">id</span>=<span style=\"color: #800080; text-decoration-color: #800080\">fb99ddf9</span>                                <a href=\"file://C:\\Users\\John\\anaconda3\\lib\\site-packages\\soccerdata\\fbref.py\" target=\"_blank\"><span style=\"color: #7f7f7f; text-decoration-color: #7f7f7f\">fbref.py</span></a><span style=\"color: #7f7f7f; text-decoration-color: #7f7f7f\">:</span><a href=\"file://C:\\Users\\John\\anaconda3\\lib\\site-packages\\soccerdata\\fbref.py#679\" target=\"_blank\"><span style=\"color: #7f7f7f; text-decoration-color: #7f7f7f\">679</span></a>\n",
       "</pre>\n"
      ],
      "text/plain": [
       "\u001b[2;36m[01/22/23 01:16:15]\u001b[0m\u001b[2;36m \u001b[0m\u001b[34mINFO    \u001b[0m \u001b[1m[\u001b[0m\u001b[1;36m106\u001b[0m/\u001b[1;36m189\u001b[0m\u001b[1m]\u001b[0m Retrieving game with \u001b[33mid\u001b[0m=\u001b[35mfb99ddf9\u001b[0m                                \u001b]8;id=753933;file://C:\\Users\\John\\anaconda3\\lib\\site-packages\\soccerdata\\fbref.py\u001b\\\u001b[2mfbref.py\u001b[0m\u001b]8;;\u001b\\\u001b[2m:\u001b[0m\u001b]8;id=186820;file://C:\\Users\\John\\anaconda3\\lib\\site-packages\\soccerdata\\fbref.py#679\u001b\\\u001b[2m679\u001b[0m\u001b]8;;\u001b\\\n"
      ]
     },
     "metadata": {},
     "output_type": "display_data"
    },
    {
     "data": {
      "text/html": [
       "<pre style=\"white-space:pre;overflow-x:auto;line-height:normal;font-family:Menlo,'DejaVu Sans Mono',consolas,'Courier New',monospace\"><span style=\"color: #7fbfbf; text-decoration-color: #7fbfbf\">[01/22/23 01:16:19] </span><span style=\"color: #000080; text-decoration-color: #000080\">INFO    </span> <span style=\"font-weight: bold\">[</span><span style=\"color: #008080; text-decoration-color: #008080; font-weight: bold\">108</span>/<span style=\"color: #008080; text-decoration-color: #008080; font-weight: bold\">189</span><span style=\"font-weight: bold\">]</span> Retrieving game with <span style=\"color: #808000; text-decoration-color: #808000\">id</span>=<span style=\"color: #008080; text-decoration-color: #008080; font-weight: bold\">69409682</span>                                <a href=\"file://C:\\Users\\John\\anaconda3\\lib\\site-packages\\soccerdata\\fbref.py\" target=\"_blank\"><span style=\"color: #7f7f7f; text-decoration-color: #7f7f7f\">fbref.py</span></a><span style=\"color: #7f7f7f; text-decoration-color: #7f7f7f\">:</span><a href=\"file://C:\\Users\\John\\anaconda3\\lib\\site-packages\\soccerdata\\fbref.py#679\" target=\"_blank\"><span style=\"color: #7f7f7f; text-decoration-color: #7f7f7f\">679</span></a>\n",
       "</pre>\n"
      ],
      "text/plain": [
       "\u001b[2;36m[01/22/23 01:16:19]\u001b[0m\u001b[2;36m \u001b[0m\u001b[34mINFO    \u001b[0m \u001b[1m[\u001b[0m\u001b[1;36m108\u001b[0m/\u001b[1;36m189\u001b[0m\u001b[1m]\u001b[0m Retrieving game with \u001b[33mid\u001b[0m=\u001b[1;36m69409682\u001b[0m                                \u001b]8;id=185065;file://C:\\Users\\John\\anaconda3\\lib\\site-packages\\soccerdata\\fbref.py\u001b\\\u001b[2mfbref.py\u001b[0m\u001b]8;;\u001b\\\u001b[2m:\u001b[0m\u001b]8;id=72399;file://C:\\Users\\John\\anaconda3\\lib\\site-packages\\soccerdata\\fbref.py#679\u001b\\\u001b[2m679\u001b[0m\u001b]8;;\u001b\\\n"
      ]
     },
     "metadata": {},
     "output_type": "display_data"
    },
    {
     "data": {
      "text/html": [
       "<pre style=\"white-space:pre;overflow-x:auto;line-height:normal;font-family:Menlo,'DejaVu Sans Mono',consolas,'Courier New',monospace\"><span style=\"color: #7fbfbf; text-decoration-color: #7fbfbf\">[01/22/23 01:16:23] </span><span style=\"color: #000080; text-decoration-color: #000080\">INFO    </span> <span style=\"font-weight: bold\">[</span><span style=\"color: #008080; text-decoration-color: #008080; font-weight: bold\">109</span>/<span style=\"color: #008080; text-decoration-color: #008080; font-weight: bold\">189</span><span style=\"font-weight: bold\">]</span> Retrieving game with <span style=\"color: #808000; text-decoration-color: #808000\">id</span>=<span style=\"color: #800080; text-decoration-color: #800080\">ab7f61dd</span>                                <a href=\"file://C:\\Users\\John\\anaconda3\\lib\\site-packages\\soccerdata\\fbref.py\" target=\"_blank\"><span style=\"color: #7f7f7f; text-decoration-color: #7f7f7f\">fbref.py</span></a><span style=\"color: #7f7f7f; text-decoration-color: #7f7f7f\">:</span><a href=\"file://C:\\Users\\John\\anaconda3\\lib\\site-packages\\soccerdata\\fbref.py#679\" target=\"_blank\"><span style=\"color: #7f7f7f; text-decoration-color: #7f7f7f\">679</span></a>\n",
       "</pre>\n"
      ],
      "text/plain": [
       "\u001b[2;36m[01/22/23 01:16:23]\u001b[0m\u001b[2;36m \u001b[0m\u001b[34mINFO    \u001b[0m \u001b[1m[\u001b[0m\u001b[1;36m109\u001b[0m/\u001b[1;36m189\u001b[0m\u001b[1m]\u001b[0m Retrieving game with \u001b[33mid\u001b[0m=\u001b[35mab7f61dd\u001b[0m                                \u001b]8;id=897686;file://C:\\Users\\John\\anaconda3\\lib\\site-packages\\soccerdata\\fbref.py\u001b\\\u001b[2mfbref.py\u001b[0m\u001b]8;;\u001b\\\u001b[2m:\u001b[0m\u001b]8;id=394129;file://C:\\Users\\John\\anaconda3\\lib\\site-packages\\soccerdata\\fbref.py#679\u001b\\\u001b[2m679\u001b[0m\u001b]8;;\u001b\\\n"
      ]
     },
     "metadata": {},
     "output_type": "display_data"
    },
    {
     "data": {
      "text/html": [
       "<pre style=\"white-space:pre;overflow-x:auto;line-height:normal;font-family:Menlo,'DejaVu Sans Mono',consolas,'Courier New',monospace\"><span style=\"color: #7fbfbf; text-decoration-color: #7fbfbf\">[01/22/23 01:16:27] </span><span style=\"color: #000080; text-decoration-color: #000080\">INFO    </span> <span style=\"font-weight: bold\">[</span><span style=\"color: #008080; text-decoration-color: #008080; font-weight: bold\">110</span>/<span style=\"color: #008080; text-decoration-color: #008080; font-weight: bold\">189</span><span style=\"font-weight: bold\">]</span> Retrieving game with <span style=\"color: #808000; text-decoration-color: #808000\">id</span>=<span style=\"color: #008080; text-decoration-color: #008080; font-weight: bold\">37677e58</span>                                <a href=\"file://C:\\Users\\John\\anaconda3\\lib\\site-packages\\soccerdata\\fbref.py\" target=\"_blank\"><span style=\"color: #7f7f7f; text-decoration-color: #7f7f7f\">fbref.py</span></a><span style=\"color: #7f7f7f; text-decoration-color: #7f7f7f\">:</span><a href=\"file://C:\\Users\\John\\anaconda3\\lib\\site-packages\\soccerdata\\fbref.py#679\" target=\"_blank\"><span style=\"color: #7f7f7f; text-decoration-color: #7f7f7f\">679</span></a>\n",
       "</pre>\n"
      ],
      "text/plain": [
       "\u001b[2;36m[01/22/23 01:16:27]\u001b[0m\u001b[2;36m \u001b[0m\u001b[34mINFO    \u001b[0m \u001b[1m[\u001b[0m\u001b[1;36m110\u001b[0m/\u001b[1;36m189\u001b[0m\u001b[1m]\u001b[0m Retrieving game with \u001b[33mid\u001b[0m=\u001b[1;36m37677e58\u001b[0m                                \u001b]8;id=864502;file://C:\\Users\\John\\anaconda3\\lib\\site-packages\\soccerdata\\fbref.py\u001b\\\u001b[2mfbref.py\u001b[0m\u001b]8;;\u001b\\\u001b[2m:\u001b[0m\u001b]8;id=821681;file://C:\\Users\\John\\anaconda3\\lib\\site-packages\\soccerdata\\fbref.py#679\u001b\\\u001b[2m679\u001b[0m\u001b]8;;\u001b\\\n"
      ]
     },
     "metadata": {},
     "output_type": "display_data"
    },
    {
     "data": {
      "text/html": [
       "<pre style=\"white-space:pre;overflow-x:auto;line-height:normal;font-family:Menlo,'DejaVu Sans Mono',consolas,'Courier New',monospace\"><span style=\"color: #7fbfbf; text-decoration-color: #7fbfbf\">[01/22/23 01:16:31] </span><span style=\"color: #000080; text-decoration-color: #000080\">INFO    </span> <span style=\"font-weight: bold\">[</span><span style=\"color: #008080; text-decoration-color: #008080; font-weight: bold\">111</span>/<span style=\"color: #008080; text-decoration-color: #008080; font-weight: bold\">189</span><span style=\"font-weight: bold\">]</span> Retrieving game with <span style=\"color: #808000; text-decoration-color: #808000\">id</span>=<span style=\"color: #800080; text-decoration-color: #800080\">e42493f9</span>                                <a href=\"file://C:\\Users\\John\\anaconda3\\lib\\site-packages\\soccerdata\\fbref.py\" target=\"_blank\"><span style=\"color: #7f7f7f; text-decoration-color: #7f7f7f\">fbref.py</span></a><span style=\"color: #7f7f7f; text-decoration-color: #7f7f7f\">:</span><a href=\"file://C:\\Users\\John\\anaconda3\\lib\\site-packages\\soccerdata\\fbref.py#679\" target=\"_blank\"><span style=\"color: #7f7f7f; text-decoration-color: #7f7f7f\">679</span></a>\n",
       "</pre>\n"
      ],
      "text/plain": [
       "\u001b[2;36m[01/22/23 01:16:31]\u001b[0m\u001b[2;36m \u001b[0m\u001b[34mINFO    \u001b[0m \u001b[1m[\u001b[0m\u001b[1;36m111\u001b[0m/\u001b[1;36m189\u001b[0m\u001b[1m]\u001b[0m Retrieving game with \u001b[33mid\u001b[0m=\u001b[35me42493f9\u001b[0m                                \u001b]8;id=242998;file://C:\\Users\\John\\anaconda3\\lib\\site-packages\\soccerdata\\fbref.py\u001b\\\u001b[2mfbref.py\u001b[0m\u001b]8;;\u001b\\\u001b[2m:\u001b[0m\u001b]8;id=543341;file://C:\\Users\\John\\anaconda3\\lib\\site-packages\\soccerdata\\fbref.py#679\u001b\\\u001b[2m679\u001b[0m\u001b]8;;\u001b\\\n"
      ]
     },
     "metadata": {},
     "output_type": "display_data"
    },
    {
     "data": {
      "text/html": [
       "<pre style=\"white-space:pre;overflow-x:auto;line-height:normal;font-family:Menlo,'DejaVu Sans Mono',consolas,'Courier New',monospace\"><span style=\"color: #7fbfbf; text-decoration-color: #7fbfbf\">[01/22/23 01:16:35] </span><span style=\"color: #000080; text-decoration-color: #000080\">INFO    </span> <span style=\"font-weight: bold\">[</span><span style=\"color: #008080; text-decoration-color: #008080; font-weight: bold\">112</span>/<span style=\"color: #008080; text-decoration-color: #008080; font-weight: bold\">189</span><span style=\"font-weight: bold\">]</span> Retrieving game with <span style=\"color: #808000; text-decoration-color: #808000\">id</span>=<span style=\"color: #800080; text-decoration-color: #800080\">c9f8e7e9</span>                                <a href=\"file://C:\\Users\\John\\anaconda3\\lib\\site-packages\\soccerdata\\fbref.py\" target=\"_blank\"><span style=\"color: #7f7f7f; text-decoration-color: #7f7f7f\">fbref.py</span></a><span style=\"color: #7f7f7f; text-decoration-color: #7f7f7f\">:</span><a href=\"file://C:\\Users\\John\\anaconda3\\lib\\site-packages\\soccerdata\\fbref.py#679\" target=\"_blank\"><span style=\"color: #7f7f7f; text-decoration-color: #7f7f7f\">679</span></a>\n",
       "</pre>\n"
      ],
      "text/plain": [
       "\u001b[2;36m[01/22/23 01:16:35]\u001b[0m\u001b[2;36m \u001b[0m\u001b[34mINFO    \u001b[0m \u001b[1m[\u001b[0m\u001b[1;36m112\u001b[0m/\u001b[1;36m189\u001b[0m\u001b[1m]\u001b[0m Retrieving game with \u001b[33mid\u001b[0m=\u001b[35mc9f8e7e9\u001b[0m                                \u001b]8;id=402604;file://C:\\Users\\John\\anaconda3\\lib\\site-packages\\soccerdata\\fbref.py\u001b\\\u001b[2mfbref.py\u001b[0m\u001b]8;;\u001b\\\u001b[2m:\u001b[0m\u001b]8;id=247267;file://C:\\Users\\John\\anaconda3\\lib\\site-packages\\soccerdata\\fbref.py#679\u001b\\\u001b[2m679\u001b[0m\u001b]8;;\u001b\\\n"
      ]
     },
     "metadata": {},
     "output_type": "display_data"
    },
    {
     "data": {
      "text/html": [
       "<pre style=\"white-space:pre;overflow-x:auto;line-height:normal;font-family:Menlo,'DejaVu Sans Mono',consolas,'Courier New',monospace\"><span style=\"color: #7fbfbf; text-decoration-color: #7fbfbf\">[01/22/23 01:16:40] </span><span style=\"color: #000080; text-decoration-color: #000080\">INFO    </span> <span style=\"font-weight: bold\">[</span><span style=\"color: #008080; text-decoration-color: #008080; font-weight: bold\">113</span>/<span style=\"color: #008080; text-decoration-color: #008080; font-weight: bold\">189</span><span style=\"font-weight: bold\">]</span> Retrieving game with <span style=\"color: #808000; text-decoration-color: #808000\">id</span>=<span style=\"color: #800080; text-decoration-color: #800080\">7113ce7f</span>                                <a href=\"file://C:\\Users\\John\\anaconda3\\lib\\site-packages\\soccerdata\\fbref.py\" target=\"_blank\"><span style=\"color: #7f7f7f; text-decoration-color: #7f7f7f\">fbref.py</span></a><span style=\"color: #7f7f7f; text-decoration-color: #7f7f7f\">:</span><a href=\"file://C:\\Users\\John\\anaconda3\\lib\\site-packages\\soccerdata\\fbref.py#679\" target=\"_blank\"><span style=\"color: #7f7f7f; text-decoration-color: #7f7f7f\">679</span></a>\n",
       "</pre>\n"
      ],
      "text/plain": [
       "\u001b[2;36m[01/22/23 01:16:40]\u001b[0m\u001b[2;36m \u001b[0m\u001b[34mINFO    \u001b[0m \u001b[1m[\u001b[0m\u001b[1;36m113\u001b[0m/\u001b[1;36m189\u001b[0m\u001b[1m]\u001b[0m Retrieving game with \u001b[33mid\u001b[0m=\u001b[35m7113ce7f\u001b[0m                                \u001b]8;id=24863;file://C:\\Users\\John\\anaconda3\\lib\\site-packages\\soccerdata\\fbref.py\u001b\\\u001b[2mfbref.py\u001b[0m\u001b]8;;\u001b\\\u001b[2m:\u001b[0m\u001b]8;id=318076;file://C:\\Users\\John\\anaconda3\\lib\\site-packages\\soccerdata\\fbref.py#679\u001b\\\u001b[2m679\u001b[0m\u001b]8;;\u001b\\\n"
      ]
     },
     "metadata": {},
     "output_type": "display_data"
    },
    {
     "data": {
      "text/html": [
       "<pre style=\"white-space:pre;overflow-x:auto;line-height:normal;font-family:Menlo,'DejaVu Sans Mono',consolas,'Courier New',monospace\"><span style=\"color: #7fbfbf; text-decoration-color: #7fbfbf\">[01/22/23 01:16:44] </span><span style=\"color: #000080; text-decoration-color: #000080\">INFO    </span> <span style=\"font-weight: bold\">[</span><span style=\"color: #008080; text-decoration-color: #008080; font-weight: bold\">114</span>/<span style=\"color: #008080; text-decoration-color: #008080; font-weight: bold\">189</span><span style=\"font-weight: bold\">]</span> Retrieving game with <span style=\"color: #808000; text-decoration-color: #808000\">id</span>=<span style=\"color: #800080; text-decoration-color: #800080\">92885cfc</span>                                <a href=\"file://C:\\Users\\John\\anaconda3\\lib\\site-packages\\soccerdata\\fbref.py\" target=\"_blank\"><span style=\"color: #7f7f7f; text-decoration-color: #7f7f7f\">fbref.py</span></a><span style=\"color: #7f7f7f; text-decoration-color: #7f7f7f\">:</span><a href=\"file://C:\\Users\\John\\anaconda3\\lib\\site-packages\\soccerdata\\fbref.py#679\" target=\"_blank\"><span style=\"color: #7f7f7f; text-decoration-color: #7f7f7f\">679</span></a>\n",
       "</pre>\n"
      ],
      "text/plain": [
       "\u001b[2;36m[01/22/23 01:16:44]\u001b[0m\u001b[2;36m \u001b[0m\u001b[34mINFO    \u001b[0m \u001b[1m[\u001b[0m\u001b[1;36m114\u001b[0m/\u001b[1;36m189\u001b[0m\u001b[1m]\u001b[0m Retrieving game with \u001b[33mid\u001b[0m=\u001b[35m92885cfc\u001b[0m                                \u001b]8;id=548874;file://C:\\Users\\John\\anaconda3\\lib\\site-packages\\soccerdata\\fbref.py\u001b\\\u001b[2mfbref.py\u001b[0m\u001b]8;;\u001b\\\u001b[2m:\u001b[0m\u001b]8;id=48013;file://C:\\Users\\John\\anaconda3\\lib\\site-packages\\soccerdata\\fbref.py#679\u001b\\\u001b[2m679\u001b[0m\u001b]8;;\u001b\\\n"
      ]
     },
     "metadata": {},
     "output_type": "display_data"
    },
    {
     "data": {
      "text/html": [
       "<pre style=\"white-space:pre;overflow-x:auto;line-height:normal;font-family:Menlo,'DejaVu Sans Mono',consolas,'Courier New',monospace\"><span style=\"color: #7fbfbf; text-decoration-color: #7fbfbf\">[01/22/23 01:16:48] </span><span style=\"color: #000080; text-decoration-color: #000080\">INFO    </span> <span style=\"font-weight: bold\">[</span><span style=\"color: #008080; text-decoration-color: #008080; font-weight: bold\">115</span>/<span style=\"color: #008080; text-decoration-color: #008080; font-weight: bold\">189</span><span style=\"font-weight: bold\">]</span> Retrieving game with <span style=\"color: #808000; text-decoration-color: #808000\">id</span>=<span style=\"color: #800080; text-decoration-color: #800080\">2ed4b79f</span>                                <a href=\"file://C:\\Users\\John\\anaconda3\\lib\\site-packages\\soccerdata\\fbref.py\" target=\"_blank\"><span style=\"color: #7f7f7f; text-decoration-color: #7f7f7f\">fbref.py</span></a><span style=\"color: #7f7f7f; text-decoration-color: #7f7f7f\">:</span><a href=\"file://C:\\Users\\John\\anaconda3\\lib\\site-packages\\soccerdata\\fbref.py#679\" target=\"_blank\"><span style=\"color: #7f7f7f; text-decoration-color: #7f7f7f\">679</span></a>\n",
       "</pre>\n"
      ],
      "text/plain": [
       "\u001b[2;36m[01/22/23 01:16:48]\u001b[0m\u001b[2;36m \u001b[0m\u001b[34mINFO    \u001b[0m \u001b[1m[\u001b[0m\u001b[1;36m115\u001b[0m/\u001b[1;36m189\u001b[0m\u001b[1m]\u001b[0m Retrieving game with \u001b[33mid\u001b[0m=\u001b[35m2ed4b79f\u001b[0m                                \u001b]8;id=925364;file://C:\\Users\\John\\anaconda3\\lib\\site-packages\\soccerdata\\fbref.py\u001b\\\u001b[2mfbref.py\u001b[0m\u001b]8;;\u001b\\\u001b[2m:\u001b[0m\u001b]8;id=790336;file://C:\\Users\\John\\anaconda3\\lib\\site-packages\\soccerdata\\fbref.py#679\u001b\\\u001b[2m679\u001b[0m\u001b]8;;\u001b\\\n"
      ]
     },
     "metadata": {},
     "output_type": "display_data"
    },
    {
     "data": {
      "text/html": [
       "<pre style=\"white-space:pre;overflow-x:auto;line-height:normal;font-family:Menlo,'DejaVu Sans Mono',consolas,'Courier New',monospace\"><span style=\"color: #7fbfbf; text-decoration-color: #7fbfbf\">[01/22/23 01:16:52] </span><span style=\"color: #000080; text-decoration-color: #000080\">INFO    </span> <span style=\"font-weight: bold\">[</span><span style=\"color: #008080; text-decoration-color: #008080; font-weight: bold\">116</span>/<span style=\"color: #008080; text-decoration-color: #008080; font-weight: bold\">189</span><span style=\"font-weight: bold\">]</span> Retrieving game with <span style=\"color: #808000; text-decoration-color: #808000\">id</span>=<span style=\"color: #800080; text-decoration-color: #800080\">e0b9c72c</span>                                <a href=\"file://C:\\Users\\John\\anaconda3\\lib\\site-packages\\soccerdata\\fbref.py\" target=\"_blank\"><span style=\"color: #7f7f7f; text-decoration-color: #7f7f7f\">fbref.py</span></a><span style=\"color: #7f7f7f; text-decoration-color: #7f7f7f\">:</span><a href=\"file://C:\\Users\\John\\anaconda3\\lib\\site-packages\\soccerdata\\fbref.py#679\" target=\"_blank\"><span style=\"color: #7f7f7f; text-decoration-color: #7f7f7f\">679</span></a>\n",
       "</pre>\n"
      ],
      "text/plain": [
       "\u001b[2;36m[01/22/23 01:16:52]\u001b[0m\u001b[2;36m \u001b[0m\u001b[34mINFO    \u001b[0m \u001b[1m[\u001b[0m\u001b[1;36m116\u001b[0m/\u001b[1;36m189\u001b[0m\u001b[1m]\u001b[0m Retrieving game with \u001b[33mid\u001b[0m=\u001b[35me0b9c72c\u001b[0m                                \u001b]8;id=494103;file://C:\\Users\\John\\anaconda3\\lib\\site-packages\\soccerdata\\fbref.py\u001b\\\u001b[2mfbref.py\u001b[0m\u001b]8;;\u001b\\\u001b[2m:\u001b[0m\u001b]8;id=885899;file://C:\\Users\\John\\anaconda3\\lib\\site-packages\\soccerdata\\fbref.py#679\u001b\\\u001b[2m679\u001b[0m\u001b]8;;\u001b\\\n"
      ]
     },
     "metadata": {},
     "output_type": "display_data"
    },
    {
     "data": {
      "text/html": [
       "<pre style=\"white-space:pre;overflow-x:auto;line-height:normal;font-family:Menlo,'DejaVu Sans Mono',consolas,'Courier New',monospace\"><span style=\"color: #7fbfbf; text-decoration-color: #7fbfbf\">[01/22/23 01:16:57] </span><span style=\"color: #000080; text-decoration-color: #000080\">INFO    </span> <span style=\"font-weight: bold\">[</span><span style=\"color: #008080; text-decoration-color: #008080; font-weight: bold\">117</span>/<span style=\"color: #008080; text-decoration-color: #008080; font-weight: bold\">189</span><span style=\"font-weight: bold\">]</span> Retrieving game with <span style=\"color: #808000; text-decoration-color: #808000\">id</span>=<span style=\"color: #800080; text-decoration-color: #800080\">2f5adfad</span>                                <a href=\"file://C:\\Users\\John\\anaconda3\\lib\\site-packages\\soccerdata\\fbref.py\" target=\"_blank\"><span style=\"color: #7f7f7f; text-decoration-color: #7f7f7f\">fbref.py</span></a><span style=\"color: #7f7f7f; text-decoration-color: #7f7f7f\">:</span><a href=\"file://C:\\Users\\John\\anaconda3\\lib\\site-packages\\soccerdata\\fbref.py#679\" target=\"_blank\"><span style=\"color: #7f7f7f; text-decoration-color: #7f7f7f\">679</span></a>\n",
       "</pre>\n"
      ],
      "text/plain": [
       "\u001b[2;36m[01/22/23 01:16:57]\u001b[0m\u001b[2;36m \u001b[0m\u001b[34mINFO    \u001b[0m \u001b[1m[\u001b[0m\u001b[1;36m117\u001b[0m/\u001b[1;36m189\u001b[0m\u001b[1m]\u001b[0m Retrieving game with \u001b[33mid\u001b[0m=\u001b[35m2f5adfad\u001b[0m                                \u001b]8;id=367228;file://C:\\Users\\John\\anaconda3\\lib\\site-packages\\soccerdata\\fbref.py\u001b\\\u001b[2mfbref.py\u001b[0m\u001b]8;;\u001b\\\u001b[2m:\u001b[0m\u001b]8;id=518231;file://C:\\Users\\John\\anaconda3\\lib\\site-packages\\soccerdata\\fbref.py#679\u001b\\\u001b[2m679\u001b[0m\u001b]8;;\u001b\\\n"
      ]
     },
     "metadata": {},
     "output_type": "display_data"
    },
    {
     "data": {
      "text/html": [
       "<pre style=\"white-space:pre;overflow-x:auto;line-height:normal;font-family:Menlo,'DejaVu Sans Mono',consolas,'Courier New',monospace\"><span style=\"color: #7fbfbf; text-decoration-color: #7fbfbf\">[01/22/23 01:17:01] </span><span style=\"color: #000080; text-decoration-color: #000080\">INFO    </span> <span style=\"font-weight: bold\">[</span><span style=\"color: #008080; text-decoration-color: #008080; font-weight: bold\">119</span>/<span style=\"color: #008080; text-decoration-color: #008080; font-weight: bold\">189</span><span style=\"font-weight: bold\">]</span> Retrieving game with <span style=\"color: #808000; text-decoration-color: #808000\">id</span>=<span style=\"color: #800080; text-decoration-color: #800080\">4f876daa</span>                                <a href=\"file://C:\\Users\\John\\anaconda3\\lib\\site-packages\\soccerdata\\fbref.py\" target=\"_blank\"><span style=\"color: #7f7f7f; text-decoration-color: #7f7f7f\">fbref.py</span></a><span style=\"color: #7f7f7f; text-decoration-color: #7f7f7f\">:</span><a href=\"file://C:\\Users\\John\\anaconda3\\lib\\site-packages\\soccerdata\\fbref.py#679\" target=\"_blank\"><span style=\"color: #7f7f7f; text-decoration-color: #7f7f7f\">679</span></a>\n",
       "</pre>\n"
      ],
      "text/plain": [
       "\u001b[2;36m[01/22/23 01:17:01]\u001b[0m\u001b[2;36m \u001b[0m\u001b[34mINFO    \u001b[0m \u001b[1m[\u001b[0m\u001b[1;36m119\u001b[0m/\u001b[1;36m189\u001b[0m\u001b[1m]\u001b[0m Retrieving game with \u001b[33mid\u001b[0m=\u001b[35m4f876daa\u001b[0m                                \u001b]8;id=686738;file://C:\\Users\\John\\anaconda3\\lib\\site-packages\\soccerdata\\fbref.py\u001b\\\u001b[2mfbref.py\u001b[0m\u001b]8;;\u001b\\\u001b[2m:\u001b[0m\u001b]8;id=839783;file://C:\\Users\\John\\anaconda3\\lib\\site-packages\\soccerdata\\fbref.py#679\u001b\\\u001b[2m679\u001b[0m\u001b]8;;\u001b\\\n"
      ]
     },
     "metadata": {},
     "output_type": "display_data"
    },
    {
     "data": {
      "text/html": [
       "<pre style=\"white-space:pre;overflow-x:auto;line-height:normal;font-family:Menlo,'DejaVu Sans Mono',consolas,'Courier New',monospace\"><span style=\"color: #7fbfbf; text-decoration-color: #7fbfbf\">[01/22/23 01:17:05] </span><span style=\"color: #000080; text-decoration-color: #000080\">INFO    </span> <span style=\"font-weight: bold\">[</span><span style=\"color: #008080; text-decoration-color: #008080; font-weight: bold\">120</span>/<span style=\"color: #008080; text-decoration-color: #008080; font-weight: bold\">189</span><span style=\"font-weight: bold\">]</span> Retrieving game with <span style=\"color: #808000; text-decoration-color: #808000\">id</span>=<span style=\"color: #800080; text-decoration-color: #800080\">60705c6d</span>                                <a href=\"file://C:\\Users\\John\\anaconda3\\lib\\site-packages\\soccerdata\\fbref.py\" target=\"_blank\"><span style=\"color: #7f7f7f; text-decoration-color: #7f7f7f\">fbref.py</span></a><span style=\"color: #7f7f7f; text-decoration-color: #7f7f7f\">:</span><a href=\"file://C:\\Users\\John\\anaconda3\\lib\\site-packages\\soccerdata\\fbref.py#679\" target=\"_blank\"><span style=\"color: #7f7f7f; text-decoration-color: #7f7f7f\">679</span></a>\n",
       "</pre>\n"
      ],
      "text/plain": [
       "\u001b[2;36m[01/22/23 01:17:05]\u001b[0m\u001b[2;36m \u001b[0m\u001b[34mINFO    \u001b[0m \u001b[1m[\u001b[0m\u001b[1;36m120\u001b[0m/\u001b[1;36m189\u001b[0m\u001b[1m]\u001b[0m Retrieving game with \u001b[33mid\u001b[0m=\u001b[35m60705c6d\u001b[0m                                \u001b]8;id=776787;file://C:\\Users\\John\\anaconda3\\lib\\site-packages\\soccerdata\\fbref.py\u001b\\\u001b[2mfbref.py\u001b[0m\u001b]8;;\u001b\\\u001b[2m:\u001b[0m\u001b]8;id=452928;file://C:\\Users\\John\\anaconda3\\lib\\site-packages\\soccerdata\\fbref.py#679\u001b\\\u001b[2m679\u001b[0m\u001b]8;;\u001b\\\n"
      ]
     },
     "metadata": {},
     "output_type": "display_data"
    },
    {
     "data": {
      "text/html": [
       "<pre style=\"white-space:pre;overflow-x:auto;line-height:normal;font-family:Menlo,'DejaVu Sans Mono',consolas,'Courier New',monospace\"><span style=\"color: #7fbfbf; text-decoration-color: #7fbfbf\">[01/22/23 01:17:10] </span><span style=\"color: #000080; text-decoration-color: #000080\">INFO    </span> <span style=\"font-weight: bold\">[</span><span style=\"color: #008080; text-decoration-color: #008080; font-weight: bold\">121</span>/<span style=\"color: #008080; text-decoration-color: #008080; font-weight: bold\">189</span><span style=\"font-weight: bold\">]</span> Retrieving game with <span style=\"color: #808000; text-decoration-color: #808000\">id</span>=<span style=\"color: #800080; text-decoration-color: #800080\">8a2bb3b6</span>                                <a href=\"file://C:\\Users\\John\\anaconda3\\lib\\site-packages\\soccerdata\\fbref.py\" target=\"_blank\"><span style=\"color: #7f7f7f; text-decoration-color: #7f7f7f\">fbref.py</span></a><span style=\"color: #7f7f7f; text-decoration-color: #7f7f7f\">:</span><a href=\"file://C:\\Users\\John\\anaconda3\\lib\\site-packages\\soccerdata\\fbref.py#679\" target=\"_blank\"><span style=\"color: #7f7f7f; text-decoration-color: #7f7f7f\">679</span></a>\n",
       "</pre>\n"
      ],
      "text/plain": [
       "\u001b[2;36m[01/22/23 01:17:10]\u001b[0m\u001b[2;36m \u001b[0m\u001b[34mINFO    \u001b[0m \u001b[1m[\u001b[0m\u001b[1;36m121\u001b[0m/\u001b[1;36m189\u001b[0m\u001b[1m]\u001b[0m Retrieving game with \u001b[33mid\u001b[0m=\u001b[35m8a2bb3b6\u001b[0m                                \u001b]8;id=141851;file://C:\\Users\\John\\anaconda3\\lib\\site-packages\\soccerdata\\fbref.py\u001b\\\u001b[2mfbref.py\u001b[0m\u001b]8;;\u001b\\\u001b[2m:\u001b[0m\u001b]8;id=922628;file://C:\\Users\\John\\anaconda3\\lib\\site-packages\\soccerdata\\fbref.py#679\u001b\\\u001b[2m679\u001b[0m\u001b]8;;\u001b\\\n"
      ]
     },
     "metadata": {},
     "output_type": "display_data"
    },
    {
     "data": {
      "text/html": [
       "<pre style=\"white-space:pre;overflow-x:auto;line-height:normal;font-family:Menlo,'DejaVu Sans Mono',consolas,'Courier New',monospace\"><span style=\"color: #7fbfbf; text-decoration-color: #7fbfbf\">[01/22/23 01:17:14] </span><span style=\"color: #000080; text-decoration-color: #000080\">INFO    </span> <span style=\"font-weight: bold\">[</span><span style=\"color: #008080; text-decoration-color: #008080; font-weight: bold\">122</span>/<span style=\"color: #008080; text-decoration-color: #008080; font-weight: bold\">189</span><span style=\"font-weight: bold\">]</span> Retrieving game with <span style=\"color: #808000; text-decoration-color: #808000\">id</span>=<span style=\"color: #800080; text-decoration-color: #800080\">b7a32aeb</span>                                <a href=\"file://C:\\Users\\John\\anaconda3\\lib\\site-packages\\soccerdata\\fbref.py\" target=\"_blank\"><span style=\"color: #7f7f7f; text-decoration-color: #7f7f7f\">fbref.py</span></a><span style=\"color: #7f7f7f; text-decoration-color: #7f7f7f\">:</span><a href=\"file://C:\\Users\\John\\anaconda3\\lib\\site-packages\\soccerdata\\fbref.py#679\" target=\"_blank\"><span style=\"color: #7f7f7f; text-decoration-color: #7f7f7f\">679</span></a>\n",
       "</pre>\n"
      ],
      "text/plain": [
       "\u001b[2;36m[01/22/23 01:17:14]\u001b[0m\u001b[2;36m \u001b[0m\u001b[34mINFO    \u001b[0m \u001b[1m[\u001b[0m\u001b[1;36m122\u001b[0m/\u001b[1;36m189\u001b[0m\u001b[1m]\u001b[0m Retrieving game with \u001b[33mid\u001b[0m=\u001b[35mb7a32aeb\u001b[0m                                \u001b]8;id=975348;file://C:\\Users\\John\\anaconda3\\lib\\site-packages\\soccerdata\\fbref.py\u001b\\\u001b[2mfbref.py\u001b[0m\u001b]8;;\u001b\\\u001b[2m:\u001b[0m\u001b]8;id=686526;file://C:\\Users\\John\\anaconda3\\lib\\site-packages\\soccerdata\\fbref.py#679\u001b\\\u001b[2m679\u001b[0m\u001b]8;;\u001b\\\n"
      ]
     },
     "metadata": {},
     "output_type": "display_data"
    },
    {
     "data": {
      "text/html": [
       "<pre style=\"white-space:pre;overflow-x:auto;line-height:normal;font-family:Menlo,'DejaVu Sans Mono',consolas,'Courier New',monospace\"><span style=\"color: #7fbfbf; text-decoration-color: #7fbfbf\">[01/22/23 01:17:18] </span><span style=\"color: #000080; text-decoration-color: #000080\">INFO    </span> <span style=\"font-weight: bold\">[</span><span style=\"color: #008080; text-decoration-color: #008080; font-weight: bold\">123</span>/<span style=\"color: #008080; text-decoration-color: #008080; font-weight: bold\">189</span><span style=\"font-weight: bold\">]</span> Retrieving game with <span style=\"color: #808000; text-decoration-color: #808000\">id</span>=<span style=\"color: #800080; text-decoration-color: #800080\">dba5c5ec</span>                                <a href=\"file://C:\\Users\\John\\anaconda3\\lib\\site-packages\\soccerdata\\fbref.py\" target=\"_blank\"><span style=\"color: #7f7f7f; text-decoration-color: #7f7f7f\">fbref.py</span></a><span style=\"color: #7f7f7f; text-decoration-color: #7f7f7f\">:</span><a href=\"file://C:\\Users\\John\\anaconda3\\lib\\site-packages\\soccerdata\\fbref.py#679\" target=\"_blank\"><span style=\"color: #7f7f7f; text-decoration-color: #7f7f7f\">679</span></a>\n",
       "</pre>\n"
      ],
      "text/plain": [
       "\u001b[2;36m[01/22/23 01:17:18]\u001b[0m\u001b[2;36m \u001b[0m\u001b[34mINFO    \u001b[0m \u001b[1m[\u001b[0m\u001b[1;36m123\u001b[0m/\u001b[1;36m189\u001b[0m\u001b[1m]\u001b[0m Retrieving game with \u001b[33mid\u001b[0m=\u001b[35mdba5c5ec\u001b[0m                                \u001b]8;id=305613;file://C:\\Users\\John\\anaconda3\\lib\\site-packages\\soccerdata\\fbref.py\u001b\\\u001b[2mfbref.py\u001b[0m\u001b]8;;\u001b\\\u001b[2m:\u001b[0m\u001b]8;id=838485;file://C:\\Users\\John\\anaconda3\\lib\\site-packages\\soccerdata\\fbref.py#679\u001b\\\u001b[2m679\u001b[0m\u001b]8;;\u001b\\\n"
      ]
     },
     "metadata": {},
     "output_type": "display_data"
    },
    {
     "data": {
      "text/html": [
       "<pre style=\"white-space:pre;overflow-x:auto;line-height:normal;font-family:Menlo,'DejaVu Sans Mono',consolas,'Courier New',monospace\"><span style=\"color: #7fbfbf; text-decoration-color: #7fbfbf\">[01/22/23 01:17:22] </span><span style=\"color: #000080; text-decoration-color: #000080\">INFO    </span> <span style=\"font-weight: bold\">[</span><span style=\"color: #008080; text-decoration-color: #008080; font-weight: bold\">124</span>/<span style=\"color: #008080; text-decoration-color: #008080; font-weight: bold\">189</span><span style=\"font-weight: bold\">]</span> Retrieving game with <span style=\"color: #808000; text-decoration-color: #808000\">id</span>=<span style=\"color: #800080; text-decoration-color: #800080\">eebe78c1</span>                                <a href=\"file://C:\\Users\\John\\anaconda3\\lib\\site-packages\\soccerdata\\fbref.py\" target=\"_blank\"><span style=\"color: #7f7f7f; text-decoration-color: #7f7f7f\">fbref.py</span></a><span style=\"color: #7f7f7f; text-decoration-color: #7f7f7f\">:</span><a href=\"file://C:\\Users\\John\\anaconda3\\lib\\site-packages\\soccerdata\\fbref.py#679\" target=\"_blank\"><span style=\"color: #7f7f7f; text-decoration-color: #7f7f7f\">679</span></a>\n",
       "</pre>\n"
      ],
      "text/plain": [
       "\u001b[2;36m[01/22/23 01:17:22]\u001b[0m\u001b[2;36m \u001b[0m\u001b[34mINFO    \u001b[0m \u001b[1m[\u001b[0m\u001b[1;36m124\u001b[0m/\u001b[1;36m189\u001b[0m\u001b[1m]\u001b[0m Retrieving game with \u001b[33mid\u001b[0m=\u001b[35meebe78c1\u001b[0m                                \u001b]8;id=98815;file://C:\\Users\\John\\anaconda3\\lib\\site-packages\\soccerdata\\fbref.py\u001b\\\u001b[2mfbref.py\u001b[0m\u001b]8;;\u001b\\\u001b[2m:\u001b[0m\u001b]8;id=699025;file://C:\\Users\\John\\anaconda3\\lib\\site-packages\\soccerdata\\fbref.py#679\u001b\\\u001b[2m679\u001b[0m\u001b]8;;\u001b\\\n"
      ]
     },
     "metadata": {},
     "output_type": "display_data"
    },
    {
     "data": {
      "text/html": [
       "<pre style=\"white-space:pre;overflow-x:auto;line-height:normal;font-family:Menlo,'DejaVu Sans Mono',consolas,'Courier New',monospace\"><span style=\"color: #7fbfbf; text-decoration-color: #7fbfbf\">[01/22/23 01:17:27] </span><span style=\"color: #000080; text-decoration-color: #000080\">INFO    </span> <span style=\"font-weight: bold\">[</span><span style=\"color: #008080; text-decoration-color: #008080; font-weight: bold\">125</span>/<span style=\"color: #008080; text-decoration-color: #008080; font-weight: bold\">189</span><span style=\"font-weight: bold\">]</span> Retrieving game with <span style=\"color: #808000; text-decoration-color: #808000\">id</span>=<span style=\"color: #800080; text-decoration-color: #800080\">e6674f8d</span>                                <a href=\"file://C:\\Users\\John\\anaconda3\\lib\\site-packages\\soccerdata\\fbref.py\" target=\"_blank\"><span style=\"color: #7f7f7f; text-decoration-color: #7f7f7f\">fbref.py</span></a><span style=\"color: #7f7f7f; text-decoration-color: #7f7f7f\">:</span><a href=\"file://C:\\Users\\John\\anaconda3\\lib\\site-packages\\soccerdata\\fbref.py#679\" target=\"_blank\"><span style=\"color: #7f7f7f; text-decoration-color: #7f7f7f\">679</span></a>\n",
       "</pre>\n"
      ],
      "text/plain": [
       "\u001b[2;36m[01/22/23 01:17:27]\u001b[0m\u001b[2;36m \u001b[0m\u001b[34mINFO    \u001b[0m \u001b[1m[\u001b[0m\u001b[1;36m125\u001b[0m/\u001b[1;36m189\u001b[0m\u001b[1m]\u001b[0m Retrieving game with \u001b[33mid\u001b[0m=\u001b[35me6674f8d\u001b[0m                                \u001b]8;id=211096;file://C:\\Users\\John\\anaconda3\\lib\\site-packages\\soccerdata\\fbref.py\u001b\\\u001b[2mfbref.py\u001b[0m\u001b]8;;\u001b\\\u001b[2m:\u001b[0m\u001b]8;id=201424;file://C:\\Users\\John\\anaconda3\\lib\\site-packages\\soccerdata\\fbref.py#679\u001b\\\u001b[2m679\u001b[0m\u001b]8;;\u001b\\\n"
      ]
     },
     "metadata": {},
     "output_type": "display_data"
    },
    {
     "data": {
      "text/html": [
       "<pre style=\"white-space:pre;overflow-x:auto;line-height:normal;font-family:Menlo,'DejaVu Sans Mono',consolas,'Courier New',monospace\"><span style=\"color: #7fbfbf; text-decoration-color: #7fbfbf\">[01/22/23 01:17:31] </span><span style=\"color: #000080; text-decoration-color: #000080\">INFO    </span> <span style=\"font-weight: bold\">[</span><span style=\"color: #008080; text-decoration-color: #008080; font-weight: bold\">126</span>/<span style=\"color: #008080; text-decoration-color: #008080; font-weight: bold\">189</span><span style=\"font-weight: bold\">]</span> Retrieving game with <span style=\"color: #808000; text-decoration-color: #808000\">id</span>=<span style=\"color: #800080; text-decoration-color: #800080\">e6102606</span>                                <a href=\"file://C:\\Users\\John\\anaconda3\\lib\\site-packages\\soccerdata\\fbref.py\" target=\"_blank\"><span style=\"color: #7f7f7f; text-decoration-color: #7f7f7f\">fbref.py</span></a><span style=\"color: #7f7f7f; text-decoration-color: #7f7f7f\">:</span><a href=\"file://C:\\Users\\John\\anaconda3\\lib\\site-packages\\soccerdata\\fbref.py#679\" target=\"_blank\"><span style=\"color: #7f7f7f; text-decoration-color: #7f7f7f\">679</span></a>\n",
       "</pre>\n"
      ],
      "text/plain": [
       "\u001b[2;36m[01/22/23 01:17:31]\u001b[0m\u001b[2;36m \u001b[0m\u001b[34mINFO    \u001b[0m \u001b[1m[\u001b[0m\u001b[1;36m126\u001b[0m/\u001b[1;36m189\u001b[0m\u001b[1m]\u001b[0m Retrieving game with \u001b[33mid\u001b[0m=\u001b[35me6102606\u001b[0m                                \u001b]8;id=320186;file://C:\\Users\\John\\anaconda3\\lib\\site-packages\\soccerdata\\fbref.py\u001b\\\u001b[2mfbref.py\u001b[0m\u001b]8;;\u001b\\\u001b[2m:\u001b[0m\u001b]8;id=716721;file://C:\\Users\\John\\anaconda3\\lib\\site-packages\\soccerdata\\fbref.py#679\u001b\\\u001b[2m679\u001b[0m\u001b]8;;\u001b\\\n"
      ]
     },
     "metadata": {},
     "output_type": "display_data"
    },
    {
     "data": {
      "text/html": [
       "<pre style=\"white-space:pre;overflow-x:auto;line-height:normal;font-family:Menlo,'DejaVu Sans Mono',consolas,'Courier New',monospace\"><span style=\"color: #7fbfbf; text-decoration-color: #7fbfbf\">[01/22/23 01:17:35] </span><span style=\"color: #000080; text-decoration-color: #000080\">INFO    </span> <span style=\"font-weight: bold\">[</span><span style=\"color: #008080; text-decoration-color: #008080; font-weight: bold\">127</span>/<span style=\"color: #008080; text-decoration-color: #008080; font-weight: bold\">189</span><span style=\"font-weight: bold\">]</span> Retrieving game with <span style=\"color: #808000; text-decoration-color: #808000\">id</span>=<span style=\"color: #800080; text-decoration-color: #800080\">6356af5a</span>                                <a href=\"file://C:\\Users\\John\\anaconda3\\lib\\site-packages\\soccerdata\\fbref.py\" target=\"_blank\"><span style=\"color: #7f7f7f; text-decoration-color: #7f7f7f\">fbref.py</span></a><span style=\"color: #7f7f7f; text-decoration-color: #7f7f7f\">:</span><a href=\"file://C:\\Users\\John\\anaconda3\\lib\\site-packages\\soccerdata\\fbref.py#679\" target=\"_blank\"><span style=\"color: #7f7f7f; text-decoration-color: #7f7f7f\">679</span></a>\n",
       "</pre>\n"
      ],
      "text/plain": [
       "\u001b[2;36m[01/22/23 01:17:35]\u001b[0m\u001b[2;36m \u001b[0m\u001b[34mINFO    \u001b[0m \u001b[1m[\u001b[0m\u001b[1;36m127\u001b[0m/\u001b[1;36m189\u001b[0m\u001b[1m]\u001b[0m Retrieving game with \u001b[33mid\u001b[0m=\u001b[35m6356af5a\u001b[0m                                \u001b]8;id=44064;file://C:\\Users\\John\\anaconda3\\lib\\site-packages\\soccerdata\\fbref.py\u001b\\\u001b[2mfbref.py\u001b[0m\u001b]8;;\u001b\\\u001b[2m:\u001b[0m\u001b]8;id=859126;file://C:\\Users\\John\\anaconda3\\lib\\site-packages\\soccerdata\\fbref.py#679\u001b\\\u001b[2m679\u001b[0m\u001b]8;;\u001b\\\n"
      ]
     },
     "metadata": {},
     "output_type": "display_data"
    },
    {
     "data": {
      "text/html": [
       "<pre style=\"white-space:pre;overflow-x:auto;line-height:normal;font-family:Menlo,'DejaVu Sans Mono',consolas,'Courier New',monospace\"><span style=\"color: #7fbfbf; text-decoration-color: #7fbfbf\">[01/22/23 01:17:41] </span><span style=\"color: #000080; text-decoration-color: #000080\">INFO    </span> <span style=\"font-weight: bold\">[</span><span style=\"color: #008080; text-decoration-color: #008080; font-weight: bold\">129</span>/<span style=\"color: #008080; text-decoration-color: #008080; font-weight: bold\">189</span><span style=\"font-weight: bold\">]</span> Retrieving game with <span style=\"color: #808000; text-decoration-color: #808000\">id</span>=<span style=\"color: #800080; text-decoration-color: #800080\">7ad85c8a</span>                                <a href=\"file://C:\\Users\\John\\anaconda3\\lib\\site-packages\\soccerdata\\fbref.py\" target=\"_blank\"><span style=\"color: #7f7f7f; text-decoration-color: #7f7f7f\">fbref.py</span></a><span style=\"color: #7f7f7f; text-decoration-color: #7f7f7f\">:</span><a href=\"file://C:\\Users\\John\\anaconda3\\lib\\site-packages\\soccerdata\\fbref.py#679\" target=\"_blank\"><span style=\"color: #7f7f7f; text-decoration-color: #7f7f7f\">679</span></a>\n",
       "</pre>\n"
      ],
      "text/plain": [
       "\u001b[2;36m[01/22/23 01:17:41]\u001b[0m\u001b[2;36m \u001b[0m\u001b[34mINFO    \u001b[0m \u001b[1m[\u001b[0m\u001b[1;36m129\u001b[0m/\u001b[1;36m189\u001b[0m\u001b[1m]\u001b[0m Retrieving game with \u001b[33mid\u001b[0m=\u001b[35m7ad85c8a\u001b[0m                                \u001b]8;id=370836;file://C:\\Users\\John\\anaconda3\\lib\\site-packages\\soccerdata\\fbref.py\u001b\\\u001b[2mfbref.py\u001b[0m\u001b]8;;\u001b\\\u001b[2m:\u001b[0m\u001b]8;id=952075;file://C:\\Users\\John\\anaconda3\\lib\\site-packages\\soccerdata\\fbref.py#679\u001b\\\u001b[2m679\u001b[0m\u001b]8;;\u001b\\\n"
      ]
     },
     "metadata": {},
     "output_type": "display_data"
    },
    {
     "data": {
      "text/html": [
       "<pre style=\"white-space:pre;overflow-x:auto;line-height:normal;font-family:Menlo,'DejaVu Sans Mono',consolas,'Courier New',monospace\"><span style=\"color: #7fbfbf; text-decoration-color: #7fbfbf\">[01/22/23 01:17:45] </span><span style=\"color: #000080; text-decoration-color: #000080\">INFO    </span> <span style=\"font-weight: bold\">[</span><span style=\"color: #008080; text-decoration-color: #008080; font-weight: bold\">130</span>/<span style=\"color: #008080; text-decoration-color: #008080; font-weight: bold\">189</span><span style=\"font-weight: bold\">]</span> Retrieving game with <span style=\"color: #808000; text-decoration-color: #808000\">id</span>=<span style=\"color: #800080; text-decoration-color: #800080\">24d23a55</span>                                <a href=\"file://C:\\Users\\John\\anaconda3\\lib\\site-packages\\soccerdata\\fbref.py\" target=\"_blank\"><span style=\"color: #7f7f7f; text-decoration-color: #7f7f7f\">fbref.py</span></a><span style=\"color: #7f7f7f; text-decoration-color: #7f7f7f\">:</span><a href=\"file://C:\\Users\\John\\anaconda3\\lib\\site-packages\\soccerdata\\fbref.py#679\" target=\"_blank\"><span style=\"color: #7f7f7f; text-decoration-color: #7f7f7f\">679</span></a>\n",
       "</pre>\n"
      ],
      "text/plain": [
       "\u001b[2;36m[01/22/23 01:17:45]\u001b[0m\u001b[2;36m \u001b[0m\u001b[34mINFO    \u001b[0m \u001b[1m[\u001b[0m\u001b[1;36m130\u001b[0m/\u001b[1;36m189\u001b[0m\u001b[1m]\u001b[0m Retrieving game with \u001b[33mid\u001b[0m=\u001b[35m24d23a55\u001b[0m                                \u001b]8;id=105492;file://C:\\Users\\John\\anaconda3\\lib\\site-packages\\soccerdata\\fbref.py\u001b\\\u001b[2mfbref.py\u001b[0m\u001b]8;;\u001b\\\u001b[2m:\u001b[0m\u001b]8;id=274864;file://C:\\Users\\John\\anaconda3\\lib\\site-packages\\soccerdata\\fbref.py#679\u001b\\\u001b[2m679\u001b[0m\u001b]8;;\u001b\\\n"
      ]
     },
     "metadata": {},
     "output_type": "display_data"
    },
    {
     "data": {
      "text/html": [
       "<pre style=\"white-space:pre;overflow-x:auto;line-height:normal;font-family:Menlo,'DejaVu Sans Mono',consolas,'Courier New',monospace\"><span style=\"color: #7fbfbf; text-decoration-color: #7fbfbf\">[01/22/23 01:17:49] </span><span style=\"color: #000080; text-decoration-color: #000080\">INFO    </span> <span style=\"font-weight: bold\">[</span><span style=\"color: #008080; text-decoration-color: #008080; font-weight: bold\">131</span>/<span style=\"color: #008080; text-decoration-color: #008080; font-weight: bold\">189</span><span style=\"font-weight: bold\">]</span> Retrieving game with <span style=\"color: #808000; text-decoration-color: #808000\">id</span>=<span style=\"color: #800080; text-decoration-color: #800080\">cd5cd3f0</span>                                <a href=\"file://C:\\Users\\John\\anaconda3\\lib\\site-packages\\soccerdata\\fbref.py\" target=\"_blank\"><span style=\"color: #7f7f7f; text-decoration-color: #7f7f7f\">fbref.py</span></a><span style=\"color: #7f7f7f; text-decoration-color: #7f7f7f\">:</span><a href=\"file://C:\\Users\\John\\anaconda3\\lib\\site-packages\\soccerdata\\fbref.py#679\" target=\"_blank\"><span style=\"color: #7f7f7f; text-decoration-color: #7f7f7f\">679</span></a>\n",
       "</pre>\n"
      ],
      "text/plain": [
       "\u001b[2;36m[01/22/23 01:17:49]\u001b[0m\u001b[2;36m \u001b[0m\u001b[34mINFO    \u001b[0m \u001b[1m[\u001b[0m\u001b[1;36m131\u001b[0m/\u001b[1;36m189\u001b[0m\u001b[1m]\u001b[0m Retrieving game with \u001b[33mid\u001b[0m=\u001b[35mcd5cd3f0\u001b[0m                                \u001b]8;id=526443;file://C:\\Users\\John\\anaconda3\\lib\\site-packages\\soccerdata\\fbref.py\u001b\\\u001b[2mfbref.py\u001b[0m\u001b]8;;\u001b\\\u001b[2m:\u001b[0m\u001b]8;id=589274;file://C:\\Users\\John\\anaconda3\\lib\\site-packages\\soccerdata\\fbref.py#679\u001b\\\u001b[2m679\u001b[0m\u001b]8;;\u001b\\\n"
      ]
     },
     "metadata": {},
     "output_type": "display_data"
    },
    {
     "data": {
      "text/html": [
       "<pre style=\"white-space:pre;overflow-x:auto;line-height:normal;font-family:Menlo,'DejaVu Sans Mono',consolas,'Courier New',monospace\"><span style=\"color: #7fbfbf; text-decoration-color: #7fbfbf\">[01/22/23 01:17:53] </span><span style=\"color: #000080; text-decoration-color: #000080\">INFO    </span> <span style=\"font-weight: bold\">[</span><span style=\"color: #008080; text-decoration-color: #008080; font-weight: bold\">132</span>/<span style=\"color: #008080; text-decoration-color: #008080; font-weight: bold\">189</span><span style=\"font-weight: bold\">]</span> Retrieving game with <span style=\"color: #808000; text-decoration-color: #808000\">id</span>=<span style=\"color: #800080; text-decoration-color: #800080\">f92b67c2</span>                                <a href=\"file://C:\\Users\\John\\anaconda3\\lib\\site-packages\\soccerdata\\fbref.py\" target=\"_blank\"><span style=\"color: #7f7f7f; text-decoration-color: #7f7f7f\">fbref.py</span></a><span style=\"color: #7f7f7f; text-decoration-color: #7f7f7f\">:</span><a href=\"file://C:\\Users\\John\\anaconda3\\lib\\site-packages\\soccerdata\\fbref.py#679\" target=\"_blank\"><span style=\"color: #7f7f7f; text-decoration-color: #7f7f7f\">679</span></a>\n",
       "</pre>\n"
      ],
      "text/plain": [
       "\u001b[2;36m[01/22/23 01:17:53]\u001b[0m\u001b[2;36m \u001b[0m\u001b[34mINFO    \u001b[0m \u001b[1m[\u001b[0m\u001b[1;36m132\u001b[0m/\u001b[1;36m189\u001b[0m\u001b[1m]\u001b[0m Retrieving game with \u001b[33mid\u001b[0m=\u001b[35mf92b67c2\u001b[0m                                \u001b]8;id=432319;file://C:\\Users\\John\\anaconda3\\lib\\site-packages\\soccerdata\\fbref.py\u001b\\\u001b[2mfbref.py\u001b[0m\u001b]8;;\u001b\\\u001b[2m:\u001b[0m\u001b]8;id=93302;file://C:\\Users\\John\\anaconda3\\lib\\site-packages\\soccerdata\\fbref.py#679\u001b\\\u001b[2m679\u001b[0m\u001b]8;;\u001b\\\n"
      ]
     },
     "metadata": {},
     "output_type": "display_data"
    },
    {
     "data": {
      "text/html": [
       "<pre style=\"white-space:pre;overflow-x:auto;line-height:normal;font-family:Menlo,'DejaVu Sans Mono',consolas,'Courier New',monospace\"><span style=\"color: #7fbfbf; text-decoration-color: #7fbfbf\">[01/22/23 01:17:58] </span><span style=\"color: #000080; text-decoration-color: #000080\">INFO    </span> <span style=\"font-weight: bold\">[</span><span style=\"color: #008080; text-decoration-color: #008080; font-weight: bold\">133</span>/<span style=\"color: #008080; text-decoration-color: #008080; font-weight: bold\">189</span><span style=\"font-weight: bold\">]</span> Retrieving game with <span style=\"color: #808000; text-decoration-color: #808000\">id</span>=<span style=\"color: #800080; text-decoration-color: #800080\">7764ca02</span>                                <a href=\"file://C:\\Users\\John\\anaconda3\\lib\\site-packages\\soccerdata\\fbref.py\" target=\"_blank\"><span style=\"color: #7f7f7f; text-decoration-color: #7f7f7f\">fbref.py</span></a><span style=\"color: #7f7f7f; text-decoration-color: #7f7f7f\">:</span><a href=\"file://C:\\Users\\John\\anaconda3\\lib\\site-packages\\soccerdata\\fbref.py#679\" target=\"_blank\"><span style=\"color: #7f7f7f; text-decoration-color: #7f7f7f\">679</span></a>\n",
       "</pre>\n"
      ],
      "text/plain": [
       "\u001b[2;36m[01/22/23 01:17:58]\u001b[0m\u001b[2;36m \u001b[0m\u001b[34mINFO    \u001b[0m \u001b[1m[\u001b[0m\u001b[1;36m133\u001b[0m/\u001b[1;36m189\u001b[0m\u001b[1m]\u001b[0m Retrieving game with \u001b[33mid\u001b[0m=\u001b[35m7764ca02\u001b[0m                                \u001b]8;id=919076;file://C:\\Users\\John\\anaconda3\\lib\\site-packages\\soccerdata\\fbref.py\u001b\\\u001b[2mfbref.py\u001b[0m\u001b]8;;\u001b\\\u001b[2m:\u001b[0m\u001b]8;id=346785;file://C:\\Users\\John\\anaconda3\\lib\\site-packages\\soccerdata\\fbref.py#679\u001b\\\u001b[2m679\u001b[0m\u001b]8;;\u001b\\\n"
      ]
     },
     "metadata": {},
     "output_type": "display_data"
    },
    {
     "data": {
      "text/html": [
       "<pre style=\"white-space:pre;overflow-x:auto;line-height:normal;font-family:Menlo,'DejaVu Sans Mono',consolas,'Courier New',monospace\"><span style=\"color: #7fbfbf; text-decoration-color: #7fbfbf\">[01/22/23 01:18:02] </span><span style=\"color: #000080; text-decoration-color: #000080\">INFO    </span> <span style=\"font-weight: bold\">[</span><span style=\"color: #008080; text-decoration-color: #008080; font-weight: bold\">134</span>/<span style=\"color: #008080; text-decoration-color: #008080; font-weight: bold\">189</span><span style=\"font-weight: bold\">]</span> Retrieving game with <span style=\"color: #808000; text-decoration-color: #808000\">id</span>=<span style=\"color: #800080; text-decoration-color: #800080\">d7b30e2b</span>                                <a href=\"file://C:\\Users\\John\\anaconda3\\lib\\site-packages\\soccerdata\\fbref.py\" target=\"_blank\"><span style=\"color: #7f7f7f; text-decoration-color: #7f7f7f\">fbref.py</span></a><span style=\"color: #7f7f7f; text-decoration-color: #7f7f7f\">:</span><a href=\"file://C:\\Users\\John\\anaconda3\\lib\\site-packages\\soccerdata\\fbref.py#679\" target=\"_blank\"><span style=\"color: #7f7f7f; text-decoration-color: #7f7f7f\">679</span></a>\n",
       "</pre>\n"
      ],
      "text/plain": [
       "\u001b[2;36m[01/22/23 01:18:02]\u001b[0m\u001b[2;36m \u001b[0m\u001b[34mINFO    \u001b[0m \u001b[1m[\u001b[0m\u001b[1;36m134\u001b[0m/\u001b[1;36m189\u001b[0m\u001b[1m]\u001b[0m Retrieving game with \u001b[33mid\u001b[0m=\u001b[35md7b30e2b\u001b[0m                                \u001b]8;id=474320;file://C:\\Users\\John\\anaconda3\\lib\\site-packages\\soccerdata\\fbref.py\u001b\\\u001b[2mfbref.py\u001b[0m\u001b]8;;\u001b\\\u001b[2m:\u001b[0m\u001b]8;id=355506;file://C:\\Users\\John\\anaconda3\\lib\\site-packages\\soccerdata\\fbref.py#679\u001b\\\u001b[2m679\u001b[0m\u001b]8;;\u001b\\\n"
      ]
     },
     "metadata": {},
     "output_type": "display_data"
    },
    {
     "data": {
      "text/html": [
       "<pre style=\"white-space:pre;overflow-x:auto;line-height:normal;font-family:Menlo,'DejaVu Sans Mono',consolas,'Courier New',monospace\"><span style=\"color: #7fbfbf; text-decoration-color: #7fbfbf\">[01/22/23 01:18:08] </span><span style=\"color: #000080; text-decoration-color: #000080\">INFO    </span> <span style=\"font-weight: bold\">[</span><span style=\"color: #008080; text-decoration-color: #008080; font-weight: bold\">135</span>/<span style=\"color: #008080; text-decoration-color: #008080; font-weight: bold\">189</span><span style=\"font-weight: bold\">]</span> Retrieving game with <span style=\"color: #808000; text-decoration-color: #808000\">id</span>=<span style=\"color: #800080; text-decoration-color: #800080\">d8138438</span>                                <a href=\"file://C:\\Users\\John\\anaconda3\\lib\\site-packages\\soccerdata\\fbref.py\" target=\"_blank\"><span style=\"color: #7f7f7f; text-decoration-color: #7f7f7f\">fbref.py</span></a><span style=\"color: #7f7f7f; text-decoration-color: #7f7f7f\">:</span><a href=\"file://C:\\Users\\John\\anaconda3\\lib\\site-packages\\soccerdata\\fbref.py#679\" target=\"_blank\"><span style=\"color: #7f7f7f; text-decoration-color: #7f7f7f\">679</span></a>\n",
       "</pre>\n"
      ],
      "text/plain": [
       "\u001b[2;36m[01/22/23 01:18:08]\u001b[0m\u001b[2;36m \u001b[0m\u001b[34mINFO    \u001b[0m \u001b[1m[\u001b[0m\u001b[1;36m135\u001b[0m/\u001b[1;36m189\u001b[0m\u001b[1m]\u001b[0m Retrieving game with \u001b[33mid\u001b[0m=\u001b[35md8138438\u001b[0m                                \u001b]8;id=140545;file://C:\\Users\\John\\anaconda3\\lib\\site-packages\\soccerdata\\fbref.py\u001b\\\u001b[2mfbref.py\u001b[0m\u001b]8;;\u001b\\\u001b[2m:\u001b[0m\u001b]8;id=764776;file://C:\\Users\\John\\anaconda3\\lib\\site-packages\\soccerdata\\fbref.py#679\u001b\\\u001b[2m679\u001b[0m\u001b]8;;\u001b\\\n"
      ]
     },
     "metadata": {},
     "output_type": "display_data"
    },
    {
     "data": {
      "text/html": [
       "<pre style=\"white-space:pre;overflow-x:auto;line-height:normal;font-family:Menlo,'DejaVu Sans Mono',consolas,'Courier New',monospace\"><span style=\"color: #7fbfbf; text-decoration-color: #7fbfbf\">[01/22/23 01:18:12] </span><span style=\"color: #000080; text-decoration-color: #000080\">INFO    </span> <span style=\"font-weight: bold\">[</span><span style=\"color: #008080; text-decoration-color: #008080; font-weight: bold\">136</span>/<span style=\"color: #008080; text-decoration-color: #008080; font-weight: bold\">189</span><span style=\"font-weight: bold\">]</span> Retrieving game with <span style=\"color: #808000; text-decoration-color: #808000\">id</span>=<span style=\"color: #800080; text-decoration-color: #800080\">ae21490f</span>                                <a href=\"file://C:\\Users\\John\\anaconda3\\lib\\site-packages\\soccerdata\\fbref.py\" target=\"_blank\"><span style=\"color: #7f7f7f; text-decoration-color: #7f7f7f\">fbref.py</span></a><span style=\"color: #7f7f7f; text-decoration-color: #7f7f7f\">:</span><a href=\"file://C:\\Users\\John\\anaconda3\\lib\\site-packages\\soccerdata\\fbref.py#679\" target=\"_blank\"><span style=\"color: #7f7f7f; text-decoration-color: #7f7f7f\">679</span></a>\n",
       "</pre>\n"
      ],
      "text/plain": [
       "\u001b[2;36m[01/22/23 01:18:12]\u001b[0m\u001b[2;36m \u001b[0m\u001b[34mINFO    \u001b[0m \u001b[1m[\u001b[0m\u001b[1;36m136\u001b[0m/\u001b[1;36m189\u001b[0m\u001b[1m]\u001b[0m Retrieving game with \u001b[33mid\u001b[0m=\u001b[35mae21490f\u001b[0m                                \u001b]8;id=620820;file://C:\\Users\\John\\anaconda3\\lib\\site-packages\\soccerdata\\fbref.py\u001b\\\u001b[2mfbref.py\u001b[0m\u001b]8;;\u001b\\\u001b[2m:\u001b[0m\u001b]8;id=890163;file://C:\\Users\\John\\anaconda3\\lib\\site-packages\\soccerdata\\fbref.py#679\u001b\\\u001b[2m679\u001b[0m\u001b]8;;\u001b\\\n"
      ]
     },
     "metadata": {},
     "output_type": "display_data"
    },
    {
     "data": {
      "text/html": [
       "<pre style=\"white-space:pre;overflow-x:auto;line-height:normal;font-family:Menlo,'DejaVu Sans Mono',consolas,'Courier New',monospace\"><span style=\"color: #7fbfbf; text-decoration-color: #7fbfbf\">[01/22/23 01:18:17] </span><span style=\"color: #000080; text-decoration-color: #000080\">INFO    </span> <span style=\"font-weight: bold\">[</span><span style=\"color: #008080; text-decoration-color: #008080; font-weight: bold\">137</span>/<span style=\"color: #008080; text-decoration-color: #008080; font-weight: bold\">189</span><span style=\"font-weight: bold\">]</span> Retrieving game with <span style=\"color: #808000; text-decoration-color: #808000\">id</span>=<span style=\"color: #008080; text-decoration-color: #008080; font-weight: bold\">8774e664</span>                                <a href=\"file://C:\\Users\\John\\anaconda3\\lib\\site-packages\\soccerdata\\fbref.py\" target=\"_blank\"><span style=\"color: #7f7f7f; text-decoration-color: #7f7f7f\">fbref.py</span></a><span style=\"color: #7f7f7f; text-decoration-color: #7f7f7f\">:</span><a href=\"file://C:\\Users\\John\\anaconda3\\lib\\site-packages\\soccerdata\\fbref.py#679\" target=\"_blank\"><span style=\"color: #7f7f7f; text-decoration-color: #7f7f7f\">679</span></a>\n",
       "</pre>\n"
      ],
      "text/plain": [
       "\u001b[2;36m[01/22/23 01:18:17]\u001b[0m\u001b[2;36m \u001b[0m\u001b[34mINFO    \u001b[0m \u001b[1m[\u001b[0m\u001b[1;36m137\u001b[0m/\u001b[1;36m189\u001b[0m\u001b[1m]\u001b[0m Retrieving game with \u001b[33mid\u001b[0m=\u001b[1;36m8774e664\u001b[0m                                \u001b]8;id=326842;file://C:\\Users\\John\\anaconda3\\lib\\site-packages\\soccerdata\\fbref.py\u001b\\\u001b[2mfbref.py\u001b[0m\u001b]8;;\u001b\\\u001b[2m:\u001b[0m\u001b]8;id=916010;file://C:\\Users\\John\\anaconda3\\lib\\site-packages\\soccerdata\\fbref.py#679\u001b\\\u001b[2m679\u001b[0m\u001b]8;;\u001b\\\n"
      ]
     },
     "metadata": {},
     "output_type": "display_data"
    },
    {
     "data": {
      "text/html": [
       "<pre style=\"white-space:pre;overflow-x:auto;line-height:normal;font-family:Menlo,'DejaVu Sans Mono',consolas,'Courier New',monospace\"><span style=\"color: #7fbfbf; text-decoration-color: #7fbfbf\">[01/22/23 01:18:21] </span><span style=\"color: #000080; text-decoration-color: #000080\">INFO    </span> <span style=\"font-weight: bold\">[</span><span style=\"color: #008080; text-decoration-color: #008080; font-weight: bold\">138</span>/<span style=\"color: #008080; text-decoration-color: #008080; font-weight: bold\">189</span><span style=\"font-weight: bold\">]</span> Retrieving game with <span style=\"color: #808000; text-decoration-color: #808000\">id</span>=<span style=\"color: #800080; text-decoration-color: #800080\">e9d1a18b</span>                                <a href=\"file://C:\\Users\\John\\anaconda3\\lib\\site-packages\\soccerdata\\fbref.py\" target=\"_blank\"><span style=\"color: #7f7f7f; text-decoration-color: #7f7f7f\">fbref.py</span></a><span style=\"color: #7f7f7f; text-decoration-color: #7f7f7f\">:</span><a href=\"file://C:\\Users\\John\\anaconda3\\lib\\site-packages\\soccerdata\\fbref.py#679\" target=\"_blank\"><span style=\"color: #7f7f7f; text-decoration-color: #7f7f7f\">679</span></a>\n",
       "</pre>\n"
      ],
      "text/plain": [
       "\u001b[2;36m[01/22/23 01:18:21]\u001b[0m\u001b[2;36m \u001b[0m\u001b[34mINFO    \u001b[0m \u001b[1m[\u001b[0m\u001b[1;36m138\u001b[0m/\u001b[1;36m189\u001b[0m\u001b[1m]\u001b[0m Retrieving game with \u001b[33mid\u001b[0m=\u001b[35me9d1a18b\u001b[0m                                \u001b]8;id=5762;file://C:\\Users\\John\\anaconda3\\lib\\site-packages\\soccerdata\\fbref.py\u001b\\\u001b[2mfbref.py\u001b[0m\u001b]8;;\u001b\\\u001b[2m:\u001b[0m\u001b]8;id=225969;file://C:\\Users\\John\\anaconda3\\lib\\site-packages\\soccerdata\\fbref.py#679\u001b\\\u001b[2m679\u001b[0m\u001b]8;;\u001b\\\n"
      ]
     },
     "metadata": {},
     "output_type": "display_data"
    },
    {
     "data": {
      "text/html": [
       "<pre style=\"white-space:pre;overflow-x:auto;line-height:normal;font-family:Menlo,'DejaVu Sans Mono',consolas,'Courier New',monospace\"><span style=\"color: #7fbfbf; text-decoration-color: #7fbfbf\">[01/22/23 01:18:25] </span><span style=\"color: #000080; text-decoration-color: #000080\">INFO    </span> <span style=\"font-weight: bold\">[</span><span style=\"color: #008080; text-decoration-color: #008080; font-weight: bold\">140</span>/<span style=\"color: #008080; text-decoration-color: #008080; font-weight: bold\">189</span><span style=\"font-weight: bold\">]</span> Retrieving game with <span style=\"color: #808000; text-decoration-color: #808000\">id</span>=<span style=\"color: #800080; text-decoration-color: #800080\">dcb3b971</span>                                <a href=\"file://C:\\Users\\John\\anaconda3\\lib\\site-packages\\soccerdata\\fbref.py\" target=\"_blank\"><span style=\"color: #7f7f7f; text-decoration-color: #7f7f7f\">fbref.py</span></a><span style=\"color: #7f7f7f; text-decoration-color: #7f7f7f\">:</span><a href=\"file://C:\\Users\\John\\anaconda3\\lib\\site-packages\\soccerdata\\fbref.py#679\" target=\"_blank\"><span style=\"color: #7f7f7f; text-decoration-color: #7f7f7f\">679</span></a>\n",
       "</pre>\n"
      ],
      "text/plain": [
       "\u001b[2;36m[01/22/23 01:18:25]\u001b[0m\u001b[2;36m \u001b[0m\u001b[34mINFO    \u001b[0m \u001b[1m[\u001b[0m\u001b[1;36m140\u001b[0m/\u001b[1;36m189\u001b[0m\u001b[1m]\u001b[0m Retrieving game with \u001b[33mid\u001b[0m=\u001b[35mdcb3b971\u001b[0m                                \u001b]8;id=416913;file://C:\\Users\\John\\anaconda3\\lib\\site-packages\\soccerdata\\fbref.py\u001b\\\u001b[2mfbref.py\u001b[0m\u001b]8;;\u001b\\\u001b[2m:\u001b[0m\u001b]8;id=448349;file://C:\\Users\\John\\anaconda3\\lib\\site-packages\\soccerdata\\fbref.py#679\u001b\\\u001b[2m679\u001b[0m\u001b]8;;\u001b\\\n"
      ]
     },
     "metadata": {},
     "output_type": "display_data"
    },
    {
     "data": {
      "text/html": [
       "<pre style=\"white-space:pre;overflow-x:auto;line-height:normal;font-family:Menlo,'DejaVu Sans Mono',consolas,'Courier New',monospace\"><span style=\"color: #7fbfbf; text-decoration-color: #7fbfbf\">[01/22/23 01:18:30] </span><span style=\"color: #000080; text-decoration-color: #000080\">INFO    </span> <span style=\"font-weight: bold\">[</span><span style=\"color: #008080; text-decoration-color: #008080; font-weight: bold\">141</span>/<span style=\"color: #008080; text-decoration-color: #008080; font-weight: bold\">189</span><span style=\"font-weight: bold\">]</span> Retrieving game with <span style=\"color: #808000; text-decoration-color: #808000\">id</span>=<span style=\"color: #800080; text-decoration-color: #800080\">41e403d3</span>                                <a href=\"file://C:\\Users\\John\\anaconda3\\lib\\site-packages\\soccerdata\\fbref.py\" target=\"_blank\"><span style=\"color: #7f7f7f; text-decoration-color: #7f7f7f\">fbref.py</span></a><span style=\"color: #7f7f7f; text-decoration-color: #7f7f7f\">:</span><a href=\"file://C:\\Users\\John\\anaconda3\\lib\\site-packages\\soccerdata\\fbref.py#679\" target=\"_blank\"><span style=\"color: #7f7f7f; text-decoration-color: #7f7f7f\">679</span></a>\n",
       "</pre>\n"
      ],
      "text/plain": [
       "\u001b[2;36m[01/22/23 01:18:30]\u001b[0m\u001b[2;36m \u001b[0m\u001b[34mINFO    \u001b[0m \u001b[1m[\u001b[0m\u001b[1;36m141\u001b[0m/\u001b[1;36m189\u001b[0m\u001b[1m]\u001b[0m Retrieving game with \u001b[33mid\u001b[0m=\u001b[35m41e403d3\u001b[0m                                \u001b]8;id=701404;file://C:\\Users\\John\\anaconda3\\lib\\site-packages\\soccerdata\\fbref.py\u001b\\\u001b[2mfbref.py\u001b[0m\u001b]8;;\u001b\\\u001b[2m:\u001b[0m\u001b]8;id=381592;file://C:\\Users\\John\\anaconda3\\lib\\site-packages\\soccerdata\\fbref.py#679\u001b\\\u001b[2m679\u001b[0m\u001b]8;;\u001b\\\n"
      ]
     },
     "metadata": {},
     "output_type": "display_data"
    },
    {
     "data": {
      "text/html": [
       "<pre style=\"white-space:pre;overflow-x:auto;line-height:normal;font-family:Menlo,'DejaVu Sans Mono',consolas,'Courier New',monospace\"><span style=\"color: #7fbfbf; text-decoration-color: #7fbfbf\">[01/22/23 01:18:34] </span><span style=\"color: #000080; text-decoration-color: #000080\">INFO    </span> <span style=\"font-weight: bold\">[</span><span style=\"color: #008080; text-decoration-color: #008080; font-weight: bold\">142</span>/<span style=\"color: #008080; text-decoration-color: #008080; font-weight: bold\">189</span><span style=\"font-weight: bold\">]</span> Retrieving game with <span style=\"color: #808000; text-decoration-color: #808000\">id</span>=<span style=\"color: #800080; text-decoration-color: #800080\">ac6abad1</span>                                <a href=\"file://C:\\Users\\John\\anaconda3\\lib\\site-packages\\soccerdata\\fbref.py\" target=\"_blank\"><span style=\"color: #7f7f7f; text-decoration-color: #7f7f7f\">fbref.py</span></a><span style=\"color: #7f7f7f; text-decoration-color: #7f7f7f\">:</span><a href=\"file://C:\\Users\\John\\anaconda3\\lib\\site-packages\\soccerdata\\fbref.py#679\" target=\"_blank\"><span style=\"color: #7f7f7f; text-decoration-color: #7f7f7f\">679</span></a>\n",
       "</pre>\n"
      ],
      "text/plain": [
       "\u001b[2;36m[01/22/23 01:18:34]\u001b[0m\u001b[2;36m \u001b[0m\u001b[34mINFO    \u001b[0m \u001b[1m[\u001b[0m\u001b[1;36m142\u001b[0m/\u001b[1;36m189\u001b[0m\u001b[1m]\u001b[0m Retrieving game with \u001b[33mid\u001b[0m=\u001b[35mac6abad1\u001b[0m                                \u001b]8;id=724060;file://C:\\Users\\John\\anaconda3\\lib\\site-packages\\soccerdata\\fbref.py\u001b\\\u001b[2mfbref.py\u001b[0m\u001b]8;;\u001b\\\u001b[2m:\u001b[0m\u001b]8;id=713897;file://C:\\Users\\John\\anaconda3\\lib\\site-packages\\soccerdata\\fbref.py#679\u001b\\\u001b[2m679\u001b[0m\u001b]8;;\u001b\\\n"
      ]
     },
     "metadata": {},
     "output_type": "display_data"
    },
    {
     "data": {
      "text/html": [
       "<pre style=\"white-space:pre;overflow-x:auto;line-height:normal;font-family:Menlo,'DejaVu Sans Mono',consolas,'Courier New',monospace\"><span style=\"color: #7fbfbf; text-decoration-color: #7fbfbf\">[01/22/23 01:18:39] </span><span style=\"color: #000080; text-decoration-color: #000080\">INFO    </span> <span style=\"font-weight: bold\">[</span><span style=\"color: #008080; text-decoration-color: #008080; font-weight: bold\">143</span>/<span style=\"color: #008080; text-decoration-color: #008080; font-weight: bold\">189</span><span style=\"font-weight: bold\">]</span> Retrieving game with <span style=\"color: #808000; text-decoration-color: #808000\">id</span>=<span style=\"color: #800080; text-decoration-color: #800080\">4be07239</span>                                <a href=\"file://C:\\Users\\John\\anaconda3\\lib\\site-packages\\soccerdata\\fbref.py\" target=\"_blank\"><span style=\"color: #7f7f7f; text-decoration-color: #7f7f7f\">fbref.py</span></a><span style=\"color: #7f7f7f; text-decoration-color: #7f7f7f\">:</span><a href=\"file://C:\\Users\\John\\anaconda3\\lib\\site-packages\\soccerdata\\fbref.py#679\" target=\"_blank\"><span style=\"color: #7f7f7f; text-decoration-color: #7f7f7f\">679</span></a>\n",
       "</pre>\n"
      ],
      "text/plain": [
       "\u001b[2;36m[01/22/23 01:18:39]\u001b[0m\u001b[2;36m \u001b[0m\u001b[34mINFO    \u001b[0m \u001b[1m[\u001b[0m\u001b[1;36m143\u001b[0m/\u001b[1;36m189\u001b[0m\u001b[1m]\u001b[0m Retrieving game with \u001b[33mid\u001b[0m=\u001b[35m4be07239\u001b[0m                                \u001b]8;id=844034;file://C:\\Users\\John\\anaconda3\\lib\\site-packages\\soccerdata\\fbref.py\u001b\\\u001b[2mfbref.py\u001b[0m\u001b]8;;\u001b\\\u001b[2m:\u001b[0m\u001b]8;id=53952;file://C:\\Users\\John\\anaconda3\\lib\\site-packages\\soccerdata\\fbref.py#679\u001b\\\u001b[2m679\u001b[0m\u001b]8;;\u001b\\\n"
      ]
     },
     "metadata": {},
     "output_type": "display_data"
    },
    {
     "data": {
      "text/html": [
       "<pre style=\"white-space:pre;overflow-x:auto;line-height:normal;font-family:Menlo,'DejaVu Sans Mono',consolas,'Courier New',monospace\"><span style=\"color: #7fbfbf; text-decoration-color: #7fbfbf\">[01/22/23 01:18:43] </span><span style=\"color: #000080; text-decoration-color: #000080\">INFO    </span> <span style=\"font-weight: bold\">[</span><span style=\"color: #008080; text-decoration-color: #008080; font-weight: bold\">144</span>/<span style=\"color: #008080; text-decoration-color: #008080; font-weight: bold\">189</span><span style=\"font-weight: bold\">]</span> Retrieving game with <span style=\"color: #808000; text-decoration-color: #808000\">id</span>=<span style=\"color: #800080; text-decoration-color: #800080\">9c4402e1</span>                                <a href=\"file://C:\\Users\\John\\anaconda3\\lib\\site-packages\\soccerdata\\fbref.py\" target=\"_blank\"><span style=\"color: #7f7f7f; text-decoration-color: #7f7f7f\">fbref.py</span></a><span style=\"color: #7f7f7f; text-decoration-color: #7f7f7f\">:</span><a href=\"file://C:\\Users\\John\\anaconda3\\lib\\site-packages\\soccerdata\\fbref.py#679\" target=\"_blank\"><span style=\"color: #7f7f7f; text-decoration-color: #7f7f7f\">679</span></a>\n",
       "</pre>\n"
      ],
      "text/plain": [
       "\u001b[2;36m[01/22/23 01:18:43]\u001b[0m\u001b[2;36m \u001b[0m\u001b[34mINFO    \u001b[0m \u001b[1m[\u001b[0m\u001b[1;36m144\u001b[0m/\u001b[1;36m189\u001b[0m\u001b[1m]\u001b[0m Retrieving game with \u001b[33mid\u001b[0m=\u001b[35m9c4402e1\u001b[0m                                \u001b]8;id=943774;file://C:\\Users\\John\\anaconda3\\lib\\site-packages\\soccerdata\\fbref.py\u001b\\\u001b[2mfbref.py\u001b[0m\u001b]8;;\u001b\\\u001b[2m:\u001b[0m\u001b]8;id=780864;file://C:\\Users\\John\\anaconda3\\lib\\site-packages\\soccerdata\\fbref.py#679\u001b\\\u001b[2m679\u001b[0m\u001b]8;;\u001b\\\n"
      ]
     },
     "metadata": {},
     "output_type": "display_data"
    },
    {
     "data": {
      "text/html": [
       "<pre style=\"white-space:pre;overflow-x:auto;line-height:normal;font-family:Menlo,'DejaVu Sans Mono',consolas,'Courier New',monospace\"><span style=\"color: #7fbfbf; text-decoration-color: #7fbfbf\">[01/22/23 01:18:47] </span><span style=\"color: #000080; text-decoration-color: #000080\">INFO    </span> <span style=\"font-weight: bold\">[</span><span style=\"color: #008080; text-decoration-color: #008080; font-weight: bold\">145</span>/<span style=\"color: #008080; text-decoration-color: #008080; font-weight: bold\">189</span><span style=\"font-weight: bold\">]</span> Retrieving game with <span style=\"color: #808000; text-decoration-color: #808000\">id</span>=<span style=\"color: #800080; text-decoration-color: #800080\">96b9ae4e</span>                                <a href=\"file://C:\\Users\\John\\anaconda3\\lib\\site-packages\\soccerdata\\fbref.py\" target=\"_blank\"><span style=\"color: #7f7f7f; text-decoration-color: #7f7f7f\">fbref.py</span></a><span style=\"color: #7f7f7f; text-decoration-color: #7f7f7f\">:</span><a href=\"file://C:\\Users\\John\\anaconda3\\lib\\site-packages\\soccerdata\\fbref.py#679\" target=\"_blank\"><span style=\"color: #7f7f7f; text-decoration-color: #7f7f7f\">679</span></a>\n",
       "</pre>\n"
      ],
      "text/plain": [
       "\u001b[2;36m[01/22/23 01:18:47]\u001b[0m\u001b[2;36m \u001b[0m\u001b[34mINFO    \u001b[0m \u001b[1m[\u001b[0m\u001b[1;36m145\u001b[0m/\u001b[1;36m189\u001b[0m\u001b[1m]\u001b[0m Retrieving game with \u001b[33mid\u001b[0m=\u001b[35m96b9ae4e\u001b[0m                                \u001b]8;id=371613;file://C:\\Users\\John\\anaconda3\\lib\\site-packages\\soccerdata\\fbref.py\u001b\\\u001b[2mfbref.py\u001b[0m\u001b]8;;\u001b\\\u001b[2m:\u001b[0m\u001b]8;id=202302;file://C:\\Users\\John\\anaconda3\\lib\\site-packages\\soccerdata\\fbref.py#679\u001b\\\u001b[2m679\u001b[0m\u001b]8;;\u001b\\\n"
      ]
     },
     "metadata": {},
     "output_type": "display_data"
    },
    {
     "data": {
      "text/html": [
       "<pre style=\"white-space:pre;overflow-x:auto;line-height:normal;font-family:Menlo,'DejaVu Sans Mono',consolas,'Courier New',monospace\"><span style=\"color: #7fbfbf; text-decoration-color: #7fbfbf\">[01/22/23 01:18:52] </span><span style=\"color: #000080; text-decoration-color: #000080\">INFO    </span> <span style=\"font-weight: bold\">[</span><span style=\"color: #008080; text-decoration-color: #008080; font-weight: bold\">146</span>/<span style=\"color: #008080; text-decoration-color: #008080; font-weight: bold\">189</span><span style=\"font-weight: bold\">]</span> Retrieving game with <span style=\"color: #808000; text-decoration-color: #808000\">id</span>=<span style=\"color: #800080; text-decoration-color: #800080\">b5b1e744</span>                                <a href=\"file://C:\\Users\\John\\anaconda3\\lib\\site-packages\\soccerdata\\fbref.py\" target=\"_blank\"><span style=\"color: #7f7f7f; text-decoration-color: #7f7f7f\">fbref.py</span></a><span style=\"color: #7f7f7f; text-decoration-color: #7f7f7f\">:</span><a href=\"file://C:\\Users\\John\\anaconda3\\lib\\site-packages\\soccerdata\\fbref.py#679\" target=\"_blank\"><span style=\"color: #7f7f7f; text-decoration-color: #7f7f7f\">679</span></a>\n",
       "</pre>\n"
      ],
      "text/plain": [
       "\u001b[2;36m[01/22/23 01:18:52]\u001b[0m\u001b[2;36m \u001b[0m\u001b[34mINFO    \u001b[0m \u001b[1m[\u001b[0m\u001b[1;36m146\u001b[0m/\u001b[1;36m189\u001b[0m\u001b[1m]\u001b[0m Retrieving game with \u001b[33mid\u001b[0m=\u001b[35mb5b1e744\u001b[0m                                \u001b]8;id=22141;file://C:\\Users\\John\\anaconda3\\lib\\site-packages\\soccerdata\\fbref.py\u001b\\\u001b[2mfbref.py\u001b[0m\u001b]8;;\u001b\\\u001b[2m:\u001b[0m\u001b]8;id=95861;file://C:\\Users\\John\\anaconda3\\lib\\site-packages\\soccerdata\\fbref.py#679\u001b\\\u001b[2m679\u001b[0m\u001b]8;;\u001b\\\n"
      ]
     },
     "metadata": {},
     "output_type": "display_data"
    },
    {
     "data": {
      "text/html": [
       "<pre style=\"white-space:pre;overflow-x:auto;line-height:normal;font-family:Menlo,'DejaVu Sans Mono',consolas,'Courier New',monospace\"><span style=\"color: #7fbfbf; text-decoration-color: #7fbfbf\">[01/22/23 01:18:56] </span><span style=\"color: #000080; text-decoration-color: #000080\">INFO    </span> <span style=\"font-weight: bold\">[</span><span style=\"color: #008080; text-decoration-color: #008080; font-weight: bold\">147</span>/<span style=\"color: #008080; text-decoration-color: #008080; font-weight: bold\">189</span><span style=\"font-weight: bold\">]</span> Retrieving game with <span style=\"color: #808000; text-decoration-color: #808000\">id</span>=<span style=\"color: #800080; text-decoration-color: #800080\">96f5ee84</span>                                <a href=\"file://C:\\Users\\John\\anaconda3\\lib\\site-packages\\soccerdata\\fbref.py\" target=\"_blank\"><span style=\"color: #7f7f7f; text-decoration-color: #7f7f7f\">fbref.py</span></a><span style=\"color: #7f7f7f; text-decoration-color: #7f7f7f\">:</span><a href=\"file://C:\\Users\\John\\anaconda3\\lib\\site-packages\\soccerdata\\fbref.py#679\" target=\"_blank\"><span style=\"color: #7f7f7f; text-decoration-color: #7f7f7f\">679</span></a>\n",
       "</pre>\n"
      ],
      "text/plain": [
       "\u001b[2;36m[01/22/23 01:18:56]\u001b[0m\u001b[2;36m \u001b[0m\u001b[34mINFO    \u001b[0m \u001b[1m[\u001b[0m\u001b[1;36m147\u001b[0m/\u001b[1;36m189\u001b[0m\u001b[1m]\u001b[0m Retrieving game with \u001b[33mid\u001b[0m=\u001b[35m96f5ee84\u001b[0m                                \u001b]8;id=541916;file://C:\\Users\\John\\anaconda3\\lib\\site-packages\\soccerdata\\fbref.py\u001b\\\u001b[2mfbref.py\u001b[0m\u001b]8;;\u001b\\\u001b[2m:\u001b[0m\u001b]8;id=205442;file://C:\\Users\\John\\anaconda3\\lib\\site-packages\\soccerdata\\fbref.py#679\u001b\\\u001b[2m679\u001b[0m\u001b]8;;\u001b\\\n"
      ]
     },
     "metadata": {},
     "output_type": "display_data"
    },
    {
     "data": {
      "text/html": [
       "<pre style=\"white-space:pre;overflow-x:auto;line-height:normal;font-family:Menlo,'DejaVu Sans Mono',consolas,'Courier New',monospace\"><span style=\"color: #7fbfbf; text-decoration-color: #7fbfbf\">[01/22/23 01:19:00] </span><span style=\"color: #000080; text-decoration-color: #000080\">INFO    </span> <span style=\"font-weight: bold\">[</span><span style=\"color: #008080; text-decoration-color: #008080; font-weight: bold\">148</span>/<span style=\"color: #008080; text-decoration-color: #008080; font-weight: bold\">189</span><span style=\"font-weight: bold\">]</span> Retrieving game with <span style=\"color: #808000; text-decoration-color: #808000\">id</span>=<span style=\"color: #800080; text-decoration-color: #800080\">1b496cc1</span>                                <a href=\"file://C:\\Users\\John\\anaconda3\\lib\\site-packages\\soccerdata\\fbref.py\" target=\"_blank\"><span style=\"color: #7f7f7f; text-decoration-color: #7f7f7f\">fbref.py</span></a><span style=\"color: #7f7f7f; text-decoration-color: #7f7f7f\">:</span><a href=\"file://C:\\Users\\John\\anaconda3\\lib\\site-packages\\soccerdata\\fbref.py#679\" target=\"_blank\"><span style=\"color: #7f7f7f; text-decoration-color: #7f7f7f\">679</span></a>\n",
       "</pre>\n"
      ],
      "text/plain": [
       "\u001b[2;36m[01/22/23 01:19:00]\u001b[0m\u001b[2;36m \u001b[0m\u001b[34mINFO    \u001b[0m \u001b[1m[\u001b[0m\u001b[1;36m148\u001b[0m/\u001b[1;36m189\u001b[0m\u001b[1m]\u001b[0m Retrieving game with \u001b[33mid\u001b[0m=\u001b[35m1b496cc1\u001b[0m                                \u001b]8;id=522333;file://C:\\Users\\John\\anaconda3\\lib\\site-packages\\soccerdata\\fbref.py\u001b\\\u001b[2mfbref.py\u001b[0m\u001b]8;;\u001b\\\u001b[2m:\u001b[0m\u001b]8;id=723823;file://C:\\Users\\John\\anaconda3\\lib\\site-packages\\soccerdata\\fbref.py#679\u001b\\\u001b[2m679\u001b[0m\u001b]8;;\u001b\\\n"
      ]
     },
     "metadata": {},
     "output_type": "display_data"
    },
    {
     "data": {
      "text/html": [
       "<pre style=\"white-space:pre;overflow-x:auto;line-height:normal;font-family:Menlo,'DejaVu Sans Mono',consolas,'Courier New',monospace\"><span style=\"color: #7fbfbf; text-decoration-color: #7fbfbf\">[01/22/23 01:19:05] </span><span style=\"color: #000080; text-decoration-color: #000080\">INFO    </span> <span style=\"font-weight: bold\">[</span><span style=\"color: #008080; text-decoration-color: #008080; font-weight: bold\">149</span>/<span style=\"color: #008080; text-decoration-color: #008080; font-weight: bold\">189</span><span style=\"font-weight: bold\">]</span> Retrieving game with <span style=\"color: #808000; text-decoration-color: #808000\">id</span>=<span style=\"color: #800080; text-decoration-color: #800080\">cd0f59f6</span>                                <a href=\"file://C:\\Users\\John\\anaconda3\\lib\\site-packages\\soccerdata\\fbref.py\" target=\"_blank\"><span style=\"color: #7f7f7f; text-decoration-color: #7f7f7f\">fbref.py</span></a><span style=\"color: #7f7f7f; text-decoration-color: #7f7f7f\">:</span><a href=\"file://C:\\Users\\John\\anaconda3\\lib\\site-packages\\soccerdata\\fbref.py#679\" target=\"_blank\"><span style=\"color: #7f7f7f; text-decoration-color: #7f7f7f\">679</span></a>\n",
       "</pre>\n"
      ],
      "text/plain": [
       "\u001b[2;36m[01/22/23 01:19:05]\u001b[0m\u001b[2;36m \u001b[0m\u001b[34mINFO    \u001b[0m \u001b[1m[\u001b[0m\u001b[1;36m149\u001b[0m/\u001b[1;36m189\u001b[0m\u001b[1m]\u001b[0m Retrieving game with \u001b[33mid\u001b[0m=\u001b[35mcd0f59f6\u001b[0m                                \u001b]8;id=63981;file://C:\\Users\\John\\anaconda3\\lib\\site-packages\\soccerdata\\fbref.py\u001b\\\u001b[2mfbref.py\u001b[0m\u001b]8;;\u001b\\\u001b[2m:\u001b[0m\u001b]8;id=180547;file://C:\\Users\\John\\anaconda3\\lib\\site-packages\\soccerdata\\fbref.py#679\u001b\\\u001b[2m679\u001b[0m\u001b]8;;\u001b\\\n"
      ]
     },
     "metadata": {},
     "output_type": "display_data"
    },
    {
     "data": {
      "text/html": [
       "<pre style=\"white-space:pre;overflow-x:auto;line-height:normal;font-family:Menlo,'DejaVu Sans Mono',consolas,'Courier New',monospace\"><span style=\"color: #7fbfbf; text-decoration-color: #7fbfbf\">[01/22/23 01:19:09] </span><span style=\"color: #000080; text-decoration-color: #000080\">INFO    </span> <span style=\"font-weight: bold\">[</span><span style=\"color: #008080; text-decoration-color: #008080; font-weight: bold\">151</span>/<span style=\"color: #008080; text-decoration-color: #008080; font-weight: bold\">189</span><span style=\"font-weight: bold\">]</span> Retrieving game with <span style=\"color: #808000; text-decoration-color: #808000\">id</span>=<span style=\"color: #800080; text-decoration-color: #800080\">831c73fc</span>                                <a href=\"file://C:\\Users\\John\\anaconda3\\lib\\site-packages\\soccerdata\\fbref.py\" target=\"_blank\"><span style=\"color: #7f7f7f; text-decoration-color: #7f7f7f\">fbref.py</span></a><span style=\"color: #7f7f7f; text-decoration-color: #7f7f7f\">:</span><a href=\"file://C:\\Users\\John\\anaconda3\\lib\\site-packages\\soccerdata\\fbref.py#679\" target=\"_blank\"><span style=\"color: #7f7f7f; text-decoration-color: #7f7f7f\">679</span></a>\n",
       "</pre>\n"
      ],
      "text/plain": [
       "\u001b[2;36m[01/22/23 01:19:09]\u001b[0m\u001b[2;36m \u001b[0m\u001b[34mINFO    \u001b[0m \u001b[1m[\u001b[0m\u001b[1;36m151\u001b[0m/\u001b[1;36m189\u001b[0m\u001b[1m]\u001b[0m Retrieving game with \u001b[33mid\u001b[0m=\u001b[35m831c73fc\u001b[0m                                \u001b]8;id=93669;file://C:\\Users\\John\\anaconda3\\lib\\site-packages\\soccerdata\\fbref.py\u001b\\\u001b[2mfbref.py\u001b[0m\u001b]8;;\u001b\\\u001b[2m:\u001b[0m\u001b]8;id=588237;file://C:\\Users\\John\\anaconda3\\lib\\site-packages\\soccerdata\\fbref.py#679\u001b\\\u001b[2m679\u001b[0m\u001b]8;;\u001b\\\n"
      ]
     },
     "metadata": {},
     "output_type": "display_data"
    },
    {
     "data": {
      "text/html": [
       "<pre style=\"white-space:pre;overflow-x:auto;line-height:normal;font-family:Menlo,'DejaVu Sans Mono',consolas,'Courier New',monospace\"><span style=\"color: #7fbfbf; text-decoration-color: #7fbfbf\">[01/22/23 01:19:14] </span><span style=\"color: #000080; text-decoration-color: #000080\">INFO    </span> <span style=\"font-weight: bold\">[</span><span style=\"color: #008080; text-decoration-color: #008080; font-weight: bold\">152</span>/<span style=\"color: #008080; text-decoration-color: #008080; font-weight: bold\">189</span><span style=\"font-weight: bold\">]</span> Retrieving game with <span style=\"color: #808000; text-decoration-color: #808000\">id</span>=<span style=\"color: #800080; text-decoration-color: #800080\">63975c3e</span>                                <a href=\"file://C:\\Users\\John\\anaconda3\\lib\\site-packages\\soccerdata\\fbref.py\" target=\"_blank\"><span style=\"color: #7f7f7f; text-decoration-color: #7f7f7f\">fbref.py</span></a><span style=\"color: #7f7f7f; text-decoration-color: #7f7f7f\">:</span><a href=\"file://C:\\Users\\John\\anaconda3\\lib\\site-packages\\soccerdata\\fbref.py#679\" target=\"_blank\"><span style=\"color: #7f7f7f; text-decoration-color: #7f7f7f\">679</span></a>\n",
       "</pre>\n"
      ],
      "text/plain": [
       "\u001b[2;36m[01/22/23 01:19:14]\u001b[0m\u001b[2;36m \u001b[0m\u001b[34mINFO    \u001b[0m \u001b[1m[\u001b[0m\u001b[1;36m152\u001b[0m/\u001b[1;36m189\u001b[0m\u001b[1m]\u001b[0m Retrieving game with \u001b[33mid\u001b[0m=\u001b[35m63975c3e\u001b[0m                                \u001b]8;id=1351;file://C:\\Users\\John\\anaconda3\\lib\\site-packages\\soccerdata\\fbref.py\u001b\\\u001b[2mfbref.py\u001b[0m\u001b]8;;\u001b\\\u001b[2m:\u001b[0m\u001b]8;id=601501;file://C:\\Users\\John\\anaconda3\\lib\\site-packages\\soccerdata\\fbref.py#679\u001b\\\u001b[2m679\u001b[0m\u001b]8;;\u001b\\\n"
      ]
     },
     "metadata": {},
     "output_type": "display_data"
    },
    {
     "data": {
      "text/html": [
       "<pre style=\"white-space:pre;overflow-x:auto;line-height:normal;font-family:Menlo,'DejaVu Sans Mono',consolas,'Courier New',monospace\"><span style=\"color: #7fbfbf; text-decoration-color: #7fbfbf\">[01/22/23 01:19:18] </span><span style=\"color: #000080; text-decoration-color: #000080\">INFO    </span> <span style=\"font-weight: bold\">[</span><span style=\"color: #008080; text-decoration-color: #008080; font-weight: bold\">153</span>/<span style=\"color: #008080; text-decoration-color: #008080; font-weight: bold\">189</span><span style=\"font-weight: bold\">]</span> Retrieving game with <span style=\"color: #808000; text-decoration-color: #808000\">id</span>=<span style=\"color: #800080; text-decoration-color: #800080\">6ef27b3c</span>                                <a href=\"file://C:\\Users\\John\\anaconda3\\lib\\site-packages\\soccerdata\\fbref.py\" target=\"_blank\"><span style=\"color: #7f7f7f; text-decoration-color: #7f7f7f\">fbref.py</span></a><span style=\"color: #7f7f7f; text-decoration-color: #7f7f7f\">:</span><a href=\"file://C:\\Users\\John\\anaconda3\\lib\\site-packages\\soccerdata\\fbref.py#679\" target=\"_blank\"><span style=\"color: #7f7f7f; text-decoration-color: #7f7f7f\">679</span></a>\n",
       "</pre>\n"
      ],
      "text/plain": [
       "\u001b[2;36m[01/22/23 01:19:18]\u001b[0m\u001b[2;36m \u001b[0m\u001b[34mINFO    \u001b[0m \u001b[1m[\u001b[0m\u001b[1;36m153\u001b[0m/\u001b[1;36m189\u001b[0m\u001b[1m]\u001b[0m Retrieving game with \u001b[33mid\u001b[0m=\u001b[35m6ef27b3c\u001b[0m                                \u001b]8;id=710634;file://C:\\Users\\John\\anaconda3\\lib\\site-packages\\soccerdata\\fbref.py\u001b\\\u001b[2mfbref.py\u001b[0m\u001b]8;;\u001b\\\u001b[2m:\u001b[0m\u001b]8;id=396995;file://C:\\Users\\John\\anaconda3\\lib\\site-packages\\soccerdata\\fbref.py#679\u001b\\\u001b[2m679\u001b[0m\u001b]8;;\u001b\\\n"
      ]
     },
     "metadata": {},
     "output_type": "display_data"
    },
    {
     "data": {
      "text/html": [
       "<pre style=\"white-space:pre;overflow-x:auto;line-height:normal;font-family:Menlo,'DejaVu Sans Mono',consolas,'Courier New',monospace\"><span style=\"color: #7fbfbf; text-decoration-color: #7fbfbf\">[01/22/23 01:19:23] </span><span style=\"color: #000080; text-decoration-color: #000080\">INFO    </span> <span style=\"font-weight: bold\">[</span><span style=\"color: #008080; text-decoration-color: #008080; font-weight: bold\">154</span>/<span style=\"color: #008080; text-decoration-color: #008080; font-weight: bold\">189</span><span style=\"font-weight: bold\">]</span> Retrieving game with <span style=\"color: #808000; text-decoration-color: #808000\">id</span>=<span style=\"color: #008080; text-decoration-color: #008080; font-weight: bold\">12251835</span>                                <a href=\"file://C:\\Users\\John\\anaconda3\\lib\\site-packages\\soccerdata\\fbref.py\" target=\"_blank\"><span style=\"color: #7f7f7f; text-decoration-color: #7f7f7f\">fbref.py</span></a><span style=\"color: #7f7f7f; text-decoration-color: #7f7f7f\">:</span><a href=\"file://C:\\Users\\John\\anaconda3\\lib\\site-packages\\soccerdata\\fbref.py#679\" target=\"_blank\"><span style=\"color: #7f7f7f; text-decoration-color: #7f7f7f\">679</span></a>\n",
       "</pre>\n"
      ],
      "text/plain": [
       "\u001b[2;36m[01/22/23 01:19:23]\u001b[0m\u001b[2;36m \u001b[0m\u001b[34mINFO    \u001b[0m \u001b[1m[\u001b[0m\u001b[1;36m154\u001b[0m/\u001b[1;36m189\u001b[0m\u001b[1m]\u001b[0m Retrieving game with \u001b[33mid\u001b[0m=\u001b[1;36m12251835\u001b[0m                                \u001b]8;id=338120;file://C:\\Users\\John\\anaconda3\\lib\\site-packages\\soccerdata\\fbref.py\u001b\\\u001b[2mfbref.py\u001b[0m\u001b]8;;\u001b\\\u001b[2m:\u001b[0m\u001b]8;id=832309;file://C:\\Users\\John\\anaconda3\\lib\\site-packages\\soccerdata\\fbref.py#679\u001b\\\u001b[2m679\u001b[0m\u001b]8;;\u001b\\\n"
      ]
     },
     "metadata": {},
     "output_type": "display_data"
    },
    {
     "data": {
      "text/html": [
       "<pre style=\"white-space:pre;overflow-x:auto;line-height:normal;font-family:Menlo,'DejaVu Sans Mono',consolas,'Courier New',monospace\"><span style=\"color: #7fbfbf; text-decoration-color: #7fbfbf\">[01/22/23 01:19:28] </span><span style=\"color: #000080; text-decoration-color: #000080\">INFO    </span> <span style=\"font-weight: bold\">[</span><span style=\"color: #008080; text-decoration-color: #008080; font-weight: bold\">155</span>/<span style=\"color: #008080; text-decoration-color: #008080; font-weight: bold\">189</span><span style=\"font-weight: bold\">]</span> Retrieving game with <span style=\"color: #808000; text-decoration-color: #808000\">id</span>=<span style=\"color: #800080; text-decoration-color: #800080\">982d16a2</span>                                <a href=\"file://C:\\Users\\John\\anaconda3\\lib\\site-packages\\soccerdata\\fbref.py\" target=\"_blank\"><span style=\"color: #7f7f7f; text-decoration-color: #7f7f7f\">fbref.py</span></a><span style=\"color: #7f7f7f; text-decoration-color: #7f7f7f\">:</span><a href=\"file://C:\\Users\\John\\anaconda3\\lib\\site-packages\\soccerdata\\fbref.py#679\" target=\"_blank\"><span style=\"color: #7f7f7f; text-decoration-color: #7f7f7f\">679</span></a>\n",
       "</pre>\n"
      ],
      "text/plain": [
       "\u001b[2;36m[01/22/23 01:19:28]\u001b[0m\u001b[2;36m \u001b[0m\u001b[34mINFO    \u001b[0m \u001b[1m[\u001b[0m\u001b[1;36m155\u001b[0m/\u001b[1;36m189\u001b[0m\u001b[1m]\u001b[0m Retrieving game with \u001b[33mid\u001b[0m=\u001b[35m982d16a2\u001b[0m                                \u001b]8;id=536730;file://C:\\Users\\John\\anaconda3\\lib\\site-packages\\soccerdata\\fbref.py\u001b\\\u001b[2mfbref.py\u001b[0m\u001b]8;;\u001b\\\u001b[2m:\u001b[0m\u001b]8;id=33545;file://C:\\Users\\John\\anaconda3\\lib\\site-packages\\soccerdata\\fbref.py#679\u001b\\\u001b[2m679\u001b[0m\u001b]8;;\u001b\\\n"
      ]
     },
     "metadata": {},
     "output_type": "display_data"
    },
    {
     "data": {
      "text/html": [
       "<pre style=\"white-space:pre;overflow-x:auto;line-height:normal;font-family:Menlo,'DejaVu Sans Mono',consolas,'Courier New',monospace\"><span style=\"color: #7fbfbf; text-decoration-color: #7fbfbf\">[01/22/23 01:19:32] </span><span style=\"color: #000080; text-decoration-color: #000080\">INFO    </span> <span style=\"font-weight: bold\">[</span><span style=\"color: #008080; text-decoration-color: #008080; font-weight: bold\">156</span>/<span style=\"color: #008080; text-decoration-color: #008080; font-weight: bold\">189</span><span style=\"font-weight: bold\">]</span> Retrieving game with <span style=\"color: #808000; text-decoration-color: #808000\">id</span>=<span style=\"color: #800080; text-decoration-color: #800080\">6638574f</span>                                <a href=\"file://C:\\Users\\John\\anaconda3\\lib\\site-packages\\soccerdata\\fbref.py\" target=\"_blank\"><span style=\"color: #7f7f7f; text-decoration-color: #7f7f7f\">fbref.py</span></a><span style=\"color: #7f7f7f; text-decoration-color: #7f7f7f\">:</span><a href=\"file://C:\\Users\\John\\anaconda3\\lib\\site-packages\\soccerdata\\fbref.py#679\" target=\"_blank\"><span style=\"color: #7f7f7f; text-decoration-color: #7f7f7f\">679</span></a>\n",
       "</pre>\n"
      ],
      "text/plain": [
       "\u001b[2;36m[01/22/23 01:19:32]\u001b[0m\u001b[2;36m \u001b[0m\u001b[34mINFO    \u001b[0m \u001b[1m[\u001b[0m\u001b[1;36m156\u001b[0m/\u001b[1;36m189\u001b[0m\u001b[1m]\u001b[0m Retrieving game with \u001b[33mid\u001b[0m=\u001b[35m6638574f\u001b[0m                                \u001b]8;id=474414;file://C:\\Users\\John\\anaconda3\\lib\\site-packages\\soccerdata\\fbref.py\u001b\\\u001b[2mfbref.py\u001b[0m\u001b]8;;\u001b\\\u001b[2m:\u001b[0m\u001b]8;id=560904;file://C:\\Users\\John\\anaconda3\\lib\\site-packages\\soccerdata\\fbref.py#679\u001b\\\u001b[2m679\u001b[0m\u001b]8;;\u001b\\\n"
      ]
     },
     "metadata": {},
     "output_type": "display_data"
    },
    {
     "data": {
      "text/html": [
       "<pre style=\"white-space:pre;overflow-x:auto;line-height:normal;font-family:Menlo,'DejaVu Sans Mono',consolas,'Courier New',monospace\"><span style=\"color: #7fbfbf; text-decoration-color: #7fbfbf\">[01/22/23 01:19:37] </span><span style=\"color: #000080; text-decoration-color: #000080\">INFO    </span> <span style=\"font-weight: bold\">[</span><span style=\"color: #008080; text-decoration-color: #008080; font-weight: bold\">157</span>/<span style=\"color: #008080; text-decoration-color: #008080; font-weight: bold\">189</span><span style=\"font-weight: bold\">]</span> Retrieving game with <span style=\"color: #808000; text-decoration-color: #808000\">id</span>=<span style=\"color: #800080; text-decoration-color: #800080\">af9dc838</span>                                <a href=\"file://C:\\Users\\John\\anaconda3\\lib\\site-packages\\soccerdata\\fbref.py\" target=\"_blank\"><span style=\"color: #7f7f7f; text-decoration-color: #7f7f7f\">fbref.py</span></a><span style=\"color: #7f7f7f; text-decoration-color: #7f7f7f\">:</span><a href=\"file://C:\\Users\\John\\anaconda3\\lib\\site-packages\\soccerdata\\fbref.py#679\" target=\"_blank\"><span style=\"color: #7f7f7f; text-decoration-color: #7f7f7f\">679</span></a>\n",
       "</pre>\n"
      ],
      "text/plain": [
       "\u001b[2;36m[01/22/23 01:19:37]\u001b[0m\u001b[2;36m \u001b[0m\u001b[34mINFO    \u001b[0m \u001b[1m[\u001b[0m\u001b[1;36m157\u001b[0m/\u001b[1;36m189\u001b[0m\u001b[1m]\u001b[0m Retrieving game with \u001b[33mid\u001b[0m=\u001b[35maf9dc838\u001b[0m                                \u001b]8;id=968785;file://C:\\Users\\John\\anaconda3\\lib\\site-packages\\soccerdata\\fbref.py\u001b\\\u001b[2mfbref.py\u001b[0m\u001b]8;;\u001b\\\u001b[2m:\u001b[0m\u001b]8;id=521299;file://C:\\Users\\John\\anaconda3\\lib\\site-packages\\soccerdata\\fbref.py#679\u001b\\\u001b[2m679\u001b[0m\u001b]8;;\u001b\\\n"
      ]
     },
     "metadata": {},
     "output_type": "display_data"
    },
    {
     "data": {
      "text/html": [
       "<pre style=\"white-space:pre;overflow-x:auto;line-height:normal;font-family:Menlo,'DejaVu Sans Mono',consolas,'Courier New',monospace\"><span style=\"color: #7fbfbf; text-decoration-color: #7fbfbf\">[01/22/23 01:19:41] </span><span style=\"color: #000080; text-decoration-color: #000080\">INFO    </span> <span style=\"font-weight: bold\">[</span><span style=\"color: #008080; text-decoration-color: #008080; font-weight: bold\">158</span>/<span style=\"color: #008080; text-decoration-color: #008080; font-weight: bold\">189</span><span style=\"font-weight: bold\">]</span> Retrieving game with <span style=\"color: #808000; text-decoration-color: #808000\">id</span>=<span style=\"color: #800080; text-decoration-color: #800080\">57f9bcc9</span>                                <a href=\"file://C:\\Users\\John\\anaconda3\\lib\\site-packages\\soccerdata\\fbref.py\" target=\"_blank\"><span style=\"color: #7f7f7f; text-decoration-color: #7f7f7f\">fbref.py</span></a><span style=\"color: #7f7f7f; text-decoration-color: #7f7f7f\">:</span><a href=\"file://C:\\Users\\John\\anaconda3\\lib\\site-packages\\soccerdata\\fbref.py#679\" target=\"_blank\"><span style=\"color: #7f7f7f; text-decoration-color: #7f7f7f\">679</span></a>\n",
       "</pre>\n"
      ],
      "text/plain": [
       "\u001b[2;36m[01/22/23 01:19:41]\u001b[0m\u001b[2;36m \u001b[0m\u001b[34mINFO    \u001b[0m \u001b[1m[\u001b[0m\u001b[1;36m158\u001b[0m/\u001b[1;36m189\u001b[0m\u001b[1m]\u001b[0m Retrieving game with \u001b[33mid\u001b[0m=\u001b[35m57f9bcc9\u001b[0m                                \u001b]8;id=771490;file://C:\\Users\\John\\anaconda3\\lib\\site-packages\\soccerdata\\fbref.py\u001b\\\u001b[2mfbref.py\u001b[0m\u001b]8;;\u001b\\\u001b[2m:\u001b[0m\u001b]8;id=242432;file://C:\\Users\\John\\anaconda3\\lib\\site-packages\\soccerdata\\fbref.py#679\u001b\\\u001b[2m679\u001b[0m\u001b]8;;\u001b\\\n"
      ]
     },
     "metadata": {},
     "output_type": "display_data"
    },
    {
     "data": {
      "text/html": [
       "<pre style=\"white-space:pre;overflow-x:auto;line-height:normal;font-family:Menlo,'DejaVu Sans Mono',consolas,'Courier New',monospace\"><span style=\"color: #7fbfbf; text-decoration-color: #7fbfbf\">[01/22/23 01:19:45] </span><span style=\"color: #000080; text-decoration-color: #000080\">INFO    </span> <span style=\"font-weight: bold\">[</span><span style=\"color: #008080; text-decoration-color: #008080; font-weight: bold\">159</span>/<span style=\"color: #008080; text-decoration-color: #008080; font-weight: bold\">189</span><span style=\"font-weight: bold\">]</span> Retrieving game with <span style=\"color: #808000; text-decoration-color: #808000\">id</span>=<span style=\"color: #800080; text-decoration-color: #800080\">2954504d</span>                                <a href=\"file://C:\\Users\\John\\anaconda3\\lib\\site-packages\\soccerdata\\fbref.py\" target=\"_blank\"><span style=\"color: #7f7f7f; text-decoration-color: #7f7f7f\">fbref.py</span></a><span style=\"color: #7f7f7f; text-decoration-color: #7f7f7f\">:</span><a href=\"file://C:\\Users\\John\\anaconda3\\lib\\site-packages\\soccerdata\\fbref.py#679\" target=\"_blank\"><span style=\"color: #7f7f7f; text-decoration-color: #7f7f7f\">679</span></a>\n",
       "</pre>\n"
      ],
      "text/plain": [
       "\u001b[2;36m[01/22/23 01:19:45]\u001b[0m\u001b[2;36m \u001b[0m\u001b[34mINFO    \u001b[0m \u001b[1m[\u001b[0m\u001b[1;36m159\u001b[0m/\u001b[1;36m189\u001b[0m\u001b[1m]\u001b[0m Retrieving game with \u001b[33mid\u001b[0m=\u001b[35m2954504d\u001b[0m                                \u001b]8;id=649882;file://C:\\Users\\John\\anaconda3\\lib\\site-packages\\soccerdata\\fbref.py\u001b\\\u001b[2mfbref.py\u001b[0m\u001b]8;;\u001b\\\u001b[2m:\u001b[0m\u001b]8;id=278594;file://C:\\Users\\John\\anaconda3\\lib\\site-packages\\soccerdata\\fbref.py#679\u001b\\\u001b[2m679\u001b[0m\u001b]8;;\u001b\\\n"
      ]
     },
     "metadata": {},
     "output_type": "display_data"
    },
    {
     "data": {
      "text/html": [
       "<pre style=\"white-space:pre;overflow-x:auto;line-height:normal;font-family:Menlo,'DejaVu Sans Mono',consolas,'Courier New',monospace\"><span style=\"color: #7fbfbf; text-decoration-color: #7fbfbf\">[01/22/23 01:19:50] </span><span style=\"color: #000080; text-decoration-color: #000080\">INFO    </span> <span style=\"font-weight: bold\">[</span><span style=\"color: #008080; text-decoration-color: #008080; font-weight: bold\">160</span>/<span style=\"color: #008080; text-decoration-color: #008080; font-weight: bold\">189</span><span style=\"font-weight: bold\">]</span> Retrieving game with <span style=\"color: #808000; text-decoration-color: #808000\">id</span>=<span style=\"color: #800080; text-decoration-color: #800080\">2586fb04</span>                                <a href=\"file://C:\\Users\\John\\anaconda3\\lib\\site-packages\\soccerdata\\fbref.py\" target=\"_blank\"><span style=\"color: #7f7f7f; text-decoration-color: #7f7f7f\">fbref.py</span></a><span style=\"color: #7f7f7f; text-decoration-color: #7f7f7f\">:</span><a href=\"file://C:\\Users\\John\\anaconda3\\lib\\site-packages\\soccerdata\\fbref.py#679\" target=\"_blank\"><span style=\"color: #7f7f7f; text-decoration-color: #7f7f7f\">679</span></a>\n",
       "</pre>\n"
      ],
      "text/plain": [
       "\u001b[2;36m[01/22/23 01:19:50]\u001b[0m\u001b[2;36m \u001b[0m\u001b[34mINFO    \u001b[0m \u001b[1m[\u001b[0m\u001b[1;36m160\u001b[0m/\u001b[1;36m189\u001b[0m\u001b[1m]\u001b[0m Retrieving game with \u001b[33mid\u001b[0m=\u001b[35m2586fb04\u001b[0m                                \u001b]8;id=828488;file://C:\\Users\\John\\anaconda3\\lib\\site-packages\\soccerdata\\fbref.py\u001b\\\u001b[2mfbref.py\u001b[0m\u001b]8;;\u001b\\\u001b[2m:\u001b[0m\u001b]8;id=699965;file://C:\\Users\\John\\anaconda3\\lib\\site-packages\\soccerdata\\fbref.py#679\u001b\\\u001b[2m679\u001b[0m\u001b]8;;\u001b\\\n"
      ]
     },
     "metadata": {},
     "output_type": "display_data"
    },
    {
     "data": {
      "text/html": [
       "<pre style=\"white-space:pre;overflow-x:auto;line-height:normal;font-family:Menlo,'DejaVu Sans Mono',consolas,'Courier New',monospace\"><span style=\"color: #7fbfbf; text-decoration-color: #7fbfbf\">[01/22/23 01:19:54] </span><span style=\"color: #000080; text-decoration-color: #000080\">INFO    </span> <span style=\"font-weight: bold\">[</span><span style=\"color: #008080; text-decoration-color: #008080; font-weight: bold\">162</span>/<span style=\"color: #008080; text-decoration-color: #008080; font-weight: bold\">189</span><span style=\"font-weight: bold\">]</span> Retrieving game with <span style=\"color: #808000; text-decoration-color: #808000\">id</span>=<span style=\"color: #800080; text-decoration-color: #800080\">54f23f03</span>                                <a href=\"file://C:\\Users\\John\\anaconda3\\lib\\site-packages\\soccerdata\\fbref.py\" target=\"_blank\"><span style=\"color: #7f7f7f; text-decoration-color: #7f7f7f\">fbref.py</span></a><span style=\"color: #7f7f7f; text-decoration-color: #7f7f7f\">:</span><a href=\"file://C:\\Users\\John\\anaconda3\\lib\\site-packages\\soccerdata\\fbref.py#679\" target=\"_blank\"><span style=\"color: #7f7f7f; text-decoration-color: #7f7f7f\">679</span></a>\n",
       "</pre>\n"
      ],
      "text/plain": [
       "\u001b[2;36m[01/22/23 01:19:54]\u001b[0m\u001b[2;36m \u001b[0m\u001b[34mINFO    \u001b[0m \u001b[1m[\u001b[0m\u001b[1;36m162\u001b[0m/\u001b[1;36m189\u001b[0m\u001b[1m]\u001b[0m Retrieving game with \u001b[33mid\u001b[0m=\u001b[35m54f23f03\u001b[0m                                \u001b]8;id=828580;file://C:\\Users\\John\\anaconda3\\lib\\site-packages\\soccerdata\\fbref.py\u001b\\\u001b[2mfbref.py\u001b[0m\u001b]8;;\u001b\\\u001b[2m:\u001b[0m\u001b]8;id=473643;file://C:\\Users\\John\\anaconda3\\lib\\site-packages\\soccerdata\\fbref.py#679\u001b\\\u001b[2m679\u001b[0m\u001b]8;;\u001b\\\n"
      ]
     },
     "metadata": {},
     "output_type": "display_data"
    },
    {
     "data": {
      "text/html": [
       "<pre style=\"white-space:pre;overflow-x:auto;line-height:normal;font-family:Menlo,'DejaVu Sans Mono',consolas,'Courier New',monospace\"><span style=\"color: #7fbfbf; text-decoration-color: #7fbfbf\">[01/22/23 01:19:58] </span><span style=\"color: #000080; text-decoration-color: #000080\">INFO    </span> <span style=\"font-weight: bold\">[</span><span style=\"color: #008080; text-decoration-color: #008080; font-weight: bold\">163</span>/<span style=\"color: #008080; text-decoration-color: #008080; font-weight: bold\">189</span><span style=\"font-weight: bold\">]</span> Retrieving game with <span style=\"color: #808000; text-decoration-color: #808000\">id</span>=<span style=\"color: #800080; text-decoration-color: #800080\">1579d34b</span>                                <a href=\"file://C:\\Users\\John\\anaconda3\\lib\\site-packages\\soccerdata\\fbref.py\" target=\"_blank\"><span style=\"color: #7f7f7f; text-decoration-color: #7f7f7f\">fbref.py</span></a><span style=\"color: #7f7f7f; text-decoration-color: #7f7f7f\">:</span><a href=\"file://C:\\Users\\John\\anaconda3\\lib\\site-packages\\soccerdata\\fbref.py#679\" target=\"_blank\"><span style=\"color: #7f7f7f; text-decoration-color: #7f7f7f\">679</span></a>\n",
       "</pre>\n"
      ],
      "text/plain": [
       "\u001b[2;36m[01/22/23 01:19:58]\u001b[0m\u001b[2;36m \u001b[0m\u001b[34mINFO    \u001b[0m \u001b[1m[\u001b[0m\u001b[1;36m163\u001b[0m/\u001b[1;36m189\u001b[0m\u001b[1m]\u001b[0m Retrieving game with \u001b[33mid\u001b[0m=\u001b[35m1579d34b\u001b[0m                                \u001b]8;id=260304;file://C:\\Users\\John\\anaconda3\\lib\\site-packages\\soccerdata\\fbref.py\u001b\\\u001b[2mfbref.py\u001b[0m\u001b]8;;\u001b\\\u001b[2m:\u001b[0m\u001b]8;id=490089;file://C:\\Users\\John\\anaconda3\\lib\\site-packages\\soccerdata\\fbref.py#679\u001b\\\u001b[2m679\u001b[0m\u001b]8;;\u001b\\\n"
      ]
     },
     "metadata": {},
     "output_type": "display_data"
    },
    {
     "data": {
      "text/html": [
       "<pre style=\"white-space:pre;overflow-x:auto;line-height:normal;font-family:Menlo,'DejaVu Sans Mono',consolas,'Courier New',monospace\"><span style=\"color: #7fbfbf; text-decoration-color: #7fbfbf\">[01/22/23 01:20:03] </span><span style=\"color: #000080; text-decoration-color: #000080\">INFO    </span> <span style=\"font-weight: bold\">[</span><span style=\"color: #008080; text-decoration-color: #008080; font-weight: bold\">164</span>/<span style=\"color: #008080; text-decoration-color: #008080; font-weight: bold\">189</span><span style=\"font-weight: bold\">]</span> Retrieving game with <span style=\"color: #808000; text-decoration-color: #808000\">id</span>=<span style=\"color: #800080; text-decoration-color: #800080\">28b60c1b</span>                                <a href=\"file://C:\\Users\\John\\anaconda3\\lib\\site-packages\\soccerdata\\fbref.py\" target=\"_blank\"><span style=\"color: #7f7f7f; text-decoration-color: #7f7f7f\">fbref.py</span></a><span style=\"color: #7f7f7f; text-decoration-color: #7f7f7f\">:</span><a href=\"file://C:\\Users\\John\\anaconda3\\lib\\site-packages\\soccerdata\\fbref.py#679\" target=\"_blank\"><span style=\"color: #7f7f7f; text-decoration-color: #7f7f7f\">679</span></a>\n",
       "</pre>\n"
      ],
      "text/plain": [
       "\u001b[2;36m[01/22/23 01:20:03]\u001b[0m\u001b[2;36m \u001b[0m\u001b[34mINFO    \u001b[0m \u001b[1m[\u001b[0m\u001b[1;36m164\u001b[0m/\u001b[1;36m189\u001b[0m\u001b[1m]\u001b[0m Retrieving game with \u001b[33mid\u001b[0m=\u001b[35m28b60c1b\u001b[0m                                \u001b]8;id=594289;file://C:\\Users\\John\\anaconda3\\lib\\site-packages\\soccerdata\\fbref.py\u001b\\\u001b[2mfbref.py\u001b[0m\u001b]8;;\u001b\\\u001b[2m:\u001b[0m\u001b]8;id=650968;file://C:\\Users\\John\\anaconda3\\lib\\site-packages\\soccerdata\\fbref.py#679\u001b\\\u001b[2m679\u001b[0m\u001b]8;;\u001b\\\n"
      ]
     },
     "metadata": {},
     "output_type": "display_data"
    },
    {
     "data": {
      "text/html": [
       "<pre style=\"white-space:pre;overflow-x:auto;line-height:normal;font-family:Menlo,'DejaVu Sans Mono',consolas,'Courier New',monospace\"><span style=\"color: #7fbfbf; text-decoration-color: #7fbfbf\">[01/22/23 01:20:07] </span><span style=\"color: #000080; text-decoration-color: #000080\">INFO    </span> <span style=\"font-weight: bold\">[</span><span style=\"color: #008080; text-decoration-color: #008080; font-weight: bold\">165</span>/<span style=\"color: #008080; text-decoration-color: #008080; font-weight: bold\">189</span><span style=\"font-weight: bold\">]</span> Retrieving game with <span style=\"color: #808000; text-decoration-color: #808000\">id</span>=<span style=\"color: #800080; text-decoration-color: #800080\">e1b3eb1b</span>                                <a href=\"file://C:\\Users\\John\\anaconda3\\lib\\site-packages\\soccerdata\\fbref.py\" target=\"_blank\"><span style=\"color: #7f7f7f; text-decoration-color: #7f7f7f\">fbref.py</span></a><span style=\"color: #7f7f7f; text-decoration-color: #7f7f7f\">:</span><a href=\"file://C:\\Users\\John\\anaconda3\\lib\\site-packages\\soccerdata\\fbref.py#679\" target=\"_blank\"><span style=\"color: #7f7f7f; text-decoration-color: #7f7f7f\">679</span></a>\n",
       "</pre>\n"
      ],
      "text/plain": [
       "\u001b[2;36m[01/22/23 01:20:07]\u001b[0m\u001b[2;36m \u001b[0m\u001b[34mINFO    \u001b[0m \u001b[1m[\u001b[0m\u001b[1;36m165\u001b[0m/\u001b[1;36m189\u001b[0m\u001b[1m]\u001b[0m Retrieving game with \u001b[33mid\u001b[0m=\u001b[35me1b3eb1b\u001b[0m                                \u001b]8;id=699907;file://C:\\Users\\John\\anaconda3\\lib\\site-packages\\soccerdata\\fbref.py\u001b\\\u001b[2mfbref.py\u001b[0m\u001b]8;;\u001b\\\u001b[2m:\u001b[0m\u001b]8;id=479372;file://C:\\Users\\John\\anaconda3\\lib\\site-packages\\soccerdata\\fbref.py#679\u001b\\\u001b[2m679\u001b[0m\u001b]8;;\u001b\\\n"
      ]
     },
     "metadata": {},
     "output_type": "display_data"
    },
    {
     "data": {
      "text/html": [
       "<pre style=\"white-space:pre;overflow-x:auto;line-height:normal;font-family:Menlo,'DejaVu Sans Mono',consolas,'Courier New',monospace\"><span style=\"color: #7fbfbf; text-decoration-color: #7fbfbf\">[01/22/23 01:20:11] </span><span style=\"color: #000080; text-decoration-color: #000080\">INFO    </span> <span style=\"font-weight: bold\">[</span><span style=\"color: #008080; text-decoration-color: #008080; font-weight: bold\">166</span>/<span style=\"color: #008080; text-decoration-color: #008080; font-weight: bold\">189</span><span style=\"font-weight: bold\">]</span> Retrieving game with <span style=\"color: #808000; text-decoration-color: #808000\">id</span>=<span style=\"color: #800080; text-decoration-color: #800080\">ee827a60</span>                                <a href=\"file://C:\\Users\\John\\anaconda3\\lib\\site-packages\\soccerdata\\fbref.py\" target=\"_blank\"><span style=\"color: #7f7f7f; text-decoration-color: #7f7f7f\">fbref.py</span></a><span style=\"color: #7f7f7f; text-decoration-color: #7f7f7f\">:</span><a href=\"file://C:\\Users\\John\\anaconda3\\lib\\site-packages\\soccerdata\\fbref.py#679\" target=\"_blank\"><span style=\"color: #7f7f7f; text-decoration-color: #7f7f7f\">679</span></a>\n",
       "</pre>\n"
      ],
      "text/plain": [
       "\u001b[2;36m[01/22/23 01:20:11]\u001b[0m\u001b[2;36m \u001b[0m\u001b[34mINFO    \u001b[0m \u001b[1m[\u001b[0m\u001b[1;36m166\u001b[0m/\u001b[1;36m189\u001b[0m\u001b[1m]\u001b[0m Retrieving game with \u001b[33mid\u001b[0m=\u001b[35mee827a60\u001b[0m                                \u001b]8;id=414124;file://C:\\Users\\John\\anaconda3\\lib\\site-packages\\soccerdata\\fbref.py\u001b\\\u001b[2mfbref.py\u001b[0m\u001b]8;;\u001b\\\u001b[2m:\u001b[0m\u001b]8;id=612770;file://C:\\Users\\John\\anaconda3\\lib\\site-packages\\soccerdata\\fbref.py#679\u001b\\\u001b[2m679\u001b[0m\u001b]8;;\u001b\\\n"
      ]
     },
     "metadata": {},
     "output_type": "display_data"
    },
    {
     "data": {
      "text/html": [
       "<pre style=\"white-space:pre;overflow-x:auto;line-height:normal;font-family:Menlo,'DejaVu Sans Mono',consolas,'Courier New',monospace\"><span style=\"color: #7fbfbf; text-decoration-color: #7fbfbf\">[01/22/23 01:20:16] </span><span style=\"color: #000080; text-decoration-color: #000080\">INFO    </span> <span style=\"font-weight: bold\">[</span><span style=\"color: #008080; text-decoration-color: #008080; font-weight: bold\">167</span>/<span style=\"color: #008080; text-decoration-color: #008080; font-weight: bold\">189</span><span style=\"font-weight: bold\">]</span> Retrieving game with <span style=\"color: #808000; text-decoration-color: #808000\">id</span>=<span style=\"color: #008080; text-decoration-color: #008080; font-weight: bold\">0030e686</span>                                <a href=\"file://C:\\Users\\John\\anaconda3\\lib\\site-packages\\soccerdata\\fbref.py\" target=\"_blank\"><span style=\"color: #7f7f7f; text-decoration-color: #7f7f7f\">fbref.py</span></a><span style=\"color: #7f7f7f; text-decoration-color: #7f7f7f\">:</span><a href=\"file://C:\\Users\\John\\anaconda3\\lib\\site-packages\\soccerdata\\fbref.py#679\" target=\"_blank\"><span style=\"color: #7f7f7f; text-decoration-color: #7f7f7f\">679</span></a>\n",
       "</pre>\n"
      ],
      "text/plain": [
       "\u001b[2;36m[01/22/23 01:20:16]\u001b[0m\u001b[2;36m \u001b[0m\u001b[34mINFO    \u001b[0m \u001b[1m[\u001b[0m\u001b[1;36m167\u001b[0m/\u001b[1;36m189\u001b[0m\u001b[1m]\u001b[0m Retrieving game with \u001b[33mid\u001b[0m=\u001b[1;36m0030e686\u001b[0m                                \u001b]8;id=536681;file://C:\\Users\\John\\anaconda3\\lib\\site-packages\\soccerdata\\fbref.py\u001b\\\u001b[2mfbref.py\u001b[0m\u001b]8;;\u001b\\\u001b[2m:\u001b[0m\u001b]8;id=462643;file://C:\\Users\\John\\anaconda3\\lib\\site-packages\\soccerdata\\fbref.py#679\u001b\\\u001b[2m679\u001b[0m\u001b]8;;\u001b\\\n"
      ]
     },
     "metadata": {},
     "output_type": "display_data"
    },
    {
     "data": {
      "text/html": [
       "<pre style=\"white-space:pre;overflow-x:auto;line-height:normal;font-family:Menlo,'DejaVu Sans Mono',consolas,'Courier New',monospace\"><span style=\"color: #7fbfbf; text-decoration-color: #7fbfbf\">[01/22/23 01:20:20] </span><span style=\"color: #000080; text-decoration-color: #000080\">INFO    </span> <span style=\"font-weight: bold\">[</span><span style=\"color: #008080; text-decoration-color: #008080; font-weight: bold\">168</span>/<span style=\"color: #008080; text-decoration-color: #008080; font-weight: bold\">189</span><span style=\"font-weight: bold\">]</span> Retrieving game with <span style=\"color: #808000; text-decoration-color: #808000\">id</span>=<span style=\"color: #800080; text-decoration-color: #800080\">6e89557a</span>                                <a href=\"file://C:\\Users\\John\\anaconda3\\lib\\site-packages\\soccerdata\\fbref.py\" target=\"_blank\"><span style=\"color: #7f7f7f; text-decoration-color: #7f7f7f\">fbref.py</span></a><span style=\"color: #7f7f7f; text-decoration-color: #7f7f7f\">:</span><a href=\"file://C:\\Users\\John\\anaconda3\\lib\\site-packages\\soccerdata\\fbref.py#679\" target=\"_blank\"><span style=\"color: #7f7f7f; text-decoration-color: #7f7f7f\">679</span></a>\n",
       "</pre>\n"
      ],
      "text/plain": [
       "\u001b[2;36m[01/22/23 01:20:20]\u001b[0m\u001b[2;36m \u001b[0m\u001b[34mINFO    \u001b[0m \u001b[1m[\u001b[0m\u001b[1;36m168\u001b[0m/\u001b[1;36m189\u001b[0m\u001b[1m]\u001b[0m Retrieving game with \u001b[33mid\u001b[0m=\u001b[35m6e89557a\u001b[0m                                \u001b]8;id=103253;file://C:\\Users\\John\\anaconda3\\lib\\site-packages\\soccerdata\\fbref.py\u001b\\\u001b[2mfbref.py\u001b[0m\u001b]8;;\u001b\\\u001b[2m:\u001b[0m\u001b]8;id=194523;file://C:\\Users\\John\\anaconda3\\lib\\site-packages\\soccerdata\\fbref.py#679\u001b\\\u001b[2m679\u001b[0m\u001b]8;;\u001b\\\n"
      ]
     },
     "metadata": {},
     "output_type": "display_data"
    },
    {
     "data": {
      "text/html": [
       "<pre style=\"white-space:pre;overflow-x:auto;line-height:normal;font-family:Menlo,'DejaVu Sans Mono',consolas,'Courier New',monospace\"><span style=\"color: #7fbfbf; text-decoration-color: #7fbfbf\">[01/22/23 01:20:24] </span><span style=\"color: #000080; text-decoration-color: #000080\">INFO    </span> <span style=\"font-weight: bold\">[</span><span style=\"color: #008080; text-decoration-color: #008080; font-weight: bold\">169</span>/<span style=\"color: #008080; text-decoration-color: #008080; font-weight: bold\">189</span><span style=\"font-weight: bold\">]</span> Retrieving game with <span style=\"color: #808000; text-decoration-color: #808000\">id</span>=<span style=\"color: #800080; text-decoration-color: #800080\">863d7a8f</span>                                <a href=\"file://C:\\Users\\John\\anaconda3\\lib\\site-packages\\soccerdata\\fbref.py\" target=\"_blank\"><span style=\"color: #7f7f7f; text-decoration-color: #7f7f7f\">fbref.py</span></a><span style=\"color: #7f7f7f; text-decoration-color: #7f7f7f\">:</span><a href=\"file://C:\\Users\\John\\anaconda3\\lib\\site-packages\\soccerdata\\fbref.py#679\" target=\"_blank\"><span style=\"color: #7f7f7f; text-decoration-color: #7f7f7f\">679</span></a>\n",
       "</pre>\n"
      ],
      "text/plain": [
       "\u001b[2;36m[01/22/23 01:20:24]\u001b[0m\u001b[2;36m \u001b[0m\u001b[34mINFO    \u001b[0m \u001b[1m[\u001b[0m\u001b[1;36m169\u001b[0m/\u001b[1;36m189\u001b[0m\u001b[1m]\u001b[0m Retrieving game with \u001b[33mid\u001b[0m=\u001b[35m863d7a8f\u001b[0m                                \u001b]8;id=45689;file://C:\\Users\\John\\anaconda3\\lib\\site-packages\\soccerdata\\fbref.py\u001b\\\u001b[2mfbref.py\u001b[0m\u001b]8;;\u001b\\\u001b[2m:\u001b[0m\u001b]8;id=371775;file://C:\\Users\\John\\anaconda3\\lib\\site-packages\\soccerdata\\fbref.py#679\u001b\\\u001b[2m679\u001b[0m\u001b]8;;\u001b\\\n"
      ]
     },
     "metadata": {},
     "output_type": "display_data"
    },
    {
     "data": {
      "text/html": [
       "<pre style=\"white-space:pre;overflow-x:auto;line-height:normal;font-family:Menlo,'DejaVu Sans Mono',consolas,'Courier New',monospace\"><span style=\"color: #7fbfbf; text-decoration-color: #7fbfbf\">[01/22/23 01:20:29] </span><span style=\"color: #000080; text-decoration-color: #000080\">INFO    </span> <span style=\"font-weight: bold\">[</span><span style=\"color: #008080; text-decoration-color: #008080; font-weight: bold\">170</span>/<span style=\"color: #008080; text-decoration-color: #008080; font-weight: bold\">189</span><span style=\"font-weight: bold\">]</span> Retrieving game with <span style=\"color: #808000; text-decoration-color: #808000\">id</span>=<span style=\"color: #800080; text-decoration-color: #800080\">a7031cbd</span>                                <a href=\"file://C:\\Users\\John\\anaconda3\\lib\\site-packages\\soccerdata\\fbref.py\" target=\"_blank\"><span style=\"color: #7f7f7f; text-decoration-color: #7f7f7f\">fbref.py</span></a><span style=\"color: #7f7f7f; text-decoration-color: #7f7f7f\">:</span><a href=\"file://C:\\Users\\John\\anaconda3\\lib\\site-packages\\soccerdata\\fbref.py#679\" target=\"_blank\"><span style=\"color: #7f7f7f; text-decoration-color: #7f7f7f\">679</span></a>\n",
       "</pre>\n"
      ],
      "text/plain": [
       "\u001b[2;36m[01/22/23 01:20:29]\u001b[0m\u001b[2;36m \u001b[0m\u001b[34mINFO    \u001b[0m \u001b[1m[\u001b[0m\u001b[1;36m170\u001b[0m/\u001b[1;36m189\u001b[0m\u001b[1m]\u001b[0m Retrieving game with \u001b[33mid\u001b[0m=\u001b[35ma7031cbd\u001b[0m                                \u001b]8;id=253171;file://C:\\Users\\John\\anaconda3\\lib\\site-packages\\soccerdata\\fbref.py\u001b\\\u001b[2mfbref.py\u001b[0m\u001b]8;;\u001b\\\u001b[2m:\u001b[0m\u001b]8;id=54738;file://C:\\Users\\John\\anaconda3\\lib\\site-packages\\soccerdata\\fbref.py#679\u001b\\\u001b[2m679\u001b[0m\u001b]8;;\u001b\\\n"
      ]
     },
     "metadata": {},
     "output_type": "display_data"
    },
    {
     "data": {
      "text/html": [
       "<pre style=\"white-space:pre;overflow-x:auto;line-height:normal;font-family:Menlo,'DejaVu Sans Mono',consolas,'Courier New',monospace\"><span style=\"color: #7fbfbf; text-decoration-color: #7fbfbf\">[01/22/23 01:20:33] </span><span style=\"color: #000080; text-decoration-color: #000080\">INFO    </span> <span style=\"font-weight: bold\">[</span><span style=\"color: #008080; text-decoration-color: #008080; font-weight: bold\">171</span>/<span style=\"color: #008080; text-decoration-color: #008080; font-weight: bold\">189</span><span style=\"font-weight: bold\">]</span> Retrieving game with <span style=\"color: #808000; text-decoration-color: #808000\">id</span>=<span style=\"color: #800080; text-decoration-color: #800080\">af75b6b0</span>                                <a href=\"file://C:\\Users\\John\\anaconda3\\lib\\site-packages\\soccerdata\\fbref.py\" target=\"_blank\"><span style=\"color: #7f7f7f; text-decoration-color: #7f7f7f\">fbref.py</span></a><span style=\"color: #7f7f7f; text-decoration-color: #7f7f7f\">:</span><a href=\"file://C:\\Users\\John\\anaconda3\\lib\\site-packages\\soccerdata\\fbref.py#679\" target=\"_blank\"><span style=\"color: #7f7f7f; text-decoration-color: #7f7f7f\">679</span></a>\n",
       "</pre>\n"
      ],
      "text/plain": [
       "\u001b[2;36m[01/22/23 01:20:33]\u001b[0m\u001b[2;36m \u001b[0m\u001b[34mINFO    \u001b[0m \u001b[1m[\u001b[0m\u001b[1;36m171\u001b[0m/\u001b[1;36m189\u001b[0m\u001b[1m]\u001b[0m Retrieving game with \u001b[33mid\u001b[0m=\u001b[35maf75b6b0\u001b[0m                                \u001b]8;id=733810;file://C:\\Users\\John\\anaconda3\\lib\\site-packages\\soccerdata\\fbref.py\u001b\\\u001b[2mfbref.py\u001b[0m\u001b]8;;\u001b\\\u001b[2m:\u001b[0m\u001b]8;id=660604;file://C:\\Users\\John\\anaconda3\\lib\\site-packages\\soccerdata\\fbref.py#679\u001b\\\u001b[2m679\u001b[0m\u001b]8;;\u001b\\\n"
      ]
     },
     "metadata": {},
     "output_type": "display_data"
    },
    {
     "data": {
      "text/html": [
       "<pre style=\"white-space:pre;overflow-x:auto;line-height:normal;font-family:Menlo,'DejaVu Sans Mono',consolas,'Courier New',monospace\"><span style=\"color: #7fbfbf; text-decoration-color: #7fbfbf\">[01/22/23 01:20:37] </span><span style=\"color: #000080; text-decoration-color: #000080\">INFO    </span> <span style=\"font-weight: bold\">[</span><span style=\"color: #008080; text-decoration-color: #008080; font-weight: bold\">173</span>/<span style=\"color: #008080; text-decoration-color: #008080; font-weight: bold\">189</span><span style=\"font-weight: bold\">]</span> Retrieving game with <span style=\"color: #808000; text-decoration-color: #808000\">id</span>=<span style=\"color: #800080; text-decoration-color: #800080\">3be32b8b</span>                                <a href=\"file://C:\\Users\\John\\anaconda3\\lib\\site-packages\\soccerdata\\fbref.py\" target=\"_blank\"><span style=\"color: #7f7f7f; text-decoration-color: #7f7f7f\">fbref.py</span></a><span style=\"color: #7f7f7f; text-decoration-color: #7f7f7f\">:</span><a href=\"file://C:\\Users\\John\\anaconda3\\lib\\site-packages\\soccerdata\\fbref.py#679\" target=\"_blank\"><span style=\"color: #7f7f7f; text-decoration-color: #7f7f7f\">679</span></a>\n",
       "</pre>\n"
      ],
      "text/plain": [
       "\u001b[2;36m[01/22/23 01:20:37]\u001b[0m\u001b[2;36m \u001b[0m\u001b[34mINFO    \u001b[0m \u001b[1m[\u001b[0m\u001b[1;36m173\u001b[0m/\u001b[1;36m189\u001b[0m\u001b[1m]\u001b[0m Retrieving game with \u001b[33mid\u001b[0m=\u001b[35m3be32b8b\u001b[0m                                \u001b]8;id=848158;file://C:\\Users\\John\\anaconda3\\lib\\site-packages\\soccerdata\\fbref.py\u001b\\\u001b[2mfbref.py\u001b[0m\u001b]8;;\u001b\\\u001b[2m:\u001b[0m\u001b]8;id=67921;file://C:\\Users\\John\\anaconda3\\lib\\site-packages\\soccerdata\\fbref.py#679\u001b\\\u001b[2m679\u001b[0m\u001b]8;;\u001b\\\n"
      ]
     },
     "metadata": {},
     "output_type": "display_data"
    },
    {
     "data": {
      "text/html": [
       "<pre style=\"white-space:pre;overflow-x:auto;line-height:normal;font-family:Menlo,'DejaVu Sans Mono',consolas,'Courier New',monospace\"><span style=\"color: #7fbfbf; text-decoration-color: #7fbfbf\">[01/22/23 01:20:42] </span><span style=\"color: #000080; text-decoration-color: #000080\">INFO    </span> <span style=\"font-weight: bold\">[</span><span style=\"color: #008080; text-decoration-color: #008080; font-weight: bold\">174</span>/<span style=\"color: #008080; text-decoration-color: #008080; font-weight: bold\">189</span><span style=\"font-weight: bold\">]</span> Retrieving game with <span style=\"color: #808000; text-decoration-color: #808000\">id</span>=<span style=\"color: #800080; text-decoration-color: #800080\">ab7d4465</span>                                <a href=\"file://C:\\Users\\John\\anaconda3\\lib\\site-packages\\soccerdata\\fbref.py\" target=\"_blank\"><span style=\"color: #7f7f7f; text-decoration-color: #7f7f7f\">fbref.py</span></a><span style=\"color: #7f7f7f; text-decoration-color: #7f7f7f\">:</span><a href=\"file://C:\\Users\\John\\anaconda3\\lib\\site-packages\\soccerdata\\fbref.py#679\" target=\"_blank\"><span style=\"color: #7f7f7f; text-decoration-color: #7f7f7f\">679</span></a>\n",
       "</pre>\n"
      ],
      "text/plain": [
       "\u001b[2;36m[01/22/23 01:20:42]\u001b[0m\u001b[2;36m \u001b[0m\u001b[34mINFO    \u001b[0m \u001b[1m[\u001b[0m\u001b[1;36m174\u001b[0m/\u001b[1;36m189\u001b[0m\u001b[1m]\u001b[0m Retrieving game with \u001b[33mid\u001b[0m=\u001b[35mab7d4465\u001b[0m                                \u001b]8;id=563470;file://C:\\Users\\John\\anaconda3\\lib\\site-packages\\soccerdata\\fbref.py\u001b\\\u001b[2mfbref.py\u001b[0m\u001b]8;;\u001b\\\u001b[2m:\u001b[0m\u001b]8;id=369943;file://C:\\Users\\John\\anaconda3\\lib\\site-packages\\soccerdata\\fbref.py#679\u001b\\\u001b[2m679\u001b[0m\u001b]8;;\u001b\\\n"
      ]
     },
     "metadata": {},
     "output_type": "display_data"
    },
    {
     "data": {
      "text/html": [
       "<pre style=\"white-space:pre;overflow-x:auto;line-height:normal;font-family:Menlo,'DejaVu Sans Mono',consolas,'Courier New',monospace\"><span style=\"color: #7fbfbf; text-decoration-color: #7fbfbf\">[01/22/23 01:20:47] </span><span style=\"color: #000080; text-decoration-color: #000080\">INFO    </span> <span style=\"font-weight: bold\">[</span><span style=\"color: #008080; text-decoration-color: #008080; font-weight: bold\">175</span>/<span style=\"color: #008080; text-decoration-color: #008080; font-weight: bold\">189</span><span style=\"font-weight: bold\">]</span> Retrieving game with <span style=\"color: #808000; text-decoration-color: #808000\">id</span>=<span style=\"color: #800080; text-decoration-color: #800080\">14e4f648</span>                                <a href=\"file://C:\\Users\\John\\anaconda3\\lib\\site-packages\\soccerdata\\fbref.py\" target=\"_blank\"><span style=\"color: #7f7f7f; text-decoration-color: #7f7f7f\">fbref.py</span></a><span style=\"color: #7f7f7f; text-decoration-color: #7f7f7f\">:</span><a href=\"file://C:\\Users\\John\\anaconda3\\lib\\site-packages\\soccerdata\\fbref.py#679\" target=\"_blank\"><span style=\"color: #7f7f7f; text-decoration-color: #7f7f7f\">679</span></a>\n",
       "</pre>\n"
      ],
      "text/plain": [
       "\u001b[2;36m[01/22/23 01:20:47]\u001b[0m\u001b[2;36m \u001b[0m\u001b[34mINFO    \u001b[0m \u001b[1m[\u001b[0m\u001b[1;36m175\u001b[0m/\u001b[1;36m189\u001b[0m\u001b[1m]\u001b[0m Retrieving game with \u001b[33mid\u001b[0m=\u001b[35m14e4f648\u001b[0m                                \u001b]8;id=328445;file://C:\\Users\\John\\anaconda3\\lib\\site-packages\\soccerdata\\fbref.py\u001b\\\u001b[2mfbref.py\u001b[0m\u001b]8;;\u001b\\\u001b[2m:\u001b[0m\u001b]8;id=849814;file://C:\\Users\\John\\anaconda3\\lib\\site-packages\\soccerdata\\fbref.py#679\u001b\\\u001b[2m679\u001b[0m\u001b]8;;\u001b\\\n"
      ]
     },
     "metadata": {},
     "output_type": "display_data"
    },
    {
     "data": {
      "text/html": [
       "<pre style=\"white-space:pre;overflow-x:auto;line-height:normal;font-family:Menlo,'DejaVu Sans Mono',consolas,'Courier New',monospace\"><span style=\"color: #7fbfbf; text-decoration-color: #7fbfbf\">[01/22/23 01:20:52] </span><span style=\"color: #000080; text-decoration-color: #000080\">INFO    </span> <span style=\"font-weight: bold\">[</span><span style=\"color: #008080; text-decoration-color: #008080; font-weight: bold\">176</span>/<span style=\"color: #008080; text-decoration-color: #008080; font-weight: bold\">189</span><span style=\"font-weight: bold\">]</span> Retrieving game with <span style=\"color: #808000; text-decoration-color: #808000\">id</span>=<span style=\"color: #800080; text-decoration-color: #800080\">bbb301a6</span>                                <a href=\"file://C:\\Users\\John\\anaconda3\\lib\\site-packages\\soccerdata\\fbref.py\" target=\"_blank\"><span style=\"color: #7f7f7f; text-decoration-color: #7f7f7f\">fbref.py</span></a><span style=\"color: #7f7f7f; text-decoration-color: #7f7f7f\">:</span><a href=\"file://C:\\Users\\John\\anaconda3\\lib\\site-packages\\soccerdata\\fbref.py#679\" target=\"_blank\"><span style=\"color: #7f7f7f; text-decoration-color: #7f7f7f\">679</span></a>\n",
       "</pre>\n"
      ],
      "text/plain": [
       "\u001b[2;36m[01/22/23 01:20:52]\u001b[0m\u001b[2;36m \u001b[0m\u001b[34mINFO    \u001b[0m \u001b[1m[\u001b[0m\u001b[1;36m176\u001b[0m/\u001b[1;36m189\u001b[0m\u001b[1m]\u001b[0m Retrieving game with \u001b[33mid\u001b[0m=\u001b[35mbbb301a6\u001b[0m                                \u001b]8;id=613211;file://C:\\Users\\John\\anaconda3\\lib\\site-packages\\soccerdata\\fbref.py\u001b\\\u001b[2mfbref.py\u001b[0m\u001b]8;;\u001b\\\u001b[2m:\u001b[0m\u001b]8;id=198819;file://C:\\Users\\John\\anaconda3\\lib\\site-packages\\soccerdata\\fbref.py#679\u001b\\\u001b[2m679\u001b[0m\u001b]8;;\u001b\\\n"
      ]
     },
     "metadata": {},
     "output_type": "display_data"
    },
    {
     "data": {
      "text/html": [
       "<pre style=\"white-space:pre;overflow-x:auto;line-height:normal;font-family:Menlo,'DejaVu Sans Mono',consolas,'Courier New',monospace\"><span style=\"color: #7fbfbf; text-decoration-color: #7fbfbf\">[01/22/23 01:20:56] </span><span style=\"color: #000080; text-decoration-color: #000080\">INFO    </span> <span style=\"font-weight: bold\">[</span><span style=\"color: #008080; text-decoration-color: #008080; font-weight: bold\">177</span>/<span style=\"color: #008080; text-decoration-color: #008080; font-weight: bold\">189</span><span style=\"font-weight: bold\">]</span> Retrieving game with <span style=\"color: #808000; text-decoration-color: #808000\">id</span>=<span style=\"color: #800080; text-decoration-color: #800080\">ef424180</span>                                <a href=\"file://C:\\Users\\John\\anaconda3\\lib\\site-packages\\soccerdata\\fbref.py\" target=\"_blank\"><span style=\"color: #7f7f7f; text-decoration-color: #7f7f7f\">fbref.py</span></a><span style=\"color: #7f7f7f; text-decoration-color: #7f7f7f\">:</span><a href=\"file://C:\\Users\\John\\anaconda3\\lib\\site-packages\\soccerdata\\fbref.py#679\" target=\"_blank\"><span style=\"color: #7f7f7f; text-decoration-color: #7f7f7f\">679</span></a>\n",
       "</pre>\n"
      ],
      "text/plain": [
       "\u001b[2;36m[01/22/23 01:20:56]\u001b[0m\u001b[2;36m \u001b[0m\u001b[34mINFO    \u001b[0m \u001b[1m[\u001b[0m\u001b[1;36m177\u001b[0m/\u001b[1;36m189\u001b[0m\u001b[1m]\u001b[0m Retrieving game with \u001b[33mid\u001b[0m=\u001b[35mef424180\u001b[0m                                \u001b]8;id=588076;file://C:\\Users\\John\\anaconda3\\lib\\site-packages\\soccerdata\\fbref.py\u001b\\\u001b[2mfbref.py\u001b[0m\u001b]8;;\u001b\\\u001b[2m:\u001b[0m\u001b]8;id=540394;file://C:\\Users\\John\\anaconda3\\lib\\site-packages\\soccerdata\\fbref.py#679\u001b\\\u001b[2m679\u001b[0m\u001b]8;;\u001b\\\n"
      ]
     },
     "metadata": {},
     "output_type": "display_data"
    },
    {
     "data": {
      "text/html": [
       "<pre style=\"white-space:pre;overflow-x:auto;line-height:normal;font-family:Menlo,'DejaVu Sans Mono',consolas,'Courier New',monospace\"><span style=\"color: #7fbfbf; text-decoration-color: #7fbfbf\">[01/22/23 01:21:00] </span><span style=\"color: #000080; text-decoration-color: #000080\">INFO    </span> <span style=\"font-weight: bold\">[</span><span style=\"color: #008080; text-decoration-color: #008080; font-weight: bold\">178</span>/<span style=\"color: #008080; text-decoration-color: #008080; font-weight: bold\">189</span><span style=\"font-weight: bold\">]</span> Retrieving game with <span style=\"color: #808000; text-decoration-color: #808000\">id</span>=<span style=\"color: #008080; text-decoration-color: #008080; font-weight: bold\">8e186153</span>                                <a href=\"file://C:\\Users\\John\\anaconda3\\lib\\site-packages\\soccerdata\\fbref.py\" target=\"_blank\"><span style=\"color: #7f7f7f; text-decoration-color: #7f7f7f\">fbref.py</span></a><span style=\"color: #7f7f7f; text-decoration-color: #7f7f7f\">:</span><a href=\"file://C:\\Users\\John\\anaconda3\\lib\\site-packages\\soccerdata\\fbref.py#679\" target=\"_blank\"><span style=\"color: #7f7f7f; text-decoration-color: #7f7f7f\">679</span></a>\n",
       "</pre>\n"
      ],
      "text/plain": [
       "\u001b[2;36m[01/22/23 01:21:00]\u001b[0m\u001b[2;36m \u001b[0m\u001b[34mINFO    \u001b[0m \u001b[1m[\u001b[0m\u001b[1;36m178\u001b[0m/\u001b[1;36m189\u001b[0m\u001b[1m]\u001b[0m Retrieving game with \u001b[33mid\u001b[0m=\u001b[1;36m8e186153\u001b[0m                                \u001b]8;id=101409;file://C:\\Users\\John\\anaconda3\\lib\\site-packages\\soccerdata\\fbref.py\u001b\\\u001b[2mfbref.py\u001b[0m\u001b]8;;\u001b\\\u001b[2m:\u001b[0m\u001b]8;id=807392;file://C:\\Users\\John\\anaconda3\\lib\\site-packages\\soccerdata\\fbref.py#679\u001b\\\u001b[2m679\u001b[0m\u001b]8;;\u001b\\\n"
      ]
     },
     "metadata": {},
     "output_type": "display_data"
    },
    {
     "data": {
      "text/html": [
       "<pre style=\"white-space:pre;overflow-x:auto;line-height:normal;font-family:Menlo,'DejaVu Sans Mono',consolas,'Courier New',monospace\"><span style=\"color: #7fbfbf; text-decoration-color: #7fbfbf\">[01/22/23 01:21:05] </span><span style=\"color: #000080; text-decoration-color: #000080\">INFO    </span> <span style=\"font-weight: bold\">[</span><span style=\"color: #008080; text-decoration-color: #008080; font-weight: bold\">179</span>/<span style=\"color: #008080; text-decoration-color: #008080; font-weight: bold\">189</span><span style=\"font-weight: bold\">]</span> Retrieving game with <span style=\"color: #808000; text-decoration-color: #808000\">id</span>=<span style=\"color: #800080; text-decoration-color: #800080\">3527c390</span>                                <a href=\"file://C:\\Users\\John\\anaconda3\\lib\\site-packages\\soccerdata\\fbref.py\" target=\"_blank\"><span style=\"color: #7f7f7f; text-decoration-color: #7f7f7f\">fbref.py</span></a><span style=\"color: #7f7f7f; text-decoration-color: #7f7f7f\">:</span><a href=\"file://C:\\Users\\John\\anaconda3\\lib\\site-packages\\soccerdata\\fbref.py#679\" target=\"_blank\"><span style=\"color: #7f7f7f; text-decoration-color: #7f7f7f\">679</span></a>\n",
       "</pre>\n"
      ],
      "text/plain": [
       "\u001b[2;36m[01/22/23 01:21:05]\u001b[0m\u001b[2;36m \u001b[0m\u001b[34mINFO    \u001b[0m \u001b[1m[\u001b[0m\u001b[1;36m179\u001b[0m/\u001b[1;36m189\u001b[0m\u001b[1m]\u001b[0m Retrieving game with \u001b[33mid\u001b[0m=\u001b[35m3527c390\u001b[0m                                \u001b]8;id=803136;file://C:\\Users\\John\\anaconda3\\lib\\site-packages\\soccerdata\\fbref.py\u001b\\\u001b[2mfbref.py\u001b[0m\u001b]8;;\u001b\\\u001b[2m:\u001b[0m\u001b]8;id=936287;file://C:\\Users\\John\\anaconda3\\lib\\site-packages\\soccerdata\\fbref.py#679\u001b\\\u001b[2m679\u001b[0m\u001b]8;;\u001b\\\n"
      ]
     },
     "metadata": {},
     "output_type": "display_data"
    },
    {
     "data": {
      "text/html": [
       "<pre style=\"white-space:pre;overflow-x:auto;line-height:normal;font-family:Menlo,'DejaVu Sans Mono',consolas,'Courier New',monospace\"><span style=\"color: #7fbfbf; text-decoration-color: #7fbfbf\">[01/22/23 01:21:09] </span><span style=\"color: #000080; text-decoration-color: #000080\">INFO    </span> <span style=\"font-weight: bold\">[</span><span style=\"color: #008080; text-decoration-color: #008080; font-weight: bold\">180</span>/<span style=\"color: #008080; text-decoration-color: #008080; font-weight: bold\">189</span><span style=\"font-weight: bold\">]</span> Retrieving game with <span style=\"color: #808000; text-decoration-color: #808000\">id</span>=<span style=\"color: #800080; text-decoration-color: #800080\">d55b9033</span>                                <a href=\"file://C:\\Users\\John\\anaconda3\\lib\\site-packages\\soccerdata\\fbref.py\" target=\"_blank\"><span style=\"color: #7f7f7f; text-decoration-color: #7f7f7f\">fbref.py</span></a><span style=\"color: #7f7f7f; text-decoration-color: #7f7f7f\">:</span><a href=\"file://C:\\Users\\John\\anaconda3\\lib\\site-packages\\soccerdata\\fbref.py#679\" target=\"_blank\"><span style=\"color: #7f7f7f; text-decoration-color: #7f7f7f\">679</span></a>\n",
       "</pre>\n"
      ],
      "text/plain": [
       "\u001b[2;36m[01/22/23 01:21:09]\u001b[0m\u001b[2;36m \u001b[0m\u001b[34mINFO    \u001b[0m \u001b[1m[\u001b[0m\u001b[1;36m180\u001b[0m/\u001b[1;36m189\u001b[0m\u001b[1m]\u001b[0m Retrieving game with \u001b[33mid\u001b[0m=\u001b[35md55b9033\u001b[0m                                \u001b]8;id=615598;file://C:\\Users\\John\\anaconda3\\lib\\site-packages\\soccerdata\\fbref.py\u001b\\\u001b[2mfbref.py\u001b[0m\u001b]8;;\u001b\\\u001b[2m:\u001b[0m\u001b]8;id=566264;file://C:\\Users\\John\\anaconda3\\lib\\site-packages\\soccerdata\\fbref.py#679\u001b\\\u001b[2m679\u001b[0m\u001b]8;;\u001b\\\n"
      ]
     },
     "metadata": {},
     "output_type": "display_data"
    },
    {
     "data": {
      "text/html": [
       "<pre style=\"white-space:pre;overflow-x:auto;line-height:normal;font-family:Menlo,'DejaVu Sans Mono',consolas,'Courier New',monospace\"><span style=\"color: #7fbfbf; text-decoration-color: #7fbfbf\">[01/22/23 01:21:13] </span><span style=\"color: #000080; text-decoration-color: #000080\">INFO    </span> <span style=\"font-weight: bold\">[</span><span style=\"color: #008080; text-decoration-color: #008080; font-weight: bold\">181</span>/<span style=\"color: #008080; text-decoration-color: #008080; font-weight: bold\">189</span><span style=\"font-weight: bold\">]</span> Retrieving game with <span style=\"color: #808000; text-decoration-color: #808000\">id</span>=<span style=\"color: #800080; text-decoration-color: #800080\">b860f634</span>                                <a href=\"file://C:\\Users\\John\\anaconda3\\lib\\site-packages\\soccerdata\\fbref.py\" target=\"_blank\"><span style=\"color: #7f7f7f; text-decoration-color: #7f7f7f\">fbref.py</span></a><span style=\"color: #7f7f7f; text-decoration-color: #7f7f7f\">:</span><a href=\"file://C:\\Users\\John\\anaconda3\\lib\\site-packages\\soccerdata\\fbref.py#679\" target=\"_blank\"><span style=\"color: #7f7f7f; text-decoration-color: #7f7f7f\">679</span></a>\n",
       "</pre>\n"
      ],
      "text/plain": [
       "\u001b[2;36m[01/22/23 01:21:13]\u001b[0m\u001b[2;36m \u001b[0m\u001b[34mINFO    \u001b[0m \u001b[1m[\u001b[0m\u001b[1;36m181\u001b[0m/\u001b[1;36m189\u001b[0m\u001b[1m]\u001b[0m Retrieving game with \u001b[33mid\u001b[0m=\u001b[35mb860f634\u001b[0m                                \u001b]8;id=138696;file://C:\\Users\\John\\anaconda3\\lib\\site-packages\\soccerdata\\fbref.py\u001b\\\u001b[2mfbref.py\u001b[0m\u001b]8;;\u001b\\\u001b[2m:\u001b[0m\u001b]8;id=250388;file://C:\\Users\\John\\anaconda3\\lib\\site-packages\\soccerdata\\fbref.py#679\u001b\\\u001b[2m679\u001b[0m\u001b]8;;\u001b\\\n"
      ]
     },
     "metadata": {},
     "output_type": "display_data"
    },
    {
     "data": {
      "text/html": [
       "<pre style=\"white-space:pre;overflow-x:auto;line-height:normal;font-family:Menlo,'DejaVu Sans Mono',consolas,'Courier New',monospace\"><span style=\"color: #7fbfbf; text-decoration-color: #7fbfbf\">[01/22/23 01:21:18] </span><span style=\"color: #000080; text-decoration-color: #000080\">INFO    </span> <span style=\"font-weight: bold\">[</span><span style=\"color: #008080; text-decoration-color: #008080; font-weight: bold\">182</span>/<span style=\"color: #008080; text-decoration-color: #008080; font-weight: bold\">189</span><span style=\"font-weight: bold\">]</span> Retrieving game with <span style=\"color: #808000; text-decoration-color: #808000\">id</span>=<span style=\"color: #800080; text-decoration-color: #800080\">a85ef749</span>                                <a href=\"file://C:\\Users\\John\\anaconda3\\lib\\site-packages\\soccerdata\\fbref.py\" target=\"_blank\"><span style=\"color: #7f7f7f; text-decoration-color: #7f7f7f\">fbref.py</span></a><span style=\"color: #7f7f7f; text-decoration-color: #7f7f7f\">:</span><a href=\"file://C:\\Users\\John\\anaconda3\\lib\\site-packages\\soccerdata\\fbref.py#679\" target=\"_blank\"><span style=\"color: #7f7f7f; text-decoration-color: #7f7f7f\">679</span></a>\n",
       "</pre>\n"
      ],
      "text/plain": [
       "\u001b[2;36m[01/22/23 01:21:18]\u001b[0m\u001b[2;36m \u001b[0m\u001b[34mINFO    \u001b[0m \u001b[1m[\u001b[0m\u001b[1;36m182\u001b[0m/\u001b[1;36m189\u001b[0m\u001b[1m]\u001b[0m Retrieving game with \u001b[33mid\u001b[0m=\u001b[35ma85ef749\u001b[0m                                \u001b]8;id=151487;file://C:\\Users\\John\\anaconda3\\lib\\site-packages\\soccerdata\\fbref.py\u001b\\\u001b[2mfbref.py\u001b[0m\u001b]8;;\u001b\\\u001b[2m:\u001b[0m\u001b]8;id=165366;file://C:\\Users\\John\\anaconda3\\lib\\site-packages\\soccerdata\\fbref.py#679\u001b\\\u001b[2m679\u001b[0m\u001b]8;;\u001b\\\n"
      ]
     },
     "metadata": {},
     "output_type": "display_data"
    },
    {
     "data": {
      "text/html": [
       "<pre style=\"white-space:pre;overflow-x:auto;line-height:normal;font-family:Menlo,'DejaVu Sans Mono',consolas,'Courier New',monospace\"><span style=\"color: #7fbfbf; text-decoration-color: #7fbfbf\">[01/22/23 01:21:22] </span><span style=\"color: #000080; text-decoration-color: #000080\">INFO    </span> <span style=\"font-weight: bold\">[</span><span style=\"color: #008080; text-decoration-color: #008080; font-weight: bold\">184</span>/<span style=\"color: #008080; text-decoration-color: #008080; font-weight: bold\">189</span><span style=\"font-weight: bold\">]</span> Retrieving game with <span style=\"color: #808000; text-decoration-color: #808000\">id</span>=<span style=\"color: #800080; text-decoration-color: #800080\">c5e4ccf5</span>                                <a href=\"file://C:\\Users\\John\\anaconda3\\lib\\site-packages\\soccerdata\\fbref.py\" target=\"_blank\"><span style=\"color: #7f7f7f; text-decoration-color: #7f7f7f\">fbref.py</span></a><span style=\"color: #7f7f7f; text-decoration-color: #7f7f7f\">:</span><a href=\"file://C:\\Users\\John\\anaconda3\\lib\\site-packages\\soccerdata\\fbref.py#679\" target=\"_blank\"><span style=\"color: #7f7f7f; text-decoration-color: #7f7f7f\">679</span></a>\n",
       "</pre>\n"
      ],
      "text/plain": [
       "\u001b[2;36m[01/22/23 01:21:22]\u001b[0m\u001b[2;36m \u001b[0m\u001b[34mINFO    \u001b[0m \u001b[1m[\u001b[0m\u001b[1;36m184\u001b[0m/\u001b[1;36m189\u001b[0m\u001b[1m]\u001b[0m Retrieving game with \u001b[33mid\u001b[0m=\u001b[35mc5e4ccf5\u001b[0m                                \u001b]8;id=989451;file://C:\\Users\\John\\anaconda3\\lib\\site-packages\\soccerdata\\fbref.py\u001b\\\u001b[2mfbref.py\u001b[0m\u001b]8;;\u001b\\\u001b[2m:\u001b[0m\u001b]8;id=731229;file://C:\\Users\\John\\anaconda3\\lib\\site-packages\\soccerdata\\fbref.py#679\u001b\\\u001b[2m679\u001b[0m\u001b]8;;\u001b\\\n"
      ]
     },
     "metadata": {},
     "output_type": "display_data"
    },
    {
     "data": {
      "text/html": [
       "<pre style=\"white-space:pre;overflow-x:auto;line-height:normal;font-family:Menlo,'DejaVu Sans Mono',consolas,'Courier New',monospace\"><span style=\"color: #7fbfbf; text-decoration-color: #7fbfbf\">[01/22/23 01:21:26] </span><span style=\"color: #000080; text-decoration-color: #000080\">INFO    </span> <span style=\"font-weight: bold\">[</span><span style=\"color: #008080; text-decoration-color: #008080; font-weight: bold\">185</span>/<span style=\"color: #008080; text-decoration-color: #008080; font-weight: bold\">189</span><span style=\"font-weight: bold\">]</span> Retrieving game with <span style=\"color: #808000; text-decoration-color: #808000\">id</span>=<span style=\"color: #800080; text-decoration-color: #800080\">56acbbbe</span>                                <a href=\"file://C:\\Users\\John\\anaconda3\\lib\\site-packages\\soccerdata\\fbref.py\" target=\"_blank\"><span style=\"color: #7f7f7f; text-decoration-color: #7f7f7f\">fbref.py</span></a><span style=\"color: #7f7f7f; text-decoration-color: #7f7f7f\">:</span><a href=\"file://C:\\Users\\John\\anaconda3\\lib\\site-packages\\soccerdata\\fbref.py#679\" target=\"_blank\"><span style=\"color: #7f7f7f; text-decoration-color: #7f7f7f\">679</span></a>\n",
       "</pre>\n"
      ],
      "text/plain": [
       "\u001b[2;36m[01/22/23 01:21:26]\u001b[0m\u001b[2;36m \u001b[0m\u001b[34mINFO    \u001b[0m \u001b[1m[\u001b[0m\u001b[1;36m185\u001b[0m/\u001b[1;36m189\u001b[0m\u001b[1m]\u001b[0m Retrieving game with \u001b[33mid\u001b[0m=\u001b[35m56acbbbe\u001b[0m                                \u001b]8;id=513778;file://C:\\Users\\John\\anaconda3\\lib\\site-packages\\soccerdata\\fbref.py\u001b\\\u001b[2mfbref.py\u001b[0m\u001b]8;;\u001b\\\u001b[2m:\u001b[0m\u001b]8;id=403829;file://C:\\Users\\John\\anaconda3\\lib\\site-packages\\soccerdata\\fbref.py#679\u001b\\\u001b[2m679\u001b[0m\u001b]8;;\u001b\\\n"
      ]
     },
     "metadata": {},
     "output_type": "display_data"
    },
    {
     "data": {
      "text/html": [
       "<pre style=\"white-space:pre;overflow-x:auto;line-height:normal;font-family:Menlo,'DejaVu Sans Mono',consolas,'Courier New',monospace\"><span style=\"color: #7fbfbf; text-decoration-color: #7fbfbf\">[01/22/23 01:21:30] </span><span style=\"color: #000080; text-decoration-color: #000080\">INFO    </span> <span style=\"font-weight: bold\">[</span><span style=\"color: #008080; text-decoration-color: #008080; font-weight: bold\">186</span>/<span style=\"color: #008080; text-decoration-color: #008080; font-weight: bold\">189</span><span style=\"font-weight: bold\">]</span> Retrieving game with <span style=\"color: #808000; text-decoration-color: #808000\">id</span>=<span style=\"color: #800080; text-decoration-color: #800080\">dab2ed3a</span>                                <a href=\"file://C:\\Users\\John\\anaconda3\\lib\\site-packages\\soccerdata\\fbref.py\" target=\"_blank\"><span style=\"color: #7f7f7f; text-decoration-color: #7f7f7f\">fbref.py</span></a><span style=\"color: #7f7f7f; text-decoration-color: #7f7f7f\">:</span><a href=\"file://C:\\Users\\John\\anaconda3\\lib\\site-packages\\soccerdata\\fbref.py#679\" target=\"_blank\"><span style=\"color: #7f7f7f; text-decoration-color: #7f7f7f\">679</span></a>\n",
       "</pre>\n"
      ],
      "text/plain": [
       "\u001b[2;36m[01/22/23 01:21:30]\u001b[0m\u001b[2;36m \u001b[0m\u001b[34mINFO    \u001b[0m \u001b[1m[\u001b[0m\u001b[1;36m186\u001b[0m/\u001b[1;36m189\u001b[0m\u001b[1m]\u001b[0m Retrieving game with \u001b[33mid\u001b[0m=\u001b[35mdab2ed3a\u001b[0m                                \u001b]8;id=968704;file://C:\\Users\\John\\anaconda3\\lib\\site-packages\\soccerdata\\fbref.py\u001b\\\u001b[2mfbref.py\u001b[0m\u001b]8;;\u001b\\\u001b[2m:\u001b[0m\u001b]8;id=538287;file://C:\\Users\\John\\anaconda3\\lib\\site-packages\\soccerdata\\fbref.py#679\u001b\\\u001b[2m679\u001b[0m\u001b]8;;\u001b\\\n"
      ]
     },
     "metadata": {},
     "output_type": "display_data"
    },
    {
     "data": {
      "text/html": [
       "<pre style=\"white-space:pre;overflow-x:auto;line-height:normal;font-family:Menlo,'DejaVu Sans Mono',consolas,'Courier New',monospace\"><span style=\"color: #7fbfbf; text-decoration-color: #7fbfbf\">[01/22/23 01:21:35] </span><span style=\"color: #000080; text-decoration-color: #000080\">INFO    </span> <span style=\"font-weight: bold\">[</span><span style=\"color: #008080; text-decoration-color: #008080; font-weight: bold\">187</span>/<span style=\"color: #008080; text-decoration-color: #008080; font-weight: bold\">189</span><span style=\"font-weight: bold\">]</span> Retrieving game with <span style=\"color: #808000; text-decoration-color: #808000\">id</span>=<span style=\"color: #800080; text-decoration-color: #800080\">dd50a429</span>                                <a href=\"file://C:\\Users\\John\\anaconda3\\lib\\site-packages\\soccerdata\\fbref.py\" target=\"_blank\"><span style=\"color: #7f7f7f; text-decoration-color: #7f7f7f\">fbref.py</span></a><span style=\"color: #7f7f7f; text-decoration-color: #7f7f7f\">:</span><a href=\"file://C:\\Users\\John\\anaconda3\\lib\\site-packages\\soccerdata\\fbref.py#679\" target=\"_blank\"><span style=\"color: #7f7f7f; text-decoration-color: #7f7f7f\">679</span></a>\n",
       "</pre>\n"
      ],
      "text/plain": [
       "\u001b[2;36m[01/22/23 01:21:35]\u001b[0m\u001b[2;36m \u001b[0m\u001b[34mINFO    \u001b[0m \u001b[1m[\u001b[0m\u001b[1;36m187\u001b[0m/\u001b[1;36m189\u001b[0m\u001b[1m]\u001b[0m Retrieving game with \u001b[33mid\u001b[0m=\u001b[35mdd50a429\u001b[0m                                \u001b]8;id=910052;file://C:\\Users\\John\\anaconda3\\lib\\site-packages\\soccerdata\\fbref.py\u001b\\\u001b[2mfbref.py\u001b[0m\u001b]8;;\u001b\\\u001b[2m:\u001b[0m\u001b]8;id=482661;file://C:\\Users\\John\\anaconda3\\lib\\site-packages\\soccerdata\\fbref.py#679\u001b\\\u001b[2m679\u001b[0m\u001b]8;;\u001b\\\n"
      ]
     },
     "metadata": {},
     "output_type": "display_data"
    },
    {
     "data": {
      "text/html": [
       "<pre style=\"white-space:pre;overflow-x:auto;line-height:normal;font-family:Menlo,'DejaVu Sans Mono',consolas,'Courier New',monospace\"><span style=\"color: #7fbfbf; text-decoration-color: #7fbfbf\">[01/22/23 01:21:39] </span><span style=\"color: #000080; text-decoration-color: #000080\">INFO    </span> <span style=\"font-weight: bold\">[</span><span style=\"color: #008080; text-decoration-color: #008080; font-weight: bold\">188</span>/<span style=\"color: #008080; text-decoration-color: #008080; font-weight: bold\">189</span><span style=\"font-weight: bold\">]</span> Retrieving game with <span style=\"color: #808000; text-decoration-color: #808000\">id</span>=<span style=\"color: #800080; text-decoration-color: #800080\">a15bf99e</span>                                <a href=\"file://C:\\Users\\John\\anaconda3\\lib\\site-packages\\soccerdata\\fbref.py\" target=\"_blank\"><span style=\"color: #7f7f7f; text-decoration-color: #7f7f7f\">fbref.py</span></a><span style=\"color: #7f7f7f; text-decoration-color: #7f7f7f\">:</span><a href=\"file://C:\\Users\\John\\anaconda3\\lib\\site-packages\\soccerdata\\fbref.py#679\" target=\"_blank\"><span style=\"color: #7f7f7f; text-decoration-color: #7f7f7f\">679</span></a>\n",
       "</pre>\n"
      ],
      "text/plain": [
       "\u001b[2;36m[01/22/23 01:21:39]\u001b[0m\u001b[2;36m \u001b[0m\u001b[34mINFO    \u001b[0m \u001b[1m[\u001b[0m\u001b[1;36m188\u001b[0m/\u001b[1;36m189\u001b[0m\u001b[1m]\u001b[0m Retrieving game with \u001b[33mid\u001b[0m=\u001b[35ma15bf99e\u001b[0m                                \u001b]8;id=471838;file://C:\\Users\\John\\anaconda3\\lib\\site-packages\\soccerdata\\fbref.py\u001b\\\u001b[2mfbref.py\u001b[0m\u001b]8;;\u001b\\\u001b[2m:\u001b[0m\u001b]8;id=988108;file://C:\\Users\\John\\anaconda3\\lib\\site-packages\\soccerdata\\fbref.py#679\u001b\\\u001b[2m679\u001b[0m\u001b]8;;\u001b\\\n"
      ]
     },
     "metadata": {},
     "output_type": "display_data"
    },
    {
     "data": {
      "text/html": [
       "<pre style=\"white-space:pre;overflow-x:auto;line-height:normal;font-family:Menlo,'DejaVu Sans Mono',consolas,'Courier New',monospace\"><span style=\"color: #7fbfbf; text-decoration-color: #7fbfbf\">[01/22/23 01:21:43] </span><span style=\"color: #000080; text-decoration-color: #000080\">INFO    </span> <span style=\"font-weight: bold\">[</span><span style=\"color: #008080; text-decoration-color: #008080; font-weight: bold\">189</span>/<span style=\"color: #008080; text-decoration-color: #008080; font-weight: bold\">189</span><span style=\"font-weight: bold\">]</span> Retrieving game with <span style=\"color: #808000; text-decoration-color: #808000\">id</span>=<span style=\"color: #800080; text-decoration-color: #800080\">bcfb66ff</span>                                <a href=\"file://C:\\Users\\John\\anaconda3\\lib\\site-packages\\soccerdata\\fbref.py\" target=\"_blank\"><span style=\"color: #7f7f7f; text-decoration-color: #7f7f7f\">fbref.py</span></a><span style=\"color: #7f7f7f; text-decoration-color: #7f7f7f\">:</span><a href=\"file://C:\\Users\\John\\anaconda3\\lib\\site-packages\\soccerdata\\fbref.py#679\" target=\"_blank\"><span style=\"color: #7f7f7f; text-decoration-color: #7f7f7f\">679</span></a>\n",
       "</pre>\n"
      ],
      "text/plain": [
       "\u001b[2;36m[01/22/23 01:21:43]\u001b[0m\u001b[2;36m \u001b[0m\u001b[34mINFO    \u001b[0m \u001b[1m[\u001b[0m\u001b[1;36m189\u001b[0m/\u001b[1;36m189\u001b[0m\u001b[1m]\u001b[0m Retrieving game with \u001b[33mid\u001b[0m=\u001b[35mbcfb66ff\u001b[0m                                \u001b]8;id=782757;file://C:\\Users\\John\\anaconda3\\lib\\site-packages\\soccerdata\\fbref.py\u001b\\\u001b[2mfbref.py\u001b[0m\u001b]8;;\u001b\\\u001b[2m:\u001b[0m\u001b]8;id=866251;file://C:\\Users\\John\\anaconda3\\lib\\site-packages\\soccerdata\\fbref.py#679\u001b\\\u001b[2m679\u001b[0m\u001b]8;;\u001b\\\n"
      ]
     },
     "metadata": {},
     "output_type": "display_data"
    },
    {
     "data": {
      "text/html": [
       "<pre style=\"white-space:pre;overflow-x:auto;line-height:normal;font-family:Menlo,'DejaVu Sans Mono',consolas,'Courier New',monospace\"><span style=\"color: #7fbfbf; text-decoration-color: #7fbfbf\">[01/22/23 01:21:48] </span><span style=\"color: #000080; text-decoration-color: #000080\">INFO    </span> <span style=\"font-weight: bold\">[</span><span style=\"color: #008080; text-decoration-color: #008080; font-weight: bold\">190</span>/<span style=\"color: #008080; text-decoration-color: #008080; font-weight: bold\">189</span><span style=\"font-weight: bold\">]</span> Retrieving game with <span style=\"color: #808000; text-decoration-color: #808000\">id</span>=<span style=\"color: #800080; text-decoration-color: #800080\">0facecde</span>                                <a href=\"file://C:\\Users\\John\\anaconda3\\lib\\site-packages\\soccerdata\\fbref.py\" target=\"_blank\"><span style=\"color: #7f7f7f; text-decoration-color: #7f7f7f\">fbref.py</span></a><span style=\"color: #7f7f7f; text-decoration-color: #7f7f7f\">:</span><a href=\"file://C:\\Users\\John\\anaconda3\\lib\\site-packages\\soccerdata\\fbref.py#679\" target=\"_blank\"><span style=\"color: #7f7f7f; text-decoration-color: #7f7f7f\">679</span></a>\n",
       "</pre>\n"
      ],
      "text/plain": [
       "\u001b[2;36m[01/22/23 01:21:48]\u001b[0m\u001b[2;36m \u001b[0m\u001b[34mINFO    \u001b[0m \u001b[1m[\u001b[0m\u001b[1;36m190\u001b[0m/\u001b[1;36m189\u001b[0m\u001b[1m]\u001b[0m Retrieving game with \u001b[33mid\u001b[0m=\u001b[35m0facecde\u001b[0m                                \u001b]8;id=471916;file://C:\\Users\\John\\anaconda3\\lib\\site-packages\\soccerdata\\fbref.py\u001b\\\u001b[2mfbref.py\u001b[0m\u001b]8;;\u001b\\\u001b[2m:\u001b[0m\u001b]8;id=619538;file://C:\\Users\\John\\anaconda3\\lib\\site-packages\\soccerdata\\fbref.py#679\u001b\\\u001b[2m679\u001b[0m\u001b]8;;\u001b\\\n"
      ]
     },
     "metadata": {},
     "output_type": "display_data"
    },
    {
     "data": {
      "text/html": [
       "<pre style=\"white-space:pre;overflow-x:auto;line-height:normal;font-family:Menlo,'DejaVu Sans Mono',consolas,'Courier New',monospace\"><span style=\"color: #7fbfbf; text-decoration-color: #7fbfbf\">[01/22/23 01:21:52] </span><span style=\"color: #000080; text-decoration-color: #000080\">INFO    </span> <span style=\"font-weight: bold\">[</span><span style=\"color: #008080; text-decoration-color: #008080; font-weight: bold\">191</span>/<span style=\"color: #008080; text-decoration-color: #008080; font-weight: bold\">189</span><span style=\"font-weight: bold\">]</span> Retrieving game with <span style=\"color: #808000; text-decoration-color: #808000\">id</span>=<span style=\"color: #800080; text-decoration-color: #800080\">8ef80305</span>                                <a href=\"file://C:\\Users\\John\\anaconda3\\lib\\site-packages\\soccerdata\\fbref.py\" target=\"_blank\"><span style=\"color: #7f7f7f; text-decoration-color: #7f7f7f\">fbref.py</span></a><span style=\"color: #7f7f7f; text-decoration-color: #7f7f7f\">:</span><a href=\"file://C:\\Users\\John\\anaconda3\\lib\\site-packages\\soccerdata\\fbref.py#679\" target=\"_blank\"><span style=\"color: #7f7f7f; text-decoration-color: #7f7f7f\">679</span></a>\n",
       "</pre>\n"
      ],
      "text/plain": [
       "\u001b[2;36m[01/22/23 01:21:52]\u001b[0m\u001b[2;36m \u001b[0m\u001b[34mINFO    \u001b[0m \u001b[1m[\u001b[0m\u001b[1;36m191\u001b[0m/\u001b[1;36m189\u001b[0m\u001b[1m]\u001b[0m Retrieving game with \u001b[33mid\u001b[0m=\u001b[35m8ef80305\u001b[0m                                \u001b]8;id=106115;file://C:\\Users\\John\\anaconda3\\lib\\site-packages\\soccerdata\\fbref.py\u001b\\\u001b[2mfbref.py\u001b[0m\u001b]8;;\u001b\\\u001b[2m:\u001b[0m\u001b]8;id=693824;file://C:\\Users\\John\\anaconda3\\lib\\site-packages\\soccerdata\\fbref.py#679\u001b\\\u001b[2m679\u001b[0m\u001b]8;;\u001b\\\n"
      ]
     },
     "metadata": {},
     "output_type": "display_data"
    },
    {
     "data": {
      "text/html": [
       "<pre style=\"white-space:pre;overflow-x:auto;line-height:normal;font-family:Menlo,'DejaVu Sans Mono',consolas,'Courier New',monospace\"><span style=\"color: #7fbfbf; text-decoration-color: #7fbfbf\">[01/22/23 01:21:56] </span><span style=\"color: #000080; text-decoration-color: #000080\">INFO    </span> <span style=\"font-weight: bold\">[</span><span style=\"color: #008080; text-decoration-color: #008080; font-weight: bold\">192</span>/<span style=\"color: #008080; text-decoration-color: #008080; font-weight: bold\">189</span><span style=\"font-weight: bold\">]</span> Retrieving game with <span style=\"color: #808000; text-decoration-color: #808000\">id</span>=<span style=\"color: #800080; text-decoration-color: #800080\">c31cf944</span>                                <a href=\"file://C:\\Users\\John\\anaconda3\\lib\\site-packages\\soccerdata\\fbref.py\" target=\"_blank\"><span style=\"color: #7f7f7f; text-decoration-color: #7f7f7f\">fbref.py</span></a><span style=\"color: #7f7f7f; text-decoration-color: #7f7f7f\">:</span><a href=\"file://C:\\Users\\John\\anaconda3\\lib\\site-packages\\soccerdata\\fbref.py#679\" target=\"_blank\"><span style=\"color: #7f7f7f; text-decoration-color: #7f7f7f\">679</span></a>\n",
       "</pre>\n"
      ],
      "text/plain": [
       "\u001b[2;36m[01/22/23 01:21:56]\u001b[0m\u001b[2;36m \u001b[0m\u001b[34mINFO    \u001b[0m \u001b[1m[\u001b[0m\u001b[1;36m192\u001b[0m/\u001b[1;36m189\u001b[0m\u001b[1m]\u001b[0m Retrieving game with \u001b[33mid\u001b[0m=\u001b[35mc31cf944\u001b[0m                                \u001b]8;id=145682;file://C:\\Users\\John\\anaconda3\\lib\\site-packages\\soccerdata\\fbref.py\u001b\\\u001b[2mfbref.py\u001b[0m\u001b]8;;\u001b\\\u001b[2m:\u001b[0m\u001b]8;id=621830;file://C:\\Users\\John\\anaconda3\\lib\\site-packages\\soccerdata\\fbref.py#679\u001b\\\u001b[2m679\u001b[0m\u001b]8;;\u001b\\\n"
      ]
     },
     "metadata": {},
     "output_type": "display_data"
    },
    {
     "data": {
      "text/html": [
       "<pre style=\"white-space:pre;overflow-x:auto;line-height:normal;font-family:Menlo,'DejaVu Sans Mono',consolas,'Courier New',monospace\"><span style=\"color: #7fbfbf; text-decoration-color: #7fbfbf\">[01/22/23 01:22:00] </span><span style=\"color: #000080; text-decoration-color: #000080\">INFO    </span> <span style=\"font-weight: bold\">[</span><span style=\"color: #008080; text-decoration-color: #008080; font-weight: bold\">193</span>/<span style=\"color: #008080; text-decoration-color: #008080; font-weight: bold\">189</span><span style=\"font-weight: bold\">]</span> Retrieving game with <span style=\"color: #808000; text-decoration-color: #808000\">id</span>=<span style=\"color: #800080; text-decoration-color: #800080\">63e8eaf8</span>                                <a href=\"file://C:\\Users\\John\\anaconda3\\lib\\site-packages\\soccerdata\\fbref.py\" target=\"_blank\"><span style=\"color: #7f7f7f; text-decoration-color: #7f7f7f\">fbref.py</span></a><span style=\"color: #7f7f7f; text-decoration-color: #7f7f7f\">:</span><a href=\"file://C:\\Users\\John\\anaconda3\\lib\\site-packages\\soccerdata\\fbref.py#679\" target=\"_blank\"><span style=\"color: #7f7f7f; text-decoration-color: #7f7f7f\">679</span></a>\n",
       "</pre>\n"
      ],
      "text/plain": [
       "\u001b[2;36m[01/22/23 01:22:00]\u001b[0m\u001b[2;36m \u001b[0m\u001b[34mINFO    \u001b[0m \u001b[1m[\u001b[0m\u001b[1;36m193\u001b[0m/\u001b[1;36m189\u001b[0m\u001b[1m]\u001b[0m Retrieving game with \u001b[33mid\u001b[0m=\u001b[35m63e8eaf8\u001b[0m                                \u001b]8;id=698703;file://C:\\Users\\John\\anaconda3\\lib\\site-packages\\soccerdata\\fbref.py\u001b\\\u001b[2mfbref.py\u001b[0m\u001b]8;;\u001b\\\u001b[2m:\u001b[0m\u001b]8;id=574198;file://C:\\Users\\John\\anaconda3\\lib\\site-packages\\soccerdata\\fbref.py#679\u001b\\\u001b[2m679\u001b[0m\u001b]8;;\u001b\\\n"
      ]
     },
     "metadata": {},
     "output_type": "display_data"
    },
    {
     "data": {
      "text/html": [
       "<pre style=\"white-space:pre;overflow-x:auto;line-height:normal;font-family:Menlo,'DejaVu Sans Mono',consolas,'Courier New',monospace\"><span style=\"color: #7fbfbf; text-decoration-color: #7fbfbf\">[01/22/23 01:22:05] </span><span style=\"color: #000080; text-decoration-color: #000080\">INFO    </span> <span style=\"font-weight: bold\">[</span><span style=\"color: #008080; text-decoration-color: #008080; font-weight: bold\">195</span>/<span style=\"color: #008080; text-decoration-color: #008080; font-weight: bold\">189</span><span style=\"font-weight: bold\">]</span> Retrieving game with <span style=\"color: #808000; text-decoration-color: #808000\">id</span>=<span style=\"color: #800080; text-decoration-color: #800080\">af6aa183</span>                                <a href=\"file://C:\\Users\\John\\anaconda3\\lib\\site-packages\\soccerdata\\fbref.py\" target=\"_blank\"><span style=\"color: #7f7f7f; text-decoration-color: #7f7f7f\">fbref.py</span></a><span style=\"color: #7f7f7f; text-decoration-color: #7f7f7f\">:</span><a href=\"file://C:\\Users\\John\\anaconda3\\lib\\site-packages\\soccerdata\\fbref.py#679\" target=\"_blank\"><span style=\"color: #7f7f7f; text-decoration-color: #7f7f7f\">679</span></a>\n",
       "</pre>\n"
      ],
      "text/plain": [
       "\u001b[2;36m[01/22/23 01:22:05]\u001b[0m\u001b[2;36m \u001b[0m\u001b[34mINFO    \u001b[0m \u001b[1m[\u001b[0m\u001b[1;36m195\u001b[0m/\u001b[1;36m189\u001b[0m\u001b[1m]\u001b[0m Retrieving game with \u001b[33mid\u001b[0m=\u001b[35maf6aa183\u001b[0m                                \u001b]8;id=93659;file://C:\\Users\\John\\anaconda3\\lib\\site-packages\\soccerdata\\fbref.py\u001b\\\u001b[2mfbref.py\u001b[0m\u001b]8;;\u001b\\\u001b[2m:\u001b[0m\u001b]8;id=113148;file://C:\\Users\\John\\anaconda3\\lib\\site-packages\\soccerdata\\fbref.py#679\u001b\\\u001b[2m679\u001b[0m\u001b]8;;\u001b\\\n"
      ]
     },
     "metadata": {},
     "output_type": "display_data"
    },
    {
     "data": {
      "text/html": [
       "<pre style=\"white-space:pre;overflow-x:auto;line-height:normal;font-family:Menlo,'DejaVu Sans Mono',consolas,'Courier New',monospace\"><span style=\"color: #7fbfbf; text-decoration-color: #7fbfbf\">[01/22/23 01:22:09] </span><span style=\"color: #000080; text-decoration-color: #000080\">INFO    </span> <span style=\"font-weight: bold\">[</span><span style=\"color: #008080; text-decoration-color: #008080; font-weight: bold\">196</span>/<span style=\"color: #008080; text-decoration-color: #008080; font-weight: bold\">189</span><span style=\"font-weight: bold\">]</span> Retrieving game with <span style=\"color: #808000; text-decoration-color: #808000\">id</span>=<span style=\"color: #800080; text-decoration-color: #800080\">ceebd643</span>                                <a href=\"file://C:\\Users\\John\\anaconda3\\lib\\site-packages\\soccerdata\\fbref.py\" target=\"_blank\"><span style=\"color: #7f7f7f; text-decoration-color: #7f7f7f\">fbref.py</span></a><span style=\"color: #7f7f7f; text-decoration-color: #7f7f7f\">:</span><a href=\"file://C:\\Users\\John\\anaconda3\\lib\\site-packages\\soccerdata\\fbref.py#679\" target=\"_blank\"><span style=\"color: #7f7f7f; text-decoration-color: #7f7f7f\">679</span></a>\n",
       "</pre>\n"
      ],
      "text/plain": [
       "\u001b[2;36m[01/22/23 01:22:09]\u001b[0m\u001b[2;36m \u001b[0m\u001b[34mINFO    \u001b[0m \u001b[1m[\u001b[0m\u001b[1;36m196\u001b[0m/\u001b[1;36m189\u001b[0m\u001b[1m]\u001b[0m Retrieving game with \u001b[33mid\u001b[0m=\u001b[35mceebd643\u001b[0m                                \u001b]8;id=599760;file://C:\\Users\\John\\anaconda3\\lib\\site-packages\\soccerdata\\fbref.py\u001b\\\u001b[2mfbref.py\u001b[0m\u001b]8;;\u001b\\\u001b[2m:\u001b[0m\u001b]8;id=982790;file://C:\\Users\\John\\anaconda3\\lib\\site-packages\\soccerdata\\fbref.py#679\u001b\\\u001b[2m679\u001b[0m\u001b]8;;\u001b\\\n"
      ]
     },
     "metadata": {},
     "output_type": "display_data"
    },
    {
     "data": {
      "text/html": [
       "<pre style=\"white-space:pre;overflow-x:auto;line-height:normal;font-family:Menlo,'DejaVu Sans Mono',consolas,'Courier New',monospace\"><span style=\"color: #7fbfbf; text-decoration-color: #7fbfbf\">[01/22/23 01:22:13] </span><span style=\"color: #000080; text-decoration-color: #000080\">INFO    </span> <span style=\"font-weight: bold\">[</span><span style=\"color: #008080; text-decoration-color: #008080; font-weight: bold\">197</span>/<span style=\"color: #008080; text-decoration-color: #008080; font-weight: bold\">189</span><span style=\"font-weight: bold\">]</span> Retrieving game with <span style=\"color: #808000; text-decoration-color: #808000\">id</span>=<span style=\"color: #800080; text-decoration-color: #800080\">c62d7632</span>                                <a href=\"file://C:\\Users\\John\\anaconda3\\lib\\site-packages\\soccerdata\\fbref.py\" target=\"_blank\"><span style=\"color: #7f7f7f; text-decoration-color: #7f7f7f\">fbref.py</span></a><span style=\"color: #7f7f7f; text-decoration-color: #7f7f7f\">:</span><a href=\"file://C:\\Users\\John\\anaconda3\\lib\\site-packages\\soccerdata\\fbref.py#679\" target=\"_blank\"><span style=\"color: #7f7f7f; text-decoration-color: #7f7f7f\">679</span></a>\n",
       "</pre>\n"
      ],
      "text/plain": [
       "\u001b[2;36m[01/22/23 01:22:13]\u001b[0m\u001b[2;36m \u001b[0m\u001b[34mINFO    \u001b[0m \u001b[1m[\u001b[0m\u001b[1;36m197\u001b[0m/\u001b[1;36m189\u001b[0m\u001b[1m]\u001b[0m Retrieving game with \u001b[33mid\u001b[0m=\u001b[35mc62d7632\u001b[0m                                \u001b]8;id=157235;file://C:\\Users\\John\\anaconda3\\lib\\site-packages\\soccerdata\\fbref.py\u001b\\\u001b[2mfbref.py\u001b[0m\u001b]8;;\u001b\\\u001b[2m:\u001b[0m\u001b]8;id=245383;file://C:\\Users\\John\\anaconda3\\lib\\site-packages\\soccerdata\\fbref.py#679\u001b\\\u001b[2m679\u001b[0m\u001b]8;;\u001b\\\n"
      ]
     },
     "metadata": {},
     "output_type": "display_data"
    },
    {
     "data": {
      "text/html": [
       "<pre style=\"white-space:pre;overflow-x:auto;line-height:normal;font-family:Menlo,'DejaVu Sans Mono',consolas,'Courier New',monospace\"><span style=\"color: #7fbfbf; text-decoration-color: #7fbfbf\">[01/22/23 01:22:18] </span><span style=\"color: #000080; text-decoration-color: #000080\">INFO    </span> <span style=\"font-weight: bold\">[</span><span style=\"color: #008080; text-decoration-color: #008080; font-weight: bold\">198</span>/<span style=\"color: #008080; text-decoration-color: #008080; font-weight: bold\">189</span><span style=\"font-weight: bold\">]</span> Retrieving game with <span style=\"color: #808000; text-decoration-color: #808000\">id</span>=<span style=\"color: #800080; text-decoration-color: #800080\">12e0894b</span>                                <a href=\"file://C:\\Users\\John\\anaconda3\\lib\\site-packages\\soccerdata\\fbref.py\" target=\"_blank\"><span style=\"color: #7f7f7f; text-decoration-color: #7f7f7f\">fbref.py</span></a><span style=\"color: #7f7f7f; text-decoration-color: #7f7f7f\">:</span><a href=\"file://C:\\Users\\John\\anaconda3\\lib\\site-packages\\soccerdata\\fbref.py#679\" target=\"_blank\"><span style=\"color: #7f7f7f; text-decoration-color: #7f7f7f\">679</span></a>\n",
       "</pre>\n"
      ],
      "text/plain": [
       "\u001b[2;36m[01/22/23 01:22:18]\u001b[0m\u001b[2;36m \u001b[0m\u001b[34mINFO    \u001b[0m \u001b[1m[\u001b[0m\u001b[1;36m198\u001b[0m/\u001b[1;36m189\u001b[0m\u001b[1m]\u001b[0m Retrieving game with \u001b[33mid\u001b[0m=\u001b[35m12e0894b\u001b[0m                                \u001b]8;id=389084;file://C:\\Users\\John\\anaconda3\\lib\\site-packages\\soccerdata\\fbref.py\u001b\\\u001b[2mfbref.py\u001b[0m\u001b]8;;\u001b\\\u001b[2m:\u001b[0m\u001b]8;id=816526;file://C:\\Users\\John\\anaconda3\\lib\\site-packages\\soccerdata\\fbref.py#679\u001b\\\u001b[2m679\u001b[0m\u001b]8;;\u001b\\\n"
      ]
     },
     "metadata": {},
     "output_type": "display_data"
    },
    {
     "data": {
      "text/html": [
       "<pre style=\"white-space:pre;overflow-x:auto;line-height:normal;font-family:Menlo,'DejaVu Sans Mono',consolas,'Courier New',monospace\"><span style=\"color: #7fbfbf; text-decoration-color: #7fbfbf\">[01/22/23 01:22:22] </span><span style=\"color: #000080; text-decoration-color: #000080\">INFO    </span> <span style=\"font-weight: bold\">[</span><span style=\"color: #008080; text-decoration-color: #008080; font-weight: bold\">199</span>/<span style=\"color: #008080; text-decoration-color: #008080; font-weight: bold\">189</span><span style=\"font-weight: bold\">]</span> Retrieving game with <span style=\"color: #808000; text-decoration-color: #808000\">id</span>=<span style=\"color: #800080; text-decoration-color: #800080\">63fc7f12</span>                                <a href=\"file://C:\\Users\\John\\anaconda3\\lib\\site-packages\\soccerdata\\fbref.py\" target=\"_blank\"><span style=\"color: #7f7f7f; text-decoration-color: #7f7f7f\">fbref.py</span></a><span style=\"color: #7f7f7f; text-decoration-color: #7f7f7f\">:</span><a href=\"file://C:\\Users\\John\\anaconda3\\lib\\site-packages\\soccerdata\\fbref.py#679\" target=\"_blank\"><span style=\"color: #7f7f7f; text-decoration-color: #7f7f7f\">679</span></a>\n",
       "</pre>\n"
      ],
      "text/plain": [
       "\u001b[2;36m[01/22/23 01:22:22]\u001b[0m\u001b[2;36m \u001b[0m\u001b[34mINFO    \u001b[0m \u001b[1m[\u001b[0m\u001b[1;36m199\u001b[0m/\u001b[1;36m189\u001b[0m\u001b[1m]\u001b[0m Retrieving game with \u001b[33mid\u001b[0m=\u001b[35m63fc7f12\u001b[0m                                \u001b]8;id=197766;file://C:\\Users\\John\\anaconda3\\lib\\site-packages\\soccerdata\\fbref.py\u001b\\\u001b[2mfbref.py\u001b[0m\u001b]8;;\u001b\\\u001b[2m:\u001b[0m\u001b]8;id=107041;file://C:\\Users\\John\\anaconda3\\lib\\site-packages\\soccerdata\\fbref.py#679\u001b\\\u001b[2m679\u001b[0m\u001b]8;;\u001b\\\n"
      ]
     },
     "metadata": {},
     "output_type": "display_data"
    },
    {
     "data": {
      "text/html": [
       "<pre style=\"white-space:pre;overflow-x:auto;line-height:normal;font-family:Menlo,'DejaVu Sans Mono',consolas,'Courier New',monospace\"><span style=\"color: #7fbfbf; text-decoration-color: #7fbfbf\">[01/22/23 01:22:26] </span><span style=\"color: #000080; text-decoration-color: #000080\">INFO    </span> <span style=\"font-weight: bold\">[</span><span style=\"color: #008080; text-decoration-color: #008080; font-weight: bold\">200</span>/<span style=\"color: #008080; text-decoration-color: #008080; font-weight: bold\">189</span><span style=\"font-weight: bold\">]</span> Retrieving game with <span style=\"color: #808000; text-decoration-color: #808000\">id</span>=<span style=\"color: #800080; text-decoration-color: #800080\">895a1c1f</span>                                <a href=\"file://C:\\Users\\John\\anaconda3\\lib\\site-packages\\soccerdata\\fbref.py\" target=\"_blank\"><span style=\"color: #7f7f7f; text-decoration-color: #7f7f7f\">fbref.py</span></a><span style=\"color: #7f7f7f; text-decoration-color: #7f7f7f\">:</span><a href=\"file://C:\\Users\\John\\anaconda3\\lib\\site-packages\\soccerdata\\fbref.py#679\" target=\"_blank\"><span style=\"color: #7f7f7f; text-decoration-color: #7f7f7f\">679</span></a>\n",
       "</pre>\n"
      ],
      "text/plain": [
       "\u001b[2;36m[01/22/23 01:22:26]\u001b[0m\u001b[2;36m \u001b[0m\u001b[34mINFO    \u001b[0m \u001b[1m[\u001b[0m\u001b[1;36m200\u001b[0m/\u001b[1;36m189\u001b[0m\u001b[1m]\u001b[0m Retrieving game with \u001b[33mid\u001b[0m=\u001b[35m895a1c1f\u001b[0m                                \u001b]8;id=433150;file://C:\\Users\\John\\anaconda3\\lib\\site-packages\\soccerdata\\fbref.py\u001b\\\u001b[2mfbref.py\u001b[0m\u001b]8;;\u001b\\\u001b[2m:\u001b[0m\u001b]8;id=355162;file://C:\\Users\\John\\anaconda3\\lib\\site-packages\\soccerdata\\fbref.py#679\u001b\\\u001b[2m679\u001b[0m\u001b]8;;\u001b\\\n"
      ]
     },
     "metadata": {},
     "output_type": "display_data"
    },
    {
     "data": {
      "text/html": [
       "<pre style=\"white-space:pre;overflow-x:auto;line-height:normal;font-family:Menlo,'DejaVu Sans Mono',consolas,'Courier New',monospace\"><span style=\"color: #7fbfbf; text-decoration-color: #7fbfbf\">[01/22/23 01:22:30] </span><span style=\"color: #000080; text-decoration-color: #000080\">INFO    </span> <span style=\"font-weight: bold\">[</span><span style=\"color: #008080; text-decoration-color: #008080; font-weight: bold\">201</span>/<span style=\"color: #008080; text-decoration-color: #008080; font-weight: bold\">189</span><span style=\"font-weight: bold\">]</span> Retrieving game with <span style=\"color: #808000; text-decoration-color: #808000\">id</span>=<span style=\"color: #800080; text-decoration-color: #800080\">d8118454</span>                                <a href=\"file://C:\\Users\\John\\anaconda3\\lib\\site-packages\\soccerdata\\fbref.py\" target=\"_blank\"><span style=\"color: #7f7f7f; text-decoration-color: #7f7f7f\">fbref.py</span></a><span style=\"color: #7f7f7f; text-decoration-color: #7f7f7f\">:</span><a href=\"file://C:\\Users\\John\\anaconda3\\lib\\site-packages\\soccerdata\\fbref.py#679\" target=\"_blank\"><span style=\"color: #7f7f7f; text-decoration-color: #7f7f7f\">679</span></a>\n",
       "</pre>\n"
      ],
      "text/plain": [
       "\u001b[2;36m[01/22/23 01:22:30]\u001b[0m\u001b[2;36m \u001b[0m\u001b[34mINFO    \u001b[0m \u001b[1m[\u001b[0m\u001b[1;36m201\u001b[0m/\u001b[1;36m189\u001b[0m\u001b[1m]\u001b[0m Retrieving game with \u001b[33mid\u001b[0m=\u001b[35md8118454\u001b[0m                                \u001b]8;id=927817;file://C:\\Users\\John\\anaconda3\\lib\\site-packages\\soccerdata\\fbref.py\u001b\\\u001b[2mfbref.py\u001b[0m\u001b]8;;\u001b\\\u001b[2m:\u001b[0m\u001b]8;id=225893;file://C:\\Users\\John\\anaconda3\\lib\\site-packages\\soccerdata\\fbref.py#679\u001b\\\u001b[2m679\u001b[0m\u001b]8;;\u001b\\\n"
      ]
     },
     "metadata": {},
     "output_type": "display_data"
    },
    {
     "data": {
      "text/html": [
       "<pre style=\"white-space:pre;overflow-x:auto;line-height:normal;font-family:Menlo,'DejaVu Sans Mono',consolas,'Courier New',monospace\"><span style=\"color: #7fbfbf; text-decoration-color: #7fbfbf\">[01/22/23 01:22:35] </span><span style=\"color: #000080; text-decoration-color: #000080\">INFO    </span> <span style=\"font-weight: bold\">[</span><span style=\"color: #008080; text-decoration-color: #008080; font-weight: bold\">202</span>/<span style=\"color: #008080; text-decoration-color: #008080; font-weight: bold\">189</span><span style=\"font-weight: bold\">]</span> Retrieving game with <span style=\"color: #808000; text-decoration-color: #808000\">id</span>=<span style=\"color: #800080; text-decoration-color: #800080\">068406dc</span>                                <a href=\"file://C:\\Users\\John\\anaconda3\\lib\\site-packages\\soccerdata\\fbref.py\" target=\"_blank\"><span style=\"color: #7f7f7f; text-decoration-color: #7f7f7f\">fbref.py</span></a><span style=\"color: #7f7f7f; text-decoration-color: #7f7f7f\">:</span><a href=\"file://C:\\Users\\John\\anaconda3\\lib\\site-packages\\soccerdata\\fbref.py#679\" target=\"_blank\"><span style=\"color: #7f7f7f; text-decoration-color: #7f7f7f\">679</span></a>\n",
       "</pre>\n"
      ],
      "text/plain": [
       "\u001b[2;36m[01/22/23 01:22:35]\u001b[0m\u001b[2;36m \u001b[0m\u001b[34mINFO    \u001b[0m \u001b[1m[\u001b[0m\u001b[1;36m202\u001b[0m/\u001b[1;36m189\u001b[0m\u001b[1m]\u001b[0m Retrieving game with \u001b[33mid\u001b[0m=\u001b[35m068406dc\u001b[0m                                \u001b]8;id=377533;file://C:\\Users\\John\\anaconda3\\lib\\site-packages\\soccerdata\\fbref.py\u001b\\\u001b[2mfbref.py\u001b[0m\u001b]8;;\u001b\\\u001b[2m:\u001b[0m\u001b]8;id=593054;file://C:\\Users\\John\\anaconda3\\lib\\site-packages\\soccerdata\\fbref.py#679\u001b\\\u001b[2m679\u001b[0m\u001b]8;;\u001b\\\n"
      ]
     },
     "metadata": {},
     "output_type": "display_data"
    },
    {
     "data": {
      "text/html": [
       "<pre style=\"white-space:pre;overflow-x:auto;line-height:normal;font-family:Menlo,'DejaVu Sans Mono',consolas,'Courier New',monospace\"><span style=\"color: #7fbfbf; text-decoration-color: #7fbfbf\">[01/22/23 01:22:39] </span><span style=\"color: #000080; text-decoration-color: #000080\">INFO    </span> <span style=\"font-weight: bold\">[</span><span style=\"color: #008080; text-decoration-color: #008080; font-weight: bold\">203</span>/<span style=\"color: #008080; text-decoration-color: #008080; font-weight: bold\">189</span><span style=\"font-weight: bold\">]</span> Retrieving game with <span style=\"color: #808000; text-decoration-color: #808000\">id</span>=<span style=\"color: #800080; text-decoration-color: #800080\">cc17c735</span>                                <a href=\"file://C:\\Users\\John\\anaconda3\\lib\\site-packages\\soccerdata\\fbref.py\" target=\"_blank\"><span style=\"color: #7f7f7f; text-decoration-color: #7f7f7f\">fbref.py</span></a><span style=\"color: #7f7f7f; text-decoration-color: #7f7f7f\">:</span><a href=\"file://C:\\Users\\John\\anaconda3\\lib\\site-packages\\soccerdata\\fbref.py#679\" target=\"_blank\"><span style=\"color: #7f7f7f; text-decoration-color: #7f7f7f\">679</span></a>\n",
       "</pre>\n"
      ],
      "text/plain": [
       "\u001b[2;36m[01/22/23 01:22:39]\u001b[0m\u001b[2;36m \u001b[0m\u001b[34mINFO    \u001b[0m \u001b[1m[\u001b[0m\u001b[1;36m203\u001b[0m/\u001b[1;36m189\u001b[0m\u001b[1m]\u001b[0m Retrieving game with \u001b[33mid\u001b[0m=\u001b[35mcc17c735\u001b[0m                                \u001b]8;id=538704;file://C:\\Users\\John\\anaconda3\\lib\\site-packages\\soccerdata\\fbref.py\u001b\\\u001b[2mfbref.py\u001b[0m\u001b]8;;\u001b\\\u001b[2m:\u001b[0m\u001b]8;id=458064;file://C:\\Users\\John\\anaconda3\\lib\\site-packages\\soccerdata\\fbref.py#679\u001b\\\u001b[2m679\u001b[0m\u001b]8;;\u001b\\\n"
      ]
     },
     "metadata": {},
     "output_type": "display_data"
    },
    {
     "data": {
      "text/html": [
       "<pre style=\"white-space:pre;overflow-x:auto;line-height:normal;font-family:Menlo,'DejaVu Sans Mono',consolas,'Courier New',monospace\"><span style=\"color: #7fbfbf; text-decoration-color: #7fbfbf\">[01/22/23 01:22:43] </span><span style=\"color: #000080; text-decoration-color: #000080\">INFO    </span> <span style=\"font-weight: bold\">[</span><span style=\"color: #008080; text-decoration-color: #008080; font-weight: bold\">204</span>/<span style=\"color: #008080; text-decoration-color: #008080; font-weight: bold\">189</span><span style=\"font-weight: bold\">]</span> Retrieving game with <span style=\"color: #808000; text-decoration-color: #808000\">id</span>=<span style=\"color: #800080; text-decoration-color: #800080\">eacda90c</span>                                <a href=\"file://C:\\Users\\John\\anaconda3\\lib\\site-packages\\soccerdata\\fbref.py\" target=\"_blank\"><span style=\"color: #7f7f7f; text-decoration-color: #7f7f7f\">fbref.py</span></a><span style=\"color: #7f7f7f; text-decoration-color: #7f7f7f\">:</span><a href=\"file://C:\\Users\\John\\anaconda3\\lib\\site-packages\\soccerdata\\fbref.py#679\" target=\"_blank\"><span style=\"color: #7f7f7f; text-decoration-color: #7f7f7f\">679</span></a>\n",
       "</pre>\n"
      ],
      "text/plain": [
       "\u001b[2;36m[01/22/23 01:22:43]\u001b[0m\u001b[2;36m \u001b[0m\u001b[34mINFO    \u001b[0m \u001b[1m[\u001b[0m\u001b[1;36m204\u001b[0m/\u001b[1;36m189\u001b[0m\u001b[1m]\u001b[0m Retrieving game with \u001b[33mid\u001b[0m=\u001b[35meacda90c\u001b[0m                                \u001b]8;id=812009;file://C:\\Users\\John\\anaconda3\\lib\\site-packages\\soccerdata\\fbref.py\u001b\\\u001b[2mfbref.py\u001b[0m\u001b]8;;\u001b\\\u001b[2m:\u001b[0m\u001b]8;id=576510;file://C:\\Users\\John\\anaconda3\\lib\\site-packages\\soccerdata\\fbref.py#679\u001b\\\u001b[2m679\u001b[0m\u001b]8;;\u001b\\\n"
      ]
     },
     "metadata": {},
     "output_type": "display_data"
    },
    {
     "data": {
      "text/html": [
       "<pre style=\"white-space:pre;overflow-x:auto;line-height:normal;font-family:Menlo,'DejaVu Sans Mono',consolas,'Courier New',monospace\"><span style=\"color: #7fbfbf; text-decoration-color: #7fbfbf\">[01/22/23 01:22:47] </span><span style=\"color: #000080; text-decoration-color: #000080\">INFO    </span> <span style=\"font-weight: bold\">[</span><span style=\"color: #008080; text-decoration-color: #008080; font-weight: bold\">206</span>/<span style=\"color: #008080; text-decoration-color: #008080; font-weight: bold\">189</span><span style=\"font-weight: bold\">]</span> Retrieving game with <span style=\"color: #808000; text-decoration-color: #808000\">id</span>=<span style=\"color: #800080; text-decoration-color: #800080\">2902a42d</span>                                <a href=\"file://C:\\Users\\John\\anaconda3\\lib\\site-packages\\soccerdata\\fbref.py\" target=\"_blank\"><span style=\"color: #7f7f7f; text-decoration-color: #7f7f7f\">fbref.py</span></a><span style=\"color: #7f7f7f; text-decoration-color: #7f7f7f\">:</span><a href=\"file://C:\\Users\\John\\anaconda3\\lib\\site-packages\\soccerdata\\fbref.py#679\" target=\"_blank\"><span style=\"color: #7f7f7f; text-decoration-color: #7f7f7f\">679</span></a>\n",
       "</pre>\n"
      ],
      "text/plain": [
       "\u001b[2;36m[01/22/23 01:22:47]\u001b[0m\u001b[2;36m \u001b[0m\u001b[34mINFO    \u001b[0m \u001b[1m[\u001b[0m\u001b[1;36m206\u001b[0m/\u001b[1;36m189\u001b[0m\u001b[1m]\u001b[0m Retrieving game with \u001b[33mid\u001b[0m=\u001b[35m2902a42d\u001b[0m                                \u001b]8;id=802349;file://C:\\Users\\John\\anaconda3\\lib\\site-packages\\soccerdata\\fbref.py\u001b\\\u001b[2mfbref.py\u001b[0m\u001b]8;;\u001b\\\u001b[2m:\u001b[0m\u001b]8;id=782699;file://C:\\Users\\John\\anaconda3\\lib\\site-packages\\soccerdata\\fbref.py#679\u001b\\\u001b[2m679\u001b[0m\u001b]8;;\u001b\\\n"
      ]
     },
     "metadata": {},
     "output_type": "display_data"
    },
    {
     "data": {
      "text/html": [
       "<pre style=\"white-space:pre;overflow-x:auto;line-height:normal;font-family:Menlo,'DejaVu Sans Mono',consolas,'Courier New',monospace\"><span style=\"color: #7fbfbf; text-decoration-color: #7fbfbf\">[01/22/23 01:22:52] </span><span style=\"color: #000080; text-decoration-color: #000080\">INFO    </span> <span style=\"font-weight: bold\">[</span><span style=\"color: #008080; text-decoration-color: #008080; font-weight: bold\">208</span>/<span style=\"color: #008080; text-decoration-color: #008080; font-weight: bold\">189</span><span style=\"font-weight: bold\">]</span> Retrieving game with <span style=\"color: #808000; text-decoration-color: #808000\">id</span>=<span style=\"color: #800080; text-decoration-color: #800080\">ea58bf24</span>                                <a href=\"file://C:\\Users\\John\\anaconda3\\lib\\site-packages\\soccerdata\\fbref.py\" target=\"_blank\"><span style=\"color: #7f7f7f; text-decoration-color: #7f7f7f\">fbref.py</span></a><span style=\"color: #7f7f7f; text-decoration-color: #7f7f7f\">:</span><a href=\"file://C:\\Users\\John\\anaconda3\\lib\\site-packages\\soccerdata\\fbref.py#679\" target=\"_blank\"><span style=\"color: #7f7f7f; text-decoration-color: #7f7f7f\">679</span></a>\n",
       "</pre>\n"
      ],
      "text/plain": [
       "\u001b[2;36m[01/22/23 01:22:52]\u001b[0m\u001b[2;36m \u001b[0m\u001b[34mINFO    \u001b[0m \u001b[1m[\u001b[0m\u001b[1;36m208\u001b[0m/\u001b[1;36m189\u001b[0m\u001b[1m]\u001b[0m Retrieving game with \u001b[33mid\u001b[0m=\u001b[35mea58bf24\u001b[0m                                \u001b]8;id=483685;file://C:\\Users\\John\\anaconda3\\lib\\site-packages\\soccerdata\\fbref.py\u001b\\\u001b[2mfbref.py\u001b[0m\u001b]8;;\u001b\\\u001b[2m:\u001b[0m\u001b]8;id=25838;file://C:\\Users\\John\\anaconda3\\lib\\site-packages\\soccerdata\\fbref.py#679\u001b\\\u001b[2m679\u001b[0m\u001b]8;;\u001b\\\n"
      ]
     },
     "metadata": {},
     "output_type": "display_data"
    },
    {
     "data": {
      "text/html": [
       "<pre style=\"white-space:pre;overflow-x:auto;line-height:normal;font-family:Menlo,'DejaVu Sans Mono',consolas,'Courier New',monospace\"><span style=\"color: #7fbfbf; text-decoration-color: #7fbfbf\">[01/22/23 01:22:56] </span><span style=\"color: #000080; text-decoration-color: #000080\">INFO    </span> <span style=\"font-weight: bold\">[</span><span style=\"color: #008080; text-decoration-color: #008080; font-weight: bold\">209</span>/<span style=\"color: #008080; text-decoration-color: #008080; font-weight: bold\">189</span><span style=\"font-weight: bold\">]</span> Retrieving game with <span style=\"color: #808000; text-decoration-color: #808000\">id</span>=<span style=\"color: #800080; text-decoration-color: #800080\">3f992264</span>                                <a href=\"file://C:\\Users\\John\\anaconda3\\lib\\site-packages\\soccerdata\\fbref.py\" target=\"_blank\"><span style=\"color: #7f7f7f; text-decoration-color: #7f7f7f\">fbref.py</span></a><span style=\"color: #7f7f7f; text-decoration-color: #7f7f7f\">:</span><a href=\"file://C:\\Users\\John\\anaconda3\\lib\\site-packages\\soccerdata\\fbref.py#679\" target=\"_blank\"><span style=\"color: #7f7f7f; text-decoration-color: #7f7f7f\">679</span></a>\n",
       "</pre>\n"
      ],
      "text/plain": [
       "\u001b[2;36m[01/22/23 01:22:56]\u001b[0m\u001b[2;36m \u001b[0m\u001b[34mINFO    \u001b[0m \u001b[1m[\u001b[0m\u001b[1;36m209\u001b[0m/\u001b[1;36m189\u001b[0m\u001b[1m]\u001b[0m Retrieving game with \u001b[33mid\u001b[0m=\u001b[35m3f992264\u001b[0m                                \u001b]8;id=827550;file://C:\\Users\\John\\anaconda3\\lib\\site-packages\\soccerdata\\fbref.py\u001b\\\u001b[2mfbref.py\u001b[0m\u001b]8;;\u001b\\\u001b[2m:\u001b[0m\u001b]8;id=823446;file://C:\\Users\\John\\anaconda3\\lib\\site-packages\\soccerdata\\fbref.py#679\u001b\\\u001b[2m679\u001b[0m\u001b]8;;\u001b\\\n"
      ]
     },
     "metadata": {},
     "output_type": "display_data"
    },
    {
     "data": {
      "text/html": [
       "<pre style=\"white-space:pre;overflow-x:auto;line-height:normal;font-family:Menlo,'DejaVu Sans Mono',consolas,'Courier New',monospace\"><span style=\"color: #7fbfbf; text-decoration-color: #7fbfbf\">[01/22/23 01:23:00] </span><span style=\"color: #000080; text-decoration-color: #000080\">INFO    </span> <span style=\"font-weight: bold\">[</span><span style=\"color: #008080; text-decoration-color: #008080; font-weight: bold\">210</span>/<span style=\"color: #008080; text-decoration-color: #008080; font-weight: bold\">189</span><span style=\"font-weight: bold\">]</span> Retrieving game with <span style=\"color: #808000; text-decoration-color: #808000\">id</span>=<span style=\"color: #800080; text-decoration-color: #800080\">cfc2a193</span>                                <a href=\"file://C:\\Users\\John\\anaconda3\\lib\\site-packages\\soccerdata\\fbref.py\" target=\"_blank\"><span style=\"color: #7f7f7f; text-decoration-color: #7f7f7f\">fbref.py</span></a><span style=\"color: #7f7f7f; text-decoration-color: #7f7f7f\">:</span><a href=\"file://C:\\Users\\John\\anaconda3\\lib\\site-packages\\soccerdata\\fbref.py#679\" target=\"_blank\"><span style=\"color: #7f7f7f; text-decoration-color: #7f7f7f\">679</span></a>\n",
       "</pre>\n"
      ],
      "text/plain": [
       "\u001b[2;36m[01/22/23 01:23:00]\u001b[0m\u001b[2;36m \u001b[0m\u001b[34mINFO    \u001b[0m \u001b[1m[\u001b[0m\u001b[1;36m210\u001b[0m/\u001b[1;36m189\u001b[0m\u001b[1m]\u001b[0m Retrieving game with \u001b[33mid\u001b[0m=\u001b[35mcfc2a193\u001b[0m                                \u001b]8;id=69076;file://C:\\Users\\John\\anaconda3\\lib\\site-packages\\soccerdata\\fbref.py\u001b\\\u001b[2mfbref.py\u001b[0m\u001b]8;;\u001b\\\u001b[2m:\u001b[0m\u001b]8;id=45778;file://C:\\Users\\John\\anaconda3\\lib\\site-packages\\soccerdata\\fbref.py#679\u001b\\\u001b[2m679\u001b[0m\u001b]8;;\u001b\\\n"
      ]
     },
     "metadata": {},
     "output_type": "display_data"
    },
    {
     "data": {
      "text/html": [
       "<pre style=\"white-space:pre;overflow-x:auto;line-height:normal;font-family:Menlo,'DejaVu Sans Mono',consolas,'Courier New',monospace\"><span style=\"color: #7fbfbf; text-decoration-color: #7fbfbf\">[01/22/23 01:23:05] </span><span style=\"color: #000080; text-decoration-color: #000080\">INFO    </span> <span style=\"font-weight: bold\">[</span><span style=\"color: #008080; text-decoration-color: #008080; font-weight: bold\">211</span>/<span style=\"color: #008080; text-decoration-color: #008080; font-weight: bold\">189</span><span style=\"font-weight: bold\">]</span> Retrieving game with <span style=\"color: #808000; text-decoration-color: #808000\">id</span>=<span style=\"color: #800080; text-decoration-color: #800080\">11603f7f</span>                                <a href=\"file://C:\\Users\\John\\anaconda3\\lib\\site-packages\\soccerdata\\fbref.py\" target=\"_blank\"><span style=\"color: #7f7f7f; text-decoration-color: #7f7f7f\">fbref.py</span></a><span style=\"color: #7f7f7f; text-decoration-color: #7f7f7f\">:</span><a href=\"file://C:\\Users\\John\\anaconda3\\lib\\site-packages\\soccerdata\\fbref.py#679\" target=\"_blank\"><span style=\"color: #7f7f7f; text-decoration-color: #7f7f7f\">679</span></a>\n",
       "</pre>\n"
      ],
      "text/plain": [
       "\u001b[2;36m[01/22/23 01:23:05]\u001b[0m\u001b[2;36m \u001b[0m\u001b[34mINFO    \u001b[0m \u001b[1m[\u001b[0m\u001b[1;36m211\u001b[0m/\u001b[1;36m189\u001b[0m\u001b[1m]\u001b[0m Retrieving game with \u001b[33mid\u001b[0m=\u001b[35m11603f7f\u001b[0m                                \u001b]8;id=1688;file://C:\\Users\\John\\anaconda3\\lib\\site-packages\\soccerdata\\fbref.py\u001b\\\u001b[2mfbref.py\u001b[0m\u001b]8;;\u001b\\\u001b[2m:\u001b[0m\u001b]8;id=204285;file://C:\\Users\\John\\anaconda3\\lib\\site-packages\\soccerdata\\fbref.py#679\u001b\\\u001b[2m679\u001b[0m\u001b]8;;\u001b\\\n"
      ]
     },
     "metadata": {},
     "output_type": "display_data"
    },
    {
     "data": {
      "text/html": [
       "<pre style=\"white-space:pre;overflow-x:auto;line-height:normal;font-family:Menlo,'DejaVu Sans Mono',consolas,'Courier New',monospace\"><span style=\"color: #7fbfbf; text-decoration-color: #7fbfbf\">[01/22/23 01:23:09] </span><span style=\"color: #000080; text-decoration-color: #000080\">INFO    </span> <span style=\"font-weight: bold\">[</span><span style=\"color: #008080; text-decoration-color: #008080; font-weight: bold\">212</span>/<span style=\"color: #008080; text-decoration-color: #008080; font-weight: bold\">189</span><span style=\"font-weight: bold\">]</span> Retrieving game with <span style=\"color: #808000; text-decoration-color: #808000\">id</span>=<span style=\"color: #800080; text-decoration-color: #800080\">f0fd7541</span>                                <a href=\"file://C:\\Users\\John\\anaconda3\\lib\\site-packages\\soccerdata\\fbref.py\" target=\"_blank\"><span style=\"color: #7f7f7f; text-decoration-color: #7f7f7f\">fbref.py</span></a><span style=\"color: #7f7f7f; text-decoration-color: #7f7f7f\">:</span><a href=\"file://C:\\Users\\John\\anaconda3\\lib\\site-packages\\soccerdata\\fbref.py#679\" target=\"_blank\"><span style=\"color: #7f7f7f; text-decoration-color: #7f7f7f\">679</span></a>\n",
       "</pre>\n"
      ],
      "text/plain": [
       "\u001b[2;36m[01/22/23 01:23:09]\u001b[0m\u001b[2;36m \u001b[0m\u001b[34mINFO    \u001b[0m \u001b[1m[\u001b[0m\u001b[1;36m212\u001b[0m/\u001b[1;36m189\u001b[0m\u001b[1m]\u001b[0m Retrieving game with \u001b[33mid\u001b[0m=\u001b[35mf0fd7541\u001b[0m                                \u001b]8;id=59009;file://C:\\Users\\John\\anaconda3\\lib\\site-packages\\soccerdata\\fbref.py\u001b\\\u001b[2mfbref.py\u001b[0m\u001b]8;;\u001b\\\u001b[2m:\u001b[0m\u001b]8;id=389781;file://C:\\Users\\John\\anaconda3\\lib\\site-packages\\soccerdata\\fbref.py#679\u001b\\\u001b[2m679\u001b[0m\u001b]8;;\u001b\\\n"
      ]
     },
     "metadata": {},
     "output_type": "display_data"
    },
    {
     "data": {
      "text/html": [
       "<pre style=\"white-space:pre;overflow-x:auto;line-height:normal;font-family:Menlo,'DejaVu Sans Mono',consolas,'Courier New',monospace\"><span style=\"color: #7fbfbf; text-decoration-color: #7fbfbf\">[01/22/23 01:23:13] </span><span style=\"color: #000080; text-decoration-color: #000080\">INFO    </span> <span style=\"font-weight: bold\">[</span><span style=\"color: #008080; text-decoration-color: #008080; font-weight: bold\">213</span>/<span style=\"color: #008080; text-decoration-color: #008080; font-weight: bold\">189</span><span style=\"font-weight: bold\">]</span> Retrieving game with <span style=\"color: #808000; text-decoration-color: #808000\">id</span>=<span style=\"color: #800080; text-decoration-color: #800080\">95d3b457</span>                                <a href=\"file://C:\\Users\\John\\anaconda3\\lib\\site-packages\\soccerdata\\fbref.py\" target=\"_blank\"><span style=\"color: #7f7f7f; text-decoration-color: #7f7f7f\">fbref.py</span></a><span style=\"color: #7f7f7f; text-decoration-color: #7f7f7f\">:</span><a href=\"file://C:\\Users\\John\\anaconda3\\lib\\site-packages\\soccerdata\\fbref.py#679\" target=\"_blank\"><span style=\"color: #7f7f7f; text-decoration-color: #7f7f7f\">679</span></a>\n",
       "</pre>\n"
      ],
      "text/plain": [
       "\u001b[2;36m[01/22/23 01:23:13]\u001b[0m\u001b[2;36m \u001b[0m\u001b[34mINFO    \u001b[0m \u001b[1m[\u001b[0m\u001b[1;36m213\u001b[0m/\u001b[1;36m189\u001b[0m\u001b[1m]\u001b[0m Retrieving game with \u001b[33mid\u001b[0m=\u001b[35m95d3b457\u001b[0m                                \u001b]8;id=380153;file://C:\\Users\\John\\anaconda3\\lib\\site-packages\\soccerdata\\fbref.py\u001b\\\u001b[2mfbref.py\u001b[0m\u001b]8;;\u001b\\\u001b[2m:\u001b[0m\u001b]8;id=511926;file://C:\\Users\\John\\anaconda3\\lib\\site-packages\\soccerdata\\fbref.py#679\u001b\\\u001b[2m679\u001b[0m\u001b]8;;\u001b\\\n"
      ]
     },
     "metadata": {},
     "output_type": "display_data"
    },
    {
     "data": {
      "text/html": [
       "<pre style=\"white-space:pre;overflow-x:auto;line-height:normal;font-family:Menlo,'DejaVu Sans Mono',consolas,'Courier New',monospace\"><span style=\"color: #7fbfbf; text-decoration-color: #7fbfbf\">[01/22/23 01:23:17] </span><span style=\"color: #000080; text-decoration-color: #000080\">INFO    </span> <span style=\"font-weight: bold\">[</span><span style=\"color: #008080; text-decoration-color: #008080; font-weight: bold\">214</span>/<span style=\"color: #008080; text-decoration-color: #008080; font-weight: bold\">189</span><span style=\"font-weight: bold\">]</span> Retrieving game with <span style=\"color: #808000; text-decoration-color: #808000\">id</span>=<span style=\"color: #800080; text-decoration-color: #800080\">20fbd1a1</span>                                <a href=\"file://C:\\Users\\John\\anaconda3\\lib\\site-packages\\soccerdata\\fbref.py\" target=\"_blank\"><span style=\"color: #7f7f7f; text-decoration-color: #7f7f7f\">fbref.py</span></a><span style=\"color: #7f7f7f; text-decoration-color: #7f7f7f\">:</span><a href=\"file://C:\\Users\\John\\anaconda3\\lib\\site-packages\\soccerdata\\fbref.py#679\" target=\"_blank\"><span style=\"color: #7f7f7f; text-decoration-color: #7f7f7f\">679</span></a>\n",
       "</pre>\n"
      ],
      "text/plain": [
       "\u001b[2;36m[01/22/23 01:23:17]\u001b[0m\u001b[2;36m \u001b[0m\u001b[34mINFO    \u001b[0m \u001b[1m[\u001b[0m\u001b[1;36m214\u001b[0m/\u001b[1;36m189\u001b[0m\u001b[1m]\u001b[0m Retrieving game with \u001b[33mid\u001b[0m=\u001b[35m20fbd1a1\u001b[0m                                \u001b]8;id=961858;file://C:\\Users\\John\\anaconda3\\lib\\site-packages\\soccerdata\\fbref.py\u001b\\\u001b[2mfbref.py\u001b[0m\u001b]8;;\u001b\\\u001b[2m:\u001b[0m\u001b]8;id=507341;file://C:\\Users\\John\\anaconda3\\lib\\site-packages\\soccerdata\\fbref.py#679\u001b\\\u001b[2m679\u001b[0m\u001b]8;;\u001b\\\n"
      ]
     },
     "metadata": {},
     "output_type": "display_data"
    },
    {
     "data": {
      "text/html": [
       "<pre style=\"white-space:pre;overflow-x:auto;line-height:normal;font-family:Menlo,'DejaVu Sans Mono',consolas,'Courier New',monospace\"><span style=\"color: #7fbfbf; text-decoration-color: #7fbfbf\">[01/22/23 01:23:22] </span><span style=\"color: #000080; text-decoration-color: #000080\">INFO    </span> <span style=\"font-weight: bold\">[</span><span style=\"color: #008080; text-decoration-color: #008080; font-weight: bold\">215</span>/<span style=\"color: #008080; text-decoration-color: #008080; font-weight: bold\">189</span><span style=\"font-weight: bold\">]</span> Retrieving game with <span style=\"color: #808000; text-decoration-color: #808000\">id</span>=<span style=\"color: #800080; text-decoration-color: #800080\">564d2893</span>                                <a href=\"file://C:\\Users\\John\\anaconda3\\lib\\site-packages\\soccerdata\\fbref.py\" target=\"_blank\"><span style=\"color: #7f7f7f; text-decoration-color: #7f7f7f\">fbref.py</span></a><span style=\"color: #7f7f7f; text-decoration-color: #7f7f7f\">:</span><a href=\"file://C:\\Users\\John\\anaconda3\\lib\\site-packages\\soccerdata\\fbref.py#679\" target=\"_blank\"><span style=\"color: #7f7f7f; text-decoration-color: #7f7f7f\">679</span></a>\n",
       "</pre>\n"
      ],
      "text/plain": [
       "\u001b[2;36m[01/22/23 01:23:22]\u001b[0m\u001b[2;36m \u001b[0m\u001b[34mINFO    \u001b[0m \u001b[1m[\u001b[0m\u001b[1;36m215\u001b[0m/\u001b[1;36m189\u001b[0m\u001b[1m]\u001b[0m Retrieving game with \u001b[33mid\u001b[0m=\u001b[35m564d2893\u001b[0m                                \u001b]8;id=504660;file://C:\\Users\\John\\anaconda3\\lib\\site-packages\\soccerdata\\fbref.py\u001b\\\u001b[2mfbref.py\u001b[0m\u001b]8;;\u001b\\\u001b[2m:\u001b[0m\u001b]8;id=8862;file://C:\\Users\\John\\anaconda3\\lib\\site-packages\\soccerdata\\fbref.py#679\u001b\\\u001b[2m679\u001b[0m\u001b]8;;\u001b\\\n"
      ]
     },
     "metadata": {},
     "output_type": "display_data"
    },
    {
     "data": {
      "text/html": [
       "<pre style=\"white-space:pre;overflow-x:auto;line-height:normal;font-family:Menlo,'DejaVu Sans Mono',consolas,'Courier New',monospace\"><span style=\"color: #7fbfbf; text-decoration-color: #7fbfbf\">[01/22/23 01:23:26] </span><span style=\"color: #000080; text-decoration-color: #000080\">INFO    </span> <span style=\"font-weight: bold\">[</span><span style=\"color: #008080; text-decoration-color: #008080; font-weight: bold\">216</span>/<span style=\"color: #008080; text-decoration-color: #008080; font-weight: bold\">189</span><span style=\"font-weight: bold\">]</span> Retrieving game with <span style=\"color: #808000; text-decoration-color: #808000\">id</span>=<span style=\"color: #800080; text-decoration-color: #800080\">f93d11e7</span>                                <a href=\"file://C:\\Users\\John\\anaconda3\\lib\\site-packages\\soccerdata\\fbref.py\" target=\"_blank\"><span style=\"color: #7f7f7f; text-decoration-color: #7f7f7f\">fbref.py</span></a><span style=\"color: #7f7f7f; text-decoration-color: #7f7f7f\">:</span><a href=\"file://C:\\Users\\John\\anaconda3\\lib\\site-packages\\soccerdata\\fbref.py#679\" target=\"_blank\"><span style=\"color: #7f7f7f; text-decoration-color: #7f7f7f\">679</span></a>\n",
       "</pre>\n"
      ],
      "text/plain": [
       "\u001b[2;36m[01/22/23 01:23:26]\u001b[0m\u001b[2;36m \u001b[0m\u001b[34mINFO    \u001b[0m \u001b[1m[\u001b[0m\u001b[1;36m216\u001b[0m/\u001b[1;36m189\u001b[0m\u001b[1m]\u001b[0m Retrieving game with \u001b[33mid\u001b[0m=\u001b[35mf93d11e7\u001b[0m                                \u001b]8;id=809868;file://C:\\Users\\John\\anaconda3\\lib\\site-packages\\soccerdata\\fbref.py\u001b\\\u001b[2mfbref.py\u001b[0m\u001b]8;;\u001b\\\u001b[2m:\u001b[0m\u001b]8;id=332288;file://C:\\Users\\John\\anaconda3\\lib\\site-packages\\soccerdata\\fbref.py#679\u001b\\\u001b[2m679\u001b[0m\u001b]8;;\u001b\\\n"
      ]
     },
     "metadata": {},
     "output_type": "display_data"
    },
    {
     "data": {
      "text/html": [
       "<pre style=\"white-space:pre;overflow-x:auto;line-height:normal;font-family:Menlo,'DejaVu Sans Mono',consolas,'Courier New',monospace\"><span style=\"color: #7fbfbf; text-decoration-color: #7fbfbf\">[01/22/23 01:23:30] </span><span style=\"color: #000080; text-decoration-color: #000080\">INFO    </span> <span style=\"font-weight: bold\">[</span><span style=\"color: #008080; text-decoration-color: #008080; font-weight: bold\">217</span>/<span style=\"color: #008080; text-decoration-color: #008080; font-weight: bold\">189</span><span style=\"font-weight: bold\">]</span> Retrieving game with <span style=\"color: #808000; text-decoration-color: #808000\">id</span>=<span style=\"color: #800080; text-decoration-color: #800080\">4fc8b7b2</span>                                <a href=\"file://C:\\Users\\John\\anaconda3\\lib\\site-packages\\soccerdata\\fbref.py\" target=\"_blank\"><span style=\"color: #7f7f7f; text-decoration-color: #7f7f7f\">fbref.py</span></a><span style=\"color: #7f7f7f; text-decoration-color: #7f7f7f\">:</span><a href=\"file://C:\\Users\\John\\anaconda3\\lib\\site-packages\\soccerdata\\fbref.py#679\" target=\"_blank\"><span style=\"color: #7f7f7f; text-decoration-color: #7f7f7f\">679</span></a>\n",
       "</pre>\n"
      ],
      "text/plain": [
       "\u001b[2;36m[01/22/23 01:23:30]\u001b[0m\u001b[2;36m \u001b[0m\u001b[34mINFO    \u001b[0m \u001b[1m[\u001b[0m\u001b[1;36m217\u001b[0m/\u001b[1;36m189\u001b[0m\u001b[1m]\u001b[0m Retrieving game with \u001b[33mid\u001b[0m=\u001b[35m4fc8b7b2\u001b[0m                                \u001b]8;id=668881;file://C:\\Users\\John\\anaconda3\\lib\\site-packages\\soccerdata\\fbref.py\u001b\\\u001b[2mfbref.py\u001b[0m\u001b]8;;\u001b\\\u001b[2m:\u001b[0m\u001b]8;id=431981;file://C:\\Users\\John\\anaconda3\\lib\\site-packages\\soccerdata\\fbref.py#679\u001b\\\u001b[2m679\u001b[0m\u001b]8;;\u001b\\\n"
      ]
     },
     "metadata": {},
     "output_type": "display_data"
    },
    {
     "data": {
      "text/html": [
       "<pre style=\"white-space:pre;overflow-x:auto;line-height:normal;font-family:Menlo,'DejaVu Sans Mono',consolas,'Courier New',monospace\"><span style=\"color: #7fbfbf; text-decoration-color: #7fbfbf\">[01/22/23 01:23:35] </span><span style=\"color: #000080; text-decoration-color: #000080\">INFO    </span> <span style=\"font-weight: bold\">[</span><span style=\"color: #008080; text-decoration-color: #008080; font-weight: bold\">219</span>/<span style=\"color: #008080; text-decoration-color: #008080; font-weight: bold\">189</span><span style=\"font-weight: bold\">]</span> Retrieving game with <span style=\"color: #808000; text-decoration-color: #808000\">id</span>=<span style=\"color: #800080; text-decoration-color: #800080\">adf46096</span>                                <a href=\"file://C:\\Users\\John\\anaconda3\\lib\\site-packages\\soccerdata\\fbref.py\" target=\"_blank\"><span style=\"color: #7f7f7f; text-decoration-color: #7f7f7f\">fbref.py</span></a><span style=\"color: #7f7f7f; text-decoration-color: #7f7f7f\">:</span><a href=\"file://C:\\Users\\John\\anaconda3\\lib\\site-packages\\soccerdata\\fbref.py#679\" target=\"_blank\"><span style=\"color: #7f7f7f; text-decoration-color: #7f7f7f\">679</span></a>\n",
       "</pre>\n"
      ],
      "text/plain": [
       "\u001b[2;36m[01/22/23 01:23:35]\u001b[0m\u001b[2;36m \u001b[0m\u001b[34mINFO    \u001b[0m \u001b[1m[\u001b[0m\u001b[1;36m219\u001b[0m/\u001b[1;36m189\u001b[0m\u001b[1m]\u001b[0m Retrieving game with \u001b[33mid\u001b[0m=\u001b[35madf46096\u001b[0m                                \u001b]8;id=306922;file://C:\\Users\\John\\anaconda3\\lib\\site-packages\\soccerdata\\fbref.py\u001b\\\u001b[2mfbref.py\u001b[0m\u001b]8;;\u001b\\\u001b[2m:\u001b[0m\u001b]8;id=674081;file://C:\\Users\\John\\anaconda3\\lib\\site-packages\\soccerdata\\fbref.py#679\u001b\\\u001b[2m679\u001b[0m\u001b]8;;\u001b\\\n"
      ]
     },
     "metadata": {},
     "output_type": "display_data"
    },
    {
     "data": {
      "text/html": [
       "<pre style=\"white-space:pre;overflow-x:auto;line-height:normal;font-family:Menlo,'DejaVu Sans Mono',consolas,'Courier New',monospace\"><span style=\"color: #7fbfbf; text-decoration-color: #7fbfbf\">[01/22/23 01:23:39] </span><span style=\"color: #000080; text-decoration-color: #000080\">INFO    </span> <span style=\"font-weight: bold\">[</span><span style=\"color: #008080; text-decoration-color: #008080; font-weight: bold\">220</span>/<span style=\"color: #008080; text-decoration-color: #008080; font-weight: bold\">189</span><span style=\"font-weight: bold\">]</span> Retrieving game with <span style=\"color: #808000; text-decoration-color: #808000\">id</span>=<span style=\"color: #800080; text-decoration-color: #800080\">847f0a9c</span>                                <a href=\"file://C:\\Users\\John\\anaconda3\\lib\\site-packages\\soccerdata\\fbref.py\" target=\"_blank\"><span style=\"color: #7f7f7f; text-decoration-color: #7f7f7f\">fbref.py</span></a><span style=\"color: #7f7f7f; text-decoration-color: #7f7f7f\">:</span><a href=\"file://C:\\Users\\John\\anaconda3\\lib\\site-packages\\soccerdata\\fbref.py#679\" target=\"_blank\"><span style=\"color: #7f7f7f; text-decoration-color: #7f7f7f\">679</span></a>\n",
       "</pre>\n"
      ],
      "text/plain": [
       "\u001b[2;36m[01/22/23 01:23:39]\u001b[0m\u001b[2;36m \u001b[0m\u001b[34mINFO    \u001b[0m \u001b[1m[\u001b[0m\u001b[1;36m220\u001b[0m/\u001b[1;36m189\u001b[0m\u001b[1m]\u001b[0m Retrieving game with \u001b[33mid\u001b[0m=\u001b[35m847f0a9c\u001b[0m                                \u001b]8;id=965863;file://C:\\Users\\John\\anaconda3\\lib\\site-packages\\soccerdata\\fbref.py\u001b\\\u001b[2mfbref.py\u001b[0m\u001b]8;;\u001b\\\u001b[2m:\u001b[0m\u001b]8;id=197192;file://C:\\Users\\John\\anaconda3\\lib\\site-packages\\soccerdata\\fbref.py#679\u001b\\\u001b[2m679\u001b[0m\u001b]8;;\u001b\\\n"
      ]
     },
     "metadata": {},
     "output_type": "display_data"
    },
    {
     "data": {
      "text/html": [
       "<div>\n",
       "<style scoped>\n",
       "    .dataframe tbody tr th:only-of-type {\n",
       "        vertical-align: middle;\n",
       "    }\n",
       "\n",
       "    .dataframe tbody tr th {\n",
       "        vertical-align: top;\n",
       "    }\n",
       "\n",
       "    .dataframe thead tr th {\n",
       "        text-align: left;\n",
       "    }\n",
       "\n",
       "    .dataframe thead tr:last-of-type th {\n",
       "        text-align: right;\n",
       "    }\n",
       "</style>\n",
       "<table border=\"1\" class=\"dataframe\">\n",
       "  <thead>\n",
       "    <tr>\n",
       "      <th></th>\n",
       "      <th></th>\n",
       "      <th></th>\n",
       "      <th></th>\n",
       "      <th></th>\n",
       "      <th>#</th>\n",
       "      <th>Nation</th>\n",
       "      <th>Pos</th>\n",
       "      <th>Age</th>\n",
       "      <th>Min</th>\n",
       "      <th colspan=\"12\" halign=\"left\">Performance</th>\n",
       "      <th colspan=\"3\" halign=\"left\">Aerial Duels</th>\n",
       "      <th>game_id</th>\n",
       "    </tr>\n",
       "    <tr>\n",
       "      <th></th>\n",
       "      <th></th>\n",
       "      <th></th>\n",
       "      <th></th>\n",
       "      <th></th>\n",
       "      <th></th>\n",
       "      <th></th>\n",
       "      <th></th>\n",
       "      <th></th>\n",
       "      <th></th>\n",
       "      <th>CrdY</th>\n",
       "      <th>CrdR</th>\n",
       "      <th>2CrdY</th>\n",
       "      <th>Fls</th>\n",
       "      <th>Fld</th>\n",
       "      <th>...</th>\n",
       "      <th>Int</th>\n",
       "      <th>TklW</th>\n",
       "      <th>PKwon</th>\n",
       "      <th>PKcon</th>\n",
       "      <th>OG</th>\n",
       "      <th>Recov</th>\n",
       "      <th>Won</th>\n",
       "      <th>Lost</th>\n",
       "      <th>Won%</th>\n",
       "      <th></th>\n",
       "    </tr>\n",
       "    <tr>\n",
       "      <th>league</th>\n",
       "      <th>season</th>\n",
       "      <th>game</th>\n",
       "      <th>team</th>\n",
       "      <th>player</th>\n",
       "      <th></th>\n",
       "      <th></th>\n",
       "      <th></th>\n",
       "      <th></th>\n",
       "      <th></th>\n",
       "      <th></th>\n",
       "      <th></th>\n",
       "      <th></th>\n",
       "      <th></th>\n",
       "      <th></th>\n",
       "      <th></th>\n",
       "      <th></th>\n",
       "      <th></th>\n",
       "      <th></th>\n",
       "      <th></th>\n",
       "      <th></th>\n",
       "      <th></th>\n",
       "      <th></th>\n",
       "      <th></th>\n",
       "      <th></th>\n",
       "      <th></th>\n",
       "    </tr>\n",
       "  </thead>\n",
       "  <tbody>\n",
       "    <tr>\n",
       "      <th rowspan=\"5\" valign=\"top\">ENG-Premier League</th>\n",
       "      <th rowspan=\"5\" valign=\"top\">2223</th>\n",
       "      <th rowspan=\"5\" valign=\"top\">2022-08-05 Crystal Palace-Arsenal</th>\n",
       "      <th rowspan=\"5\" valign=\"top\">Arsenal</th>\n",
       "      <th>Aaron Ramsdale</th>\n",
       "      <td>1.0</td>\n",
       "      <td>eng ENG</td>\n",
       "      <td>GK</td>\n",
       "      <td>24-083</td>\n",
       "      <td>90</td>\n",
       "      <td>0</td>\n",
       "      <td>0</td>\n",
       "      <td>0</td>\n",
       "      <td>0</td>\n",
       "      <td>0</td>\n",
       "      <td>...</td>\n",
       "      <td>0</td>\n",
       "      <td>0</td>\n",
       "      <td>0</td>\n",
       "      <td>0</td>\n",
       "      <td>0</td>\n",
       "      <td>1</td>\n",
       "      <td>1</td>\n",
       "      <td>0</td>\n",
       "      <td>100.0</td>\n",
       "      <td>e62f6e78</td>\n",
       "    </tr>\n",
       "    <tr>\n",
       "      <th>Albert Sambi Lokonga</th>\n",
       "      <td>23.0</td>\n",
       "      <td>be BEL</td>\n",
       "      <td>CM,RW</td>\n",
       "      <td>22-287</td>\n",
       "      <td>1</td>\n",
       "      <td>0</td>\n",
       "      <td>0</td>\n",
       "      <td>0</td>\n",
       "      <td>0</td>\n",
       "      <td>1</td>\n",
       "      <td>...</td>\n",
       "      <td>0</td>\n",
       "      <td>0</td>\n",
       "      <td>0</td>\n",
       "      <td>0</td>\n",
       "      <td>0</td>\n",
       "      <td>1</td>\n",
       "      <td>0</td>\n",
       "      <td>0</td>\n",
       "      <td>NaN</td>\n",
       "      <td>e62f6e78</td>\n",
       "    </tr>\n",
       "    <tr>\n",
       "      <th>Ben White</th>\n",
       "      <td>4.0</td>\n",
       "      <td>eng ENG</td>\n",
       "      <td>RB</td>\n",
       "      <td>24-301</td>\n",
       "      <td>90</td>\n",
       "      <td>1</td>\n",
       "      <td>0</td>\n",
       "      <td>0</td>\n",
       "      <td>2</td>\n",
       "      <td>3</td>\n",
       "      <td>...</td>\n",
       "      <td>1</td>\n",
       "      <td>5</td>\n",
       "      <td>0</td>\n",
       "      <td>0</td>\n",
       "      <td>0</td>\n",
       "      <td>6</td>\n",
       "      <td>0</td>\n",
       "      <td>0</td>\n",
       "      <td>NaN</td>\n",
       "      <td>e62f6e78</td>\n",
       "    </tr>\n",
       "    <tr>\n",
       "      <th>Bukayo Saka</th>\n",
       "      <td>7.0</td>\n",
       "      <td>eng ENG</td>\n",
       "      <td>RW</td>\n",
       "      <td>20-334</td>\n",
       "      <td>90</td>\n",
       "      <td>0</td>\n",
       "      <td>0</td>\n",
       "      <td>0</td>\n",
       "      <td>2</td>\n",
       "      <td>1</td>\n",
       "      <td>...</td>\n",
       "      <td>0</td>\n",
       "      <td>1</td>\n",
       "      <td>0</td>\n",
       "      <td>0</td>\n",
       "      <td>0</td>\n",
       "      <td>4</td>\n",
       "      <td>0</td>\n",
       "      <td>1</td>\n",
       "      <td>0.0</td>\n",
       "      <td>e62f6e78</td>\n",
       "    </tr>\n",
       "    <tr>\n",
       "      <th>Eddie Nketiah</th>\n",
       "      <td>14.0</td>\n",
       "      <td>eng ENG</td>\n",
       "      <td>FW</td>\n",
       "      <td>23-067</td>\n",
       "      <td>8</td>\n",
       "      <td>0</td>\n",
       "      <td>0</td>\n",
       "      <td>0</td>\n",
       "      <td>1</td>\n",
       "      <td>0</td>\n",
       "      <td>...</td>\n",
       "      <td>0</td>\n",
       "      <td>0</td>\n",
       "      <td>0</td>\n",
       "      <td>0</td>\n",
       "      <td>0</td>\n",
       "      <td>1</td>\n",
       "      <td>0</td>\n",
       "      <td>0</td>\n",
       "      <td>NaN</td>\n",
       "      <td>e62f6e78</td>\n",
       "    </tr>\n",
       "  </tbody>\n",
       "</table>\n",
       "<p>5 rows × 22 columns</p>\n",
       "</div>"
      ],
      "text/plain": [
       "                                                                                             #  \\\n",
       "                                                                                                 \n",
       "league             season game                              team    player                       \n",
       "ENG-Premier League 2223   2022-08-05 Crystal Palace-Arsenal Arsenal Aaron Ramsdale         1.0   \n",
       "                                                                    Albert Sambi Lokonga  23.0   \n",
       "                                                                    Ben White              4.0   \n",
       "                                                                    Bukayo Saka            7.0   \n",
       "                                                                    Eddie Nketiah         14.0   \n",
       "\n",
       "                                                                                           Nation  \\\n",
       "                                                                                                    \n",
       "league             season game                              team    player                          \n",
       "ENG-Premier League 2223   2022-08-05 Crystal Palace-Arsenal Arsenal Aaron Ramsdale        eng ENG   \n",
       "                                                                    Albert Sambi Lokonga   be BEL   \n",
       "                                                                    Ben White             eng ENG   \n",
       "                                                                    Bukayo Saka           eng ENG   \n",
       "                                                                    Eddie Nketiah         eng ENG   \n",
       "\n",
       "                                                                                            Pos  \\\n",
       "                                                                                                  \n",
       "league             season game                              team    player                        \n",
       "ENG-Premier League 2223   2022-08-05 Crystal Palace-Arsenal Arsenal Aaron Ramsdale           GK   \n",
       "                                                                    Albert Sambi Lokonga  CM,RW   \n",
       "                                                                    Ben White                RB   \n",
       "                                                                    Bukayo Saka              RW   \n",
       "                                                                    Eddie Nketiah            FW   \n",
       "\n",
       "                                                                                             Age  \\\n",
       "                                                                                                   \n",
       "league             season game                              team    player                         \n",
       "ENG-Premier League 2223   2022-08-05 Crystal Palace-Arsenal Arsenal Aaron Ramsdale        24-083   \n",
       "                                                                    Albert Sambi Lokonga  22-287   \n",
       "                                                                    Ben White             24-301   \n",
       "                                                                    Bukayo Saka           20-334   \n",
       "                                                                    Eddie Nketiah         23-067   \n",
       "\n",
       "                                                                                         Min  \\\n",
       "                                                                                               \n",
       "league             season game                              team    player                     \n",
       "ENG-Premier League 2223   2022-08-05 Crystal Palace-Arsenal Arsenal Aaron Ramsdale        90   \n",
       "                                                                    Albert Sambi Lokonga   1   \n",
       "                                                                    Ben White             90   \n",
       "                                                                    Bukayo Saka           90   \n",
       "                                                                    Eddie Nketiah          8   \n",
       "\n",
       "                                                                                         Performance  \\\n",
       "                                                                                                CrdY   \n",
       "league             season game                              team    player                             \n",
       "ENG-Premier League 2223   2022-08-05 Crystal Palace-Arsenal Arsenal Aaron Ramsdale                 0   \n",
       "                                                                    Albert Sambi Lokonga           0   \n",
       "                                                                    Ben White                      1   \n",
       "                                                                    Bukayo Saka                    0   \n",
       "                                                                    Eddie Nketiah                  0   \n",
       "\n",
       "                                                                                               \\\n",
       "                                                                                         CrdR   \n",
       "league             season game                              team    player                      \n",
       "ENG-Premier League 2223   2022-08-05 Crystal Palace-Arsenal Arsenal Aaron Ramsdale          0   \n",
       "                                                                    Albert Sambi Lokonga    0   \n",
       "                                                                    Ben White               0   \n",
       "                                                                    Bukayo Saka             0   \n",
       "                                                                    Eddie Nketiah           0   \n",
       "\n",
       "                                                                                                \\\n",
       "                                                                                         2CrdY   \n",
       "league             season game                              team    player                       \n",
       "ENG-Premier League 2223   2022-08-05 Crystal Palace-Arsenal Arsenal Aaron Ramsdale           0   \n",
       "                                                                    Albert Sambi Lokonga     0   \n",
       "                                                                    Ben White                0   \n",
       "                                                                    Bukayo Saka              0   \n",
       "                                                                    Eddie Nketiah            0   \n",
       "\n",
       "                                                                                              \\\n",
       "                                                                                         Fls   \n",
       "league             season game                              team    player                     \n",
       "ENG-Premier League 2223   2022-08-05 Crystal Palace-Arsenal Arsenal Aaron Ramsdale         0   \n",
       "                                                                    Albert Sambi Lokonga   0   \n",
       "                                                                    Ben White              2   \n",
       "                                                                    Bukayo Saka            2   \n",
       "                                                                    Eddie Nketiah          1   \n",
       "\n",
       "                                                                                              \\\n",
       "                                                                                         Fld   \n",
       "league             season game                              team    player                     \n",
       "ENG-Premier League 2223   2022-08-05 Crystal Palace-Arsenal Arsenal Aaron Ramsdale         0   \n",
       "                                                                    Albert Sambi Lokonga   1   \n",
       "                                                                    Ben White              3   \n",
       "                                                                    Bukayo Saka            1   \n",
       "                                                                    Eddie Nketiah          0   \n",
       "\n",
       "                                                                                          ...  \\\n",
       "                                                                                          ...   \n",
       "league             season game                              team    player                ...   \n",
       "ENG-Premier League 2223   2022-08-05 Crystal Palace-Arsenal Arsenal Aaron Ramsdale        ...   \n",
       "                                                                    Albert Sambi Lokonga  ...   \n",
       "                                                                    Ben White             ...   \n",
       "                                                                    Bukayo Saka           ...   \n",
       "                                                                    Eddie Nketiah         ...   \n",
       "\n",
       "                                                                                              \\\n",
       "                                                                                         Int   \n",
       "league             season game                              team    player                     \n",
       "ENG-Premier League 2223   2022-08-05 Crystal Palace-Arsenal Arsenal Aaron Ramsdale         0   \n",
       "                                                                    Albert Sambi Lokonga   0   \n",
       "                                                                    Ben White              1   \n",
       "                                                                    Bukayo Saka            0   \n",
       "                                                                    Eddie Nketiah          0   \n",
       "\n",
       "                                                                                               \\\n",
       "                                                                                         TklW   \n",
       "league             season game                              team    player                      \n",
       "ENG-Premier League 2223   2022-08-05 Crystal Palace-Arsenal Arsenal Aaron Ramsdale          0   \n",
       "                                                                    Albert Sambi Lokonga    0   \n",
       "                                                                    Ben White               5   \n",
       "                                                                    Bukayo Saka             1   \n",
       "                                                                    Eddie Nketiah           0   \n",
       "\n",
       "                                                                                                \\\n",
       "                                                                                         PKwon   \n",
       "league             season game                              team    player                       \n",
       "ENG-Premier League 2223   2022-08-05 Crystal Palace-Arsenal Arsenal Aaron Ramsdale           0   \n",
       "                                                                    Albert Sambi Lokonga     0   \n",
       "                                                                    Ben White                0   \n",
       "                                                                    Bukayo Saka              0   \n",
       "                                                                    Eddie Nketiah            0   \n",
       "\n",
       "                                                                                                \\\n",
       "                                                                                         PKcon   \n",
       "league             season game                              team    player                       \n",
       "ENG-Premier League 2223   2022-08-05 Crystal Palace-Arsenal Arsenal Aaron Ramsdale           0   \n",
       "                                                                    Albert Sambi Lokonga     0   \n",
       "                                                                    Ben White                0   \n",
       "                                                                    Bukayo Saka              0   \n",
       "                                                                    Eddie Nketiah            0   \n",
       "\n",
       "                                                                                             \\\n",
       "                                                                                         OG   \n",
       "league             season game                              team    player                    \n",
       "ENG-Premier League 2223   2022-08-05 Crystal Palace-Arsenal Arsenal Aaron Ramsdale        0   \n",
       "                                                                    Albert Sambi Lokonga  0   \n",
       "                                                                    Ben White             0   \n",
       "                                                                    Bukayo Saka           0   \n",
       "                                                                    Eddie Nketiah         0   \n",
       "\n",
       "                                                                                                \\\n",
       "                                                                                         Recov   \n",
       "league             season game                              team    player                       \n",
       "ENG-Premier League 2223   2022-08-05 Crystal Palace-Arsenal Arsenal Aaron Ramsdale           1   \n",
       "                                                                    Albert Sambi Lokonga     1   \n",
       "                                                                    Ben White                6   \n",
       "                                                                    Bukayo Saka              4   \n",
       "                                                                    Eddie Nketiah            1   \n",
       "\n",
       "                                                                                         Aerial Duels  \\\n",
       "                                                                                                  Won   \n",
       "league             season game                              team    player                              \n",
       "ENG-Premier League 2223   2022-08-05 Crystal Palace-Arsenal Arsenal Aaron Ramsdale                  1   \n",
       "                                                                    Albert Sambi Lokonga            0   \n",
       "                                                                    Ben White                       0   \n",
       "                                                                    Bukayo Saka                     0   \n",
       "                                                                    Eddie Nketiah                   0   \n",
       "\n",
       "                                                                                               \\\n",
       "                                                                                         Lost   \n",
       "league             season game                              team    player                      \n",
       "ENG-Premier League 2223   2022-08-05 Crystal Palace-Arsenal Arsenal Aaron Ramsdale          0   \n",
       "                                                                    Albert Sambi Lokonga    0   \n",
       "                                                                    Ben White               0   \n",
       "                                                                    Bukayo Saka             1   \n",
       "                                                                    Eddie Nketiah           0   \n",
       "\n",
       "                                                                                                 \\\n",
       "                                                                                           Won%   \n",
       "league             season game                              team    player                        \n",
       "ENG-Premier League 2223   2022-08-05 Crystal Palace-Arsenal Arsenal Aaron Ramsdale        100.0   \n",
       "                                                                    Albert Sambi Lokonga    NaN   \n",
       "                                                                    Ben White               NaN   \n",
       "                                                                    Bukayo Saka             0.0   \n",
       "                                                                    Eddie Nketiah           NaN   \n",
       "\n",
       "                                                                                           game_id  \n",
       "                                                                                                    \n",
       "league             season game                              team    player                          \n",
       "ENG-Premier League 2223   2022-08-05 Crystal Palace-Arsenal Arsenal Aaron Ramsdale        e62f6e78  \n",
       "                                                                    Albert Sambi Lokonga  e62f6e78  \n",
       "                                                                    Ben White             e62f6e78  \n",
       "                                                                    Bukayo Saka           e62f6e78  \n",
       "                                                                    Eddie Nketiah         e62f6e78  \n",
       "\n",
       "[5 rows x 22 columns]"
      ]
     },
     "execution_count": 8,
     "metadata": {},
     "output_type": "execute_result"
    }
   ],
   "source": [
    "player_match_stats = fbref.read_player_match_stats(stat_type=\"misc\")\n",
    "player_match_stats.head()"
   ]
  },
  {
   "cell_type": "code",
   "execution_count": 9,
   "id": "efde8f13",
   "metadata": {},
   "outputs": [],
   "source": [
    "player_match_stats.to_csv('PlayerBookings.csv') "
   ]
  },
  {
   "cell_type": "code",
   "execution_count": 4,
   "id": "2c530d50",
   "metadata": {},
   "outputs": [],
   "source": [
    "epl_schedule.to_csv(\"MatchSchedule.csv\")"
   ]
  },
  {
   "cell_type": "code",
   "execution_count": 2,
   "id": "03885b9b",
   "metadata": {},
   "outputs": [
    {
     "data": {
      "text/html": [
       "<div>\n",
       "<style scoped>\n",
       "    .dataframe tbody tr th:only-of-type {\n",
       "        vertical-align: middle;\n",
       "    }\n",
       "\n",
       "    .dataframe tbody tr th {\n",
       "        vertical-align: top;\n",
       "    }\n",
       "\n",
       "    .dataframe thead th {\n",
       "        text-align: right;\n",
       "    }\n",
       "</style>\n",
       "<table border=\"1\" class=\"dataframe\">\n",
       "  <thead>\n",
       "    <tr style=\"text-align: right;\">\n",
       "      <th></th>\n",
       "      <th>league</th>\n",
       "      <th>season</th>\n",
       "      <th>game</th>\n",
       "      <th>team</th>\n",
       "      <th>player</th>\n",
       "      <th>#</th>\n",
       "      <th>Nation</th>\n",
       "      <th>Pos</th>\n",
       "      <th>Age</th>\n",
       "      <th>Min</th>\n",
       "      <th>...</th>\n",
       "      <th>Int</th>\n",
       "      <th>TklW</th>\n",
       "      <th>PKwon</th>\n",
       "      <th>PKcon</th>\n",
       "      <th>OG</th>\n",
       "      <th>Recov</th>\n",
       "      <th>Aerial Duels Won</th>\n",
       "      <th>Aerial Duels Lost</th>\n",
       "      <th>Aerial Duels Won %</th>\n",
       "      <th>game_id</th>\n",
       "    </tr>\n",
       "  </thead>\n",
       "  <tbody>\n",
       "    <tr>\n",
       "      <th>0</th>\n",
       "      <td>ENG-Premier League</td>\n",
       "      <td>2223</td>\n",
       "      <td>2022-08-05 Crystal Palace-Arsenal</td>\n",
       "      <td>Arsenal</td>\n",
       "      <td>Aaron Ramsdale</td>\n",
       "      <td>1</td>\n",
       "      <td>eng ENG</td>\n",
       "      <td>GK</td>\n",
       "      <td>24-083</td>\n",
       "      <td>90</td>\n",
       "      <td>...</td>\n",
       "      <td>0</td>\n",
       "      <td>0</td>\n",
       "      <td>0</td>\n",
       "      <td>0</td>\n",
       "      <td>0</td>\n",
       "      <td>1</td>\n",
       "      <td>1</td>\n",
       "      <td>0</td>\n",
       "      <td>100.0</td>\n",
       "      <td>e62f6e78</td>\n",
       "    </tr>\n",
       "    <tr>\n",
       "      <th>1</th>\n",
       "      <td>ENG-Premier League</td>\n",
       "      <td>2223</td>\n",
       "      <td>2022-08-05 Crystal Palace-Arsenal</td>\n",
       "      <td>Arsenal</td>\n",
       "      <td>Albert Sambi Lokonga</td>\n",
       "      <td>23</td>\n",
       "      <td>be BEL</td>\n",
       "      <td>CM,RW</td>\n",
       "      <td>22-287</td>\n",
       "      <td>1</td>\n",
       "      <td>...</td>\n",
       "      <td>0</td>\n",
       "      <td>0</td>\n",
       "      <td>0</td>\n",
       "      <td>0</td>\n",
       "      <td>0</td>\n",
       "      <td>1</td>\n",
       "      <td>0</td>\n",
       "      <td>0</td>\n",
       "      <td>NaN</td>\n",
       "      <td>e62f6e78</td>\n",
       "    </tr>\n",
       "    <tr>\n",
       "      <th>2</th>\n",
       "      <td>ENG-Premier League</td>\n",
       "      <td>2223</td>\n",
       "      <td>2022-08-05 Crystal Palace-Arsenal</td>\n",
       "      <td>Arsenal</td>\n",
       "      <td>Ben White</td>\n",
       "      <td>4</td>\n",
       "      <td>eng ENG</td>\n",
       "      <td>RB</td>\n",
       "      <td>24-301</td>\n",
       "      <td>90</td>\n",
       "      <td>...</td>\n",
       "      <td>1</td>\n",
       "      <td>5</td>\n",
       "      <td>0</td>\n",
       "      <td>0</td>\n",
       "      <td>0</td>\n",
       "      <td>6</td>\n",
       "      <td>0</td>\n",
       "      <td>0</td>\n",
       "      <td>NaN</td>\n",
       "      <td>e62f6e78</td>\n",
       "    </tr>\n",
       "    <tr>\n",
       "      <th>3</th>\n",
       "      <td>ENG-Premier League</td>\n",
       "      <td>2223</td>\n",
       "      <td>2022-08-05 Crystal Palace-Arsenal</td>\n",
       "      <td>Arsenal</td>\n",
       "      <td>Bukayo Saka</td>\n",
       "      <td>7</td>\n",
       "      <td>eng ENG</td>\n",
       "      <td>RW</td>\n",
       "      <td>20-334</td>\n",
       "      <td>90</td>\n",
       "      <td>...</td>\n",
       "      <td>0</td>\n",
       "      <td>1</td>\n",
       "      <td>0</td>\n",
       "      <td>0</td>\n",
       "      <td>0</td>\n",
       "      <td>4</td>\n",
       "      <td>0</td>\n",
       "      <td>1</td>\n",
       "      <td>0.0</td>\n",
       "      <td>e62f6e78</td>\n",
       "    </tr>\n",
       "    <tr>\n",
       "      <th>4</th>\n",
       "      <td>ENG-Premier League</td>\n",
       "      <td>2223</td>\n",
       "      <td>2022-08-05 Crystal Palace-Arsenal</td>\n",
       "      <td>Arsenal</td>\n",
       "      <td>Eddie Nketiah</td>\n",
       "      <td>14</td>\n",
       "      <td>eng ENG</td>\n",
       "      <td>FW</td>\n",
       "      <td>23-067</td>\n",
       "      <td>8</td>\n",
       "      <td>...</td>\n",
       "      <td>0</td>\n",
       "      <td>0</td>\n",
       "      <td>0</td>\n",
       "      <td>0</td>\n",
       "      <td>0</td>\n",
       "      <td>1</td>\n",
       "      <td>0</td>\n",
       "      <td>0</td>\n",
       "      <td>NaN</td>\n",
       "      <td>e62f6e78</td>\n",
       "    </tr>\n",
       "  </tbody>\n",
       "</table>\n",
       "<p>5 rows × 27 columns</p>\n",
       "</div>"
      ],
      "text/plain": [
       "               league  season                               game     team  \\\n",
       "0  ENG-Premier League    2223  2022-08-05 Crystal Palace-Arsenal  Arsenal   \n",
       "1  ENG-Premier League    2223  2022-08-05 Crystal Palace-Arsenal  Arsenal   \n",
       "2  ENG-Premier League    2223  2022-08-05 Crystal Palace-Arsenal  Arsenal   \n",
       "3  ENG-Premier League    2223  2022-08-05 Crystal Palace-Arsenal  Arsenal   \n",
       "4  ENG-Premier League    2223  2022-08-05 Crystal Palace-Arsenal  Arsenal   \n",
       "\n",
       "                 player   #   Nation    Pos     Age  Min  ...  Int  TklW  \\\n",
       "0        Aaron Ramsdale   1  eng ENG     GK  24-083   90  ...    0     0   \n",
       "1  Albert Sambi Lokonga  23   be BEL  CM,RW  22-287    1  ...    0     0   \n",
       "2             Ben White   4  eng ENG     RB  24-301   90  ...    1     5   \n",
       "3           Bukayo Saka   7  eng ENG     RW  20-334   90  ...    0     1   \n",
       "4         Eddie Nketiah  14  eng ENG     FW  23-067    8  ...    0     0   \n",
       "\n",
       "   PKwon  PKcon  OG  Recov  Aerial Duels Won  Aerial Duels Lost  \\\n",
       "0      0      0   0      1                 1                  0   \n",
       "1      0      0   0      1                 0                  0   \n",
       "2      0      0   0      6                 0                  0   \n",
       "3      0      0   0      4                 0                  1   \n",
       "4      0      0   0      1                 0                  0   \n",
       "\n",
       "   Aerial Duels Won %   game_id  \n",
       "0               100.0  e62f6e78  \n",
       "1                 NaN  e62f6e78  \n",
       "2                 NaN  e62f6e78  \n",
       "3                 0.0  e62f6e78  \n",
       "4                 NaN  e62f6e78  \n",
       "\n",
       "[5 rows x 27 columns]"
      ]
     },
     "execution_count": 2,
     "metadata": {},
     "output_type": "execute_result"
    }
   ],
   "source": [
    "pms = pd.read_csv(\"PlayerBookings.csv\")\n",
    "pms.head()"
   ]
  },
  {
   "cell_type": "code",
   "execution_count": 3,
   "id": "8c8f3787",
   "metadata": {},
   "outputs": [
    {
     "data": {
      "text/plain": [
       "league                 object\n",
       "season                  int64\n",
       "game                   object\n",
       "team                   object\n",
       "player                 object\n",
       "#                       int64\n",
       "Nation                 object\n",
       "Pos                    object\n",
       "Age                    object\n",
       "Min                     int64\n",
       "CrdY                    int64\n",
       "CrdR                    int64\n",
       "2CrdY                   int64\n",
       "Fls                     int64\n",
       "Fld                     int64\n",
       "Off                     int64\n",
       "Crs                     int64\n",
       "Int                     int64\n",
       "TklW                    int64\n",
       "PKwon                   int64\n",
       "PKcon                   int64\n",
       "OG                      int64\n",
       "Recov                   int64\n",
       "Aerial Duels Won        int64\n",
       "Aerial Duels Lost       int64\n",
       "Aerial Duels Won %    float64\n",
       "game_id                object\n",
       "dtype: object"
      ]
     },
     "execution_count": 3,
     "metadata": {},
     "output_type": "execute_result"
    }
   ],
   "source": [
    "pms.dtypes"
   ]
  },
  {
   "cell_type": "code",
   "execution_count": 4,
   "id": "235b6c95",
   "metadata": {},
   "outputs": [],
   "source": []
  },
  {
   "cell_type": "code",
   "execution_count": 13,
   "id": "55aa3bdf",
   "metadata": {},
   "outputs": [
    {
     "data": {
      "text/plain": [
       "league           object\n",
       "season            int64\n",
       "game             object\n",
       "week            float64\n",
       "day              object\n",
       "date             object\n",
       "time             object\n",
       "home_team        object\n",
       "home_xg         float64\n",
       "score            object\n",
       "away_xg         float64\n",
       "away_team        object\n",
       "attendance      float64\n",
       "venue            object\n",
       "referee          object\n",
       "match_report     object\n",
       "notes            object\n",
       "game_id          object\n",
       "dtype: object"
      ]
     },
     "execution_count": 13,
     "metadata": {},
     "output_type": "execute_result"
    }
   ],
   "source": [
    "epl_schedule = pd.read_csv(\"MatchSchedule.csv\")\n",
    "epl_schedule.dtypes"
   ]
  },
  {
   "cell_type": "code",
   "execution_count": 14,
   "id": "f560cc19",
   "metadata": {},
   "outputs": [
    {
     "data": {
      "text/html": [
       "<div>\n",
       "<style scoped>\n",
       "    .dataframe tbody tr th:only-of-type {\n",
       "        vertical-align: middle;\n",
       "    }\n",
       "\n",
       "    .dataframe tbody tr th {\n",
       "        vertical-align: top;\n",
       "    }\n",
       "\n",
       "    .dataframe thead th {\n",
       "        text-align: right;\n",
       "    }\n",
       "</style>\n",
       "<table border=\"1\" class=\"dataframe\">\n",
       "  <thead>\n",
       "    <tr style=\"text-align: right;\">\n",
       "      <th></th>\n",
       "      <th>league</th>\n",
       "      <th>season</th>\n",
       "      <th>game</th>\n",
       "      <th>week</th>\n",
       "      <th>day</th>\n",
       "      <th>date</th>\n",
       "      <th>time</th>\n",
       "      <th>home_team</th>\n",
       "      <th>home_xg</th>\n",
       "      <th>score</th>\n",
       "      <th>away_xg</th>\n",
       "      <th>away_team</th>\n",
       "      <th>attendance</th>\n",
       "      <th>venue</th>\n",
       "      <th>referee</th>\n",
       "      <th>match_report</th>\n",
       "      <th>notes</th>\n",
       "      <th>game_id</th>\n",
       "    </tr>\n",
       "  </thead>\n",
       "  <tbody>\n",
       "    <tr>\n",
       "      <th>0</th>\n",
       "      <td>ENG-Premier League</td>\n",
       "      <td>2223</td>\n",
       "      <td>2022-08-05 Crystal Palace-Arsenal</td>\n",
       "      <td>1.0</td>\n",
       "      <td>Fri</td>\n",
       "      <td>2022-08-05</td>\n",
       "      <td>20:00</td>\n",
       "      <td>Crystal Palace</td>\n",
       "      <td>1.2</td>\n",
       "      <td>0–2</td>\n",
       "      <td>1.0</td>\n",
       "      <td>Arsenal</td>\n",
       "      <td>25286.0</td>\n",
       "      <td>Selhurst Park</td>\n",
       "      <td>Anthony Taylor</td>\n",
       "      <td>/en/matches/e62f6e78/Crystal-Palace-Arsenal-Au...</td>\n",
       "      <td>NaN</td>\n",
       "      <td>e62f6e78</td>\n",
       "    </tr>\n",
       "    <tr>\n",
       "      <th>1</th>\n",
       "      <td>ENG-Premier League</td>\n",
       "      <td>2223</td>\n",
       "      <td>2022-08-06 Bournemouth-Aston Villa</td>\n",
       "      <td>1.0</td>\n",
       "      <td>Sat</td>\n",
       "      <td>2022-08-06</td>\n",
       "      <td>15:00</td>\n",
       "      <td>Bournemouth</td>\n",
       "      <td>0.6</td>\n",
       "      <td>2–0</td>\n",
       "      <td>0.7</td>\n",
       "      <td>Aston Villa</td>\n",
       "      <td>11013.0</td>\n",
       "      <td>Vitality Stadium</td>\n",
       "      <td>Peter Bankes</td>\n",
       "      <td>/en/matches/877e3193/Bournemouth-Aston-Villa-A...</td>\n",
       "      <td>NaN</td>\n",
       "      <td>877e3193</td>\n",
       "    </tr>\n",
       "    <tr>\n",
       "      <th>2</th>\n",
       "      <td>ENG-Premier League</td>\n",
       "      <td>2223</td>\n",
       "      <td>2022-08-06 Everton-Chelsea</td>\n",
       "      <td>1.0</td>\n",
       "      <td>Sat</td>\n",
       "      <td>2022-08-06</td>\n",
       "      <td>17:30</td>\n",
       "      <td>Everton</td>\n",
       "      <td>0.7</td>\n",
       "      <td>0–1</td>\n",
       "      <td>1.5</td>\n",
       "      <td>Chelsea</td>\n",
       "      <td>39254.0</td>\n",
       "      <td>Goodison Park</td>\n",
       "      <td>Craig Pawson</td>\n",
       "      <td>/en/matches/3a917cee/Everton-Chelsea-August-6-...</td>\n",
       "      <td>NaN</td>\n",
       "      <td>3a917cee</td>\n",
       "    </tr>\n",
       "    <tr>\n",
       "      <th>3</th>\n",
       "      <td>ENG-Premier League</td>\n",
       "      <td>2223</td>\n",
       "      <td>2022-08-06 Fulham-Liverpool</td>\n",
       "      <td>1.0</td>\n",
       "      <td>Sat</td>\n",
       "      <td>2022-08-06</td>\n",
       "      <td>12:30</td>\n",
       "      <td>Fulham</td>\n",
       "      <td>1.2</td>\n",
       "      <td>2–2</td>\n",
       "      <td>1.2</td>\n",
       "      <td>Liverpool</td>\n",
       "      <td>22207.0</td>\n",
       "      <td>Craven Cottage</td>\n",
       "      <td>Andy Madley</td>\n",
       "      <td>/en/matches/6713c1dc/Fulham-Liverpool-August-6...</td>\n",
       "      <td>NaN</td>\n",
       "      <td>6713c1dc</td>\n",
       "    </tr>\n",
       "    <tr>\n",
       "      <th>4</th>\n",
       "      <td>ENG-Premier League</td>\n",
       "      <td>2223</td>\n",
       "      <td>2022-08-06 Leeds United-Wolves</td>\n",
       "      <td>1.0</td>\n",
       "      <td>Sat</td>\n",
       "      <td>2022-08-06</td>\n",
       "      <td>15:00</td>\n",
       "      <td>Leeds United</td>\n",
       "      <td>0.8</td>\n",
       "      <td>2–1</td>\n",
       "      <td>1.3</td>\n",
       "      <td>Wolves</td>\n",
       "      <td>36347.0</td>\n",
       "      <td>Elland Road</td>\n",
       "      <td>Robert Jones</td>\n",
       "      <td>/en/matches/82702941/Leeds-United-Wolverhampto...</td>\n",
       "      <td>NaN</td>\n",
       "      <td>82702941</td>\n",
       "    </tr>\n",
       "  </tbody>\n",
       "</table>\n",
       "</div>"
      ],
      "text/plain": [
       "               league  season                                game  week  day  \\\n",
       "0  ENG-Premier League    2223   2022-08-05 Crystal Palace-Arsenal   1.0  Fri   \n",
       "1  ENG-Premier League    2223  2022-08-06 Bournemouth-Aston Villa   1.0  Sat   \n",
       "2  ENG-Premier League    2223          2022-08-06 Everton-Chelsea   1.0  Sat   \n",
       "3  ENG-Premier League    2223         2022-08-06 Fulham-Liverpool   1.0  Sat   \n",
       "4  ENG-Premier League    2223      2022-08-06 Leeds United-Wolves   1.0  Sat   \n",
       "\n",
       "         date   time       home_team  home_xg score  away_xg    away_team  \\\n",
       "0  2022-08-05  20:00  Crystal Palace      1.2   0–2      1.0      Arsenal   \n",
       "1  2022-08-06  15:00     Bournemouth      0.6   2–0      0.7  Aston Villa   \n",
       "2  2022-08-06  17:30         Everton      0.7   0–1      1.5      Chelsea   \n",
       "3  2022-08-06  12:30          Fulham      1.2   2–2      1.2    Liverpool   \n",
       "4  2022-08-06  15:00    Leeds United      0.8   2–1      1.3       Wolves   \n",
       "\n",
       "   attendance             venue         referee  \\\n",
       "0     25286.0     Selhurst Park  Anthony Taylor   \n",
       "1     11013.0  Vitality Stadium    Peter Bankes   \n",
       "2     39254.0     Goodison Park    Craig Pawson   \n",
       "3     22207.0    Craven Cottage     Andy Madley   \n",
       "4     36347.0       Elland Road    Robert Jones   \n",
       "\n",
       "                                        match_report notes   game_id  \n",
       "0  /en/matches/e62f6e78/Crystal-Palace-Arsenal-Au...   NaN  e62f6e78  \n",
       "1  /en/matches/877e3193/Bournemouth-Aston-Villa-A...   NaN  877e3193  \n",
       "2  /en/matches/3a917cee/Everton-Chelsea-August-6-...   NaN  3a917cee  \n",
       "3  /en/matches/6713c1dc/Fulham-Liverpool-August-6...   NaN  6713c1dc  \n",
       "4  /en/matches/82702941/Leeds-United-Wolverhampto...   NaN  82702941  "
      ]
     },
     "execution_count": 14,
     "metadata": {},
     "output_type": "execute_result"
    }
   ],
   "source": [
    "epl_schedule.head()"
   ]
  },
  {
   "cell_type": "code",
   "execution_count": 15,
   "id": "d1e48811",
   "metadata": {},
   "outputs": [
    {
     "data": {
      "text/html": [
       "<div>\n",
       "<style scoped>\n",
       "    .dataframe tbody tr th:only-of-type {\n",
       "        vertical-align: middle;\n",
       "    }\n",
       "\n",
       "    .dataframe tbody tr th {\n",
       "        vertical-align: top;\n",
       "    }\n",
       "\n",
       "    .dataframe thead th {\n",
       "        text-align: right;\n",
       "    }\n",
       "</style>\n",
       "<table border=\"1\" class=\"dataframe\">\n",
       "  <thead>\n",
       "    <tr style=\"text-align: right;\">\n",
       "      <th></th>\n",
       "      <th>day</th>\n",
       "      <th>date</th>\n",
       "      <th>time</th>\n",
       "      <th>home_team</th>\n",
       "      <th>home_xg</th>\n",
       "      <th>score</th>\n",
       "      <th>away_xg</th>\n",
       "      <th>away_team</th>\n",
       "      <th>attendance</th>\n",
       "      <th>venue</th>\n",
       "      <th>referee</th>\n",
       "      <th>game_id</th>\n",
       "    </tr>\n",
       "  </thead>\n",
       "  <tbody>\n",
       "    <tr>\n",
       "      <th>0</th>\n",
       "      <td>Fri</td>\n",
       "      <td>2022-08-05</td>\n",
       "      <td>20:00</td>\n",
       "      <td>Crystal Palace</td>\n",
       "      <td>1.2</td>\n",
       "      <td>0–2</td>\n",
       "      <td>1.0</td>\n",
       "      <td>Arsenal</td>\n",
       "      <td>25286.0</td>\n",
       "      <td>Selhurst Park</td>\n",
       "      <td>Anthony Taylor</td>\n",
       "      <td>e62f6e78</td>\n",
       "    </tr>\n",
       "    <tr>\n",
       "      <th>1</th>\n",
       "      <td>Sat</td>\n",
       "      <td>2022-08-06</td>\n",
       "      <td>15:00</td>\n",
       "      <td>Bournemouth</td>\n",
       "      <td>0.6</td>\n",
       "      <td>2–0</td>\n",
       "      <td>0.7</td>\n",
       "      <td>Aston Villa</td>\n",
       "      <td>11013.0</td>\n",
       "      <td>Vitality Stadium</td>\n",
       "      <td>Peter Bankes</td>\n",
       "      <td>877e3193</td>\n",
       "    </tr>\n",
       "    <tr>\n",
       "      <th>2</th>\n",
       "      <td>Sat</td>\n",
       "      <td>2022-08-06</td>\n",
       "      <td>17:30</td>\n",
       "      <td>Everton</td>\n",
       "      <td>0.7</td>\n",
       "      <td>0–1</td>\n",
       "      <td>1.5</td>\n",
       "      <td>Chelsea</td>\n",
       "      <td>39254.0</td>\n",
       "      <td>Goodison Park</td>\n",
       "      <td>Craig Pawson</td>\n",
       "      <td>3a917cee</td>\n",
       "    </tr>\n",
       "    <tr>\n",
       "      <th>3</th>\n",
       "      <td>Sat</td>\n",
       "      <td>2022-08-06</td>\n",
       "      <td>12:30</td>\n",
       "      <td>Fulham</td>\n",
       "      <td>1.2</td>\n",
       "      <td>2–2</td>\n",
       "      <td>1.2</td>\n",
       "      <td>Liverpool</td>\n",
       "      <td>22207.0</td>\n",
       "      <td>Craven Cottage</td>\n",
       "      <td>Andy Madley</td>\n",
       "      <td>6713c1dc</td>\n",
       "    </tr>\n",
       "    <tr>\n",
       "      <th>4</th>\n",
       "      <td>Sat</td>\n",
       "      <td>2022-08-06</td>\n",
       "      <td>15:00</td>\n",
       "      <td>Leeds United</td>\n",
       "      <td>0.8</td>\n",
       "      <td>2–1</td>\n",
       "      <td>1.3</td>\n",
       "      <td>Wolves</td>\n",
       "      <td>36347.0</td>\n",
       "      <td>Elland Road</td>\n",
       "      <td>Robert Jones</td>\n",
       "      <td>82702941</td>\n",
       "    </tr>\n",
       "  </tbody>\n",
       "</table>\n",
       "</div>"
      ],
      "text/plain": [
       "   day        date   time       home_team  home_xg score  away_xg  \\\n",
       "0  Fri  2022-08-05  20:00  Crystal Palace      1.2   0–2      1.0   \n",
       "1  Sat  2022-08-06  15:00     Bournemouth      0.6   2–0      0.7   \n",
       "2  Sat  2022-08-06  17:30         Everton      0.7   0–1      1.5   \n",
       "3  Sat  2022-08-06  12:30          Fulham      1.2   2–2      1.2   \n",
       "4  Sat  2022-08-06  15:00    Leeds United      0.8   2–1      1.3   \n",
       "\n",
       "     away_team  attendance             venue         referee   game_id  \n",
       "0      Arsenal     25286.0     Selhurst Park  Anthony Taylor  e62f6e78  \n",
       "1  Aston Villa     11013.0  Vitality Stadium    Peter Bankes  877e3193  \n",
       "2      Chelsea     39254.0     Goodison Park    Craig Pawson  3a917cee  \n",
       "3    Liverpool     22207.0    Craven Cottage     Andy Madley  6713c1dc  \n",
       "4       Wolves     36347.0       Elland Road    Robert Jones  82702941  "
      ]
     },
     "execution_count": 15,
     "metadata": {},
     "output_type": "execute_result"
    }
   ],
   "source": [
    "epl_schedule.drop(['league', 'season', 'game', 'week', 'match_report', 'notes'], axis=1, inplace = True)\n",
    "epl_schedule.head()"
   ]
  },
  {
   "cell_type": "code",
   "execution_count": 18,
   "id": "b12145c6",
   "metadata": {},
   "outputs": [
    {
     "data": {
      "text/html": [
       "<div>\n",
       "<style scoped>\n",
       "    .dataframe tbody tr th:only-of-type {\n",
       "        vertical-align: middle;\n",
       "    }\n",
       "\n",
       "    .dataframe tbody tr th {\n",
       "        vertical-align: top;\n",
       "    }\n",
       "\n",
       "    .dataframe thead th {\n",
       "        text-align: right;\n",
       "    }\n",
       "</style>\n",
       "<table border=\"1\" class=\"dataframe\">\n",
       "  <thead>\n",
       "    <tr style=\"text-align: right;\">\n",
       "      <th></th>\n",
       "      <th>league</th>\n",
       "      <th>season</th>\n",
       "      <th>game</th>\n",
       "      <th>team</th>\n",
       "      <th>player</th>\n",
       "      <th>#</th>\n",
       "      <th>Nation</th>\n",
       "      <th>Pos</th>\n",
       "      <th>Age</th>\n",
       "      <th>Min</th>\n",
       "      <th>...</th>\n",
       "      <th>date</th>\n",
       "      <th>time</th>\n",
       "      <th>home_team</th>\n",
       "      <th>home_xg</th>\n",
       "      <th>score</th>\n",
       "      <th>away_xg</th>\n",
       "      <th>away_team</th>\n",
       "      <th>attendance</th>\n",
       "      <th>venue</th>\n",
       "      <th>referee</th>\n",
       "    </tr>\n",
       "  </thead>\n",
       "  <tbody>\n",
       "    <tr>\n",
       "      <th>0</th>\n",
       "      <td>ENG-Premier League</td>\n",
       "      <td>2223</td>\n",
       "      <td>2022-08-05 Crystal Palace-Arsenal</td>\n",
       "      <td>Arsenal</td>\n",
       "      <td>Aaron Ramsdale</td>\n",
       "      <td>1</td>\n",
       "      <td>eng ENG</td>\n",
       "      <td>GK</td>\n",
       "      <td>24-083</td>\n",
       "      <td>90</td>\n",
       "      <td>...</td>\n",
       "      <td>2022-08-05</td>\n",
       "      <td>20:00</td>\n",
       "      <td>Crystal Palace</td>\n",
       "      <td>1.2</td>\n",
       "      <td>0–2</td>\n",
       "      <td>1.0</td>\n",
       "      <td>Arsenal</td>\n",
       "      <td>25286.0</td>\n",
       "      <td>Selhurst Park</td>\n",
       "      <td>Anthony Taylor</td>\n",
       "    </tr>\n",
       "    <tr>\n",
       "      <th>1</th>\n",
       "      <td>ENG-Premier League</td>\n",
       "      <td>2223</td>\n",
       "      <td>2022-08-05 Crystal Palace-Arsenal</td>\n",
       "      <td>Arsenal</td>\n",
       "      <td>Albert Sambi Lokonga</td>\n",
       "      <td>23</td>\n",
       "      <td>be BEL</td>\n",
       "      <td>CM,RW</td>\n",
       "      <td>22-287</td>\n",
       "      <td>1</td>\n",
       "      <td>...</td>\n",
       "      <td>2022-08-05</td>\n",
       "      <td>20:00</td>\n",
       "      <td>Crystal Palace</td>\n",
       "      <td>1.2</td>\n",
       "      <td>0–2</td>\n",
       "      <td>1.0</td>\n",
       "      <td>Arsenal</td>\n",
       "      <td>25286.0</td>\n",
       "      <td>Selhurst Park</td>\n",
       "      <td>Anthony Taylor</td>\n",
       "    </tr>\n",
       "    <tr>\n",
       "      <th>2</th>\n",
       "      <td>ENG-Premier League</td>\n",
       "      <td>2223</td>\n",
       "      <td>2022-08-05 Crystal Palace-Arsenal</td>\n",
       "      <td>Arsenal</td>\n",
       "      <td>Ben White</td>\n",
       "      <td>4</td>\n",
       "      <td>eng ENG</td>\n",
       "      <td>RB</td>\n",
       "      <td>24-301</td>\n",
       "      <td>90</td>\n",
       "      <td>...</td>\n",
       "      <td>2022-08-05</td>\n",
       "      <td>20:00</td>\n",
       "      <td>Crystal Palace</td>\n",
       "      <td>1.2</td>\n",
       "      <td>0–2</td>\n",
       "      <td>1.0</td>\n",
       "      <td>Arsenal</td>\n",
       "      <td>25286.0</td>\n",
       "      <td>Selhurst Park</td>\n",
       "      <td>Anthony Taylor</td>\n",
       "    </tr>\n",
       "    <tr>\n",
       "      <th>3</th>\n",
       "      <td>ENG-Premier League</td>\n",
       "      <td>2223</td>\n",
       "      <td>2022-08-05 Crystal Palace-Arsenal</td>\n",
       "      <td>Arsenal</td>\n",
       "      <td>Bukayo Saka</td>\n",
       "      <td>7</td>\n",
       "      <td>eng ENG</td>\n",
       "      <td>RW</td>\n",
       "      <td>20-334</td>\n",
       "      <td>90</td>\n",
       "      <td>...</td>\n",
       "      <td>2022-08-05</td>\n",
       "      <td>20:00</td>\n",
       "      <td>Crystal Palace</td>\n",
       "      <td>1.2</td>\n",
       "      <td>0–2</td>\n",
       "      <td>1.0</td>\n",
       "      <td>Arsenal</td>\n",
       "      <td>25286.0</td>\n",
       "      <td>Selhurst Park</td>\n",
       "      <td>Anthony Taylor</td>\n",
       "    </tr>\n",
       "    <tr>\n",
       "      <th>4</th>\n",
       "      <td>ENG-Premier League</td>\n",
       "      <td>2223</td>\n",
       "      <td>2022-08-05 Crystal Palace-Arsenal</td>\n",
       "      <td>Arsenal</td>\n",
       "      <td>Eddie Nketiah</td>\n",
       "      <td>14</td>\n",
       "      <td>eng ENG</td>\n",
       "      <td>FW</td>\n",
       "      <td>23-067</td>\n",
       "      <td>8</td>\n",
       "      <td>...</td>\n",
       "      <td>2022-08-05</td>\n",
       "      <td>20:00</td>\n",
       "      <td>Crystal Palace</td>\n",
       "      <td>1.2</td>\n",
       "      <td>0–2</td>\n",
       "      <td>1.0</td>\n",
       "      <td>Arsenal</td>\n",
       "      <td>25286.0</td>\n",
       "      <td>Selhurst Park</td>\n",
       "      <td>Anthony Taylor</td>\n",
       "    </tr>\n",
       "    <tr>\n",
       "      <th>...</th>\n",
       "      <td>...</td>\n",
       "      <td>...</td>\n",
       "      <td>...</td>\n",
       "      <td>...</td>\n",
       "      <td>...</td>\n",
       "      <td>...</td>\n",
       "      <td>...</td>\n",
       "      <td>...</td>\n",
       "      <td>...</td>\n",
       "      <td>...</td>\n",
       "      <td>...</td>\n",
       "      <td>...</td>\n",
       "      <td>...</td>\n",
       "      <td>...</td>\n",
       "      <td>...</td>\n",
       "      <td>...</td>\n",
       "      <td>...</td>\n",
       "      <td>...</td>\n",
       "      <td>...</td>\n",
       "      <td>...</td>\n",
       "      <td>...</td>\n",
       "    </tr>\n",
       "    <tr>\n",
       "      <th>5613</th>\n",
       "      <td>ENG-Premier League</td>\n",
       "      <td>2223</td>\n",
       "      <td>2023-01-19 Manchester City-Tottenham</td>\n",
       "      <td>Tottenham Hotspur</td>\n",
       "      <td>Richarlison</td>\n",
       "      <td>9</td>\n",
       "      <td>br BRA</td>\n",
       "      <td>AM</td>\n",
       "      <td>25-254</td>\n",
       "      <td>13</td>\n",
       "      <td>...</td>\n",
       "      <td>2023-01-19</td>\n",
       "      <td>20:00</td>\n",
       "      <td>Manchester City</td>\n",
       "      <td>2.3</td>\n",
       "      <td>4–2</td>\n",
       "      <td>0.8</td>\n",
       "      <td>Tottenham</td>\n",
       "      <td>53088.0</td>\n",
       "      <td>Etihad Stadium</td>\n",
       "      <td>Simon Hooper</td>\n",
       "    </tr>\n",
       "    <tr>\n",
       "      <th>5614</th>\n",
       "      <td>ENG-Premier League</td>\n",
       "      <td>2223</td>\n",
       "      <td>2023-01-19 Manchester City-Tottenham</td>\n",
       "      <td>Tottenham Hotspur</td>\n",
       "      <td>Rodrigo Bentancur</td>\n",
       "      <td>30</td>\n",
       "      <td>uy URU</td>\n",
       "      <td>CM</td>\n",
       "      <td>25-208</td>\n",
       "      <td>74</td>\n",
       "      <td>...</td>\n",
       "      <td>2023-01-19</td>\n",
       "      <td>20:00</td>\n",
       "      <td>Manchester City</td>\n",
       "      <td>2.3</td>\n",
       "      <td>4–2</td>\n",
       "      <td>0.8</td>\n",
       "      <td>Tottenham</td>\n",
       "      <td>53088.0</td>\n",
       "      <td>Etihad Stadium</td>\n",
       "      <td>Simon Hooper</td>\n",
       "    </tr>\n",
       "    <tr>\n",
       "      <th>5615</th>\n",
       "      <td>ENG-Premier League</td>\n",
       "      <td>2223</td>\n",
       "      <td>2023-01-19 Manchester City-Tottenham</td>\n",
       "      <td>Tottenham Hotspur</td>\n",
       "      <td>Ryan Sessegnon</td>\n",
       "      <td>19</td>\n",
       "      <td>eng ENG</td>\n",
       "      <td>WB</td>\n",
       "      <td>22-246</td>\n",
       "      <td>22</td>\n",
       "      <td>...</td>\n",
       "      <td>2023-01-19</td>\n",
       "      <td>20:00</td>\n",
       "      <td>Manchester City</td>\n",
       "      <td>2.3</td>\n",
       "      <td>4–2</td>\n",
       "      <td>0.8</td>\n",
       "      <td>Tottenham</td>\n",
       "      <td>53088.0</td>\n",
       "      <td>Etihad Stadium</td>\n",
       "      <td>Simon Hooper</td>\n",
       "    </tr>\n",
       "    <tr>\n",
       "      <th>5616</th>\n",
       "      <td>ENG-Premier League</td>\n",
       "      <td>2223</td>\n",
       "      <td>2023-01-19 Manchester City-Tottenham</td>\n",
       "      <td>Tottenham Hotspur</td>\n",
       "      <td>Son Heung-min</td>\n",
       "      <td>7</td>\n",
       "      <td>kr KOR</td>\n",
       "      <td>AM</td>\n",
       "      <td>30-195</td>\n",
       "      <td>90</td>\n",
       "      <td>...</td>\n",
       "      <td>2023-01-19</td>\n",
       "      <td>20:00</td>\n",
       "      <td>Manchester City</td>\n",
       "      <td>2.3</td>\n",
       "      <td>4–2</td>\n",
       "      <td>0.8</td>\n",
       "      <td>Tottenham</td>\n",
       "      <td>53088.0</td>\n",
       "      <td>Etihad Stadium</td>\n",
       "      <td>Simon Hooper</td>\n",
       "    </tr>\n",
       "    <tr>\n",
       "      <th>5617</th>\n",
       "      <td>ENG-Premier League</td>\n",
       "      <td>2223</td>\n",
       "      <td>2023-01-19 Manchester City-Tottenham</td>\n",
       "      <td>Tottenham Hotspur</td>\n",
       "      <td>Yves Bissouma</td>\n",
       "      <td>38</td>\n",
       "      <td>ml MLI</td>\n",
       "      <td>CM</td>\n",
       "      <td>26-142</td>\n",
       "      <td>16</td>\n",
       "      <td>...</td>\n",
       "      <td>2023-01-19</td>\n",
       "      <td>20:00</td>\n",
       "      <td>Manchester City</td>\n",
       "      <td>2.3</td>\n",
       "      <td>4–2</td>\n",
       "      <td>0.8</td>\n",
       "      <td>Tottenham</td>\n",
       "      <td>53088.0</td>\n",
       "      <td>Etihad Stadium</td>\n",
       "      <td>Simon Hooper</td>\n",
       "    </tr>\n",
       "  </tbody>\n",
       "</table>\n",
       "<p>5618 rows × 38 columns</p>\n",
       "</div>"
      ],
      "text/plain": [
       "                  league  season                                  game  \\\n",
       "0     ENG-Premier League    2223     2022-08-05 Crystal Palace-Arsenal   \n",
       "1     ENG-Premier League    2223     2022-08-05 Crystal Palace-Arsenal   \n",
       "2     ENG-Premier League    2223     2022-08-05 Crystal Palace-Arsenal   \n",
       "3     ENG-Premier League    2223     2022-08-05 Crystal Palace-Arsenal   \n",
       "4     ENG-Premier League    2223     2022-08-05 Crystal Palace-Arsenal   \n",
       "...                  ...     ...                                   ...   \n",
       "5613  ENG-Premier League    2223  2023-01-19 Manchester City-Tottenham   \n",
       "5614  ENG-Premier League    2223  2023-01-19 Manchester City-Tottenham   \n",
       "5615  ENG-Premier League    2223  2023-01-19 Manchester City-Tottenham   \n",
       "5616  ENG-Premier League    2223  2023-01-19 Manchester City-Tottenham   \n",
       "5617  ENG-Premier League    2223  2023-01-19 Manchester City-Tottenham   \n",
       "\n",
       "                   team                player   #   Nation    Pos     Age  \\\n",
       "0               Arsenal        Aaron Ramsdale   1  eng ENG     GK  24-083   \n",
       "1               Arsenal  Albert Sambi Lokonga  23   be BEL  CM,RW  22-287   \n",
       "2               Arsenal             Ben White   4  eng ENG     RB  24-301   \n",
       "3               Arsenal           Bukayo Saka   7  eng ENG     RW  20-334   \n",
       "4               Arsenal         Eddie Nketiah  14  eng ENG     FW  23-067   \n",
       "...                 ...                   ...  ..      ...    ...     ...   \n",
       "5613  Tottenham Hotspur           Richarlison   9   br BRA     AM  25-254   \n",
       "5614  Tottenham Hotspur     Rodrigo Bentancur  30   uy URU     CM  25-208   \n",
       "5615  Tottenham Hotspur        Ryan Sessegnon  19  eng ENG     WB  22-246   \n",
       "5616  Tottenham Hotspur         Son Heung-min   7   kr KOR     AM  30-195   \n",
       "5617  Tottenham Hotspur         Yves Bissouma  38   ml MLI     CM  26-142   \n",
       "\n",
       "      Min  ...        date   time        home_team  home_xg  score  away_xg  \\\n",
       "0      90  ...  2022-08-05  20:00   Crystal Palace      1.2    0–2      1.0   \n",
       "1       1  ...  2022-08-05  20:00   Crystal Palace      1.2    0–2      1.0   \n",
       "2      90  ...  2022-08-05  20:00   Crystal Palace      1.2    0–2      1.0   \n",
       "3      90  ...  2022-08-05  20:00   Crystal Palace      1.2    0–2      1.0   \n",
       "4       8  ...  2022-08-05  20:00   Crystal Palace      1.2    0–2      1.0   \n",
       "...   ...  ...         ...    ...              ...      ...    ...      ...   \n",
       "5613   13  ...  2023-01-19  20:00  Manchester City      2.3    4–2      0.8   \n",
       "5614   74  ...  2023-01-19  20:00  Manchester City      2.3    4–2      0.8   \n",
       "5615   22  ...  2023-01-19  20:00  Manchester City      2.3    4–2      0.8   \n",
       "5616   90  ...  2023-01-19  20:00  Manchester City      2.3    4–2      0.8   \n",
       "5617   16  ...  2023-01-19  20:00  Manchester City      2.3    4–2      0.8   \n",
       "\n",
       "      away_team  attendance           venue         referee  \n",
       "0       Arsenal     25286.0   Selhurst Park  Anthony Taylor  \n",
       "1       Arsenal     25286.0   Selhurst Park  Anthony Taylor  \n",
       "2       Arsenal     25286.0   Selhurst Park  Anthony Taylor  \n",
       "3       Arsenal     25286.0   Selhurst Park  Anthony Taylor  \n",
       "4       Arsenal     25286.0   Selhurst Park  Anthony Taylor  \n",
       "...         ...         ...             ...             ...  \n",
       "5613  Tottenham     53088.0  Etihad Stadium    Simon Hooper  \n",
       "5614  Tottenham     53088.0  Etihad Stadium    Simon Hooper  \n",
       "5615  Tottenham     53088.0  Etihad Stadium    Simon Hooper  \n",
       "5616  Tottenham     53088.0  Etihad Stadium    Simon Hooper  \n",
       "5617  Tottenham     53088.0  Etihad Stadium    Simon Hooper  \n",
       "\n",
       "[5618 rows x 38 columns]"
      ]
     },
     "execution_count": 18,
     "metadata": {},
     "output_type": "execute_result"
    }
   ],
   "source": [
    "merge = pd.merge(pms, epl_schedule, on = 'game_id', how = 'left')\n",
    "merge"
   ]
  },
  {
   "cell_type": "code",
   "execution_count": 21,
   "id": "4255c87f",
   "metadata": {},
   "outputs": [
    {
     "data": {
      "text/html": [
       "<div>\n",
       "<style scoped>\n",
       "    .dataframe tbody tr th:only-of-type {\n",
       "        vertical-align: middle;\n",
       "    }\n",
       "\n",
       "    .dataframe tbody tr th {\n",
       "        vertical-align: top;\n",
       "    }\n",
       "\n",
       "    .dataframe thead th {\n",
       "        text-align: right;\n",
       "    }\n",
       "</style>\n",
       "<table border=\"1\" class=\"dataframe\">\n",
       "  <thead>\n",
       "    <tr style=\"text-align: right;\">\n",
       "      <th></th>\n",
       "      <th>league</th>\n",
       "      <th>season</th>\n",
       "      <th>game</th>\n",
       "      <th>team</th>\n",
       "      <th>player</th>\n",
       "      <th>#</th>\n",
       "      <th>Nation</th>\n",
       "      <th>Pos</th>\n",
       "      <th>Age</th>\n",
       "      <th>Min</th>\n",
       "      <th>...</th>\n",
       "      <th>date</th>\n",
       "      <th>time</th>\n",
       "      <th>home_team</th>\n",
       "      <th>home_xg</th>\n",
       "      <th>score</th>\n",
       "      <th>away_xg</th>\n",
       "      <th>away_team</th>\n",
       "      <th>attendance</th>\n",
       "      <th>venue</th>\n",
       "      <th>referee</th>\n",
       "    </tr>\n",
       "  </thead>\n",
       "  <tbody>\n",
       "    <tr>\n",
       "      <th>0</th>\n",
       "      <td>ENG-Premier League</td>\n",
       "      <td>2223</td>\n",
       "      <td>2022-08-05 Crystal Palace-Arsenal</td>\n",
       "      <td>Arsenal</td>\n",
       "      <td>Aaron Ramsdale</td>\n",
       "      <td>1</td>\n",
       "      <td>eng ENG</td>\n",
       "      <td>GK</td>\n",
       "      <td>24-083</td>\n",
       "      <td>90</td>\n",
       "      <td>...</td>\n",
       "      <td>2022-08-05</td>\n",
       "      <td>20:00</td>\n",
       "      <td>Crystal Palace</td>\n",
       "      <td>1.2</td>\n",
       "      <td>0–2</td>\n",
       "      <td>1.0</td>\n",
       "      <td>Arsenal</td>\n",
       "      <td>25286.0</td>\n",
       "      <td>Selhurst Park</td>\n",
       "      <td>Anthony Taylor</td>\n",
       "    </tr>\n",
       "    <tr>\n",
       "      <th>1</th>\n",
       "      <td>ENG-Premier League</td>\n",
       "      <td>2223</td>\n",
       "      <td>2022-08-05 Crystal Palace-Arsenal</td>\n",
       "      <td>Arsenal</td>\n",
       "      <td>Albert Sambi Lokonga</td>\n",
       "      <td>23</td>\n",
       "      <td>be BEL</td>\n",
       "      <td>CM,RW</td>\n",
       "      <td>22-287</td>\n",
       "      <td>1</td>\n",
       "      <td>...</td>\n",
       "      <td>2022-08-05</td>\n",
       "      <td>20:00</td>\n",
       "      <td>Crystal Palace</td>\n",
       "      <td>1.2</td>\n",
       "      <td>0–2</td>\n",
       "      <td>1.0</td>\n",
       "      <td>Arsenal</td>\n",
       "      <td>25286.0</td>\n",
       "      <td>Selhurst Park</td>\n",
       "      <td>Anthony Taylor</td>\n",
       "    </tr>\n",
       "    <tr>\n",
       "      <th>2</th>\n",
       "      <td>ENG-Premier League</td>\n",
       "      <td>2223</td>\n",
       "      <td>2022-08-05 Crystal Palace-Arsenal</td>\n",
       "      <td>Arsenal</td>\n",
       "      <td>Ben White</td>\n",
       "      <td>4</td>\n",
       "      <td>eng ENG</td>\n",
       "      <td>RB</td>\n",
       "      <td>24-301</td>\n",
       "      <td>90</td>\n",
       "      <td>...</td>\n",
       "      <td>2022-08-05</td>\n",
       "      <td>20:00</td>\n",
       "      <td>Crystal Palace</td>\n",
       "      <td>1.2</td>\n",
       "      <td>0–2</td>\n",
       "      <td>1.0</td>\n",
       "      <td>Arsenal</td>\n",
       "      <td>25286.0</td>\n",
       "      <td>Selhurst Park</td>\n",
       "      <td>Anthony Taylor</td>\n",
       "    </tr>\n",
       "    <tr>\n",
       "      <th>3</th>\n",
       "      <td>ENG-Premier League</td>\n",
       "      <td>2223</td>\n",
       "      <td>2022-08-05 Crystal Palace-Arsenal</td>\n",
       "      <td>Arsenal</td>\n",
       "      <td>Bukayo Saka</td>\n",
       "      <td>7</td>\n",
       "      <td>eng ENG</td>\n",
       "      <td>RW</td>\n",
       "      <td>20-334</td>\n",
       "      <td>90</td>\n",
       "      <td>...</td>\n",
       "      <td>2022-08-05</td>\n",
       "      <td>20:00</td>\n",
       "      <td>Crystal Palace</td>\n",
       "      <td>1.2</td>\n",
       "      <td>0–2</td>\n",
       "      <td>1.0</td>\n",
       "      <td>Arsenal</td>\n",
       "      <td>25286.0</td>\n",
       "      <td>Selhurst Park</td>\n",
       "      <td>Anthony Taylor</td>\n",
       "    </tr>\n",
       "    <tr>\n",
       "      <th>4</th>\n",
       "      <td>ENG-Premier League</td>\n",
       "      <td>2223</td>\n",
       "      <td>2022-08-05 Crystal Palace-Arsenal</td>\n",
       "      <td>Arsenal</td>\n",
       "      <td>Eddie Nketiah</td>\n",
       "      <td>14</td>\n",
       "      <td>eng ENG</td>\n",
       "      <td>FW</td>\n",
       "      <td>23-067</td>\n",
       "      <td>8</td>\n",
       "      <td>...</td>\n",
       "      <td>2022-08-05</td>\n",
       "      <td>20:00</td>\n",
       "      <td>Crystal Palace</td>\n",
       "      <td>1.2</td>\n",
       "      <td>0–2</td>\n",
       "      <td>1.0</td>\n",
       "      <td>Arsenal</td>\n",
       "      <td>25286.0</td>\n",
       "      <td>Selhurst Park</td>\n",
       "      <td>Anthony Taylor</td>\n",
       "    </tr>\n",
       "  </tbody>\n",
       "</table>\n",
       "<p>5 rows × 38 columns</p>\n",
       "</div>"
      ],
      "text/plain": [
       "               league  season                               game     team  \\\n",
       "0  ENG-Premier League    2223  2022-08-05 Crystal Palace-Arsenal  Arsenal   \n",
       "1  ENG-Premier League    2223  2022-08-05 Crystal Palace-Arsenal  Arsenal   \n",
       "2  ENG-Premier League    2223  2022-08-05 Crystal Palace-Arsenal  Arsenal   \n",
       "3  ENG-Premier League    2223  2022-08-05 Crystal Palace-Arsenal  Arsenal   \n",
       "4  ENG-Premier League    2223  2022-08-05 Crystal Palace-Arsenal  Arsenal   \n",
       "\n",
       "                 player   #   Nation    Pos     Age  Min  ...        date  \\\n",
       "0        Aaron Ramsdale   1  eng ENG     GK  24-083   90  ...  2022-08-05   \n",
       "1  Albert Sambi Lokonga  23   be BEL  CM,RW  22-287    1  ...  2022-08-05   \n",
       "2             Ben White   4  eng ENG     RB  24-301   90  ...  2022-08-05   \n",
       "3           Bukayo Saka   7  eng ENG     RW  20-334   90  ...  2022-08-05   \n",
       "4         Eddie Nketiah  14  eng ENG     FW  23-067    8  ...  2022-08-05   \n",
       "\n",
       "    time       home_team  home_xg  score  away_xg  away_team  attendance  \\\n",
       "0  20:00  Crystal Palace      1.2    0–2      1.0    Arsenal     25286.0   \n",
       "1  20:00  Crystal Palace      1.2    0–2      1.0    Arsenal     25286.0   \n",
       "2  20:00  Crystal Palace      1.2    0–2      1.0    Arsenal     25286.0   \n",
       "3  20:00  Crystal Palace      1.2    0–2      1.0    Arsenal     25286.0   \n",
       "4  20:00  Crystal Palace      1.2    0–2      1.0    Arsenal     25286.0   \n",
       "\n",
       "           venue         referee  \n",
       "0  Selhurst Park  Anthony Taylor  \n",
       "1  Selhurst Park  Anthony Taylor  \n",
       "2  Selhurst Park  Anthony Taylor  \n",
       "3  Selhurst Park  Anthony Taylor  \n",
       "4  Selhurst Park  Anthony Taylor  \n",
       "\n",
       "[5 rows x 38 columns]"
      ]
     },
     "execution_count": 21,
     "metadata": {},
     "output_type": "execute_result"
    }
   ],
   "source": [
    "merge.head()"
   ]
  },
  {
   "cell_type": "code",
   "execution_count": 22,
   "id": "99446f4c",
   "metadata": {},
   "outputs": [
    {
     "data": {
      "text/plain": [
       "league                 object\n",
       "season                  int64\n",
       "game                   object\n",
       "team                   object\n",
       "player                 object\n",
       "#                       int64\n",
       "Nation                 object\n",
       "Pos                    object\n",
       "Age                    object\n",
       "Min                     int64\n",
       "CrdY                    int64\n",
       "CrdR                    int64\n",
       "2CrdY                   int64\n",
       "Fls                     int64\n",
       "Fld                     int64\n",
       "Off                     int64\n",
       "Crs                     int64\n",
       "Int                     int64\n",
       "TklW                    int64\n",
       "PKwon                   int64\n",
       "PKcon                   int64\n",
       "OG                      int64\n",
       "Recov                   int64\n",
       "Aerial Duels Won        int64\n",
       "Aerial Duels Lost       int64\n",
       "Aerial Duels Won %    float64\n",
       "game_id                object\n",
       "day                    object\n",
       "date                   object\n",
       "time                   object\n",
       "home_team              object\n",
       "home_xg               float64\n",
       "score                  object\n",
       "away_xg               float64\n",
       "away_team              object\n",
       "attendance            float64\n",
       "venue                  object\n",
       "referee                object\n",
       "dtype: object"
      ]
     },
     "execution_count": 22,
     "metadata": {},
     "output_type": "execute_result"
    }
   ],
   "source": [
    "merge.dtypes\n"
   ]
  },
  {
   "cell_type": "code",
   "execution_count": 23,
   "id": "e77e49ab",
   "metadata": {},
   "outputs": [
    {
     "data": {
      "text/html": [
       "<div>\n",
       "<style scoped>\n",
       "    .dataframe tbody tr th:only-of-type {\n",
       "        vertical-align: middle;\n",
       "    }\n",
       "\n",
       "    .dataframe tbody tr th {\n",
       "        vertical-align: top;\n",
       "    }\n",
       "\n",
       "    .dataframe thead th {\n",
       "        text-align: right;\n",
       "    }\n",
       "</style>\n",
       "<table border=\"1\" class=\"dataframe\">\n",
       "  <thead>\n",
       "    <tr style=\"text-align: right;\">\n",
       "      <th></th>\n",
       "      <th>team</th>\n",
       "      <th>player</th>\n",
       "      <th>Nation</th>\n",
       "      <th>Pos</th>\n",
       "      <th>Age</th>\n",
       "      <th>Min</th>\n",
       "      <th>CrdY</th>\n",
       "      <th>CrdR</th>\n",
       "      <th>2CrdY</th>\n",
       "      <th>Fls</th>\n",
       "      <th>...</th>\n",
       "      <th>date</th>\n",
       "      <th>time</th>\n",
       "      <th>home_team</th>\n",
       "      <th>home_xg</th>\n",
       "      <th>score</th>\n",
       "      <th>away_xg</th>\n",
       "      <th>away_team</th>\n",
       "      <th>attendance</th>\n",
       "      <th>venue</th>\n",
       "      <th>referee</th>\n",
       "    </tr>\n",
       "  </thead>\n",
       "  <tbody>\n",
       "    <tr>\n",
       "      <th>0</th>\n",
       "      <td>Arsenal</td>\n",
       "      <td>Aaron Ramsdale</td>\n",
       "      <td>eng ENG</td>\n",
       "      <td>GK</td>\n",
       "      <td>24-083</td>\n",
       "      <td>90</td>\n",
       "      <td>0</td>\n",
       "      <td>0</td>\n",
       "      <td>0</td>\n",
       "      <td>0</td>\n",
       "      <td>...</td>\n",
       "      <td>2022-08-05</td>\n",
       "      <td>20:00</td>\n",
       "      <td>Crystal Palace</td>\n",
       "      <td>1.2</td>\n",
       "      <td>0–2</td>\n",
       "      <td>1.0</td>\n",
       "      <td>Arsenal</td>\n",
       "      <td>25286.0</td>\n",
       "      <td>Selhurst Park</td>\n",
       "      <td>Anthony Taylor</td>\n",
       "    </tr>\n",
       "    <tr>\n",
       "      <th>1</th>\n",
       "      <td>Arsenal</td>\n",
       "      <td>Albert Sambi Lokonga</td>\n",
       "      <td>be BEL</td>\n",
       "      <td>CM,RW</td>\n",
       "      <td>22-287</td>\n",
       "      <td>1</td>\n",
       "      <td>0</td>\n",
       "      <td>0</td>\n",
       "      <td>0</td>\n",
       "      <td>0</td>\n",
       "      <td>...</td>\n",
       "      <td>2022-08-05</td>\n",
       "      <td>20:00</td>\n",
       "      <td>Crystal Palace</td>\n",
       "      <td>1.2</td>\n",
       "      <td>0–2</td>\n",
       "      <td>1.0</td>\n",
       "      <td>Arsenal</td>\n",
       "      <td>25286.0</td>\n",
       "      <td>Selhurst Park</td>\n",
       "      <td>Anthony Taylor</td>\n",
       "    </tr>\n",
       "    <tr>\n",
       "      <th>2</th>\n",
       "      <td>Arsenal</td>\n",
       "      <td>Ben White</td>\n",
       "      <td>eng ENG</td>\n",
       "      <td>RB</td>\n",
       "      <td>24-301</td>\n",
       "      <td>90</td>\n",
       "      <td>1</td>\n",
       "      <td>0</td>\n",
       "      <td>0</td>\n",
       "      <td>2</td>\n",
       "      <td>...</td>\n",
       "      <td>2022-08-05</td>\n",
       "      <td>20:00</td>\n",
       "      <td>Crystal Palace</td>\n",
       "      <td>1.2</td>\n",
       "      <td>0–2</td>\n",
       "      <td>1.0</td>\n",
       "      <td>Arsenal</td>\n",
       "      <td>25286.0</td>\n",
       "      <td>Selhurst Park</td>\n",
       "      <td>Anthony Taylor</td>\n",
       "    </tr>\n",
       "    <tr>\n",
       "      <th>3</th>\n",
       "      <td>Arsenal</td>\n",
       "      <td>Bukayo Saka</td>\n",
       "      <td>eng ENG</td>\n",
       "      <td>RW</td>\n",
       "      <td>20-334</td>\n",
       "      <td>90</td>\n",
       "      <td>0</td>\n",
       "      <td>0</td>\n",
       "      <td>0</td>\n",
       "      <td>2</td>\n",
       "      <td>...</td>\n",
       "      <td>2022-08-05</td>\n",
       "      <td>20:00</td>\n",
       "      <td>Crystal Palace</td>\n",
       "      <td>1.2</td>\n",
       "      <td>0–2</td>\n",
       "      <td>1.0</td>\n",
       "      <td>Arsenal</td>\n",
       "      <td>25286.0</td>\n",
       "      <td>Selhurst Park</td>\n",
       "      <td>Anthony Taylor</td>\n",
       "    </tr>\n",
       "    <tr>\n",
       "      <th>4</th>\n",
       "      <td>Arsenal</td>\n",
       "      <td>Eddie Nketiah</td>\n",
       "      <td>eng ENG</td>\n",
       "      <td>FW</td>\n",
       "      <td>23-067</td>\n",
       "      <td>8</td>\n",
       "      <td>0</td>\n",
       "      <td>0</td>\n",
       "      <td>0</td>\n",
       "      <td>1</td>\n",
       "      <td>...</td>\n",
       "      <td>2022-08-05</td>\n",
       "      <td>20:00</td>\n",
       "      <td>Crystal Palace</td>\n",
       "      <td>1.2</td>\n",
       "      <td>0–2</td>\n",
       "      <td>1.0</td>\n",
       "      <td>Arsenal</td>\n",
       "      <td>25286.0</td>\n",
       "      <td>Selhurst Park</td>\n",
       "      <td>Anthony Taylor</td>\n",
       "    </tr>\n",
       "  </tbody>\n",
       "</table>\n",
       "<p>5 rows × 28 columns</p>\n",
       "</div>"
      ],
      "text/plain": [
       "      team                player   Nation    Pos     Age  Min  CrdY  CrdR  \\\n",
       "0  Arsenal        Aaron Ramsdale  eng ENG     GK  24-083   90     0     0   \n",
       "1  Arsenal  Albert Sambi Lokonga   be BEL  CM,RW  22-287    1     0     0   \n",
       "2  Arsenal             Ben White  eng ENG     RB  24-301   90     1     0   \n",
       "3  Arsenal           Bukayo Saka  eng ENG     RW  20-334   90     0     0   \n",
       "4  Arsenal         Eddie Nketiah  eng ENG     FW  23-067    8     0     0   \n",
       "\n",
       "   2CrdY  Fls  ...        date   time       home_team  home_xg  score  \\\n",
       "0      0    0  ...  2022-08-05  20:00  Crystal Palace      1.2    0–2   \n",
       "1      0    0  ...  2022-08-05  20:00  Crystal Palace      1.2    0–2   \n",
       "2      0    2  ...  2022-08-05  20:00  Crystal Palace      1.2    0–2   \n",
       "3      0    2  ...  2022-08-05  20:00  Crystal Palace      1.2    0–2   \n",
       "4      0    1  ...  2022-08-05  20:00  Crystal Palace      1.2    0–2   \n",
       "\n",
       "   away_xg away_team attendance          venue         referee  \n",
       "0      1.0   Arsenal    25286.0  Selhurst Park  Anthony Taylor  \n",
       "1      1.0   Arsenal    25286.0  Selhurst Park  Anthony Taylor  \n",
       "2      1.0   Arsenal    25286.0  Selhurst Park  Anthony Taylor  \n",
       "3      1.0   Arsenal    25286.0  Selhurst Park  Anthony Taylor  \n",
       "4      1.0   Arsenal    25286.0  Selhurst Park  Anthony Taylor  \n",
       "\n",
       "[5 rows x 28 columns]"
      ]
     },
     "execution_count": 23,
     "metadata": {},
     "output_type": "execute_result"
    }
   ],
   "source": [
    "merge.drop(['league', 'season', 'game', '#', 'Off', 'Crs', 'Int', 'PKwon', 'OG', 'Recov'], axis=1, inplace = True)\n",
    "merge.head()"
   ]
  },
  {
   "cell_type": "code",
   "execution_count": 24,
   "id": "a09b66b2",
   "metadata": {},
   "outputs": [
    {
     "data": {
      "text/html": [
       "<div>\n",
       "<style scoped>\n",
       "    .dataframe tbody tr th:only-of-type {\n",
       "        vertical-align: middle;\n",
       "    }\n",
       "\n",
       "    .dataframe tbody tr th {\n",
       "        vertical-align: top;\n",
       "    }\n",
       "\n",
       "    .dataframe thead th {\n",
       "        text-align: right;\n",
       "    }\n",
       "</style>\n",
       "<table border=\"1\" class=\"dataframe\">\n",
       "  <thead>\n",
       "    <tr style=\"text-align: right;\">\n",
       "      <th></th>\n",
       "      <th>team</th>\n",
       "      <th>player</th>\n",
       "      <th>Nation</th>\n",
       "      <th>Pos</th>\n",
       "      <th>Age</th>\n",
       "      <th>Min</th>\n",
       "      <th>CrdY</th>\n",
       "      <th>CrdR</th>\n",
       "      <th>2CrdY</th>\n",
       "      <th>Fls</th>\n",
       "      <th>...</th>\n",
       "      <th>date</th>\n",
       "      <th>time</th>\n",
       "      <th>home_team</th>\n",
       "      <th>home_xg</th>\n",
       "      <th>score</th>\n",
       "      <th>away_xg</th>\n",
       "      <th>away_team</th>\n",
       "      <th>attendance</th>\n",
       "      <th>venue</th>\n",
       "      <th>referee</th>\n",
       "    </tr>\n",
       "  </thead>\n",
       "  <tbody>\n",
       "    <tr>\n",
       "      <th>0</th>\n",
       "      <td>Arsenal</td>\n",
       "      <td>Aaron Ramsdale</td>\n",
       "      <td>eng ENG</td>\n",
       "      <td>GK</td>\n",
       "      <td>24-083</td>\n",
       "      <td>90</td>\n",
       "      <td>0</td>\n",
       "      <td>0</td>\n",
       "      <td>0</td>\n",
       "      <td>0</td>\n",
       "      <td>...</td>\n",
       "      <td>2022-08-05</td>\n",
       "      <td>20:00</td>\n",
       "      <td>Crystal Palace</td>\n",
       "      <td>1.2</td>\n",
       "      <td>0–2</td>\n",
       "      <td>1.0</td>\n",
       "      <td>Arsenal</td>\n",
       "      <td>25286.0</td>\n",
       "      <td>Selhurst Park</td>\n",
       "      <td>Anthony Taylor</td>\n",
       "    </tr>\n",
       "    <tr>\n",
       "      <th>1</th>\n",
       "      <td>Arsenal</td>\n",
       "      <td>Albert Sambi Lokonga</td>\n",
       "      <td>be BEL</td>\n",
       "      <td>CM,RW</td>\n",
       "      <td>22-287</td>\n",
       "      <td>1</td>\n",
       "      <td>0</td>\n",
       "      <td>0</td>\n",
       "      <td>0</td>\n",
       "      <td>0</td>\n",
       "      <td>...</td>\n",
       "      <td>2022-08-05</td>\n",
       "      <td>20:00</td>\n",
       "      <td>Crystal Palace</td>\n",
       "      <td>1.2</td>\n",
       "      <td>0–2</td>\n",
       "      <td>1.0</td>\n",
       "      <td>Arsenal</td>\n",
       "      <td>25286.0</td>\n",
       "      <td>Selhurst Park</td>\n",
       "      <td>Anthony Taylor</td>\n",
       "    </tr>\n",
       "    <tr>\n",
       "      <th>2</th>\n",
       "      <td>Arsenal</td>\n",
       "      <td>Ben White</td>\n",
       "      <td>eng ENG</td>\n",
       "      <td>RB</td>\n",
       "      <td>24-301</td>\n",
       "      <td>90</td>\n",
       "      <td>1</td>\n",
       "      <td>0</td>\n",
       "      <td>0</td>\n",
       "      <td>2</td>\n",
       "      <td>...</td>\n",
       "      <td>2022-08-05</td>\n",
       "      <td>20:00</td>\n",
       "      <td>Crystal Palace</td>\n",
       "      <td>1.2</td>\n",
       "      <td>0–2</td>\n",
       "      <td>1.0</td>\n",
       "      <td>Arsenal</td>\n",
       "      <td>25286.0</td>\n",
       "      <td>Selhurst Park</td>\n",
       "      <td>Anthony Taylor</td>\n",
       "    </tr>\n",
       "    <tr>\n",
       "      <th>3</th>\n",
       "      <td>Arsenal</td>\n",
       "      <td>Bukayo Saka</td>\n",
       "      <td>eng ENG</td>\n",
       "      <td>RW</td>\n",
       "      <td>20-334</td>\n",
       "      <td>90</td>\n",
       "      <td>0</td>\n",
       "      <td>0</td>\n",
       "      <td>0</td>\n",
       "      <td>2</td>\n",
       "      <td>...</td>\n",
       "      <td>2022-08-05</td>\n",
       "      <td>20:00</td>\n",
       "      <td>Crystal Palace</td>\n",
       "      <td>1.2</td>\n",
       "      <td>0–2</td>\n",
       "      <td>1.0</td>\n",
       "      <td>Arsenal</td>\n",
       "      <td>25286.0</td>\n",
       "      <td>Selhurst Park</td>\n",
       "      <td>Anthony Taylor</td>\n",
       "    </tr>\n",
       "    <tr>\n",
       "      <th>4</th>\n",
       "      <td>Arsenal</td>\n",
       "      <td>Eddie Nketiah</td>\n",
       "      <td>eng ENG</td>\n",
       "      <td>FW</td>\n",
       "      <td>23-067</td>\n",
       "      <td>8</td>\n",
       "      <td>0</td>\n",
       "      <td>0</td>\n",
       "      <td>0</td>\n",
       "      <td>1</td>\n",
       "      <td>...</td>\n",
       "      <td>2022-08-05</td>\n",
       "      <td>20:00</td>\n",
       "      <td>Crystal Palace</td>\n",
       "      <td>1.2</td>\n",
       "      <td>0–2</td>\n",
       "      <td>1.0</td>\n",
       "      <td>Arsenal</td>\n",
       "      <td>25286.0</td>\n",
       "      <td>Selhurst Park</td>\n",
       "      <td>Anthony Taylor</td>\n",
       "    </tr>\n",
       "  </tbody>\n",
       "</table>\n",
       "<p>5 rows × 28 columns</p>\n",
       "</div>"
      ],
      "text/plain": [
       "      team                player   Nation    Pos     Age  Min  CrdY  CrdR  \\\n",
       "0  Arsenal        Aaron Ramsdale  eng ENG     GK  24-083   90     0     0   \n",
       "1  Arsenal  Albert Sambi Lokonga   be BEL  CM,RW  22-287    1     0     0   \n",
       "2  Arsenal             Ben White  eng ENG     RB  24-301   90     1     0   \n",
       "3  Arsenal           Bukayo Saka  eng ENG     RW  20-334   90     0     0   \n",
       "4  Arsenal         Eddie Nketiah  eng ENG     FW  23-067    8     0     0   \n",
       "\n",
       "   2CrdY  Fls  ...        date   time       home_team  home_xg  score  \\\n",
       "0      0    0  ...  2022-08-05  20:00  Crystal Palace      1.2    0–2   \n",
       "1      0    0  ...  2022-08-05  20:00  Crystal Palace      1.2    0–2   \n",
       "2      0    2  ...  2022-08-05  20:00  Crystal Palace      1.2    0–2   \n",
       "3      0    2  ...  2022-08-05  20:00  Crystal Palace      1.2    0–2   \n",
       "4      0    1  ...  2022-08-05  20:00  Crystal Palace      1.2    0–2   \n",
       "\n",
       "   away_xg away_team attendance          venue         referee  \n",
       "0      1.0   Arsenal    25286.0  Selhurst Park  Anthony Taylor  \n",
       "1      1.0   Arsenal    25286.0  Selhurst Park  Anthony Taylor  \n",
       "2      1.0   Arsenal    25286.0  Selhurst Park  Anthony Taylor  \n",
       "3      1.0   Arsenal    25286.0  Selhurst Park  Anthony Taylor  \n",
       "4      1.0   Arsenal    25286.0  Selhurst Park  Anthony Taylor  \n",
       "\n",
       "[5 rows x 28 columns]"
      ]
     },
     "execution_count": 24,
     "metadata": {},
     "output_type": "execute_result"
    }
   ],
   "source": [
    "matches = merge\n",
    "matches.head()"
   ]
  },
  {
   "cell_type": "code",
   "execution_count": 25,
   "id": "1f75b41b",
   "metadata": {},
   "outputs": [],
   "source": [
    "matches['date'] = pd.to_datetime(matches['date'])"
   ]
  },
  {
   "cell_type": "code",
   "execution_count": 26,
   "id": "f738d756",
   "metadata": {},
   "outputs": [
    {
     "data": {
      "text/plain": [
       "team                          object\n",
       "player                        object\n",
       "Nation                        object\n",
       "Pos                           object\n",
       "Age                           object\n",
       "Min                            int64\n",
       "CrdY                           int64\n",
       "CrdR                           int64\n",
       "2CrdY                          int64\n",
       "Fls                            int64\n",
       "Fld                            int64\n",
       "TklW                           int64\n",
       "PKcon                          int64\n",
       "Aerial Duels Won               int64\n",
       "Aerial Duels Lost              int64\n",
       "Aerial Duels Won %           float64\n",
       "game_id                       object\n",
       "day                           object\n",
       "date                  datetime64[ns]\n",
       "time                          object\n",
       "home_team                     object\n",
       "home_xg                      float64\n",
       "score                         object\n",
       "away_xg                      float64\n",
       "away_team                     object\n",
       "attendance                   float64\n",
       "venue                         object\n",
       "referee                       object\n",
       "dtype: object"
      ]
     },
     "execution_count": 26,
     "metadata": {},
     "output_type": "execute_result"
    }
   ],
   "source": [
    "matches.dtypes"
   ]
  },
  {
   "cell_type": "code",
   "execution_count": 34,
   "id": "215ff439",
   "metadata": {},
   "outputs": [
    {
     "data": {
      "text/html": [
       "<div>\n",
       "<style scoped>\n",
       "    .dataframe tbody tr th:only-of-type {\n",
       "        vertical-align: middle;\n",
       "    }\n",
       "\n",
       "    .dataframe tbody tr th {\n",
       "        vertical-align: top;\n",
       "    }\n",
       "\n",
       "    .dataframe thead th {\n",
       "        text-align: right;\n",
       "    }\n",
       "</style>\n",
       "<table border=\"1\" class=\"dataframe\">\n",
       "  <thead>\n",
       "    <tr style=\"text-align: right;\">\n",
       "      <th></th>\n",
       "      <th>team</th>\n",
       "      <th>player</th>\n",
       "      <th>Nation</th>\n",
       "      <th>Pos</th>\n",
       "      <th>Age</th>\n",
       "      <th>Min</th>\n",
       "      <th>CrdY</th>\n",
       "      <th>CrdR</th>\n",
       "      <th>2CrdY</th>\n",
       "      <th>Fls</th>\n",
       "      <th>...</th>\n",
       "      <th>score</th>\n",
       "      <th>away_xg</th>\n",
       "      <th>away_team</th>\n",
       "      <th>attendance</th>\n",
       "      <th>venue</th>\n",
       "      <th>referee</th>\n",
       "      <th>venue_code</th>\n",
       "      <th>home_code</th>\n",
       "      <th>away_code</th>\n",
       "      <th>team_code</th>\n",
       "    </tr>\n",
       "  </thead>\n",
       "  <tbody>\n",
       "    <tr>\n",
       "      <th>0</th>\n",
       "      <td>Arsenal</td>\n",
       "      <td>Aaron Ramsdale</td>\n",
       "      <td>eng ENG</td>\n",
       "      <td>GK</td>\n",
       "      <td>24-083</td>\n",
       "      <td>90</td>\n",
       "      <td>0</td>\n",
       "      <td>0</td>\n",
       "      <td>0</td>\n",
       "      <td>0</td>\n",
       "      <td>...</td>\n",
       "      <td>0–2</td>\n",
       "      <td>1.0</td>\n",
       "      <td>Arsenal</td>\n",
       "      <td>25286.0</td>\n",
       "      <td>Selhurst Park</td>\n",
       "      <td>Anthony Taylor</td>\n",
       "      <td>Crystal Palace</td>\n",
       "      <td>6</td>\n",
       "      <td>0</td>\n",
       "      <td>0</td>\n",
       "    </tr>\n",
       "    <tr>\n",
       "      <th>1</th>\n",
       "      <td>Arsenal</td>\n",
       "      <td>Albert Sambi Lokonga</td>\n",
       "      <td>be BEL</td>\n",
       "      <td>CM,RW</td>\n",
       "      <td>22-287</td>\n",
       "      <td>1</td>\n",
       "      <td>0</td>\n",
       "      <td>0</td>\n",
       "      <td>0</td>\n",
       "      <td>0</td>\n",
       "      <td>...</td>\n",
       "      <td>0–2</td>\n",
       "      <td>1.0</td>\n",
       "      <td>Arsenal</td>\n",
       "      <td>25286.0</td>\n",
       "      <td>Selhurst Park</td>\n",
       "      <td>Anthony Taylor</td>\n",
       "      <td>Crystal Palace</td>\n",
       "      <td>6</td>\n",
       "      <td>0</td>\n",
       "      <td>0</td>\n",
       "    </tr>\n",
       "    <tr>\n",
       "      <th>2</th>\n",
       "      <td>Arsenal</td>\n",
       "      <td>Ben White</td>\n",
       "      <td>eng ENG</td>\n",
       "      <td>RB</td>\n",
       "      <td>24-301</td>\n",
       "      <td>90</td>\n",
       "      <td>1</td>\n",
       "      <td>0</td>\n",
       "      <td>0</td>\n",
       "      <td>2</td>\n",
       "      <td>...</td>\n",
       "      <td>0–2</td>\n",
       "      <td>1.0</td>\n",
       "      <td>Arsenal</td>\n",
       "      <td>25286.0</td>\n",
       "      <td>Selhurst Park</td>\n",
       "      <td>Anthony Taylor</td>\n",
       "      <td>Crystal Palace</td>\n",
       "      <td>6</td>\n",
       "      <td>0</td>\n",
       "      <td>0</td>\n",
       "    </tr>\n",
       "    <tr>\n",
       "      <th>3</th>\n",
       "      <td>Arsenal</td>\n",
       "      <td>Bukayo Saka</td>\n",
       "      <td>eng ENG</td>\n",
       "      <td>RW</td>\n",
       "      <td>20-334</td>\n",
       "      <td>90</td>\n",
       "      <td>0</td>\n",
       "      <td>0</td>\n",
       "      <td>0</td>\n",
       "      <td>2</td>\n",
       "      <td>...</td>\n",
       "      <td>0–2</td>\n",
       "      <td>1.0</td>\n",
       "      <td>Arsenal</td>\n",
       "      <td>25286.0</td>\n",
       "      <td>Selhurst Park</td>\n",
       "      <td>Anthony Taylor</td>\n",
       "      <td>Crystal Palace</td>\n",
       "      <td>6</td>\n",
       "      <td>0</td>\n",
       "      <td>0</td>\n",
       "    </tr>\n",
       "    <tr>\n",
       "      <th>4</th>\n",
       "      <td>Arsenal</td>\n",
       "      <td>Eddie Nketiah</td>\n",
       "      <td>eng ENG</td>\n",
       "      <td>FW</td>\n",
       "      <td>23-067</td>\n",
       "      <td>8</td>\n",
       "      <td>0</td>\n",
       "      <td>0</td>\n",
       "      <td>0</td>\n",
       "      <td>1</td>\n",
       "      <td>...</td>\n",
       "      <td>0–2</td>\n",
       "      <td>1.0</td>\n",
       "      <td>Arsenal</td>\n",
       "      <td>25286.0</td>\n",
       "      <td>Selhurst Park</td>\n",
       "      <td>Anthony Taylor</td>\n",
       "      <td>Crystal Palace</td>\n",
       "      <td>6</td>\n",
       "      <td>0</td>\n",
       "      <td>0</td>\n",
       "    </tr>\n",
       "  </tbody>\n",
       "</table>\n",
       "<p>5 rows × 32 columns</p>\n",
       "</div>"
      ],
      "text/plain": [
       "      team                player   Nation    Pos     Age  Min  CrdY  CrdR  \\\n",
       "0  Arsenal        Aaron Ramsdale  eng ENG     GK  24-083   90     0     0   \n",
       "1  Arsenal  Albert Sambi Lokonga   be BEL  CM,RW  22-287    1     0     0   \n",
       "2  Arsenal             Ben White  eng ENG     RB  24-301   90     1     0   \n",
       "3  Arsenal           Bukayo Saka  eng ENG     RW  20-334   90     0     0   \n",
       "4  Arsenal         Eddie Nketiah  eng ENG     FW  23-067    8     0     0   \n",
       "\n",
       "   2CrdY  Fls  ...  score  away_xg  away_team  attendance          venue  \\\n",
       "0      0    0  ...    0–2      1.0    Arsenal     25286.0  Selhurst Park   \n",
       "1      0    0  ...    0–2      1.0    Arsenal     25286.0  Selhurst Park   \n",
       "2      0    2  ...    0–2      1.0    Arsenal     25286.0  Selhurst Park   \n",
       "3      0    2  ...    0–2      1.0    Arsenal     25286.0  Selhurst Park   \n",
       "4      0    1  ...    0–2      1.0    Arsenal     25286.0  Selhurst Park   \n",
       "\n",
       "          referee      venue_code home_code away_code team_code  \n",
       "0  Anthony Taylor  Crystal Palace         6         0         0  \n",
       "1  Anthony Taylor  Crystal Palace         6         0         0  \n",
       "2  Anthony Taylor  Crystal Palace         6         0         0  \n",
       "3  Anthony Taylor  Crystal Palace         6         0         0  \n",
       "4  Anthony Taylor  Crystal Palace         6         0         0  \n",
       "\n",
       "[5 rows x 32 columns]"
      ]
     },
     "execution_count": 34,
     "metadata": {},
     "output_type": "execute_result"
    }
   ],
   "source": [
    "matches[\"home_code\"] = matches[\"home_team\"].astype(\"category\").cat.codes\n",
    "matches[\"away_code\"] = matches[\"away_team\"].astype(\"category\").cat.codes\n",
    "matches[\"team_code\"] = matches[\"team\"].astype(\"category\").cat.codes\n",
    "matches.head()"
   ]
  },
  {
   "cell_type": "code",
   "execution_count": 37,
   "id": "b9831a69",
   "metadata": {},
   "outputs": [
    {
     "data": {
      "text/html": [
       "<div>\n",
       "<style scoped>\n",
       "    .dataframe tbody tr th:only-of-type {\n",
       "        vertical-align: middle;\n",
       "    }\n",
       "\n",
       "    .dataframe tbody tr th {\n",
       "        vertical-align: top;\n",
       "    }\n",
       "\n",
       "    .dataframe thead th {\n",
       "        text-align: right;\n",
       "    }\n",
       "</style>\n",
       "<table border=\"1\" class=\"dataframe\">\n",
       "  <thead>\n",
       "    <tr style=\"text-align: right;\">\n",
       "      <th></th>\n",
       "      <th>team</th>\n",
       "      <th>player</th>\n",
       "      <th>Nation</th>\n",
       "      <th>Pos</th>\n",
       "      <th>Age</th>\n",
       "      <th>Min</th>\n",
       "      <th>CrdY</th>\n",
       "      <th>CrdR</th>\n",
       "      <th>2CrdY</th>\n",
       "      <th>Fls</th>\n",
       "      <th>...</th>\n",
       "      <th>away_xg</th>\n",
       "      <th>away_team</th>\n",
       "      <th>attendance</th>\n",
       "      <th>venue</th>\n",
       "      <th>referee</th>\n",
       "      <th>venue_code</th>\n",
       "      <th>home_code</th>\n",
       "      <th>away_code</th>\n",
       "      <th>team_code</th>\n",
       "      <th>homeoraway_code</th>\n",
       "    </tr>\n",
       "  </thead>\n",
       "  <tbody>\n",
       "    <tr>\n",
       "      <th>0</th>\n",
       "      <td>Arsenal</td>\n",
       "      <td>Aaron Ramsdale</td>\n",
       "      <td>eng ENG</td>\n",
       "      <td>GK</td>\n",
       "      <td>24-083</td>\n",
       "      <td>90</td>\n",
       "      <td>0</td>\n",
       "      <td>0</td>\n",
       "      <td>0</td>\n",
       "      <td>0</td>\n",
       "      <td>...</td>\n",
       "      <td>1.0</td>\n",
       "      <td>Arsenal</td>\n",
       "      <td>25286.0</td>\n",
       "      <td>Selhurst Park</td>\n",
       "      <td>Anthony Taylor</td>\n",
       "      <td>Crystal Palace</td>\n",
       "      <td>6</td>\n",
       "      <td>0</td>\n",
       "      <td>0</td>\n",
       "      <td>0</td>\n",
       "    </tr>\n",
       "    <tr>\n",
       "      <th>1</th>\n",
       "      <td>Arsenal</td>\n",
       "      <td>Albert Sambi Lokonga</td>\n",
       "      <td>be BEL</td>\n",
       "      <td>CM,RW</td>\n",
       "      <td>22-287</td>\n",
       "      <td>1</td>\n",
       "      <td>0</td>\n",
       "      <td>0</td>\n",
       "      <td>0</td>\n",
       "      <td>0</td>\n",
       "      <td>...</td>\n",
       "      <td>1.0</td>\n",
       "      <td>Arsenal</td>\n",
       "      <td>25286.0</td>\n",
       "      <td>Selhurst Park</td>\n",
       "      <td>Anthony Taylor</td>\n",
       "      <td>Crystal Palace</td>\n",
       "      <td>6</td>\n",
       "      <td>0</td>\n",
       "      <td>0</td>\n",
       "      <td>0</td>\n",
       "    </tr>\n",
       "    <tr>\n",
       "      <th>2</th>\n",
       "      <td>Arsenal</td>\n",
       "      <td>Ben White</td>\n",
       "      <td>eng ENG</td>\n",
       "      <td>RB</td>\n",
       "      <td>24-301</td>\n",
       "      <td>90</td>\n",
       "      <td>1</td>\n",
       "      <td>0</td>\n",
       "      <td>0</td>\n",
       "      <td>2</td>\n",
       "      <td>...</td>\n",
       "      <td>1.0</td>\n",
       "      <td>Arsenal</td>\n",
       "      <td>25286.0</td>\n",
       "      <td>Selhurst Park</td>\n",
       "      <td>Anthony Taylor</td>\n",
       "      <td>Crystal Palace</td>\n",
       "      <td>6</td>\n",
       "      <td>0</td>\n",
       "      <td>0</td>\n",
       "      <td>0</td>\n",
       "    </tr>\n",
       "    <tr>\n",
       "      <th>3</th>\n",
       "      <td>Arsenal</td>\n",
       "      <td>Bukayo Saka</td>\n",
       "      <td>eng ENG</td>\n",
       "      <td>RW</td>\n",
       "      <td>20-334</td>\n",
       "      <td>90</td>\n",
       "      <td>0</td>\n",
       "      <td>0</td>\n",
       "      <td>0</td>\n",
       "      <td>2</td>\n",
       "      <td>...</td>\n",
       "      <td>1.0</td>\n",
       "      <td>Arsenal</td>\n",
       "      <td>25286.0</td>\n",
       "      <td>Selhurst Park</td>\n",
       "      <td>Anthony Taylor</td>\n",
       "      <td>Crystal Palace</td>\n",
       "      <td>6</td>\n",
       "      <td>0</td>\n",
       "      <td>0</td>\n",
       "      <td>0</td>\n",
       "    </tr>\n",
       "    <tr>\n",
       "      <th>4</th>\n",
       "      <td>Arsenal</td>\n",
       "      <td>Eddie Nketiah</td>\n",
       "      <td>eng ENG</td>\n",
       "      <td>FW</td>\n",
       "      <td>23-067</td>\n",
       "      <td>8</td>\n",
       "      <td>0</td>\n",
       "      <td>0</td>\n",
       "      <td>0</td>\n",
       "      <td>1</td>\n",
       "      <td>...</td>\n",
       "      <td>1.0</td>\n",
       "      <td>Arsenal</td>\n",
       "      <td>25286.0</td>\n",
       "      <td>Selhurst Park</td>\n",
       "      <td>Anthony Taylor</td>\n",
       "      <td>Crystal Palace</td>\n",
       "      <td>6</td>\n",
       "      <td>0</td>\n",
       "      <td>0</td>\n",
       "      <td>0</td>\n",
       "    </tr>\n",
       "  </tbody>\n",
       "</table>\n",
       "<p>5 rows × 33 columns</p>\n",
       "</div>"
      ],
      "text/plain": [
       "      team                player   Nation    Pos     Age  Min  CrdY  CrdR  \\\n",
       "0  Arsenal        Aaron Ramsdale  eng ENG     GK  24-083   90     0     0   \n",
       "1  Arsenal  Albert Sambi Lokonga   be BEL  CM,RW  22-287    1     0     0   \n",
       "2  Arsenal             Ben White  eng ENG     RB  24-301   90     1     0   \n",
       "3  Arsenal           Bukayo Saka  eng ENG     RW  20-334   90     0     0   \n",
       "4  Arsenal         Eddie Nketiah  eng ENG     FW  23-067    8     0     0   \n",
       "\n",
       "   2CrdY  Fls  ...  away_xg  away_team  attendance          venue  \\\n",
       "0      0    0  ...      1.0    Arsenal     25286.0  Selhurst Park   \n",
       "1      0    0  ...      1.0    Arsenal     25286.0  Selhurst Park   \n",
       "2      0    2  ...      1.0    Arsenal     25286.0  Selhurst Park   \n",
       "3      0    2  ...      1.0    Arsenal     25286.0  Selhurst Park   \n",
       "4      0    1  ...      1.0    Arsenal     25286.0  Selhurst Park   \n",
       "\n",
       "          referee      venue_code home_code away_code team_code  \\\n",
       "0  Anthony Taylor  Crystal Palace         6         0         0   \n",
       "1  Anthony Taylor  Crystal Palace         6         0         0   \n",
       "2  Anthony Taylor  Crystal Palace         6         0         0   \n",
       "3  Anthony Taylor  Crystal Palace         6         0         0   \n",
       "4  Anthony Taylor  Crystal Palace         6         0         0   \n",
       "\n",
       "  homeoraway_code  \n",
       "0               0  \n",
       "1               0  \n",
       "2               0  \n",
       "3               0  \n",
       "4               0  \n",
       "\n",
       "[5 rows x 33 columns]"
      ]
     },
     "execution_count": 37,
     "metadata": {},
     "output_type": "execute_result"
    }
   ],
   "source": [
    "matches1 = matches\n",
    "\n",
    "matches1[\"homeoraway_code\"] = np.where((matches1['team_code'] == matches1['home_code']), 1, 0)\n",
    "matches1.head()"
   ]
  },
  {
   "cell_type": "code",
   "execution_count": 38,
   "id": "a1e605fe",
   "metadata": {},
   "outputs": [],
   "source": [
    "matches1.to_csv(\"Matches1.csv\")"
   ]
  },
  {
   "cell_type": "code",
   "execution_count": 42,
   "id": "c4d70452",
   "metadata": {},
   "outputs": [
    {
     "data": {
      "text/html": [
       "<div>\n",
       "<style scoped>\n",
       "    .dataframe tbody tr th:only-of-type {\n",
       "        vertical-align: middle;\n",
       "    }\n",
       "\n",
       "    .dataframe tbody tr th {\n",
       "        vertical-align: top;\n",
       "    }\n",
       "\n",
       "    .dataframe thead th {\n",
       "        text-align: right;\n",
       "    }\n",
       "</style>\n",
       "<table border=\"1\" class=\"dataframe\">\n",
       "  <thead>\n",
       "    <tr style=\"text-align: right;\">\n",
       "      <th></th>\n",
       "      <th>team</th>\n",
       "      <th>player</th>\n",
       "      <th>Nation</th>\n",
       "      <th>Pos</th>\n",
       "      <th>Age</th>\n",
       "      <th>Min</th>\n",
       "      <th>CrdY</th>\n",
       "      <th>CrdR</th>\n",
       "      <th>2CrdY</th>\n",
       "      <th>Fls</th>\n",
       "      <th>...</th>\n",
       "      <th>attendance</th>\n",
       "      <th>venue</th>\n",
       "      <th>referee</th>\n",
       "      <th>venue_code</th>\n",
       "      <th>home_code</th>\n",
       "      <th>away_code</th>\n",
       "      <th>team_code</th>\n",
       "      <th>homeoraway_code</th>\n",
       "      <th>hour</th>\n",
       "      <th>day_code</th>\n",
       "    </tr>\n",
       "  </thead>\n",
       "  <tbody>\n",
       "    <tr>\n",
       "      <th>0</th>\n",
       "      <td>Arsenal</td>\n",
       "      <td>Aaron Ramsdale</td>\n",
       "      <td>eng ENG</td>\n",
       "      <td>GK</td>\n",
       "      <td>24-083</td>\n",
       "      <td>90</td>\n",
       "      <td>0</td>\n",
       "      <td>0</td>\n",
       "      <td>0</td>\n",
       "      <td>0</td>\n",
       "      <td>...</td>\n",
       "      <td>25286.0</td>\n",
       "      <td>Selhurst Park</td>\n",
       "      <td>Anthony Taylor</td>\n",
       "      <td>Crystal Palace</td>\n",
       "      <td>6</td>\n",
       "      <td>0</td>\n",
       "      <td>0</td>\n",
       "      <td>0</td>\n",
       "      <td>20</td>\n",
       "      <td>4</td>\n",
       "    </tr>\n",
       "    <tr>\n",
       "      <th>1</th>\n",
       "      <td>Arsenal</td>\n",
       "      <td>Albert Sambi Lokonga</td>\n",
       "      <td>be BEL</td>\n",
       "      <td>CM,RW</td>\n",
       "      <td>22-287</td>\n",
       "      <td>1</td>\n",
       "      <td>0</td>\n",
       "      <td>0</td>\n",
       "      <td>0</td>\n",
       "      <td>0</td>\n",
       "      <td>...</td>\n",
       "      <td>25286.0</td>\n",
       "      <td>Selhurst Park</td>\n",
       "      <td>Anthony Taylor</td>\n",
       "      <td>Crystal Palace</td>\n",
       "      <td>6</td>\n",
       "      <td>0</td>\n",
       "      <td>0</td>\n",
       "      <td>0</td>\n",
       "      <td>20</td>\n",
       "      <td>4</td>\n",
       "    </tr>\n",
       "    <tr>\n",
       "      <th>2</th>\n",
       "      <td>Arsenal</td>\n",
       "      <td>Ben White</td>\n",
       "      <td>eng ENG</td>\n",
       "      <td>RB</td>\n",
       "      <td>24-301</td>\n",
       "      <td>90</td>\n",
       "      <td>1</td>\n",
       "      <td>0</td>\n",
       "      <td>0</td>\n",
       "      <td>2</td>\n",
       "      <td>...</td>\n",
       "      <td>25286.0</td>\n",
       "      <td>Selhurst Park</td>\n",
       "      <td>Anthony Taylor</td>\n",
       "      <td>Crystal Palace</td>\n",
       "      <td>6</td>\n",
       "      <td>0</td>\n",
       "      <td>0</td>\n",
       "      <td>0</td>\n",
       "      <td>20</td>\n",
       "      <td>4</td>\n",
       "    </tr>\n",
       "    <tr>\n",
       "      <th>3</th>\n",
       "      <td>Arsenal</td>\n",
       "      <td>Bukayo Saka</td>\n",
       "      <td>eng ENG</td>\n",
       "      <td>RW</td>\n",
       "      <td>20-334</td>\n",
       "      <td>90</td>\n",
       "      <td>0</td>\n",
       "      <td>0</td>\n",
       "      <td>0</td>\n",
       "      <td>2</td>\n",
       "      <td>...</td>\n",
       "      <td>25286.0</td>\n",
       "      <td>Selhurst Park</td>\n",
       "      <td>Anthony Taylor</td>\n",
       "      <td>Crystal Palace</td>\n",
       "      <td>6</td>\n",
       "      <td>0</td>\n",
       "      <td>0</td>\n",
       "      <td>0</td>\n",
       "      <td>20</td>\n",
       "      <td>4</td>\n",
       "    </tr>\n",
       "    <tr>\n",
       "      <th>4</th>\n",
       "      <td>Arsenal</td>\n",
       "      <td>Eddie Nketiah</td>\n",
       "      <td>eng ENG</td>\n",
       "      <td>FW</td>\n",
       "      <td>23-067</td>\n",
       "      <td>8</td>\n",
       "      <td>0</td>\n",
       "      <td>0</td>\n",
       "      <td>0</td>\n",
       "      <td>1</td>\n",
       "      <td>...</td>\n",
       "      <td>25286.0</td>\n",
       "      <td>Selhurst Park</td>\n",
       "      <td>Anthony Taylor</td>\n",
       "      <td>Crystal Palace</td>\n",
       "      <td>6</td>\n",
       "      <td>0</td>\n",
       "      <td>0</td>\n",
       "      <td>0</td>\n",
       "      <td>20</td>\n",
       "      <td>4</td>\n",
       "    </tr>\n",
       "  </tbody>\n",
       "</table>\n",
       "<p>5 rows × 35 columns</p>\n",
       "</div>"
      ],
      "text/plain": [
       "      team                player   Nation    Pos     Age  Min  CrdY  CrdR  \\\n",
       "0  Arsenal        Aaron Ramsdale  eng ENG     GK  24-083   90     0     0   \n",
       "1  Arsenal  Albert Sambi Lokonga   be BEL  CM,RW  22-287    1     0     0   \n",
       "2  Arsenal             Ben White  eng ENG     RB  24-301   90     1     0   \n",
       "3  Arsenal           Bukayo Saka  eng ENG     RW  20-334   90     0     0   \n",
       "4  Arsenal         Eddie Nketiah  eng ENG     FW  23-067    8     0     0   \n",
       "\n",
       "   2CrdY  Fls  ...  attendance          venue         referee      venue_code  \\\n",
       "0      0    0  ...     25286.0  Selhurst Park  Anthony Taylor  Crystal Palace   \n",
       "1      0    0  ...     25286.0  Selhurst Park  Anthony Taylor  Crystal Palace   \n",
       "2      0    2  ...     25286.0  Selhurst Park  Anthony Taylor  Crystal Palace   \n",
       "3      0    2  ...     25286.0  Selhurst Park  Anthony Taylor  Crystal Palace   \n",
       "4      0    1  ...     25286.0  Selhurst Park  Anthony Taylor  Crystal Palace   \n",
       "\n",
       "   home_code  away_code team_code homeoraway_code hour day_code  \n",
       "0          6          0         0               0   20        4  \n",
       "1          6          0         0               0   20        4  \n",
       "2          6          0         0               0   20        4  \n",
       "3          6          0         0               0   20        4  \n",
       "4          6          0         0               0   20        4  \n",
       "\n",
       "[5 rows x 35 columns]"
      ]
     },
     "execution_count": 42,
     "metadata": {},
     "output_type": "execute_result"
    }
   ],
   "source": [
    "matches1 = matches1.dropna(axis=0, subset = \"time\")\n",
    "matches1[\"hour\"] = matches1[\"time\"].str.replace(\":.+\", \"\", regex=True).astype(\"int\")\n",
    "matches1.head()"
   ]
  },
  {
   "cell_type": "code",
   "execution_count": 43,
   "id": "a4b6f7c8",
   "metadata": {},
   "outputs": [
    {
     "data": {
      "text/html": [
       "<div>\n",
       "<style scoped>\n",
       "    .dataframe tbody tr th:only-of-type {\n",
       "        vertical-align: middle;\n",
       "    }\n",
       "\n",
       "    .dataframe tbody tr th {\n",
       "        vertical-align: top;\n",
       "    }\n",
       "\n",
       "    .dataframe thead th {\n",
       "        text-align: right;\n",
       "    }\n",
       "</style>\n",
       "<table border=\"1\" class=\"dataframe\">\n",
       "  <thead>\n",
       "    <tr style=\"text-align: right;\">\n",
       "      <th></th>\n",
       "      <th>team</th>\n",
       "      <th>player</th>\n",
       "      <th>Nation</th>\n",
       "      <th>Pos</th>\n",
       "      <th>Age</th>\n",
       "      <th>Min</th>\n",
       "      <th>CrdY</th>\n",
       "      <th>CrdR</th>\n",
       "      <th>2CrdY</th>\n",
       "      <th>Fls</th>\n",
       "      <th>...</th>\n",
       "      <th>attendance</th>\n",
       "      <th>venue</th>\n",
       "      <th>referee</th>\n",
       "      <th>venue_code</th>\n",
       "      <th>home_code</th>\n",
       "      <th>away_code</th>\n",
       "      <th>team_code</th>\n",
       "      <th>homeoraway_code</th>\n",
       "      <th>hour</th>\n",
       "      <th>day_code</th>\n",
       "    </tr>\n",
       "  </thead>\n",
       "  <tbody>\n",
       "    <tr>\n",
       "      <th>0</th>\n",
       "      <td>Arsenal</td>\n",
       "      <td>Aaron Ramsdale</td>\n",
       "      <td>eng ENG</td>\n",
       "      <td>GK</td>\n",
       "      <td>24-083</td>\n",
       "      <td>90</td>\n",
       "      <td>0</td>\n",
       "      <td>0</td>\n",
       "      <td>0</td>\n",
       "      <td>0</td>\n",
       "      <td>...</td>\n",
       "      <td>25286.0</td>\n",
       "      <td>Selhurst Park</td>\n",
       "      <td>Anthony Taylor</td>\n",
       "      <td>Crystal Palace</td>\n",
       "      <td>6</td>\n",
       "      <td>0</td>\n",
       "      <td>0</td>\n",
       "      <td>0</td>\n",
       "      <td>20</td>\n",
       "      <td>4</td>\n",
       "    </tr>\n",
       "    <tr>\n",
       "      <th>1</th>\n",
       "      <td>Arsenal</td>\n",
       "      <td>Albert Sambi Lokonga</td>\n",
       "      <td>be BEL</td>\n",
       "      <td>CM,RW</td>\n",
       "      <td>22-287</td>\n",
       "      <td>1</td>\n",
       "      <td>0</td>\n",
       "      <td>0</td>\n",
       "      <td>0</td>\n",
       "      <td>0</td>\n",
       "      <td>...</td>\n",
       "      <td>25286.0</td>\n",
       "      <td>Selhurst Park</td>\n",
       "      <td>Anthony Taylor</td>\n",
       "      <td>Crystal Palace</td>\n",
       "      <td>6</td>\n",
       "      <td>0</td>\n",
       "      <td>0</td>\n",
       "      <td>0</td>\n",
       "      <td>20</td>\n",
       "      <td>4</td>\n",
       "    </tr>\n",
       "    <tr>\n",
       "      <th>2</th>\n",
       "      <td>Arsenal</td>\n",
       "      <td>Ben White</td>\n",
       "      <td>eng ENG</td>\n",
       "      <td>RB</td>\n",
       "      <td>24-301</td>\n",
       "      <td>90</td>\n",
       "      <td>1</td>\n",
       "      <td>0</td>\n",
       "      <td>0</td>\n",
       "      <td>2</td>\n",
       "      <td>...</td>\n",
       "      <td>25286.0</td>\n",
       "      <td>Selhurst Park</td>\n",
       "      <td>Anthony Taylor</td>\n",
       "      <td>Crystal Palace</td>\n",
       "      <td>6</td>\n",
       "      <td>0</td>\n",
       "      <td>0</td>\n",
       "      <td>0</td>\n",
       "      <td>20</td>\n",
       "      <td>4</td>\n",
       "    </tr>\n",
       "    <tr>\n",
       "      <th>3</th>\n",
       "      <td>Arsenal</td>\n",
       "      <td>Bukayo Saka</td>\n",
       "      <td>eng ENG</td>\n",
       "      <td>RW</td>\n",
       "      <td>20-334</td>\n",
       "      <td>90</td>\n",
       "      <td>0</td>\n",
       "      <td>0</td>\n",
       "      <td>0</td>\n",
       "      <td>2</td>\n",
       "      <td>...</td>\n",
       "      <td>25286.0</td>\n",
       "      <td>Selhurst Park</td>\n",
       "      <td>Anthony Taylor</td>\n",
       "      <td>Crystal Palace</td>\n",
       "      <td>6</td>\n",
       "      <td>0</td>\n",
       "      <td>0</td>\n",
       "      <td>0</td>\n",
       "      <td>20</td>\n",
       "      <td>4</td>\n",
       "    </tr>\n",
       "    <tr>\n",
       "      <th>4</th>\n",
       "      <td>Arsenal</td>\n",
       "      <td>Eddie Nketiah</td>\n",
       "      <td>eng ENG</td>\n",
       "      <td>FW</td>\n",
       "      <td>23-067</td>\n",
       "      <td>8</td>\n",
       "      <td>0</td>\n",
       "      <td>0</td>\n",
       "      <td>0</td>\n",
       "      <td>1</td>\n",
       "      <td>...</td>\n",
       "      <td>25286.0</td>\n",
       "      <td>Selhurst Park</td>\n",
       "      <td>Anthony Taylor</td>\n",
       "      <td>Crystal Palace</td>\n",
       "      <td>6</td>\n",
       "      <td>0</td>\n",
       "      <td>0</td>\n",
       "      <td>0</td>\n",
       "      <td>20</td>\n",
       "      <td>4</td>\n",
       "    </tr>\n",
       "  </tbody>\n",
       "</table>\n",
       "<p>5 rows × 35 columns</p>\n",
       "</div>"
      ],
      "text/plain": [
       "      team                player   Nation    Pos     Age  Min  CrdY  CrdR  \\\n",
       "0  Arsenal        Aaron Ramsdale  eng ENG     GK  24-083   90     0     0   \n",
       "1  Arsenal  Albert Sambi Lokonga   be BEL  CM,RW  22-287    1     0     0   \n",
       "2  Arsenal             Ben White  eng ENG     RB  24-301   90     1     0   \n",
       "3  Arsenal           Bukayo Saka  eng ENG     RW  20-334   90     0     0   \n",
       "4  Arsenal         Eddie Nketiah  eng ENG     FW  23-067    8     0     0   \n",
       "\n",
       "   2CrdY  Fls  ...  attendance          venue         referee      venue_code  \\\n",
       "0      0    0  ...     25286.0  Selhurst Park  Anthony Taylor  Crystal Palace   \n",
       "1      0    0  ...     25286.0  Selhurst Park  Anthony Taylor  Crystal Palace   \n",
       "2      0    2  ...     25286.0  Selhurst Park  Anthony Taylor  Crystal Palace   \n",
       "3      0    2  ...     25286.0  Selhurst Park  Anthony Taylor  Crystal Palace   \n",
       "4      0    1  ...     25286.0  Selhurst Park  Anthony Taylor  Crystal Palace   \n",
       "\n",
       "   home_code  away_code team_code homeoraway_code hour day_code  \n",
       "0          6          0         0               0   20        4  \n",
       "1          6          0         0               0   20        4  \n",
       "2          6          0         0               0   20        4  \n",
       "3          6          0         0               0   20        4  \n",
       "4          6          0         0               0   20        4  \n",
       "\n",
       "[5 rows x 35 columns]"
      ]
     },
     "execution_count": 43,
     "metadata": {},
     "output_type": "execute_result"
    }
   ],
   "source": [
    "matches = matches1\n",
    "matches[\"day_code\"] = matches[\"date\"].dt.dayofweek\n",
    "matches.head()"
   ]
  },
  {
   "cell_type": "code",
   "execution_count": 44,
   "id": "26cade1c",
   "metadata": {},
   "outputs": [
    {
     "data": {
      "text/html": [
       "<div>\n",
       "<style scoped>\n",
       "    .dataframe tbody tr th:only-of-type {\n",
       "        vertical-align: middle;\n",
       "    }\n",
       "\n",
       "    .dataframe tbody tr th {\n",
       "        vertical-align: top;\n",
       "    }\n",
       "\n",
       "    .dataframe thead th {\n",
       "        text-align: right;\n",
       "    }\n",
       "</style>\n",
       "<table border=\"1\" class=\"dataframe\">\n",
       "  <thead>\n",
       "    <tr style=\"text-align: right;\">\n",
       "      <th></th>\n",
       "      <th>team</th>\n",
       "      <th>player</th>\n",
       "      <th>Nation</th>\n",
       "      <th>Pos</th>\n",
       "      <th>Age</th>\n",
       "      <th>Min</th>\n",
       "      <th>CrdY</th>\n",
       "      <th>CrdR</th>\n",
       "      <th>2CrdY</th>\n",
       "      <th>Fls</th>\n",
       "      <th>...</th>\n",
       "      <th>venue_code</th>\n",
       "      <th>home_code</th>\n",
       "      <th>away_code</th>\n",
       "      <th>team_code</th>\n",
       "      <th>homeoraway_code</th>\n",
       "      <th>hour</th>\n",
       "      <th>day_code</th>\n",
       "      <th>player_id_code</th>\n",
       "      <th>ref_code</th>\n",
       "      <th>nation_code</th>\n",
       "    </tr>\n",
       "  </thead>\n",
       "  <tbody>\n",
       "    <tr>\n",
       "      <th>0</th>\n",
       "      <td>Arsenal</td>\n",
       "      <td>Aaron Ramsdale</td>\n",
       "      <td>eng ENG</td>\n",
       "      <td>GK</td>\n",
       "      <td>24-083</td>\n",
       "      <td>90</td>\n",
       "      <td>0</td>\n",
       "      <td>0</td>\n",
       "      <td>0</td>\n",
       "      <td>0</td>\n",
       "      <td>...</td>\n",
       "      <td>Crystal Palace</td>\n",
       "      <td>6</td>\n",
       "      <td>0</td>\n",
       "      <td>0</td>\n",
       "      <td>0</td>\n",
       "      <td>20</td>\n",
       "      <td>4</td>\n",
       "      <td>2</td>\n",
       "      <td>2</td>\n",
       "      <td>18</td>\n",
       "    </tr>\n",
       "    <tr>\n",
       "      <th>1</th>\n",
       "      <td>Arsenal</td>\n",
       "      <td>Albert Sambi Lokonga</td>\n",
       "      <td>be BEL</td>\n",
       "      <td>CM,RW</td>\n",
       "      <td>22-287</td>\n",
       "      <td>1</td>\n",
       "      <td>0</td>\n",
       "      <td>0</td>\n",
       "      <td>0</td>\n",
       "      <td>0</td>\n",
       "      <td>...</td>\n",
       "      <td>Crystal Palace</td>\n",
       "      <td>6</td>\n",
       "      <td>0</td>\n",
       "      <td>0</td>\n",
       "      <td>0</td>\n",
       "      <td>20</td>\n",
       "      <td>4</td>\n",
       "      <td>12</td>\n",
       "      <td>2</td>\n",
       "      <td>5</td>\n",
       "    </tr>\n",
       "    <tr>\n",
       "      <th>2</th>\n",
       "      <td>Arsenal</td>\n",
       "      <td>Ben White</td>\n",
       "      <td>eng ENG</td>\n",
       "      <td>RB</td>\n",
       "      <td>24-301</td>\n",
       "      <td>90</td>\n",
       "      <td>1</td>\n",
       "      <td>0</td>\n",
       "      <td>0</td>\n",
       "      <td>2</td>\n",
       "      <td>...</td>\n",
       "      <td>Crystal Palace</td>\n",
       "      <td>6</td>\n",
       "      <td>0</td>\n",
       "      <td>0</td>\n",
       "      <td>0</td>\n",
       "      <td>20</td>\n",
       "      <td>4</td>\n",
       "      <td>46</td>\n",
       "      <td>2</td>\n",
       "      <td>18</td>\n",
       "    </tr>\n",
       "    <tr>\n",
       "      <th>3</th>\n",
       "      <td>Arsenal</td>\n",
       "      <td>Bukayo Saka</td>\n",
       "      <td>eng ENG</td>\n",
       "      <td>RW</td>\n",
       "      <td>20-334</td>\n",
       "      <td>90</td>\n",
       "      <td>0</td>\n",
       "      <td>0</td>\n",
       "      <td>0</td>\n",
       "      <td>2</td>\n",
       "      <td>...</td>\n",
       "      <td>Crystal Palace</td>\n",
       "      <td>6</td>\n",
       "      <td>0</td>\n",
       "      <td>0</td>\n",
       "      <td>0</td>\n",
       "      <td>20</td>\n",
       "      <td>4</td>\n",
       "      <td>62</td>\n",
       "      <td>2</td>\n",
       "      <td>18</td>\n",
       "    </tr>\n",
       "    <tr>\n",
       "      <th>4</th>\n",
       "      <td>Arsenal</td>\n",
       "      <td>Eddie Nketiah</td>\n",
       "      <td>eng ENG</td>\n",
       "      <td>FW</td>\n",
       "      <td>23-067</td>\n",
       "      <td>8</td>\n",
       "      <td>0</td>\n",
       "      <td>0</td>\n",
       "      <td>0</td>\n",
       "      <td>1</td>\n",
       "      <td>...</td>\n",
       "      <td>Crystal Palace</td>\n",
       "      <td>6</td>\n",
       "      <td>0</td>\n",
       "      <td>0</td>\n",
       "      <td>0</td>\n",
       "      <td>20</td>\n",
       "      <td>4</td>\n",
       "      <td>132</td>\n",
       "      <td>2</td>\n",
       "      <td>18</td>\n",
       "    </tr>\n",
       "  </tbody>\n",
       "</table>\n",
       "<p>5 rows × 38 columns</p>\n",
       "</div>"
      ],
      "text/plain": [
       "      team                player   Nation    Pos     Age  Min  CrdY  CrdR  \\\n",
       "0  Arsenal        Aaron Ramsdale  eng ENG     GK  24-083   90     0     0   \n",
       "1  Arsenal  Albert Sambi Lokonga   be BEL  CM,RW  22-287    1     0     0   \n",
       "2  Arsenal             Ben White  eng ENG     RB  24-301   90     1     0   \n",
       "3  Arsenal           Bukayo Saka  eng ENG     RW  20-334   90     0     0   \n",
       "4  Arsenal         Eddie Nketiah  eng ENG     FW  23-067    8     0     0   \n",
       "\n",
       "   2CrdY  Fls  ...      venue_code  home_code  away_code  team_code  \\\n",
       "0      0    0  ...  Crystal Palace          6          0          0   \n",
       "1      0    0  ...  Crystal Palace          6          0          0   \n",
       "2      0    2  ...  Crystal Palace          6          0          0   \n",
       "3      0    2  ...  Crystal Palace          6          0          0   \n",
       "4      0    1  ...  Crystal Palace          6          0          0   \n",
       "\n",
       "   homeoraway_code  hour day_code player_id_code ref_code nation_code  \n",
       "0                0    20        4              2        2          18  \n",
       "1                0    20        4             12        2           5  \n",
       "2                0    20        4             46        2          18  \n",
       "3                0    20        4             62        2          18  \n",
       "4                0    20        4            132        2          18  \n",
       "\n",
       "[5 rows x 38 columns]"
      ]
     },
     "execution_count": 44,
     "metadata": {},
     "output_type": "execute_result"
    }
   ],
   "source": [
    "matches[\"player_id_code\"] = matches[\"player\"].astype(\"category\").cat.codes\n",
    "matches[\"ref_code\"] = matches[\"referee\"].astype(\"category\").cat.codes\n",
    "matches[\"nation_code\"] = matches[\"Nation\"].astype(\"category\").cat.codes\n",
    "matches.head()"
   ]
  },
  {
   "cell_type": "code",
   "execution_count": 45,
   "id": "c670b2d5",
   "metadata": {},
   "outputs": [
    {
     "data": {
      "text/plain": [
       "team                          object\n",
       "player                        object\n",
       "Nation                        object\n",
       "Pos                           object\n",
       "Age                           object\n",
       "Min                            int64\n",
       "CrdY                           int64\n",
       "CrdR                           int64\n",
       "2CrdY                          int64\n",
       "Fls                            int64\n",
       "Fld                            int64\n",
       "TklW                           int64\n",
       "PKcon                          int64\n",
       "Aerial Duels Won               int64\n",
       "Aerial Duels Lost              int64\n",
       "Aerial Duels Won %           float64\n",
       "game_id                       object\n",
       "day                           object\n",
       "date                  datetime64[ns]\n",
       "time                          object\n",
       "home_team                     object\n",
       "home_xg                      float64\n",
       "score                         object\n",
       "away_xg                      float64\n",
       "away_team                     object\n",
       "attendance                   float64\n",
       "venue                         object\n",
       "referee                       object\n",
       "venue_code                    object\n",
       "home_code                       int8\n",
       "away_code                       int8\n",
       "team_code                       int8\n",
       "homeoraway_code                int32\n",
       "hour                           int32\n",
       "day_code                       int64\n",
       "player_id_code                 int16\n",
       "ref_code                        int8\n",
       "nation_code                     int8\n",
       "dtype: object"
      ]
     },
     "execution_count": 45,
     "metadata": {},
     "output_type": "execute_result"
    }
   ],
   "source": [
    "matches.dtypes"
   ]
  },
  {
   "cell_type": "code",
   "execution_count": 52,
   "id": "9127386c",
   "metadata": {},
   "outputs": [
    {
     "data": {
      "text/html": [
       "<div>\n",
       "<style scoped>\n",
       "    .dataframe tbody tr th:only-of-type {\n",
       "        vertical-align: middle;\n",
       "    }\n",
       "\n",
       "    .dataframe tbody tr th {\n",
       "        vertical-align: top;\n",
       "    }\n",
       "\n",
       "    .dataframe thead th {\n",
       "        text-align: right;\n",
       "    }\n",
       "</style>\n",
       "<table border=\"1\" class=\"dataframe\">\n",
       "  <thead>\n",
       "    <tr style=\"text-align: right;\">\n",
       "      <th></th>\n",
       "      <th>team</th>\n",
       "      <th>player</th>\n",
       "      <th>Nation</th>\n",
       "      <th>Pos</th>\n",
       "      <th>Age</th>\n",
       "      <th>Min</th>\n",
       "      <th>CrdY</th>\n",
       "      <th>CrdR</th>\n",
       "      <th>2CrdY</th>\n",
       "      <th>Fls</th>\n",
       "      <th>...</th>\n",
       "      <th>home_code</th>\n",
       "      <th>away_code</th>\n",
       "      <th>team_code</th>\n",
       "      <th>homeoraway_code</th>\n",
       "      <th>hour</th>\n",
       "      <th>day_code</th>\n",
       "      <th>player_id_code</th>\n",
       "      <th>ref_code</th>\n",
       "      <th>nation_code</th>\n",
       "      <th>target</th>\n",
       "    </tr>\n",
       "  </thead>\n",
       "  <tbody>\n",
       "    <tr>\n",
       "      <th>0</th>\n",
       "      <td>Arsenal</td>\n",
       "      <td>Aaron Ramsdale</td>\n",
       "      <td>eng ENG</td>\n",
       "      <td>GK</td>\n",
       "      <td>24-083</td>\n",
       "      <td>90</td>\n",
       "      <td>0</td>\n",
       "      <td>0</td>\n",
       "      <td>0</td>\n",
       "      <td>0</td>\n",
       "      <td>...</td>\n",
       "      <td>6</td>\n",
       "      <td>0</td>\n",
       "      <td>0</td>\n",
       "      <td>0</td>\n",
       "      <td>20</td>\n",
       "      <td>4</td>\n",
       "      <td>2</td>\n",
       "      <td>2</td>\n",
       "      <td>18</td>\n",
       "      <td>0</td>\n",
       "    </tr>\n",
       "    <tr>\n",
       "      <th>1</th>\n",
       "      <td>Arsenal</td>\n",
       "      <td>Albert Sambi Lokonga</td>\n",
       "      <td>be BEL</td>\n",
       "      <td>CM,RW</td>\n",
       "      <td>22-287</td>\n",
       "      <td>1</td>\n",
       "      <td>0</td>\n",
       "      <td>0</td>\n",
       "      <td>0</td>\n",
       "      <td>0</td>\n",
       "      <td>...</td>\n",
       "      <td>6</td>\n",
       "      <td>0</td>\n",
       "      <td>0</td>\n",
       "      <td>0</td>\n",
       "      <td>20</td>\n",
       "      <td>4</td>\n",
       "      <td>12</td>\n",
       "      <td>2</td>\n",
       "      <td>5</td>\n",
       "      <td>0</td>\n",
       "    </tr>\n",
       "    <tr>\n",
       "      <th>2</th>\n",
       "      <td>Arsenal</td>\n",
       "      <td>Ben White</td>\n",
       "      <td>eng ENG</td>\n",
       "      <td>RB</td>\n",
       "      <td>24-301</td>\n",
       "      <td>90</td>\n",
       "      <td>1</td>\n",
       "      <td>0</td>\n",
       "      <td>0</td>\n",
       "      <td>2</td>\n",
       "      <td>...</td>\n",
       "      <td>6</td>\n",
       "      <td>0</td>\n",
       "      <td>0</td>\n",
       "      <td>0</td>\n",
       "      <td>20</td>\n",
       "      <td>4</td>\n",
       "      <td>46</td>\n",
       "      <td>2</td>\n",
       "      <td>18</td>\n",
       "      <td>1</td>\n",
       "    </tr>\n",
       "    <tr>\n",
       "      <th>3</th>\n",
       "      <td>Arsenal</td>\n",
       "      <td>Bukayo Saka</td>\n",
       "      <td>eng ENG</td>\n",
       "      <td>RW</td>\n",
       "      <td>20-334</td>\n",
       "      <td>90</td>\n",
       "      <td>0</td>\n",
       "      <td>0</td>\n",
       "      <td>0</td>\n",
       "      <td>2</td>\n",
       "      <td>...</td>\n",
       "      <td>6</td>\n",
       "      <td>0</td>\n",
       "      <td>0</td>\n",
       "      <td>0</td>\n",
       "      <td>20</td>\n",
       "      <td>4</td>\n",
       "      <td>62</td>\n",
       "      <td>2</td>\n",
       "      <td>18</td>\n",
       "      <td>0</td>\n",
       "    </tr>\n",
       "    <tr>\n",
       "      <th>4</th>\n",
       "      <td>Arsenal</td>\n",
       "      <td>Eddie Nketiah</td>\n",
       "      <td>eng ENG</td>\n",
       "      <td>FW</td>\n",
       "      <td>23-067</td>\n",
       "      <td>8</td>\n",
       "      <td>0</td>\n",
       "      <td>0</td>\n",
       "      <td>0</td>\n",
       "      <td>1</td>\n",
       "      <td>...</td>\n",
       "      <td>6</td>\n",
       "      <td>0</td>\n",
       "      <td>0</td>\n",
       "      <td>0</td>\n",
       "      <td>20</td>\n",
       "      <td>4</td>\n",
       "      <td>132</td>\n",
       "      <td>2</td>\n",
       "      <td>18</td>\n",
       "      <td>0</td>\n",
       "    </tr>\n",
       "  </tbody>\n",
       "</table>\n",
       "<p>5 rows × 39 columns</p>\n",
       "</div>"
      ],
      "text/plain": [
       "      team                player   Nation    Pos     Age  Min  CrdY  CrdR  \\\n",
       "0  Arsenal        Aaron Ramsdale  eng ENG     GK  24-083   90     0     0   \n",
       "1  Arsenal  Albert Sambi Lokonga   be BEL  CM,RW  22-287    1     0     0   \n",
       "2  Arsenal             Ben White  eng ENG     RB  24-301   90     1     0   \n",
       "3  Arsenal           Bukayo Saka  eng ENG     RW  20-334   90     0     0   \n",
       "4  Arsenal         Eddie Nketiah  eng ENG     FW  23-067    8     0     0   \n",
       "\n",
       "   2CrdY  Fls  ...  home_code  away_code  team_code  homeoraway_code  hour  \\\n",
       "0      0    0  ...          6          0          0                0    20   \n",
       "1      0    0  ...          6          0          0                0    20   \n",
       "2      0    2  ...          6          0          0                0    20   \n",
       "3      0    2  ...          6          0          0                0    20   \n",
       "4      0    1  ...          6          0          0                0    20   \n",
       "\n",
       "   day_code player_id_code ref_code nation_code target  \n",
       "0         4              2        2          18      0  \n",
       "1         4             12        2           5      0  \n",
       "2         4             46        2          18      1  \n",
       "3         4             62        2          18      0  \n",
       "4         4            132        2          18      0  \n",
       "\n",
       "[5 rows x 39 columns]"
      ]
     },
     "execution_count": 52,
     "metadata": {},
     "output_type": "execute_result"
    }
   ],
   "source": [
    "matches['target'] = np.where((matches['CrdY'] == 1) | (matches['CrdR'] == 1) | (matches['2CrdY'] == 1), 1, 0) \n",
    "matches.head()"
   ]
  },
  {
   "cell_type": "code",
   "execution_count": 55,
   "id": "9eca5d7b",
   "metadata": {},
   "outputs": [],
   "source": [
    "matches.to_csv(\"MatchesReady.csv\")"
   ]
  },
  {
   "cell_type": "code",
   "execution_count": 53,
   "id": "6e6d39fd",
   "metadata": {},
   "outputs": [],
   "source": [
    "from sklearn.ensemble import RandomForestClassifier"
   ]
  },
  {
   "cell_type": "code",
   "execution_count": 54,
   "id": "0c9dc2b7",
   "metadata": {},
   "outputs": [],
   "source": [
    "rf = RandomForestClassifier(n_estimators = 100, min_samples_split=10, random_state=42)"
   ]
  },
  {
   "cell_type": "code",
   "execution_count": 56,
   "id": "cf5a52ac",
   "metadata": {},
   "outputs": [],
   "source": [
    "train = matches[matches[\"date\"] < \"2022-12-25\"]"
   ]
  },
  {
   "cell_type": "code",
   "execution_count": 57,
   "id": "c3eb0039",
   "metadata": {},
   "outputs": [],
   "source": [
    "test = matches[matches[\"date\"] > \"2022-12-25\"]"
   ]
  },
  {
   "cell_type": "code",
   "execution_count": 58,
   "id": "eccf631b",
   "metadata": {},
   "outputs": [],
   "source": [
    "predictors = [\"home_code\", \"away_code\", \"team_code\", \"homeoraway_code\", \"hour\", \"day_code\", \"player_id_code\", \"ref_code\", \"nation_code\" ]"
   ]
  },
  {
   "cell_type": "code",
   "execution_count": 59,
   "id": "b38191ae",
   "metadata": {},
   "outputs": [
    {
     "data": {
      "text/plain": [
       "RandomForestClassifier(min_samples_split=10, random_state=42)"
      ]
     },
     "execution_count": 59,
     "metadata": {},
     "output_type": "execute_result"
    }
   ],
   "source": [
    "rf.fit(train[predictors], train[\"target\"])"
   ]
  },
  {
   "cell_type": "code",
   "execution_count": 60,
   "id": "790e8369",
   "metadata": {},
   "outputs": [],
   "source": [
    "preds = rf.predict(test[predictors])"
   ]
  },
  {
   "cell_type": "code",
   "execution_count": 61,
   "id": "aa5fe418",
   "metadata": {},
   "outputs": [],
   "source": [
    "from sklearn.metrics import accuracy_score"
   ]
  },
  {
   "cell_type": "code",
   "execution_count": 63,
   "id": "4a1a8f7d",
   "metadata": {},
   "outputs": [
    {
     "data": {
      "text/plain": [
       "0.86966640806827"
      ]
     },
     "execution_count": 63,
     "metadata": {},
     "output_type": "execute_result"
    }
   ],
   "source": [
    "acc = accuracy_score(test[\"target\"], preds)\n",
    "acc"
   ]
  },
  {
   "cell_type": "code",
   "execution_count": 65,
   "id": "44261290",
   "metadata": {},
   "outputs": [],
   "source": [
    "combined = pd.DataFrame(dict(actual=test[\"target\"], prediction=preds))"
   ]
  },
  {
   "cell_type": "code",
   "execution_count": 66,
   "id": "ce98c58f",
   "metadata": {},
   "outputs": [
    {
     "data": {
      "text/html": [
       "<div>\n",
       "<style scoped>\n",
       "    .dataframe tbody tr th:only-of-type {\n",
       "        vertical-align: middle;\n",
       "    }\n",
       "\n",
       "    .dataframe tbody tr th {\n",
       "        vertical-align: top;\n",
       "    }\n",
       "\n",
       "    .dataframe thead th {\n",
       "        text-align: right;\n",
       "    }\n",
       "</style>\n",
       "<table border=\"1\" class=\"dataframe\">\n",
       "  <thead>\n",
       "    <tr style=\"text-align: right;\">\n",
       "      <th>prediction</th>\n",
       "      <th>0</th>\n",
       "    </tr>\n",
       "    <tr>\n",
       "      <th>actual</th>\n",
       "      <th></th>\n",
       "    </tr>\n",
       "  </thead>\n",
       "  <tbody>\n",
       "    <tr>\n",
       "      <th>0</th>\n",
       "      <td>1121</td>\n",
       "    </tr>\n",
       "    <tr>\n",
       "      <th>1</th>\n",
       "      <td>168</td>\n",
       "    </tr>\n",
       "  </tbody>\n",
       "</table>\n",
       "</div>"
      ],
      "text/plain": [
       "prediction     0\n",
       "actual          \n",
       "0           1121\n",
       "1            168"
      ]
     },
     "execution_count": 66,
     "metadata": {},
     "output_type": "execute_result"
    }
   ],
   "source": [
    "pd.crosstab(index=combined[\"actual\"], columns=combined[\"prediction\"])"
   ]
  },
  {
   "cell_type": "code",
   "execution_count": null,
   "id": "33170057",
   "metadata": {},
   "outputs": [],
   "source": []
  }
 ],
 "metadata": {
  "kernelspec": {
   "display_name": "Python 3 (ipykernel)",
   "language": "python",
   "name": "python3"
  },
  "language_info": {
   "codemirror_mode": {
    "name": "ipython",
    "version": 3
   },
   "file_extension": ".py",
   "mimetype": "text/x-python",
   "name": "python",
   "nbconvert_exporter": "python",
   "pygments_lexer": "ipython3",
   "version": "3.9.13"
  }
 },
 "nbformat": 4,
 "nbformat_minor": 5
}
